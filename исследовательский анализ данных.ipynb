{
 "cells": [
  {
   "cell_type": "markdown",
   "metadata": {
    "toc": true
   },
   "source": [
    "<h1>Содержание<span class=\"tocSkip\"></span></h1>\n",
    "<div class=\"toc\"><ul class=\"toc-item\"><li><span><a href=\"#Изучение-данных-из-файла\" data-toc-modified-id=\"Изучение-данных-из-файла-1\"><span class=\"toc-item-num\">1&nbsp;&nbsp;</span>Изучение данных из файла</a></span><ul class=\"toc-item\"><li><span><a href=\"#Вывод\" data-toc-modified-id=\"Вывод-1.1\"><span class=\"toc-item-num\">1.1&nbsp;&nbsp;</span>Вывод</a></span></li></ul></li><li><span><a href=\"#Предобработка-данных\" data-toc-modified-id=\"Предобработка-данных-2\"><span class=\"toc-item-num\">2&nbsp;&nbsp;</span>Предобработка данных</a></span></li><li><span><a href=\"#Расчёты-и-добавление-результатов-в-таблицу\" data-toc-modified-id=\"Расчёты-и-добавление-результатов-в-таблицу-3\"><span class=\"toc-item-num\">3&nbsp;&nbsp;</span>Расчёты и добавление результатов в таблицу</a></span></li><li><span><a href=\"#Исследовательский-анализ-данных\" data-toc-modified-id=\"Исследовательский-анализ-данных-4\"><span class=\"toc-item-num\">4&nbsp;&nbsp;</span>Исследовательский анализ данных</a></span></li><li><span><a href=\"#Общий-вывод\" data-toc-modified-id=\"Общий-вывод-5\"><span class=\"toc-item-num\">5&nbsp;&nbsp;</span>Общий вывод</a></span></li><li><span><a href=\"#Чек-лист-готовности-проекта\" data-toc-modified-id=\"Чек-лист-готовности-проекта-6\"><span class=\"toc-item-num\">6&nbsp;&nbsp;</span>Чек-лист готовности проекта</a></span></li></ul></div>"
   ]
  },
  {
   "cell_type": "markdown",
   "metadata": {},
   "source": [
    "# Исследование объявлений о продаже квартир\n",
    "\n",
    "В вашем распоряжении данные сервиса Яндекc Недвижимость — архив объявлений о продаже квартир в Санкт-Петербурге и соседних населённых пунктах за несколько лет. Нужно научиться определять рыночную стоимость объектов недвижимости. Ваша задача — установить параметры. Это позволит построить автоматизированную систему: она отследит аномалии и мошенническую деятельность. \n",
    "\n",
    "По каждой квартире на продажу доступны два вида данных. Первые вписаны пользователем, вторые получены автоматически на основе картографических данных. Например, расстояние до центра, аэропорта, ближайшего парка и водоёма. "
   ]
  },
  {
   "cell_type": "markdown",
   "metadata": {},
   "source": [
    "## Изучение данных из файла"
   ]
  },
  {
   "cell_type": "code",
   "execution_count": 1,
   "metadata": {},
   "outputs": [],
   "source": [
    "import pandas as pd\n",
    "import matplotlib.pyplot as plt\n",
    "import numpy as np\n",
    "import warnings\n",
    "\n",
    "warnings.filterwarnings(\"ignore\")"
   ]
  },
  {
   "cell_type": "code",
   "execution_count": 2,
   "metadata": {},
   "outputs": [],
   "source": [
    "df = pd.read_csv('/datasets/real_estate_data.csv', sep='\\t')"
   ]
  },
  {
   "cell_type": "markdown",
   "metadata": {},
   "source": [
    "Первым делом ознакомимся с данными."
   ]
  },
  {
   "cell_type": "code",
   "execution_count": 3,
   "metadata": {
    "scrolled": false
   },
   "outputs": [
    {
     "data": {
      "text/html": [
       "<div>\n",
       "<style scoped>\n",
       "    .dataframe tbody tr th:only-of-type {\n",
       "        vertical-align: middle;\n",
       "    }\n",
       "\n",
       "    .dataframe tbody tr th {\n",
       "        vertical-align: top;\n",
       "    }\n",
       "\n",
       "    .dataframe thead th {\n",
       "        text-align: right;\n",
       "    }\n",
       "</style>\n",
       "<table border=\"1\" class=\"dataframe\">\n",
       "  <thead>\n",
       "    <tr style=\"text-align: right;\">\n",
       "      <th></th>\n",
       "      <th>total_images</th>\n",
       "      <th>last_price</th>\n",
       "      <th>total_area</th>\n",
       "      <th>first_day_exposition</th>\n",
       "      <th>rooms</th>\n",
       "      <th>ceiling_height</th>\n",
       "      <th>floors_total</th>\n",
       "      <th>living_area</th>\n",
       "      <th>floor</th>\n",
       "      <th>is_apartment</th>\n",
       "      <th>...</th>\n",
       "      <th>kitchen_area</th>\n",
       "      <th>balcony</th>\n",
       "      <th>locality_name</th>\n",
       "      <th>airports_nearest</th>\n",
       "      <th>cityCenters_nearest</th>\n",
       "      <th>parks_around3000</th>\n",
       "      <th>parks_nearest</th>\n",
       "      <th>ponds_around3000</th>\n",
       "      <th>ponds_nearest</th>\n",
       "      <th>days_exposition</th>\n",
       "    </tr>\n",
       "  </thead>\n",
       "  <tbody>\n",
       "    <tr>\n",
       "      <th>0</th>\n",
       "      <td>20</td>\n",
       "      <td>13000000.0</td>\n",
       "      <td>108.0</td>\n",
       "      <td>2019-03-07T00:00:00</td>\n",
       "      <td>3</td>\n",
       "      <td>2.70</td>\n",
       "      <td>16.0</td>\n",
       "      <td>51.0</td>\n",
       "      <td>8</td>\n",
       "      <td>NaN</td>\n",
       "      <td>...</td>\n",
       "      <td>25.0</td>\n",
       "      <td>NaN</td>\n",
       "      <td>Санкт-Петербург</td>\n",
       "      <td>18863.0</td>\n",
       "      <td>16028.0</td>\n",
       "      <td>1.0</td>\n",
       "      <td>482.0</td>\n",
       "      <td>2.0</td>\n",
       "      <td>755.0</td>\n",
       "      <td>NaN</td>\n",
       "    </tr>\n",
       "    <tr>\n",
       "      <th>1</th>\n",
       "      <td>7</td>\n",
       "      <td>3350000.0</td>\n",
       "      <td>40.4</td>\n",
       "      <td>2018-12-04T00:00:00</td>\n",
       "      <td>1</td>\n",
       "      <td>NaN</td>\n",
       "      <td>11.0</td>\n",
       "      <td>18.6</td>\n",
       "      <td>1</td>\n",
       "      <td>NaN</td>\n",
       "      <td>...</td>\n",
       "      <td>11.0</td>\n",
       "      <td>2.0</td>\n",
       "      <td>посёлок Шушары</td>\n",
       "      <td>12817.0</td>\n",
       "      <td>18603.0</td>\n",
       "      <td>0.0</td>\n",
       "      <td>NaN</td>\n",
       "      <td>0.0</td>\n",
       "      <td>NaN</td>\n",
       "      <td>81.0</td>\n",
       "    </tr>\n",
       "    <tr>\n",
       "      <th>2</th>\n",
       "      <td>10</td>\n",
       "      <td>5196000.0</td>\n",
       "      <td>56.0</td>\n",
       "      <td>2015-08-20T00:00:00</td>\n",
       "      <td>2</td>\n",
       "      <td>NaN</td>\n",
       "      <td>5.0</td>\n",
       "      <td>34.3</td>\n",
       "      <td>4</td>\n",
       "      <td>NaN</td>\n",
       "      <td>...</td>\n",
       "      <td>8.3</td>\n",
       "      <td>0.0</td>\n",
       "      <td>Санкт-Петербург</td>\n",
       "      <td>21741.0</td>\n",
       "      <td>13933.0</td>\n",
       "      <td>1.0</td>\n",
       "      <td>90.0</td>\n",
       "      <td>2.0</td>\n",
       "      <td>574.0</td>\n",
       "      <td>558.0</td>\n",
       "    </tr>\n",
       "    <tr>\n",
       "      <th>3</th>\n",
       "      <td>0</td>\n",
       "      <td>64900000.0</td>\n",
       "      <td>159.0</td>\n",
       "      <td>2015-07-24T00:00:00</td>\n",
       "      <td>3</td>\n",
       "      <td>NaN</td>\n",
       "      <td>14.0</td>\n",
       "      <td>NaN</td>\n",
       "      <td>9</td>\n",
       "      <td>NaN</td>\n",
       "      <td>...</td>\n",
       "      <td>NaN</td>\n",
       "      <td>0.0</td>\n",
       "      <td>Санкт-Петербург</td>\n",
       "      <td>28098.0</td>\n",
       "      <td>6800.0</td>\n",
       "      <td>2.0</td>\n",
       "      <td>84.0</td>\n",
       "      <td>3.0</td>\n",
       "      <td>234.0</td>\n",
       "      <td>424.0</td>\n",
       "    </tr>\n",
       "    <tr>\n",
       "      <th>4</th>\n",
       "      <td>2</td>\n",
       "      <td>10000000.0</td>\n",
       "      <td>100.0</td>\n",
       "      <td>2018-06-19T00:00:00</td>\n",
       "      <td>2</td>\n",
       "      <td>3.03</td>\n",
       "      <td>14.0</td>\n",
       "      <td>32.0</td>\n",
       "      <td>13</td>\n",
       "      <td>NaN</td>\n",
       "      <td>...</td>\n",
       "      <td>41.0</td>\n",
       "      <td>NaN</td>\n",
       "      <td>Санкт-Петербург</td>\n",
       "      <td>31856.0</td>\n",
       "      <td>8098.0</td>\n",
       "      <td>2.0</td>\n",
       "      <td>112.0</td>\n",
       "      <td>1.0</td>\n",
       "      <td>48.0</td>\n",
       "      <td>121.0</td>\n",
       "    </tr>\n",
       "  </tbody>\n",
       "</table>\n",
       "<p>5 rows × 22 columns</p>\n",
       "</div>"
      ],
      "text/plain": [
       "   total_images  last_price  total_area first_day_exposition  rooms  \\\n",
       "0            20  13000000.0       108.0  2019-03-07T00:00:00      3   \n",
       "1             7   3350000.0        40.4  2018-12-04T00:00:00      1   \n",
       "2            10   5196000.0        56.0  2015-08-20T00:00:00      2   \n",
       "3             0  64900000.0       159.0  2015-07-24T00:00:00      3   \n",
       "4             2  10000000.0       100.0  2018-06-19T00:00:00      2   \n",
       "\n",
       "   ceiling_height  floors_total  living_area  floor is_apartment  ...  \\\n",
       "0            2.70          16.0         51.0      8          NaN  ...   \n",
       "1             NaN          11.0         18.6      1          NaN  ...   \n",
       "2             NaN           5.0         34.3      4          NaN  ...   \n",
       "3             NaN          14.0          NaN      9          NaN  ...   \n",
       "4            3.03          14.0         32.0     13          NaN  ...   \n",
       "\n",
       "   kitchen_area  balcony    locality_name  airports_nearest  \\\n",
       "0          25.0      NaN  Санкт-Петербург           18863.0   \n",
       "1          11.0      2.0   посёлок Шушары           12817.0   \n",
       "2           8.3      0.0  Санкт-Петербург           21741.0   \n",
       "3           NaN      0.0  Санкт-Петербург           28098.0   \n",
       "4          41.0      NaN  Санкт-Петербург           31856.0   \n",
       "\n",
       "  cityCenters_nearest  parks_around3000  parks_nearest  ponds_around3000  \\\n",
       "0             16028.0               1.0          482.0               2.0   \n",
       "1             18603.0               0.0            NaN               0.0   \n",
       "2             13933.0               1.0           90.0               2.0   \n",
       "3              6800.0               2.0           84.0               3.0   \n",
       "4              8098.0               2.0          112.0               1.0   \n",
       "\n",
       "   ponds_nearest  days_exposition  \n",
       "0          755.0              NaN  \n",
       "1            NaN             81.0  \n",
       "2          574.0            558.0  \n",
       "3          234.0            424.0  \n",
       "4           48.0            121.0  \n",
       "\n",
       "[5 rows x 22 columns]"
      ]
     },
     "execution_count": 3,
     "metadata": {},
     "output_type": "execute_result"
    }
   ],
   "source": [
    "df.head()"
   ]
  },
  {
   "cell_type": "code",
   "execution_count": 4,
   "metadata": {
    "scrolled": false
   },
   "outputs": [
    {
     "name": "stdout",
     "output_type": "stream",
     "text": [
      "<class 'pandas.core.frame.DataFrame'>\n",
      "RangeIndex: 23699 entries, 0 to 23698\n",
      "Data columns (total 22 columns):\n",
      " #   Column                Non-Null Count  Dtype  \n",
      "---  ------                --------------  -----  \n",
      " 0   total_images          23699 non-null  int64  \n",
      " 1   last_price            23699 non-null  float64\n",
      " 2   total_area            23699 non-null  float64\n",
      " 3   first_day_exposition  23699 non-null  object \n",
      " 4   rooms                 23699 non-null  int64  \n",
      " 5   ceiling_height        14504 non-null  float64\n",
      " 6   floors_total          23613 non-null  float64\n",
      " 7   living_area           21796 non-null  float64\n",
      " 8   floor                 23699 non-null  int64  \n",
      " 9   is_apartment          2775 non-null   object \n",
      " 10  studio                23699 non-null  bool   \n",
      " 11  open_plan             23699 non-null  bool   \n",
      " 12  kitchen_area          21421 non-null  float64\n",
      " 13  balcony               12180 non-null  float64\n",
      " 14  locality_name         23650 non-null  object \n",
      " 15  airports_nearest      18157 non-null  float64\n",
      " 16  cityCenters_nearest   18180 non-null  float64\n",
      " 17  parks_around3000      18181 non-null  float64\n",
      " 18  parks_nearest         8079 non-null   float64\n",
      " 19  ponds_around3000      18181 non-null  float64\n",
      " 20  ponds_nearest         9110 non-null   float64\n",
      " 21  days_exposition       20518 non-null  float64\n",
      "dtypes: bool(2), float64(14), int64(3), object(3)\n",
      "memory usage: 3.7+ MB\n"
     ]
    }
   ],
   "source": [
    "df.info()"
   ]
  },
  {
   "cell_type": "markdown",
   "metadata": {},
   "source": [
    "### Вывод"
   ]
  },
  {
   "cell_type": "markdown",
   "metadata": {},
   "source": [
    "Первое, что мы видим - это пропущенные значения в 14 столбцах. Где-то их количество совсем небольшое(как например в столбце 'floors_total', а где-то составляет больше 85%(как в столбце 'is_apartment'). Также, мы видим, что можно переименовать некоторые столбцы для большего удобства и понимания, что в них находится. Ещё можно заменить, что некоторые столбцы имеют тип float и object, хотя должны быть int, с ними мы тоже разберёмся. \n"
   ]
  },
  {
   "cell_type": "markdown",
   "metadata": {},
   "source": [
    "Мы изучили данные, пора приступать к предобработке."
   ]
  },
  {
   "cell_type": "markdown",
   "metadata": {},
   "source": [
    "## Предобработка данных"
   ]
  },
  {
   "cell_type": "markdown",
   "metadata": {},
   "source": [
    "Первым делом изменим название столбцом для удобства и лучшего их понимания."
   ]
  },
  {
   "cell_type": "code",
   "execution_count": 5,
   "metadata": {},
   "outputs": [],
   "source": [
    "df = df.rename(columns = {\"studio\": \"is_studio\",\n",
    "                          \"open_plan\": \"is_open_plan\",\n",
    "                          \"locality_name\": \"city\",\n",
    "                          \"airports_nearest\": \"distance_to_airport\",\n",
    "                          \"cityCenters_nearest\": \"distance_to_center\",\n",
    "                          \"parks_nearest\": \"distance_to_park\",\n",
    "                          \"ponds_nearest\": \"distance_to_pond\"\n",
    "                         })"
   ]
  },
  {
   "cell_type": "markdown",
   "metadata": {},
   "source": [
    "Следующим шагом мы должны избавиться от пропущенных значений. Чтобы точно понять, как поступить с пропущенными значениями(удалить/заменить/оставить), нам нужно узнать, какого рода пропуски и как именно они влияют на данные."
   ]
  },
  {
   "cell_type": "markdown",
   "metadata": {},
   "source": [
    "Первые пропуски встречаются в столбце ceiling_height, он отвечает за высоту потолков. Мы ещё точно не знаем, можно ли заполнить данные медианными или средними значениями, так как высота потолков у студии и трехкомнатной квартиры может отличаться. Для начала найдем среднюю и медианную высоту потолков в известных нам помещениях."
   ]
  },
  {
   "cell_type": "code",
   "execution_count": 6,
   "metadata": {},
   "outputs": [
    {
     "name": "stdout",
     "output_type": "stream",
     "text": [
      "2.9551020408163264\n"
     ]
    },
    {
     "data": {
      "text/plain": [
       "2.7"
      ]
     },
     "execution_count": 6,
     "metadata": {},
     "output_type": "execute_result"
    }
   ],
   "source": [
    "print(df[df['ceiling_height'].notnull() & df['is_apartment'].notnull()]['ceiling_height'].mean())\n",
    "df[df['ceiling_height'].notnull() & df['is_apartment'].notnull()]['ceiling_height'].median()"
   ]
  },
  {
   "cell_type": "code",
   "execution_count": 7,
   "metadata": {
    "scrolled": true
   },
   "outputs": [
    {
     "name": "stdout",
     "output_type": "stream",
     "text": [
      "2.7714988968560403\n"
     ]
    },
    {
     "data": {
      "text/plain": [
       "2.65"
      ]
     },
     "execution_count": 7,
     "metadata": {},
     "output_type": "execute_result"
    }
   ],
   "source": [
    "print(df[df['ceiling_height'].notnull() & df['is_studio'].notnull()]['ceiling_height'].mean())\n",
    "df[df['ceiling_height'].notnull() & df['is_studio'].notnull()]['ceiling_height'].median()"
   ]
  },
  {
   "cell_type": "code",
   "execution_count": 8,
   "metadata": {
    "scrolled": false
   },
   "outputs": [
    {
     "name": "stdout",
     "output_type": "stream",
     "text": [
      "2.7714988968560403\n"
     ]
    },
    {
     "data": {
      "text/plain": [
       "2.65"
      ]
     },
     "execution_count": 8,
     "metadata": {},
     "output_type": "execute_result"
    }
   ],
   "source": [
    "print(df[df['ceiling_height'].notnull() & df['is_open_plan'].notnull()]['ceiling_height'].mean())\n",
    "df[df['ceiling_height'].notnull() & df['is_open_plan'].notnull()]['ceiling_height'].median()"
   ]
  },
  {
   "cell_type": "code",
   "execution_count": 9,
   "metadata": {},
   "outputs": [
    {
     "data": {
      "text/plain": [
       "2.65"
      ]
     },
     "execution_count": 9,
     "metadata": {},
     "output_type": "execute_result"
    }
   ],
   "source": [
    "df['ceiling_height'].median()"
   ]
  },
  {
   "cell_type": "markdown",
   "metadata": {},
   "source": [
    "Как мы видим, средние не сильно отличается от медианы, а также высота потолков во всех типах зданий приблизительно равна, поэтому приминмаем решение заполнить пропуски в этом столбце медианными значениями."
   ]
  },
  {
   "cell_type": "code",
   "execution_count": 10,
   "metadata": {},
   "outputs": [],
   "source": [
    "df['ceiling_height'] = df['ceiling_height'].fillna(2.65)"
   ]
  },
  {
   "cell_type": "markdown",
   "metadata": {},
   "source": [
    "Далее заменим пропуски в living_area. Сделаем мы это путем заполнения средних значений по количеству комнат, поскольку логично, что жилая площадь студии будет меньше, чем жилая площадь трёхкомнатной квартиры."
   ]
  },
  {
   "cell_type": "code",
   "execution_count": 11,
   "metadata": {},
   "outputs": [],
   "source": [
    "df['living_area'] = df['living_area'].fillna(df.groupby('rooms')['living_area'].transform('median'))"
   ]
  },
  {
   "cell_type": "markdown",
   "metadata": {},
   "source": [
    "Пропуски в kitchen_area заменим по принципу выше."
   ]
  },
  {
   "cell_type": "code",
   "execution_count": 12,
   "metadata": {},
   "outputs": [],
   "source": [
    "df['kitchen_area'] = df['kitchen_area'].fillna(df.groupby('rooms')['kitchen_area'].transform('median'))"
   ]
  },
  {
   "cell_type": "markdown",
   "metadata": {},
   "source": [
    "Далее заменим пропуски в столбце balcony. Есть предположение, что NaN в данном столбце отражает отсутствие балкона. Поскольку данный столбец не сильно повлияет на дальнейшие рассчёты, заменим в нём пропуски на количество балконов: 0."
   ]
  },
  {
   "cell_type": "code",
   "execution_count": 13,
   "metadata": {},
   "outputs": [],
   "source": [
    "df['balcony'] = df['balcony'].fillna(0)"
   ]
  },
  {
   "cell_type": "markdown",
   "metadata": {},
   "source": [
    "Далее обработаем пропущенные значения в столбце city. Если название города не выбрано, то заменяем его на 'город не выбран'. Также, чтобы избежать дубликатов, заменим ё на е."
   ]
  },
  {
   "cell_type": "code",
   "execution_count": 14,
   "metadata": {},
   "outputs": [],
   "source": [
    "df['city'] = df['city'].str.replace('ё', 'е')\n",
    "df['city'] = df['city'].fillna('город не выбран')"
   ]
  },
  {
   "cell_type": "markdown",
   "metadata": {},
   "source": [
    "Далее обработаем пропущенные значения в столбце distance_to_airport. Если расстояние до аэропорта не указано(а посомтрев на df можно понять, что почти все NaN - это деревни/посёлки), то заменяем его на 0, что будет значить 'аэропорт отсутствует'. По такому же принципу заполняем и distance_to_center, parks_around3000, distance_to_park, ponds_around3000, distance_to_pond."
   ]
  },
  {
   "cell_type": "code",
   "execution_count": 15,
   "metadata": {},
   "outputs": [],
   "source": [
    "df['distance_to_airport'] = df['distance_to_airport'].fillna(0)\n",
    "df['distance_to_center'] = df['distance_to_center'].fillna(0)\n",
    "df['parks_around3000'] = df['parks_around3000'].fillna(0)\n",
    "df['distance_to_park'] = df['distance_to_park'].fillna(0)\n",
    "df['ponds_around3000'] = df['ponds_around3000'].fillna(0)\n",
    "df['distance_to_pond'] = df['distance_to_pond'].fillna(0)"
   ]
  },
  {
   "cell_type": "markdown",
   "metadata": {},
   "source": [
    "Также избавимся от пропусков в столбце is_apartment. Есть предположение, что NaN в данном столбце отражают то, что квартира не является апартаментами, поскольку данный столбец не пригодится нам для дальнейшего анализа, возьмем данное предположение за основу и исправим пропущенные значения на False."
   ]
  },
  {
   "cell_type": "code",
   "execution_count": 16,
   "metadata": {},
   "outputs": [],
   "source": [
    "df['is_apartment'] = df['is_apartment'].fillna(False)"
   ]
  },
  {
   "cell_type": "code",
   "execution_count": 17,
   "metadata": {},
   "outputs": [],
   "source": [
    "# замена пропусков\n",
    "dz = df\n",
    "dz['days_exposition'] = dz['days_exposition'].fillna(0)\n",
    "# подсчёт пропусков\n",
    "dz['days_exposition'].isna().sum()\n",
    "# конвертация строки в дату\n",
    "dz['first_day_exposition'] = pd.to_datetime(dz['first_day_exposition'], format='%Y.%m.%dT%H:%M:%S')\n",
    "# сводная таблица количества нулевых значений в разрезе годов подачи объявления\n",
    "dz.query('days_exposition==0').pivot_table(index=dz['first_day_exposition'].dt.year, values = 'days_exposition', aggfunc='count')"
   ]
  },
  {
   "cell_type": "markdown",
   "metadata": {},
   "source": [
    "Все оставшиеся пропущенные значения считаем несущественными и удаляем, так как их доля от общего объема данных составляет не больше 3%."
   ]
  },
  {
   "cell_type": "code",
   "execution_count": 20,
   "metadata": {},
   "outputs": [],
   "source": [
    "df = df.dropna().reset_index(drop=True)"
   ]
  },
  {
   "cell_type": "markdown",
   "metadata": {},
   "source": [
    "Когда мы разобрались с пропусками, пришло время изменить типы данных. В превую очередь изменим тип там, где мы проводили замену пропусков. Далее сделаем это в тех столбцах, где это необходимо. Например last_price, floors_total, days_exposition имеют тип float, а нужен int, поскольку они хранят в себе целые значения. В столбце is_apartment хранятся значения True и False, которые являются булевыми, поэтому изменим тип object на bool. Также столбц first_day_exposition хранит дату публикации, поэтому изменияем тип на datetime64. Остальные же столбцы оставим в тех типах, в которых они есть."
   ]
  },
  {
   "cell_type": "code",
   "execution_count": 21,
   "metadata": {},
   "outputs": [],
   "source": [
    "df['last_price'] = df['last_price'].astype('int')\n",
    "df['floors_total'] = df['floors_total'].astype('int')\n",
    "df['days_exposition'] = df['days_exposition'].astype('int')\n",
    "df['distance_to_airport'] = df['distance_to_airport'].astype('int')\n",
    "df['distance_to_center'] = df['distance_to_center'].astype('int')\n",
    "df['parks_around3000'] = df['parks_around3000'].astype('int')\n",
    "df['distance_to_park'] = df['distance_to_park'].astype('int')\n",
    "df['ponds_around3000'] = df['ponds_around3000'].astype('int')\n",
    "df['distance_to_pond'] = df['distance_to_pond'].astype('int')\n",
    "df['is_apartment'] = df['is_apartment'].astype('bool')\n",
    "df['first_day_exposition'] = pd.to_datetime(df['first_day_exposition'], format='%Y.%m.%d %H:%M:%S')"
   ]
  },
  {
   "cell_type": "markdown",
   "metadata": {},
   "source": [
    "В этом блоке мы проделали большую работу: переименовали столбы, чтобы улучшить стиль и понимание того, что они занчат, заменили пропуски там, где это необходимо и корректно, а также изменили типы данных на более удобные для нашего дальнейшего исследования."
   ]
  },
  {
   "cell_type": "markdown",
   "metadata": {},
   "source": [
    "Можно сказать, что большинство пропущенных значений имеют следующие причины:\n",
    "- некорректное заполнение данных в изначальном их формате\n",
    "- человеческий фактор(NaN вместо 0 и т.п)\n",
    "- повреждение данных при выгрузке"
   ]
  },
  {
   "cell_type": "markdown",
   "metadata": {},
   "source": [
    "Завершим нашу предобработку, взглянем на датафрейм ещё раз."
   ]
  },
  {
   "cell_type": "code",
   "execution_count": 22,
   "metadata": {},
   "outputs": [
    {
     "data": {
      "text/html": [
       "<div>\n",
       "<style scoped>\n",
       "    .dataframe tbody tr th:only-of-type {\n",
       "        vertical-align: middle;\n",
       "    }\n",
       "\n",
       "    .dataframe tbody tr th {\n",
       "        vertical-align: top;\n",
       "    }\n",
       "\n",
       "    .dataframe thead th {\n",
       "        text-align: right;\n",
       "    }\n",
       "</style>\n",
       "<table border=\"1\" class=\"dataframe\">\n",
       "  <thead>\n",
       "    <tr style=\"text-align: right;\">\n",
       "      <th></th>\n",
       "      <th>total_images</th>\n",
       "      <th>last_price</th>\n",
       "      <th>total_area</th>\n",
       "      <th>first_day_exposition</th>\n",
       "      <th>rooms</th>\n",
       "      <th>ceiling_height</th>\n",
       "      <th>floors_total</th>\n",
       "      <th>living_area</th>\n",
       "      <th>floor</th>\n",
       "      <th>is_apartment</th>\n",
       "      <th>...</th>\n",
       "      <th>kitchen_area</th>\n",
       "      <th>balcony</th>\n",
       "      <th>city</th>\n",
       "      <th>distance_to_airport</th>\n",
       "      <th>distance_to_center</th>\n",
       "      <th>parks_around3000</th>\n",
       "      <th>distance_to_park</th>\n",
       "      <th>ponds_around3000</th>\n",
       "      <th>distance_to_pond</th>\n",
       "      <th>days_exposition</th>\n",
       "    </tr>\n",
       "  </thead>\n",
       "  <tbody>\n",
       "    <tr>\n",
       "      <th>0</th>\n",
       "      <td>20</td>\n",
       "      <td>13000000</td>\n",
       "      <td>108.0</td>\n",
       "      <td>2019-03-07</td>\n",
       "      <td>3</td>\n",
       "      <td>2.70</td>\n",
       "      <td>16</td>\n",
       "      <td>51.0</td>\n",
       "      <td>8</td>\n",
       "      <td>False</td>\n",
       "      <td>...</td>\n",
       "      <td>25.0</td>\n",
       "      <td>0.0</td>\n",
       "      <td>Санкт-Петербург</td>\n",
       "      <td>18863</td>\n",
       "      <td>16028</td>\n",
       "      <td>1</td>\n",
       "      <td>482</td>\n",
       "      <td>2</td>\n",
       "      <td>755</td>\n",
       "      <td>0</td>\n",
       "    </tr>\n",
       "    <tr>\n",
       "      <th>1</th>\n",
       "      <td>7</td>\n",
       "      <td>3350000</td>\n",
       "      <td>40.4</td>\n",
       "      <td>2018-12-04</td>\n",
       "      <td>1</td>\n",
       "      <td>2.65</td>\n",
       "      <td>11</td>\n",
       "      <td>18.6</td>\n",
       "      <td>1</td>\n",
       "      <td>False</td>\n",
       "      <td>...</td>\n",
       "      <td>11.0</td>\n",
       "      <td>2.0</td>\n",
       "      <td>поселок Шушары</td>\n",
       "      <td>12817</td>\n",
       "      <td>18603</td>\n",
       "      <td>0</td>\n",
       "      <td>0</td>\n",
       "      <td>0</td>\n",
       "      <td>0</td>\n",
       "      <td>81</td>\n",
       "    </tr>\n",
       "    <tr>\n",
       "      <th>2</th>\n",
       "      <td>10</td>\n",
       "      <td>5196000</td>\n",
       "      <td>56.0</td>\n",
       "      <td>2015-08-20</td>\n",
       "      <td>2</td>\n",
       "      <td>2.65</td>\n",
       "      <td>5</td>\n",
       "      <td>34.3</td>\n",
       "      <td>4</td>\n",
       "      <td>False</td>\n",
       "      <td>...</td>\n",
       "      <td>8.3</td>\n",
       "      <td>0.0</td>\n",
       "      <td>Санкт-Петербург</td>\n",
       "      <td>21741</td>\n",
       "      <td>13933</td>\n",
       "      <td>1</td>\n",
       "      <td>90</td>\n",
       "      <td>2</td>\n",
       "      <td>574</td>\n",
       "      <td>558</td>\n",
       "    </tr>\n",
       "    <tr>\n",
       "      <th>3</th>\n",
       "      <td>0</td>\n",
       "      <td>64900000</td>\n",
       "      <td>159.0</td>\n",
       "      <td>2015-07-24</td>\n",
       "      <td>3</td>\n",
       "      <td>2.65</td>\n",
       "      <td>14</td>\n",
       "      <td>45.0</td>\n",
       "      <td>9</td>\n",
       "      <td>False</td>\n",
       "      <td>...</td>\n",
       "      <td>9.5</td>\n",
       "      <td>0.0</td>\n",
       "      <td>Санкт-Петербург</td>\n",
       "      <td>28098</td>\n",
       "      <td>6800</td>\n",
       "      <td>2</td>\n",
       "      <td>84</td>\n",
       "      <td>3</td>\n",
       "      <td>234</td>\n",
       "      <td>424</td>\n",
       "    </tr>\n",
       "    <tr>\n",
       "      <th>4</th>\n",
       "      <td>2</td>\n",
       "      <td>10000000</td>\n",
       "      <td>100.0</td>\n",
       "      <td>2018-06-19</td>\n",
       "      <td>2</td>\n",
       "      <td>3.03</td>\n",
       "      <td>14</td>\n",
       "      <td>32.0</td>\n",
       "      <td>13</td>\n",
       "      <td>False</td>\n",
       "      <td>...</td>\n",
       "      <td>41.0</td>\n",
       "      <td>0.0</td>\n",
       "      <td>Санкт-Петербург</td>\n",
       "      <td>31856</td>\n",
       "      <td>8098</td>\n",
       "      <td>2</td>\n",
       "      <td>112</td>\n",
       "      <td>1</td>\n",
       "      <td>48</td>\n",
       "      <td>121</td>\n",
       "    </tr>\n",
       "  </tbody>\n",
       "</table>\n",
       "<p>5 rows × 22 columns</p>\n",
       "</div>"
      ],
      "text/plain": [
       "   total_images  last_price  total_area first_day_exposition  rooms  \\\n",
       "0            20    13000000       108.0           2019-03-07      3   \n",
       "1             7     3350000        40.4           2018-12-04      1   \n",
       "2            10     5196000        56.0           2015-08-20      2   \n",
       "3             0    64900000       159.0           2015-07-24      3   \n",
       "4             2    10000000       100.0           2018-06-19      2   \n",
       "\n",
       "   ceiling_height  floors_total  living_area  floor  is_apartment  ...  \\\n",
       "0            2.70            16         51.0      8         False  ...   \n",
       "1            2.65            11         18.6      1         False  ...   \n",
       "2            2.65             5         34.3      4         False  ...   \n",
       "3            2.65            14         45.0      9         False  ...   \n",
       "4            3.03            14         32.0     13         False  ...   \n",
       "\n",
       "   kitchen_area  balcony             city  distance_to_airport  \\\n",
       "0          25.0      0.0  Санкт-Петербург                18863   \n",
       "1          11.0      2.0   поселок Шушары                12817   \n",
       "2           8.3      0.0  Санкт-Петербург                21741   \n",
       "3           9.5      0.0  Санкт-Петербург                28098   \n",
       "4          41.0      0.0  Санкт-Петербург                31856   \n",
       "\n",
       "  distance_to_center  parks_around3000  distance_to_park  ponds_around3000  \\\n",
       "0              16028                 1               482                 2   \n",
       "1              18603                 0                 0                 0   \n",
       "2              13933                 1                90                 2   \n",
       "3               6800                 2                84                 3   \n",
       "4               8098                 2               112                 1   \n",
       "\n",
       "   distance_to_pond  days_exposition  \n",
       "0               755                0  \n",
       "1                 0               81  \n",
       "2               574              558  \n",
       "3               234              424  \n",
       "4                48              121  \n",
       "\n",
       "[5 rows x 22 columns]"
      ]
     },
     "metadata": {},
     "output_type": "display_data"
    },
    {
     "name": "stdout",
     "output_type": "stream",
     "text": [
      "<class 'pandas.core.frame.DataFrame'>\n",
      "RangeIndex: 23419 entries, 0 to 23418\n",
      "Data columns (total 22 columns):\n",
      " #   Column                Non-Null Count  Dtype         \n",
      "---  ------                --------------  -----         \n",
      " 0   total_images          23419 non-null  int64         \n",
      " 1   last_price            23419 non-null  int64         \n",
      " 2   total_area            23419 non-null  float64       \n",
      " 3   first_day_exposition  23419 non-null  datetime64[ns]\n",
      " 4   rooms                 23419 non-null  int64         \n",
      " 5   ceiling_height        23419 non-null  float64       \n",
      " 6   floors_total          23419 non-null  int64         \n",
      " 7   living_area           23419 non-null  float64       \n",
      " 8   floor                 23419 non-null  int64         \n",
      " 9   is_apartment          23419 non-null  bool          \n",
      " 10  is_studio             23419 non-null  bool          \n",
      " 11  is_open_plan          23419 non-null  bool          \n",
      " 12  kitchen_area          23419 non-null  float64       \n",
      " 13  balcony               23419 non-null  float64       \n",
      " 14  city                  23419 non-null  object        \n",
      " 15  distance_to_airport   23419 non-null  int64         \n",
      " 16  distance_to_center    23419 non-null  int64         \n",
      " 17  parks_around3000      23419 non-null  int64         \n",
      " 18  distance_to_park      23419 non-null  int64         \n",
      " 19  ponds_around3000      23419 non-null  int64         \n",
      " 20  distance_to_pond      23419 non-null  int64         \n",
      " 21  days_exposition       23419 non-null  int64         \n",
      "dtypes: bool(3), datetime64[ns](1), float64(5), int64(12), object(1)\n",
      "memory usage: 3.5+ MB\n"
     ]
    }
   ],
   "source": [
    "display(df.head())\n",
    "df.info()"
   ]
  },
  {
   "cell_type": "markdown",
   "metadata": {},
   "source": [
    "## Расчёты и добавление результатов в таблицу"
   ]
  },
  {
   "cell_type": "markdown",
   "metadata": {},
   "source": [
    "Рассчитаем стоимость квадратного метра. Для этого поделим цену на общую площадь квартиры."
   ]
  },
  {
   "cell_type": "code",
   "execution_count": 23,
   "metadata": {},
   "outputs": [],
   "source": [
    "df['meter_price'] = df['last_price'] / df['total_area']"
   ]
  },
  {
   "cell_type": "markdown",
   "metadata": {},
   "source": [
    "Далее рассчитаем день, месяц и год публикации объявления."
   ]
  },
  {
   "cell_type": "code",
   "execution_count": 24,
   "metadata": {},
   "outputs": [],
   "source": [
    "df['day_exposition'] = df['first_day_exposition'].dt.weekday\n",
    "df['month_exposition'] = df['first_day_exposition'].dt.month\n",
    "df['year_exposition'] = df['first_day_exposition'].dt.year"
   ]
  },
  {
   "cell_type": "markdown",
   "metadata": {},
   "source": [
    "Далее распределим этажи на 3 категории: первый, последний, другой."
   ]
  },
  {
   "cell_type": "code",
   "execution_count": 25,
   "metadata": {},
   "outputs": [],
   "source": [
    "df['floor_category'] = 'другой'\n",
    "df['floor_category'] = df['floor_category'].where(df['floor']!=1, 'первый')\n",
    "df['floor_category'] = df['floor_category'].where(df['floor']!=df['floors_total'], 'последний')"
   ]
  },
  {
   "cell_type": "markdown",
   "metadata": {},
   "source": [
    "Теперь отпределим отношение жилой площади и кухни по отношению к площади всей квартиры."
   ]
  },
  {
   "cell_type": "code",
   "execution_count": 26,
   "metadata": {},
   "outputs": [],
   "source": [
    "df['living_to_total'] = df['living_area'] / df['total_area']\n",
    "df['kitchen_to_total'] = df['kitchen_area'] / df['total_area']"
   ]
  },
  {
   "cell_type": "markdown",
   "metadata": {},
   "source": [
    "## Исследовательский анализ данных"
   ]
  },
  {
   "cell_type": "markdown",
   "metadata": {},
   "source": [
    "На данном этапе нам нужно исследовать данные, которые у нас есть. Для этого проанализируем следующие параметры: площадь, цена, число комнат, высота потолков, время продажи квартиры. Построим гистограммы, чтобы данные было легче анализировать."
   ]
  },
  {
   "cell_type": "code",
   "execution_count": 27,
   "metadata": {
    "scrolled": true
   },
   "outputs": [
    {
     "data": {
      "text/plain": [
       "(0.0, 500.0)"
      ]
     },
     "execution_count": 27,
     "metadata": {},
     "output_type": "execute_result"
    },
    {
     "data": {
      "image/png": "[encoded data removed]",
      "text/plain": [
       "<Figure size 432x288 with 1 Axes>"
      ]
     },
     "metadata": {
      "needs_background": "light"
     },
     "output_type": "display_data"
    }
   ],
   "source": [
    "df.hist('total_area', bins=500)\n",
    "plt.xlim(0, 500)"
   ]
  },
  {
   "cell_type": "markdown",
   "metadata": {},
   "source": [
    "Мы видим здесь пик примерно на 60-70 кв.м, а также видим снижение около 120, это объясняется тем, что квартиры больше 120 кв.м не пользуются таким большим спросом в постройке квартир, всё-таки застройка в России ориентирована на 1,2,3ех комнатные квартиры, площадь которых варируется в среднем от 30 до 80 кв.м"
   ]
  },
  {
   "cell_type": "code",
   "execution_count": 28,
   "metadata": {},
   "outputs": [
    {
     "data": {
      "text/plain": [
       "count    2.341900e+04\n",
       "mean     6.567031e+06\n",
       "std      1.093315e+07\n",
       "min      1.219000e+04\n",
       "25%      3.450000e+06\n",
       "50%      4.650000e+06\n",
       "75%      6.800000e+06\n",
       "max      7.630000e+08\n",
       "Name: last_price, dtype: float64"
      ]
     },
     "execution_count": 28,
     "metadata": {},
     "output_type": "execute_result"
    },
    {
     "data": {
      "image/png": "[encoded data removed]",
      "text/plain": [
       "<Figure size 432x288 with 1 Axes>"
      ]
     },
     "metadata": {
      "needs_background": "light"
     },
     "output_type": "display_data"
    }
   ],
   "source": [
    "df.hist('last_price', bins=500)\n",
    "plt.xlim(0,100000000)\n",
    "df['last_price'].describe()"
   ]
  },
  {
   "cell_type": "markdown",
   "metadata": {},
   "source": [
    "На данном графике мы видим, что пик в районе 5 млн, это подствержадется и описанием наших данных - медиана находится в районе 4,5 млн. График снижается ближе к 18 млн и практически выравнивается в районе 27 млн."
   ]
  },
  {
   "cell_type": "code",
   "execution_count": 29,
   "metadata": {},
   "outputs": [
    {
     "data": {
      "text/plain": [
       "count    23419.000000\n",
       "mean         2.088304\n",
       "std          1.066164\n",
       "min          1.000000\n",
       "25%          1.000000\n",
       "50%          2.000000\n",
       "75%          3.000000\n",
       "max         19.000000\n",
       "Name: rooms, dtype: float64"
      ]
     },
     "execution_count": 29,
     "metadata": {},
     "output_type": "execute_result"
    },
    {
     "data": {
      "image/png": "[encoded data removed]",
      "text/plain": [
       "<Figure size 432x288 with 1 Axes>"
      ]
     },
     "metadata": {
      "needs_background": "light"
     },
     "output_type": "display_data"
    }
   ],
   "source": [
    "df.hist('rooms')\n",
    "df['rooms'].describe()"
   ]
  },
  {
   "cell_type": "markdown",
   "metadata": {},
   "source": [
    "Здесь мы видим, что пик находится в районе 1-2 комнат, что подтвержадется описанием наших данных. Именно такие комнаты пользуются спросом в типовой застройке, а вот 19 комнат - это больша редкость и, скорее всего, вброс."
   ]
  },
  {
   "cell_type": "code",
   "execution_count": 30,
   "metadata": {},
   "outputs": [
    {
     "data": {
      "text/plain": [
       "count    23419.000000\n",
       "mean         2.723608\n",
       "std          0.981153\n",
       "min          1.000000\n",
       "25%          2.600000\n",
       "50%          2.650000\n",
       "75%          2.700000\n",
       "max        100.000000\n",
       "Name: ceiling_height, dtype: float64"
      ]
     },
     "execution_count": 30,
     "metadata": {},
     "output_type": "execute_result"
    },
    {
     "data": {
      "image/png": "[encoded data removed]",
      "text/plain": [
       "<Figure size 432x288 with 1 Axes>"
      ]
     },
     "metadata": {
      "needs_background": "light"
     },
     "output_type": "display_data"
    }
   ],
   "source": [
    "df.hist('ceiling_height', bins=50)\n",
    "plt.xlim(0, 20)\n",
    "df['ceiling_height'].describe()"
   ]
  },
  {
   "cell_type": "markdown",
   "metadata": {},
   "source": [
    "Тут мы видим, что пик наших значений приходится на 1 метре, что очень страно, таких низких потолков не бывает. Мы запомним это значение и отметём в дальнейшей обработке."
   ]
  },
  {
   "cell_type": "markdown",
   "metadata": {},
   "source": [
    "Теперь рассчитаем время продажи квартиры."
   ]
  },
  {
   "cell_type": "code",
   "execution_count": 31,
   "metadata": {
    "scrolled": true
   },
   "outputs": [
    {
     "data": {
      "text/plain": [
       "array([[<AxesSubplot:title={'center':'days_exposition'}>]], dtype=object)"
      ]
     },
     "execution_count": 31,
     "metadata": {},
     "output_type": "execute_result"
    },
    {
     "data": {
      "image/png": "[encoded data removed]",
      "text/plain": [
       "<Figure size 432x288 with 1 Axes>"
      ]
     },
     "metadata": {
      "needs_background": "light"
     },
     "output_type": "display_data"
    }
   ],
   "source": [
    "df.hist('days_exposition')"
   ]
  },
  {
   "cell_type": "markdown",
   "metadata": {},
   "source": [
    "Мы видим пик около нуля, который выравнивается примерно около 180. Посчитаем, сколько таких занчений в этом столбце."
   ]
  },
  {
   "cell_type": "code",
   "execution_count": 32,
   "metadata": {},
   "outputs": [
    {
     "data": {
      "text/plain": [
       "17011"
      ]
     },
     "execution_count": 32,
     "metadata": {},
     "output_type": "execute_result"
    }
   ],
   "source": [
    "df.query('days_exposition <= 180')['days_exposition'].count()"
   ]
  },
  {
   "cell_type": "markdown",
   "metadata": {},
   "source": [
    "Около 70% процентов данных входят в этот пик, вряд ли можно с уверенностью сказать, что 70% людей продали свои квартиры меньше чем за 5 месяцев(хотя и такой возможно). Чтобы хоть как-то уровнять наши данные, отбросим те значения, в которых клиенты продали квартиры меньше чем за 15 дней. Также мы видим, что примерно около 1300, значения выравниваются, так что всё, что за этой границей, мы тоже отбросим."
   ]
  },
  {
   "cell_type": "code",
   "execution_count": 33,
   "metadata": {},
   "outputs": [
    {
     "data": {
      "text/plain": [
       "count    18464.000000\n",
       "mean       194.476062\n",
       "std        214.386777\n",
       "min         15.000000\n",
       "25%         52.000000\n",
       "50%        112.000000\n",
       "75%        253.000000\n",
       "max       1299.000000\n",
       "Name: days_exposition, dtype: float64"
      ]
     },
     "execution_count": 33,
     "metadata": {},
     "output_type": "execute_result"
    }
   ],
   "source": [
    "df.query('days_exposition >= 15 & days_exposition <= 1300')['days_exposition'].describe()"
   ]
  },
  {
   "cell_type": "markdown",
   "metadata": {},
   "source": [
    "Теперь мы видим, что в среднем вродажи проходят за 190-200 дней. Можно считать, что продажи прошли быстро, если они заняли менее 52 дней, а всё, что заняло больше 260 дней - уже достаточно долго. "
   ]
  },
  {
   "cell_type": "markdown",
   "metadata": {},
   "source": [
    "Теперь наша задача убрать редкие и выбивающиеся значения. По гистограммам выше мы заметили, что такие значения есть, а именно:\n",
    "- в столбце total_area очень мало значений меньше 25 кв.м и больше 180 кв.м, поэтому всё, что выходит за эту границу мы отбросим.\n",
    "- в столбце last_price мы видим пик около 5 млн, который снижается где-то в районе 18 млн и практически пропадает около 30 млн. Этой областью мы и ограничим наши значения. \n",
    "- в столбце rooms мы видим, что пик около 1-2ух комнатных квартир, а выравнивается он где-то ближе к 5, поэтому исключаем те данные, где количество комнат будет больше 5.\n",
    "- в столбце ceiling_height есть такие занчения меньше 1 метра, таких потолков явно быть не может. Сегодня минимальной нормой в России считается высота потолка 2,4 метра, поэтому установим начальную границу на этом уровне. Также, мы видим, что максимальное значение высоты потолков 100м, что тоже невозможно. Ограничим высоту наших потолков от 2.4 до 4 метров.\n",
    "- в столбце days_exposition мы приняли за выбивающиеся значения те, что будут меньше 30 и больше 1000.\n"
   ]
  },
  {
   "cell_type": "markdown",
   "metadata": {},
   "source": [
    "Теперь создадим новый датафрэйм с \"отчищенными\" данными. После этого сравним данные старого и нового датафрейма, чтобы посмотреть, как изменились данные."
   ]
  },
  {
   "cell_type": "code",
   "execution_count": 34,
   "metadata": {},
   "outputs": [
    {
     "data": {
      "text/html": [
       "<div>\n",
       "<style scoped>\n",
       "    .dataframe tbody tr th:only-of-type {\n",
       "        vertical-align: middle;\n",
       "    }\n",
       "\n",
       "    .dataframe tbody tr th {\n",
       "        vertical-align: top;\n",
       "    }\n",
       "\n",
       "    .dataframe thead th {\n",
       "        text-align: right;\n",
       "    }\n",
       "</style>\n",
       "<table border=\"1\" class=\"dataframe\">\n",
       "  <thead>\n",
       "    <tr style=\"text-align: right;\">\n",
       "      <th></th>\n",
       "      <th>total_images</th>\n",
       "      <th>last_price</th>\n",
       "      <th>total_area</th>\n",
       "      <th>rooms</th>\n",
       "      <th>ceiling_height</th>\n",
       "      <th>floors_total</th>\n",
       "      <th>living_area</th>\n",
       "      <th>floor</th>\n",
       "      <th>kitchen_area</th>\n",
       "      <th>balcony</th>\n",
       "      <th>...</th>\n",
       "      <th>distance_to_park</th>\n",
       "      <th>ponds_around3000</th>\n",
       "      <th>distance_to_pond</th>\n",
       "      <th>days_exposition</th>\n",
       "      <th>meter_price</th>\n",
       "      <th>day_exposition</th>\n",
       "      <th>month_exposition</th>\n",
       "      <th>year_exposition</th>\n",
       "      <th>living_to_total</th>\n",
       "      <th>kitchen_to_total</th>\n",
       "    </tr>\n",
       "  </thead>\n",
       "  <tbody>\n",
       "    <tr>\n",
       "      <th>count</th>\n",
       "      <td>23419.000000</td>\n",
       "      <td>2.341900e+04</td>\n",
       "      <td>23419.000000</td>\n",
       "      <td>23419.000000</td>\n",
       "      <td>23419.000000</td>\n",
       "      <td>23419.000000</td>\n",
       "      <td>23419.000000</td>\n",
       "      <td>23419.000000</td>\n",
       "      <td>23419.000000</td>\n",
       "      <td>23419.000000</td>\n",
       "      <td>...</td>\n",
       "      <td>23419.000000</td>\n",
       "      <td>23419.000000</td>\n",
       "      <td>23419.000000</td>\n",
       "      <td>23419.000000</td>\n",
       "      <td>2.341900e+04</td>\n",
       "      <td>23419.000000</td>\n",
       "      <td>23419.000000</td>\n",
       "      <td>23419.000000</td>\n",
       "      <td>23419.000000</td>\n",
       "      <td>23419.000000</td>\n",
       "    </tr>\n",
       "    <tr>\n",
       "      <th>mean</th>\n",
       "      <td>9.891370</td>\n",
       "      <td>6.567031e+06</td>\n",
       "      <td>60.597636</td>\n",
       "      <td>2.088304</td>\n",
       "      <td>2.723608</td>\n",
       "      <td>10.622273</td>\n",
       "      <td>34.460550</td>\n",
       "      <td>5.855288</td>\n",
       "      <td>10.461337</td>\n",
       "      <td>0.589479</td>\n",
       "      <td>...</td>\n",
       "      <td>167.816559</td>\n",
       "      <td>0.591272</td>\n",
       "      <td>198.977369</td>\n",
       "      <td>157.035271</td>\n",
       "      <td>9.932204e+04</td>\n",
       "      <td>2.566805</td>\n",
       "      <td>6.394466</td>\n",
       "      <td>2017.367095</td>\n",
       "      <td>0.563035</td>\n",
       "      <td>0.188180</td>\n",
       "    </tr>\n",
       "    <tr>\n",
       "      <th>std</th>\n",
       "      <td>5.683265</td>\n",
       "      <td>1.093315e+07</td>\n",
       "      <td>35.605453</td>\n",
       "      <td>1.066164</td>\n",
       "      <td>0.981153</td>\n",
       "      <td>6.569964</td>\n",
       "      <td>21.748593</td>\n",
       "      <td>4.853946</td>\n",
       "      <td>5.667640</td>\n",
       "      <td>0.959805</td>\n",
       "      <td>...</td>\n",
       "      <td>306.610392</td>\n",
       "      <td>0.885147</td>\n",
       "      <td>305.238507</td>\n",
       "      <td>213.855691</td>\n",
       "      <td>5.049480e+04</td>\n",
       "      <td>1.789602</td>\n",
       "      <td>3.492302</td>\n",
       "      <td>1.041399</td>\n",
       "      <td>0.110225</td>\n",
       "      <td>0.074130</td>\n",
       "    </tr>\n",
       "    <tr>\n",
       "      <th>min</th>\n",
       "      <td>0.000000</td>\n",
       "      <td>1.219000e+04</td>\n",
       "      <td>12.000000</td>\n",
       "      <td>1.000000</td>\n",
       "      <td>1.000000</td>\n",
       "      <td>1.000000</td>\n",
       "      <td>2.000000</td>\n",
       "      <td>1.000000</td>\n",
       "      <td>1.300000</td>\n",
       "      <td>0.000000</td>\n",
       "      <td>...</td>\n",
       "      <td>0.000000</td>\n",
       "      <td>0.000000</td>\n",
       "      <td>0.000000</td>\n",
       "      <td>0.000000</td>\n",
       "      <td>1.118349e+02</td>\n",
       "      <td>0.000000</td>\n",
       "      <td>1.000000</td>\n",
       "      <td>2014.000000</td>\n",
       "      <td>0.021583</td>\n",
       "      <td>0.018296</td>\n",
       "    </tr>\n",
       "    <tr>\n",
       "      <th>25%</th>\n",
       "      <td>6.000000</td>\n",
       "      <td>3.450000e+06</td>\n",
       "      <td>40.200000</td>\n",
       "      <td>1.000000</td>\n",
       "      <td>2.600000</td>\n",
       "      <td>5.000000</td>\n",
       "      <td>18.500000</td>\n",
       "      <td>2.000000</td>\n",
       "      <td>7.300000</td>\n",
       "      <td>0.000000</td>\n",
       "      <td>...</td>\n",
       "      <td>0.000000</td>\n",
       "      <td>0.000000</td>\n",
       "      <td>0.000000</td>\n",
       "      <td>22.000000</td>\n",
       "      <td>7.647059e+04</td>\n",
       "      <td>1.000000</td>\n",
       "      <td>3.000000</td>\n",
       "      <td>2017.000000</td>\n",
       "      <td>0.489819</td>\n",
       "      <td>0.133333</td>\n",
       "    </tr>\n",
       "    <tr>\n",
       "      <th>50%</th>\n",
       "      <td>9.000000</td>\n",
       "      <td>4.650000e+06</td>\n",
       "      <td>52.000000</td>\n",
       "      <td>2.000000</td>\n",
       "      <td>2.650000</td>\n",
       "      <td>9.000000</td>\n",
       "      <td>30.500000</td>\n",
       "      <td>4.000000</td>\n",
       "      <td>9.040000</td>\n",
       "      <td>0.000000</td>\n",
       "      <td>...</td>\n",
       "      <td>0.000000</td>\n",
       "      <td>0.000000</td>\n",
       "      <td>0.000000</td>\n",
       "      <td>74.000000</td>\n",
       "      <td>9.487805e+04</td>\n",
       "      <td>3.000000</td>\n",
       "      <td>6.000000</td>\n",
       "      <td>2017.000000</td>\n",
       "      <td>0.565934</td>\n",
       "      <td>0.172840</td>\n",
       "    </tr>\n",
       "    <tr>\n",
       "      <th>75%</th>\n",
       "      <td>14.000000</td>\n",
       "      <td>6.800000e+06</td>\n",
       "      <td>70.000000</td>\n",
       "      <td>3.000000</td>\n",
       "      <td>2.700000</td>\n",
       "      <td>16.000000</td>\n",
       "      <td>42.900000</td>\n",
       "      <td>8.000000</td>\n",
       "      <td>11.500000</td>\n",
       "      <td>1.000000</td>\n",
       "      <td>...</td>\n",
       "      <td>303.000000</td>\n",
       "      <td>1.000000</td>\n",
       "      <td>389.000000</td>\n",
       "      <td>199.000000</td>\n",
       "      <td>1.140351e+05</td>\n",
       "      <td>4.000000</td>\n",
       "      <td>10.000000</td>\n",
       "      <td>2018.000000</td>\n",
       "      <td>0.636924</td>\n",
       "      <td>0.232877</td>\n",
       "    </tr>\n",
       "    <tr>\n",
       "      <th>max</th>\n",
       "      <td>50.000000</td>\n",
       "      <td>7.630000e+08</td>\n",
       "      <td>900.000000</td>\n",
       "      <td>19.000000</td>\n",
       "      <td>100.000000</td>\n",
       "      <td>60.000000</td>\n",
       "      <td>409.700000</td>\n",
       "      <td>33.000000</td>\n",
       "      <td>112.000000</td>\n",
       "      <td>5.000000</td>\n",
       "      <td>...</td>\n",
       "      <td>3190.000000</td>\n",
       "      <td>3.000000</td>\n",
       "      <td>1344.000000</td>\n",
       "      <td>1580.000000</td>\n",
       "      <td>1.907500e+06</td>\n",
       "      <td>6.000000</td>\n",
       "      <td>12.000000</td>\n",
       "      <td>2019.000000</td>\n",
       "      <td>1.514286</td>\n",
       "      <td>0.787879</td>\n",
       "    </tr>\n",
       "  </tbody>\n",
       "</table>\n",
       "<p>8 rows × 23 columns</p>\n",
       "</div>"
      ],
      "text/plain": [
       "       total_images    last_price    total_area         rooms  ceiling_height  \\\n",
       "count  23419.000000  2.341900e+04  23419.000000  23419.000000    23419.000000   \n",
       "mean       9.891370  6.567031e+06     60.597636      2.088304        2.723608   \n",
       "std        5.683265  1.093315e+07     35.605453      1.066164        0.981153   \n",
       "min        0.000000  1.219000e+04     12.000000      1.000000        1.000000   \n",
       "25%        6.000000  3.450000e+06     40.200000      1.000000        2.600000   \n",
       "50%        9.000000  4.650000e+06     52.000000      2.000000        2.650000   \n",
       "75%       14.000000  6.800000e+06     70.000000      3.000000        2.700000   \n",
       "max       50.000000  7.630000e+08    900.000000     19.000000      100.000000   \n",
       "\n",
       "       floors_total   living_area         floor  kitchen_area       balcony  \\\n",
       "count  23419.000000  23419.000000  23419.000000  23419.000000  23419.000000   \n",
       "mean      10.622273     34.460550      5.855288     10.461337      0.589479   \n",
       "std        6.569964     21.748593      4.853946      5.667640      0.959805   \n",
       "min        1.000000      2.000000      1.000000      1.300000      0.000000   \n",
       "25%        5.000000     18.500000      2.000000      7.300000      0.000000   \n",
       "50%        9.000000     30.500000      4.000000      9.040000      0.000000   \n",
       "75%       16.000000     42.900000      8.000000     11.500000      1.000000   \n",
       "max       60.000000    409.700000     33.000000    112.000000      5.000000   \n",
       "\n",
       "       ...  distance_to_park  ponds_around3000  distance_to_pond  \\\n",
       "count  ...      23419.000000      23419.000000      23419.000000   \n",
       "mean   ...        167.816559          0.591272        198.977369   \n",
       "std    ...        306.610392          0.885147        305.238507   \n",
       "min    ...          0.000000          0.000000          0.000000   \n",
       "25%    ...          0.000000          0.000000          0.000000   \n",
       "50%    ...          0.000000          0.000000          0.000000   \n",
       "75%    ...        303.000000          1.000000        389.000000   \n",
       "max    ...       3190.000000          3.000000       1344.000000   \n",
       "\n",
       "       days_exposition   meter_price  day_exposition  month_exposition  \\\n",
       "count     23419.000000  2.341900e+04    23419.000000      23419.000000   \n",
       "mean        157.035271  9.932204e+04        2.566805          6.394466   \n",
       "std         213.855691  5.049480e+04        1.789602          3.492302   \n",
       "min           0.000000  1.118349e+02        0.000000          1.000000   \n",
       "25%          22.000000  7.647059e+04        1.000000          3.000000   \n",
       "50%          74.000000  9.487805e+04        3.000000          6.000000   \n",
       "75%         199.000000  1.140351e+05        4.000000         10.000000   \n",
       "max        1580.000000  1.907500e+06        6.000000         12.000000   \n",
       "\n",
       "       year_exposition  living_to_total  kitchen_to_total  \n",
       "count     23419.000000     23419.000000      23419.000000  \n",
       "mean       2017.367095         0.563035          0.188180  \n",
       "std           1.041399         0.110225          0.074130  \n",
       "min        2014.000000         0.021583          0.018296  \n",
       "25%        2017.000000         0.489819          0.133333  \n",
       "50%        2017.000000         0.565934          0.172840  \n",
       "75%        2018.000000         0.636924          0.232877  \n",
       "max        2019.000000         1.514286          0.787879  \n",
       "\n",
       "[8 rows x 23 columns]"
      ]
     },
     "metadata": {},
     "output_type": "display_data"
    },
    {
     "data": {
      "text/html": [
       "<div>\n",
       "<style scoped>\n",
       "    .dataframe tbody tr th:only-of-type {\n",
       "        vertical-align: middle;\n",
       "    }\n",
       "\n",
       "    .dataframe tbody tr th {\n",
       "        vertical-align: top;\n",
       "    }\n",
       "\n",
       "    .dataframe thead th {\n",
       "        text-align: right;\n",
       "    }\n",
       "</style>\n",
       "<table border=\"1\" class=\"dataframe\">\n",
       "  <thead>\n",
       "    <tr style=\"text-align: right;\">\n",
       "      <th></th>\n",
       "      <th>total_images</th>\n",
       "      <th>last_price</th>\n",
       "      <th>total_area</th>\n",
       "      <th>rooms</th>\n",
       "      <th>ceiling_height</th>\n",
       "      <th>floors_total</th>\n",
       "      <th>living_area</th>\n",
       "      <th>floor</th>\n",
       "      <th>kitchen_area</th>\n",
       "      <th>balcony</th>\n",
       "      <th>...</th>\n",
       "      <th>distance_to_park</th>\n",
       "      <th>ponds_around3000</th>\n",
       "      <th>distance_to_pond</th>\n",
       "      <th>days_exposition</th>\n",
       "      <th>meter_price</th>\n",
       "      <th>day_exposition</th>\n",
       "      <th>month_exposition</th>\n",
       "      <th>year_exposition</th>\n",
       "      <th>living_to_total</th>\n",
       "      <th>kitchen_to_total</th>\n",
       "    </tr>\n",
       "  </thead>\n",
       "  <tbody>\n",
       "    <tr>\n",
       "      <th>count</th>\n",
       "      <td>13801.000000</td>\n",
       "      <td>1.380100e+04</td>\n",
       "      <td>13801.000000</td>\n",
       "      <td>13801.000000</td>\n",
       "      <td>13801.000000</td>\n",
       "      <td>13801.000000</td>\n",
       "      <td>13801.000000</td>\n",
       "      <td>13801.000000</td>\n",
       "      <td>13801.000000</td>\n",
       "      <td>13801.000000</td>\n",
       "      <td>...</td>\n",
       "      <td>13801.000000</td>\n",
       "      <td>13801.000000</td>\n",
       "      <td>13801.000000</td>\n",
       "      <td>13801.000000</td>\n",
       "      <td>13801.000000</td>\n",
       "      <td>13801.000000</td>\n",
       "      <td>13801.000000</td>\n",
       "      <td>13801.000000</td>\n",
       "      <td>13801.000000</td>\n",
       "      <td>13801.000000</td>\n",
       "    </tr>\n",
       "    <tr>\n",
       "      <th>mean</th>\n",
       "      <td>9.774726</td>\n",
       "      <td>6.250452e+06</td>\n",
       "      <td>58.739430</td>\n",
       "      <td>2.055721</td>\n",
       "      <td>2.719497</td>\n",
       "      <td>11.346207</td>\n",
       "      <td>33.361327</td>\n",
       "      <td>6.196218</td>\n",
       "      <td>10.363673</td>\n",
       "      <td>0.586842</td>\n",
       "      <td>...</td>\n",
       "      <td>213.512934</td>\n",
       "      <td>0.751250</td>\n",
       "      <td>257.698283</td>\n",
       "      <td>194.464387</td>\n",
       "      <td>104979.501030</td>\n",
       "      <td>2.579886</td>\n",
       "      <td>6.562858</td>\n",
       "      <td>2017.145207</td>\n",
       "      <td>0.559812</td>\n",
       "      <td>0.188213</td>\n",
       "    </tr>\n",
       "    <tr>\n",
       "      <th>std</th>\n",
       "      <td>5.641260</td>\n",
       "      <td>3.725786e+06</td>\n",
       "      <td>24.749862</td>\n",
       "      <td>0.952805</td>\n",
       "      <td>1.012192</td>\n",
       "      <td>6.604060</td>\n",
       "      <td>16.451155</td>\n",
       "      <td>4.994712</td>\n",
       "      <td>4.852011</td>\n",
       "      <td>0.960230</td>\n",
       "      <td>...</td>\n",
       "      <td>332.603367</td>\n",
       "      <td>0.925212</td>\n",
       "      <td>325.382045</td>\n",
       "      <td>215.167823</td>\n",
       "      <td>29916.407090</td>\n",
       "      <td>1.778906</td>\n",
       "      <td>3.461964</td>\n",
       "      <td>0.966729</td>\n",
       "      <td>0.106853</td>\n",
       "      <td>0.071283</td>\n",
       "    </tr>\n",
       "    <tr>\n",
       "      <th>min</th>\n",
       "      <td>0.000000</td>\n",
       "      <td>1.200000e+06</td>\n",
       "      <td>25.000000</td>\n",
       "      <td>1.000000</td>\n",
       "      <td>1.750000</td>\n",
       "      <td>1.000000</td>\n",
       "      <td>2.000000</td>\n",
       "      <td>1.000000</td>\n",
       "      <td>2.000000</td>\n",
       "      <td>0.000000</td>\n",
       "      <td>...</td>\n",
       "      <td>0.000000</td>\n",
       "      <td>0.000000</td>\n",
       "      <td>0.000000</td>\n",
       "      <td>15.000000</td>\n",
       "      <td>15345.268542</td>\n",
       "      <td>0.000000</td>\n",
       "      <td>1.000000</td>\n",
       "      <td>2014.000000</td>\n",
       "      <td>0.038462</td>\n",
       "      <td>0.043524</td>\n",
       "    </tr>\n",
       "    <tr>\n",
       "      <th>25%</th>\n",
       "      <td>6.000000</td>\n",
       "      <td>3.950000e+06</td>\n",
       "      <td>41.000000</td>\n",
       "      <td>1.000000</td>\n",
       "      <td>2.600000</td>\n",
       "      <td>5.000000</td>\n",
       "      <td>18.800000</td>\n",
       "      <td>3.000000</td>\n",
       "      <td>7.300000</td>\n",
       "      <td>0.000000</td>\n",
       "      <td>...</td>\n",
       "      <td>0.000000</td>\n",
       "      <td>0.000000</td>\n",
       "      <td>0.000000</td>\n",
       "      <td>54.000000</td>\n",
       "      <td>86000.000000</td>\n",
       "      <td>1.000000</td>\n",
       "      <td>3.000000</td>\n",
       "      <td>2017.000000</td>\n",
       "      <td>0.489567</td>\n",
       "      <td>0.134831</td>\n",
       "    </tr>\n",
       "    <tr>\n",
       "      <th>50%</th>\n",
       "      <td>9.000000</td>\n",
       "      <td>5.100000e+06</td>\n",
       "      <td>53.000000</td>\n",
       "      <td>2.000000</td>\n",
       "      <td>2.650000</td>\n",
       "      <td>9.000000</td>\n",
       "      <td>30.500000</td>\n",
       "      <td>5.000000</td>\n",
       "      <td>9.200000</td>\n",
       "      <td>0.000000</td>\n",
       "      <td>...</td>\n",
       "      <td>0.000000</td>\n",
       "      <td>0.000000</td>\n",
       "      <td>0.000000</td>\n",
       "      <td>112.000000</td>\n",
       "      <td>100000.000000</td>\n",
       "      <td>3.000000</td>\n",
       "      <td>7.000000</td>\n",
       "      <td>2017.000000</td>\n",
       "      <td>0.562874</td>\n",
       "      <td>0.173611</td>\n",
       "    </tr>\n",
       "    <tr>\n",
       "      <th>75%</th>\n",
       "      <td>14.000000</td>\n",
       "      <td>7.150000e+06</td>\n",
       "      <td>70.000000</td>\n",
       "      <td>3.000000</td>\n",
       "      <td>2.700000</td>\n",
       "      <td>16.000000</td>\n",
       "      <td>42.700000</td>\n",
       "      <td>8.000000</td>\n",
       "      <td>11.850000</td>\n",
       "      <td>1.000000</td>\n",
       "      <td>...</td>\n",
       "      <td>403.000000</td>\n",
       "      <td>1.000000</td>\n",
       "      <td>503.000000</td>\n",
       "      <td>252.000000</td>\n",
       "      <td>116891.891892</td>\n",
       "      <td>4.000000</td>\n",
       "      <td>10.000000</td>\n",
       "      <td>2018.000000</td>\n",
       "      <td>0.633838</td>\n",
       "      <td>0.232558</td>\n",
       "    </tr>\n",
       "    <tr>\n",
       "      <th>max</th>\n",
       "      <td>50.000000</td>\n",
       "      <td>3.000000e+07</td>\n",
       "      <td>180.000000</td>\n",
       "      <td>5.000000</td>\n",
       "      <td>100.000000</td>\n",
       "      <td>60.000000</td>\n",
       "      <td>140.000000</td>\n",
       "      <td>32.000000</td>\n",
       "      <td>65.000000</td>\n",
       "      <td>5.000000</td>\n",
       "      <td>...</td>\n",
       "      <td>3190.000000</td>\n",
       "      <td>3.000000</td>\n",
       "      <td>1344.000000</td>\n",
       "      <td>1299.000000</td>\n",
       "      <td>600000.000000</td>\n",
       "      <td>6.000000</td>\n",
       "      <td>12.000000</td>\n",
       "      <td>2019.000000</td>\n",
       "      <td>1.369925</td>\n",
       "      <td>0.787879</td>\n",
       "    </tr>\n",
       "  </tbody>\n",
       "</table>\n",
       "<p>8 rows × 23 columns</p>\n",
       "</div>"
      ],
      "text/plain": [
       "       total_images    last_price    total_area         rooms  ceiling_height  \\\n",
       "count  13801.000000  1.380100e+04  13801.000000  13801.000000    13801.000000   \n",
       "mean       9.774726  6.250452e+06     58.739430      2.055721        2.719497   \n",
       "std        5.641260  3.725786e+06     24.749862      0.952805        1.012192   \n",
       "min        0.000000  1.200000e+06     25.000000      1.000000        1.750000   \n",
       "25%        6.000000  3.950000e+06     41.000000      1.000000        2.600000   \n",
       "50%        9.000000  5.100000e+06     53.000000      2.000000        2.650000   \n",
       "75%       14.000000  7.150000e+06     70.000000      3.000000        2.700000   \n",
       "max       50.000000  3.000000e+07    180.000000      5.000000      100.000000   \n",
       "\n",
       "       floors_total   living_area         floor  kitchen_area       balcony  \\\n",
       "count  13801.000000  13801.000000  13801.000000  13801.000000  13801.000000   \n",
       "mean      11.346207     33.361327      6.196218     10.363673      0.586842   \n",
       "std        6.604060     16.451155      4.994712      4.852011      0.960230   \n",
       "min        1.000000      2.000000      1.000000      2.000000      0.000000   \n",
       "25%        5.000000     18.800000      3.000000      7.300000      0.000000   \n",
       "50%        9.000000     30.500000      5.000000      9.200000      0.000000   \n",
       "75%       16.000000     42.700000      8.000000     11.850000      1.000000   \n",
       "max       60.000000    140.000000     32.000000     65.000000      5.000000   \n",
       "\n",
       "       ...  distance_to_park  ponds_around3000  distance_to_pond  \\\n",
       "count  ...      13801.000000      13801.000000      13801.000000   \n",
       "mean   ...        213.512934          0.751250        257.698283   \n",
       "std    ...        332.603367          0.925212        325.382045   \n",
       "min    ...          0.000000          0.000000          0.000000   \n",
       "25%    ...          0.000000          0.000000          0.000000   \n",
       "50%    ...          0.000000          0.000000          0.000000   \n",
       "75%    ...        403.000000          1.000000        503.000000   \n",
       "max    ...       3190.000000          3.000000       1344.000000   \n",
       "\n",
       "       days_exposition    meter_price  day_exposition  month_exposition  \\\n",
       "count     13801.000000   13801.000000    13801.000000      13801.000000   \n",
       "mean        194.464387  104979.501030        2.579886          6.562858   \n",
       "std         215.167823   29916.407090        1.778906          3.461964   \n",
       "min          15.000000   15345.268542        0.000000          1.000000   \n",
       "25%          54.000000   86000.000000        1.000000          3.000000   \n",
       "50%         112.000000  100000.000000        3.000000          7.000000   \n",
       "75%         252.000000  116891.891892        4.000000         10.000000   \n",
       "max        1299.000000  600000.000000        6.000000         12.000000   \n",
       "\n",
       "       year_exposition  living_to_total  kitchen_to_total  \n",
       "count     13801.000000     13801.000000      13801.000000  \n",
       "mean       2017.145207         0.559812          0.188213  \n",
       "std           0.966729         0.106853          0.071283  \n",
       "min        2014.000000         0.038462          0.043524  \n",
       "25%        2017.000000         0.489567          0.134831  \n",
       "50%        2017.000000         0.562874          0.173611  \n",
       "75%        2018.000000         0.633838          0.232558  \n",
       "max        2019.000000         1.369925          0.787879  \n",
       "\n",
       "[8 rows x 23 columns]"
      ]
     },
     "execution_count": 34,
     "metadata": {},
     "output_type": "execute_result"
    }
   ],
   "source": [
    "df2 = df.query('total_area >= 25 and total_area <= 180 and last_price <= 30000000 and rooms <=5 and days_exposition  >= 15 and days_exposition <= 1300 and distance_to_center > 0').reset_index(drop=True)\n",
    "display(df.describe())\n",
    "df2.describe()"
   ]
  },
  {
   "cell_type": "markdown",
   "metadata": {},
   "source": [
    "Мы видим, что после фильтрации значений наш датасет остался в пригодном виде для анализа, медиана сохранена в большинстве колонок, данные имеют хорошее распределение, поэтому делаем вывод, что с таким датафреймом можно рабоать и проводить анализ на основе этих данных."
   ]
  },
  {
   "cell_type": "markdown",
   "metadata": {},
   "source": [
    "Теперь определим, какие факторы флияют на стоимость квартиры. Для этого построим матрицу корреляции и деаграммы рассеевания для следующих параметров: зависимость цены от квадратного метра, числа комнат, этажа (первого или последнего), удалённости от центра. А также зависимость от даты размещения: дня недели, месяца и года."
   ]
  },
  {
   "cell_type": "code",
   "execution_count": 35,
   "metadata": {
    "scrolled": false
   },
   "outputs": [
    {
     "data": {
      "text/html": [
       "<div>\n",
       "<style scoped>\n",
       "    .dataframe tbody tr th:only-of-type {\n",
       "        vertical-align: middle;\n",
       "    }\n",
       "\n",
       "    .dataframe tbody tr th {\n",
       "        vertical-align: top;\n",
       "    }\n",
       "\n",
       "    .dataframe thead th {\n",
       "        text-align: right;\n",
       "    }\n",
       "</style>\n",
       "<table border=\"1\" class=\"dataframe\">\n",
       "  <thead>\n",
       "    <tr style=\"text-align: right;\">\n",
       "      <th></th>\n",
       "      <th>meter_price</th>\n",
       "      <th>rooms</th>\n",
       "      <th>last_price</th>\n",
       "      <th>distance_to_center</th>\n",
       "    </tr>\n",
       "  </thead>\n",
       "  <tbody>\n",
       "    <tr>\n",
       "      <th>meter_price</th>\n",
       "      <td>1.000000</td>\n",
       "      <td>-0.127160</td>\n",
       "      <td>0.634196</td>\n",
       "      <td>-0.395110</td>\n",
       "    </tr>\n",
       "    <tr>\n",
       "      <th>rooms</th>\n",
       "      <td>-0.127160</td>\n",
       "      <td>1.000000</td>\n",
       "      <td>0.508939</td>\n",
       "      <td>-0.153177</td>\n",
       "    </tr>\n",
       "    <tr>\n",
       "      <th>last_price</th>\n",
       "      <td>0.634196</td>\n",
       "      <td>0.508939</td>\n",
       "      <td>1.000000</td>\n",
       "      <td>-0.353855</td>\n",
       "    </tr>\n",
       "    <tr>\n",
       "      <th>distance_to_center</th>\n",
       "      <td>-0.395110</td>\n",
       "      <td>-0.153177</td>\n",
       "      <td>-0.353855</td>\n",
       "      <td>1.000000</td>\n",
       "    </tr>\n",
       "  </tbody>\n",
       "</table>\n",
       "</div>"
      ],
      "text/plain": [
       "                    meter_price     rooms  last_price  distance_to_center\n",
       "meter_price            1.000000 -0.127160    0.634196           -0.395110\n",
       "rooms                 -0.127160  1.000000    0.508939           -0.153177\n",
       "last_price             0.634196  0.508939    1.000000           -0.353855\n",
       "distance_to_center    -0.395110 -0.153177   -0.353855            1.000000"
      ]
     },
     "metadata": {},
     "output_type": "display_data"
    },
    {
     "name": "stdout",
     "output_type": "stream",
     "text": [
      "4460000.0\n",
      "5200000.0\n",
      "4990000.0\n"
     ]
    },
    {
     "data": {
      "image/png": "[encoded data removed]",
      "text/plain": [
       "<Figure size 648x648 with 16 Axes>"
      ]
     },
     "metadata": {
      "needs_background": "light"
     },
     "output_type": "display_data"
    },
    {
     "data": {
      "image/png": "[encoded data removed]",
      "text/plain": [
       "<Figure size 432x288 with 1 Axes>"
      ]
     },
     "metadata": {
      "needs_background": "light"
     },
     "output_type": "display_data"
    },
    {
     "data": {
      "image/png": "[encoded data removed]",
      "text/plain": [
       "<Figure size 432x288 with 1 Axes>"
      ]
     },
     "metadata": {
      "needs_background": "light"
     },
     "output_type": "display_data"
    },
    {
     "data": {
      "image/png": "[encoded data removed]",
      "text/plain": [
       "<Figure size 432x288 with 1 Axes>"
      ]
     },
     "metadata": {
      "needs_background": "light"
     },
     "output_type": "display_data"
    }
   ],
   "source": [
    "display(df2[['meter_price', 'rooms', 'last_price', 'distance_to_center']].corr())\n",
    "important_values = df.pivot_table(index='city', values=['meter_price', 'rooms', 'last_price', 'distance_to_center'])\n",
    "pd.plotting.scatter_matrix(important_values, figsize=(9, 9))\n",
    "df.plot(x='day_exposition', y='last_price', kind='scatter', grid=True)\n",
    "df.plot(x='month_exposition', y='last_price', kind='scatter', grid=True)\n",
    "df.plot(x='year_exposition', y='last_price', kind='scatter', grid=True)\n",
    "print(df2.query('floor_category == \"первый\"')['last_price'].median())\n",
    "print(df2.query('floor_category == \"другой\"')['last_price'].median())\n",
    "print(df2.query('floor_category == \"последний\"')['last_price'].median())"
   ]
  },
  {
   "cell_type": "markdown",
   "metadata": {},
   "source": [
    "Как мы видим из графиков и корреляции, цена объекта находится в прямой зависимости от цены за кв.м и количества комнат, то есть чем выше становится один показатель, тем выше будет другой. Также мы видим обратную зависимость с удаленностью объекта от центра, то есть чем выше становится цена, тем меньше будет расстояние до центра. Если сравнивать цену и день недели, месяц и год, когда было выложено объявление, то можно увидеть, что объявления, которые были размещены во вторник и пятницу, имеют цену немного больше, чем те, что были размещены в остальные дни недели. А также в январе, апреле и июне, квартиры тоже продавались по большец стоимости. Такая же закономерность и с 2017 годом. В целом можно сказать, что отличия в цене небольшие, но они всё-таки есть."
   ]
  },
  {
   "cell_type": "markdown",
   "metadata": {},
   "source": [
    "Сравнив медиану по этажам и цене, мы видим, что объекты, расположенные на \"последнем\" и \"другом\" этаже стоят дороже, чем те, что располагаются на первом этаже. Это может быть объяснено тем, что первый этаж обычно называют \"проходным\", он находится на уровне глаз человека и люди с неохотой покупают квартиры на этом этаже. Последний же этаж, если в доме нет чердака, склонен к подтёкам с крыши, что тоже не устраивает потенциальных покупателей, отсюда и повышенная стоимость этажа категории \"другой\", он не имеет вышеперечисленных проблем."
   ]
  },
  {
   "cell_type": "markdown",
   "metadata": {},
   "source": [
    "Сейчас найдём топ 10 городов по количеству объявлений, чтобы узнать, сколько именно в них стоит 1 кв.м в среднем. Для этого отфильтруем значения и сделаем рассчёт."
   ]
  },
  {
   "cell_type": "code",
   "execution_count": 36,
   "metadata": {
    "scrolled": true
   },
   "outputs": [],
   "source": [
    "top_10_city = df['city'].value_counts().head(10)"
   ]
  },
  {
   "cell_type": "code",
   "execution_count": 37,
   "metadata": {},
   "outputs": [],
   "source": [
    "filtred_city = df[df['city'].isin(top_10_city.index)]"
   ]
  },
  {
   "cell_type": "code",
   "execution_count": 38,
   "metadata": {
    "scrolled": true
   },
   "outputs": [
    {
     "data": {
      "text/plain": [
       "city\n",
       "Всеволожск            68618\n",
       "Выборг                58141\n",
       "Гатчина               68746\n",
       "Колпино               75424\n",
       "Пушкин               103125\n",
       "Санкт-Петербург      114807\n",
       "деревня Кудрово       92297\n",
       "поселок Мурино        85029\n",
       "поселок Парголово     90289\n",
       "поселок Шушары        78277\n",
       "Name: meter_price, dtype: int64"
      ]
     },
     "execution_count": 38,
     "metadata": {},
     "output_type": "execute_result"
    }
   ],
   "source": [
    "filtred_city.groupby('city')['meter_price'].mean().astype('int64')"
   ]
  },
  {
   "cell_type": "markdown",
   "metadata": {},
   "source": [
    "Как мы видим, самая большая цена за кв.м в Санкт-Петербурге(112 тысяч за кв.м), а самая маленька в Выборге(57 тысяч за кв.м)"
   ]
  },
  {
   "cell_type": "markdown",
   "metadata": {},
   "source": [
    "Поскольку самая высокая стоимость за кв.м именно в Санкт-Петербурге, будет интересно посмотреть, как именно там распределяется цена, зависит ли она от центра, если да, то сколько стоит кв.м ближе и дальше от центра? Произведём рассчёты и проанализируем полученные данные. В первую очередь после получения среза разделим данные на 1000, поскольку данные в этом столбце указаны в метрах, а измерять удобнее будет в километрах."
   ]
  },
  {
   "cell_type": "code",
   "execution_count": 39,
   "metadata": {},
   "outputs": [
    {
     "data": {
      "text/plain": [
       "<AxesSubplot:xlabel='distance_to_center'>"
      ]
     },
     "execution_count": 39,
     "metadata": {},
     "output_type": "execute_result"
    },
    {
     "data": {
      "image/png": "[encoded data removed]",
      "text/plain": [
       "<Figure size 432x288 with 1 Axes>"
      ]
     },
     "metadata": {
      "needs_background": "light"
     },
     "output_type": "display_data"
    }
   ],
   "source": [
    "spb = df.query('city == \"Санкт-Петербург\"')\n",
    "spb['distance_to_center'] = spb['distance_to_center']/1000\n",
    "spb_center_distance = spb.groupby('distance_to_center')['meter_price'].mean().astype('int64')\n",
    "spb_center_distance.plot(xlim=(0,20))"
   ]
  },
  {
   "cell_type": "markdown",
   "metadata": {},
   "source": [
    "Как мы видим, на графике наблюдается резкое падение около 3км, но это слишком мало для такого большого города, как Санкт_Петербург. На графике мы также можем наблюдать падение около 7 км, поэтому область мы и ограничим как центр."
   ]
  },
  {
   "cell_type": "markdown",
   "metadata": {},
   "source": [
    "Теперь изучим эти самые квартиры в центре. Нужно проанализировать, какие именно квартиры там продают: какая у них высота потолков, цена, число комнат, площадь. Также изучим как на стоимость квартир в центре влияют число комнат, этаж, удалённость от центра, дата размещения объявления. Совпадет ли их влияние в остальных городах или мы увидим что-то новое?"
   ]
  },
  {
   "cell_type": "code",
   "execution_count": 47,
   "metadata": {},
   "outputs": [
    {
     "data": {
      "text/html": [
       "<div>\n",
       "<style scoped>\n",
       "    .dataframe tbody tr th:only-of-type {\n",
       "        vertical-align: middle;\n",
       "    }\n",
       "\n",
       "    .dataframe tbody tr th {\n",
       "        vertical-align: top;\n",
       "    }\n",
       "\n",
       "    .dataframe thead th {\n",
       "        text-align: right;\n",
       "    }\n",
       "</style>\n",
       "<table border=\"1\" class=\"dataframe\">\n",
       "  <thead>\n",
       "    <tr style=\"text-align: right;\">\n",
       "      <th></th>\n",
       "      <th>last_price</th>\n",
       "      <th>total_area</th>\n",
       "      <th>rooms</th>\n",
       "      <th>ceiling_height</th>\n",
       "    </tr>\n",
       "  </thead>\n",
       "  <tbody>\n",
       "    <tr>\n",
       "      <th>count</th>\n",
       "      <td>3.343000e+03</td>\n",
       "      <td>3343.000000</td>\n",
       "      <td>3343.000000</td>\n",
       "      <td>3343.000000</td>\n",
       "    </tr>\n",
       "    <tr>\n",
       "      <th>mean</th>\n",
       "      <td>1.499934e+07</td>\n",
       "      <td>94.171914</td>\n",
       "      <td>2.864194</td>\n",
       "      <td>2.965124</td>\n",
       "    </tr>\n",
       "    <tr>\n",
       "      <th>std</th>\n",
       "      <td>2.464335e+07</td>\n",
       "      <td>60.208168</td>\n",
       "      <td>1.461694</td>\n",
       "      <td>0.751852</td>\n",
       "    </tr>\n",
       "    <tr>\n",
       "      <th>min</th>\n",
       "      <td>1.600000e+06</td>\n",
       "      <td>12.000000</td>\n",
       "      <td>1.000000</td>\n",
       "      <td>2.400000</td>\n",
       "    </tr>\n",
       "    <tr>\n",
       "      <th>25%</th>\n",
       "      <td>6.700000e+06</td>\n",
       "      <td>57.750000</td>\n",
       "      <td>2.000000</td>\n",
       "      <td>2.650000</td>\n",
       "    </tr>\n",
       "    <tr>\n",
       "      <th>50%</th>\n",
       "      <td>9.300000e+06</td>\n",
       "      <td>79.600000</td>\n",
       "      <td>3.000000</td>\n",
       "      <td>2.830000</td>\n",
       "    </tr>\n",
       "    <tr>\n",
       "      <th>75%</th>\n",
       "      <td>1.450000e+07</td>\n",
       "      <td>110.600000</td>\n",
       "      <td>4.000000</td>\n",
       "      <td>3.165000</td>\n",
       "    </tr>\n",
       "    <tr>\n",
       "      <th>max</th>\n",
       "      <td>7.630000e+08</td>\n",
       "      <td>631.200000</td>\n",
       "      <td>19.000000</td>\n",
       "      <td>32.000000</td>\n",
       "    </tr>\n",
       "  </tbody>\n",
       "</table>\n",
       "</div>"
      ],
      "text/plain": [
       "         last_price   total_area        rooms  ceiling_height\n",
       "count  3.343000e+03  3343.000000  3343.000000     3343.000000\n",
       "mean   1.499934e+07    94.171914     2.864194        2.965124\n",
       "std    2.464335e+07    60.208168     1.461694        0.751852\n",
       "min    1.600000e+06    12.000000     1.000000        2.400000\n",
       "25%    6.700000e+06    57.750000     2.000000        2.650000\n",
       "50%    9.300000e+06    79.600000     3.000000        2.830000\n",
       "75%    1.450000e+07   110.600000     4.000000        3.165000\n",
       "max    7.630000e+08   631.200000    19.000000       32.000000"
      ]
     },
     "metadata": {},
     "output_type": "display_data"
    },
    {
     "data": {
      "text/html": [
       "<div>\n",
       "<style scoped>\n",
       "    .dataframe tbody tr th:only-of-type {\n",
       "        vertical-align: middle;\n",
       "    }\n",
       "\n",
       "    .dataframe tbody tr th {\n",
       "        vertical-align: top;\n",
       "    }\n",
       "\n",
       "    .dataframe thead th {\n",
       "        text-align: right;\n",
       "    }\n",
       "</style>\n",
       "<table border=\"1\" class=\"dataframe\">\n",
       "  <thead>\n",
       "    <tr style=\"text-align: right;\">\n",
       "      <th></th>\n",
       "      <th>distance_to_center</th>\n",
       "      <th>rooms</th>\n",
       "      <th>last_price</th>\n",
       "    </tr>\n",
       "  </thead>\n",
       "  <tbody>\n",
       "    <tr>\n",
       "      <th>distance_to_center</th>\n",
       "      <td>1.000000</td>\n",
       "      <td>-0.128635</td>\n",
       "      <td>-0.042050</td>\n",
       "    </tr>\n",
       "    <tr>\n",
       "      <th>rooms</th>\n",
       "      <td>-0.128635</td>\n",
       "      <td>1.000000</td>\n",
       "      <td>0.313294</td>\n",
       "    </tr>\n",
       "    <tr>\n",
       "      <th>last_price</th>\n",
       "      <td>-0.042050</td>\n",
       "      <td>0.313294</td>\n",
       "      <td>1.000000</td>\n",
       "    </tr>\n",
       "  </tbody>\n",
       "</table>\n",
       "</div>"
      ],
      "text/plain": [
       "                    distance_to_center     rooms  last_price\n",
       "distance_to_center            1.000000 -0.128635   -0.042050\n",
       "rooms                        -0.128635  1.000000    0.313294\n",
       "last_price                   -0.042050  0.313294    1.000000"
      ]
     },
     "metadata": {},
     "output_type": "display_data"
    },
    {
     "name": "stdout",
     "output_type": "stream",
     "text": [
      "4899000.0\n",
      "5650000.0\n"
     ]
    },
    {
     "data": {
      "text/plain": [
       "5680000.0"
      ]
     },
     "execution_count": 47,
     "metadata": {},
     "output_type": "execute_result"
    },
    {
     "data": {
      "image/png": "[encoded data removed]",
      "text/plain": [
       "<Figure size 720x720 with 1 Axes>"
      ]
     },
     "metadata": {
      "needs_background": "light"
     },
     "output_type": "display_data"
    },
    {
     "data": {
      "image/png": "[encoded data removed]",
      "text/plain": [
       "<Figure size 720x720 with 1 Axes>"
      ]
     },
     "metadata": {
      "needs_background": "light"
     },
     "output_type": "display_data"
    },
    {
     "data": {
      "image/png": "[encoded data removed]",
      "text/plain": [
       "<Figure size 432x288 with 1 Axes>"
      ]
     },
     "metadata": {
      "needs_background": "light"
     },
     "output_type": "display_data"
    },
    {
     "data": {
      "image/png": "[encoded data removed]",
      "text/plain": [
       "<Figure size 432x288 with 1 Axes>"
      ]
     },
     "metadata": {
      "needs_background": "light"
     },
     "output_type": "display_data"
    },
    {
     "data": {
      "image/png": "[encoded data removed]",
      "text/plain": [
       "<Figure size 432x288 with 1 Axes>"
      ]
     },
     "metadata": {
      "needs_background": "light"
     },
     "output_type": "display_data"
    }
   ],
   "source": [
    "spb_center = spb.query('distance_to_center <= 7').reset_index(drop=True)\n",
    "display(spb_center[['last_price', 'total_area', 'rooms', 'ceiling_height']].describe())\n",
    "display(spb_center[['distance_to_center', 'rooms', 'last_price']].corr())\n",
    "spb_center.plot(y = 'last_price', \n",
    "        x = 'distance_to_center',         \n",
    "        kind='scatter',\n",
    "        s=20,\n",
    "        xlim = (0,7),\n",
    "        figsize=(10,10))\n",
    "spb_center.plot(y = 'last_price', \n",
    "        x = 'rooms',         \n",
    "        kind='scatter',\n",
    "        s=20,\n",
    "        xlim = (0,7),\n",
    "        figsize=(10,10))\n",
    "spb.plot(x='day_exposition', y='last_price', kind='scatter', grid=True)\n",
    "spb.plot(x='month_exposition', y='last_price', kind='scatter', grid=True)\n",
    "spb.plot(x='year_exposition', y='last_price', kind='scatter', grid=True)\n",
    "print(spb.query('floor_category == \"первый\"')['last_price'].median())\n",
    "print(spb.query('floor_category == \"другой\"')['last_price'].median())\n",
    "spb.query('floor_category == \"последний\"')['last_price'].median()"
   ]
  },
  {
   "cell_type": "markdown",
   "metadata": {},
   "source": [
    "Как мы видим из первой таблицы, в центре в большинство квартир имеют площадь больше 70 кв.м, 3 комнаты, высота потолков равна приблизительно 3м, а цена на них по большей части составляет от 7млн. "
   ]
  },
  {
   "cell_type": "markdown",
   "metadata": {},
   "source": [
    "Что касается изучения зависимости, то тут можно отметить следующее: факторы, которые влияют на цену, остались весомыми и здесь. Мы видим, что самые дорогие квартиры всё также публикуются во вторник и пятницу, в январе, апреле и июне, а также в 2017 году. На цену по-прежнему влияет удалённость от центра(на графике видно, чем ближе к центру, тем цена становится выше), число комнат(самые дорогие это 4 и более комнат), а также этаж из категории \"другой\" остаётся самым дорогим."
   ]
  },
  {
   "cell_type": "markdown",
   "metadata": {},
   "source": [
    "## Общий вывод"
   ]
  },
  {
   "cell_type": "markdown",
   "metadata": {},
   "source": [
    "В данном исследовании мы изучили рынок недвижимости в Санкт-Петербурге и близлижащих городах и посёлках. Вывели те факторы, которые напрямую влияют на стоимость квартиры(число комнат, цена за кв.м, этаж), выснили, что цена находится в обратной зависимости от удалённости от центра(чем дальше квартира, тем меньше цена). Также, мы произвели анализ квартир в Санкт-Петербурге в районе центра(3 км) и выяснили, что там эти факторы также играют большую роль, но решающим всё-таки будет близость к центру, остальные факторы являются сопуствующими. "
   ]
  }
 ],
 "metadata": {
  "ExecuteTimeLog": [
   {
    "duration": 748,
    "start_time": "2022-05-18T15:54:43.843Z"
   },
   {
    "duration": 134,
    "start_time": "2022-05-18T15:55:14.550Z"
   },
   {
    "duration": 14,
    "start_time": "2022-05-18T15:55:21.836Z"
   },
   {
    "duration": 116,
    "start_time": "2022-05-18T15:57:06.613Z"
   },
   {
    "duration": 84,
    "start_time": "2022-05-18T15:59:09.333Z"
   },
   {
    "duration": 14,
    "start_time": "2022-05-18T15:59:10.074Z"
   },
   {
    "duration": 32,
    "start_time": "2022-05-18T16:06:46.018Z"
   },
   {
    "duration": 57,
    "start_time": "2022-05-20T09:14:36.917Z"
   },
   {
    "duration": 819,
    "start_time": "2022-05-20T09:14:41.891Z"
   },
   {
    "duration": 315,
    "start_time": "2022-05-20T09:14:42.712Z"
   },
   {
    "duration": 28,
    "start_time": "2022-05-20T09:14:43.029Z"
   },
   {
    "duration": 16,
    "start_time": "2022-05-20T09:14:43.059Z"
   },
   {
    "duration": 6,
    "start_time": "2022-05-20T09:14:43.077Z"
   },
   {
    "duration": 14,
    "start_time": "2022-05-20T09:15:01.198Z"
   },
   {
    "duration": 25,
    "start_time": "2022-05-20T09:17:39.480Z"
   },
   {
    "duration": 13,
    "start_time": "2022-05-20T09:17:41.502Z"
   },
   {
    "duration": 663,
    "start_time": "2022-05-20T09:18:11.370Z"
   },
   {
    "duration": 90,
    "start_time": "2022-05-20T09:18:12.035Z"
   },
   {
    "duration": 28,
    "start_time": "2022-05-20T09:18:12.127Z"
   },
   {
    "duration": 25,
    "start_time": "2022-05-20T09:18:12.157Z"
   },
   {
    "duration": 3,
    "start_time": "2022-05-20T09:18:12.183Z"
   },
   {
    "duration": 14,
    "start_time": "2022-05-20T09:27:19.039Z"
   },
   {
    "duration": 5,
    "start_time": "2022-05-20T09:35:36.162Z"
   },
   {
    "duration": 22,
    "start_time": "2022-05-20T10:16:49.858Z"
   },
   {
    "duration": 18,
    "start_time": "2022-05-20T10:29:20.331Z"
   },
   {
    "duration": 711,
    "start_time": "2022-05-20T10:37:47.743Z"
   },
   {
    "duration": 95,
    "start_time": "2022-05-20T10:37:48.457Z"
   },
   {
    "duration": 38,
    "start_time": "2022-05-20T10:37:48.554Z"
   },
   {
    "duration": 16,
    "start_time": "2022-05-20T10:37:48.594Z"
   },
   {
    "duration": 8,
    "start_time": "2022-05-20T10:37:48.612Z"
   },
   {
    "duration": 117,
    "start_time": "2022-05-20T10:37:48.622Z"
   },
   {
    "duration": 15,
    "start_time": "2022-05-20T10:38:01.091Z"
   },
   {
    "duration": 15,
    "start_time": "2022-05-20T10:38:14.152Z"
   },
   {
    "duration": 355,
    "start_time": "2022-05-20T10:46:22.575Z"
   },
   {
    "duration": 20,
    "start_time": "2022-05-20T10:46:35.831Z"
   },
   {
    "duration": 59,
    "start_time": "2022-05-20T10:46:39.513Z"
   },
   {
    "duration": 16,
    "start_time": "2022-05-20T10:46:56.846Z"
   },
   {
    "duration": 27,
    "start_time": "2022-05-20T10:47:23.883Z"
   },
   {
    "duration": 20,
    "start_time": "2022-05-20T10:47:34.145Z"
   },
   {
    "duration": 11,
    "start_time": "2022-05-20T10:48:56.326Z"
   },
   {
    "duration": 4,
    "start_time": "2022-05-20T10:50:50.233Z"
   },
   {
    "duration": 9,
    "start_time": "2022-05-20T10:51:05.502Z"
   },
   {
    "duration": 10,
    "start_time": "2022-05-20T10:51:27.893Z"
   },
   {
    "duration": 12,
    "start_time": "2022-05-20T10:51:36.502Z"
   },
   {
    "duration": 11,
    "start_time": "2022-05-20T10:51:48.134Z"
   },
   {
    "duration": 10,
    "start_time": "2022-05-20T10:52:46.804Z"
   },
   {
    "duration": 7,
    "start_time": "2022-05-20T10:52:50.086Z"
   },
   {
    "duration": 10,
    "start_time": "2022-05-20T10:52:52.910Z"
   },
   {
    "duration": 12,
    "start_time": "2022-05-20T10:54:06.338Z"
   },
   {
    "duration": 11,
    "start_time": "2022-05-20T10:54:13.257Z"
   },
   {
    "duration": 13,
    "start_time": "2022-05-20T10:54:45.193Z"
   },
   {
    "duration": 11,
    "start_time": "2022-05-20T10:55:09.214Z"
   },
   {
    "duration": 12,
    "start_time": "2022-05-20T10:55:12.647Z"
   },
   {
    "duration": 13,
    "start_time": "2022-05-20T10:55:53.254Z"
   },
   {
    "duration": 13,
    "start_time": "2022-05-20T10:55:56.500Z"
   },
   {
    "duration": 29,
    "start_time": "2022-05-20T11:34:05.953Z"
   },
   {
    "duration": 29,
    "start_time": "2022-05-20T11:34:17.827Z"
   },
   {
    "duration": 7,
    "start_time": "2022-05-20T11:34:37.378Z"
   },
   {
    "duration": 6,
    "start_time": "2022-05-20T11:35:12.550Z"
   },
   {
    "duration": 7,
    "start_time": "2022-05-20T11:35:34.284Z"
   },
   {
    "duration": 5,
    "start_time": "2022-05-20T11:35:36.806Z"
   },
   {
    "duration": 7,
    "start_time": "2022-05-20T11:35:44.371Z"
   },
   {
    "duration": 8,
    "start_time": "2022-05-20T11:35:53.916Z"
   },
   {
    "duration": 8,
    "start_time": "2022-05-20T11:36:06.390Z"
   },
   {
    "duration": 6,
    "start_time": "2022-05-20T11:36:13.218Z"
   },
   {
    "duration": 25,
    "start_time": "2022-05-20T11:36:36.265Z"
   },
   {
    "duration": 6,
    "start_time": "2022-05-20T11:37:42.991Z"
   },
   {
    "duration": 14,
    "start_time": "2022-05-20T11:37:57.331Z"
   },
   {
    "duration": 11,
    "start_time": "2022-05-20T11:37:59.038Z"
   },
   {
    "duration": 5,
    "start_time": "2022-05-20T11:38:19.430Z"
   },
   {
    "duration": 12,
    "start_time": "2022-05-20T11:38:42.650Z"
   },
   {
    "duration": 5,
    "start_time": "2022-05-20T11:38:47.988Z"
   },
   {
    "duration": 7,
    "start_time": "2022-05-20T11:41:00.390Z"
   },
   {
    "duration": 4,
    "start_time": "2022-05-20T11:41:11.817Z"
   },
   {
    "duration": 4,
    "start_time": "2022-05-20T11:41:38.857Z"
   },
   {
    "duration": 14,
    "start_time": "2022-05-20T11:41:49.506Z"
   },
   {
    "duration": 7,
    "start_time": "2022-05-20T12:03:52.745Z"
   },
   {
    "duration": 13,
    "start_time": "2022-05-20T12:04:01.356Z"
   },
   {
    "duration": 37,
    "start_time": "2022-05-20T12:04:24.494Z"
   },
   {
    "duration": 5,
    "start_time": "2022-05-20T12:09:44.308Z"
   },
   {
    "duration": 25,
    "start_time": "2022-05-20T12:09:58.393Z"
   },
   {
    "duration": 29,
    "start_time": "2022-05-20T12:10:11.826Z"
   },
   {
    "duration": 16,
    "start_time": "2022-05-20T12:10:11.857Z"
   },
   {
    "duration": 4,
    "start_time": "2022-05-20T12:10:26.989Z"
   },
   {
    "duration": 6,
    "start_time": "2022-05-20T13:17:02.902Z"
   },
   {
    "duration": 20,
    "start_time": "2022-05-20T13:17:09.274Z"
   },
   {
    "duration": 13,
    "start_time": "2022-05-20T13:17:19.292Z"
   },
   {
    "duration": 6,
    "start_time": "2022-05-20T13:17:44.016Z"
   },
   {
    "duration": 13,
    "start_time": "2022-05-20T13:17:49.647Z"
   },
   {
    "duration": 23,
    "start_time": "2022-05-20T13:17:53.236Z"
   },
   {
    "duration": 12,
    "start_time": "2022-05-20T13:19:38.757Z"
   },
   {
    "duration": 641,
    "start_time": "2022-05-20T13:19:44.699Z"
   },
   {
    "duration": 97,
    "start_time": "2022-05-20T13:19:45.341Z"
   },
   {
    "duration": 35,
    "start_time": "2022-05-20T13:19:45.440Z"
   },
   {
    "duration": 19,
    "start_time": "2022-05-20T13:19:45.477Z"
   },
   {
    "duration": 4,
    "start_time": "2022-05-20T13:19:45.498Z"
   },
   {
    "duration": 11,
    "start_time": "2022-05-20T13:19:45.503Z"
   },
   {
    "duration": 12,
    "start_time": "2022-05-20T13:19:45.515Z"
   },
   {
    "duration": 9,
    "start_time": "2022-05-20T13:19:45.528Z"
   },
   {
    "duration": 40,
    "start_time": "2022-05-20T13:19:45.538Z"
   },
   {
    "duration": 15,
    "start_time": "2022-05-20T13:19:45.580Z"
   },
   {
    "duration": 12,
    "start_time": "2022-05-20T13:19:45.597Z"
   },
   {
    "duration": 3,
    "start_time": "2022-05-20T13:19:45.611Z"
   },
   {
    "duration": 6,
    "start_time": "2022-05-20T13:20:30.540Z"
   },
   {
    "duration": 5,
    "start_time": "2022-05-20T13:20:32.508Z"
   },
   {
    "duration": 13,
    "start_time": "2022-05-20T13:20:41.310Z"
   },
   {
    "duration": 41,
    "start_time": "2022-05-20T13:21:03.173Z"
   },
   {
    "duration": 3,
    "start_time": "2022-05-20T13:24:35.116Z"
   },
   {
    "duration": 14,
    "start_time": "2022-05-20T13:24:42.126Z"
   },
   {
    "duration": 24,
    "start_time": "2022-05-20T13:24:44.994Z"
   },
   {
    "duration": 22,
    "start_time": "2022-05-20T13:25:07.243Z"
   },
   {
    "duration": 640,
    "start_time": "2022-05-20T13:25:17.073Z"
   },
   {
    "duration": 84,
    "start_time": "2022-05-20T13:25:17.714Z"
   },
   {
    "duration": 25,
    "start_time": "2022-05-20T13:25:17.799Z"
   },
   {
    "duration": 12,
    "start_time": "2022-05-20T13:25:17.826Z"
   },
   {
    "duration": 13,
    "start_time": "2022-05-20T13:25:17.840Z"
   },
   {
    "duration": 23,
    "start_time": "2022-05-20T13:25:17.855Z"
   },
   {
    "duration": 13,
    "start_time": "2022-05-20T13:25:17.880Z"
   },
   {
    "duration": 12,
    "start_time": "2022-05-20T13:25:17.895Z"
   },
   {
    "duration": 5,
    "start_time": "2022-05-20T13:25:17.909Z"
   },
   {
    "duration": 7,
    "start_time": "2022-05-20T13:25:17.916Z"
   },
   {
    "duration": 7,
    "start_time": "2022-05-20T13:25:17.925Z"
   },
   {
    "duration": 7,
    "start_time": "2022-05-20T13:25:17.933Z"
   },
   {
    "duration": 7,
    "start_time": "2022-05-20T13:25:17.941Z"
   },
   {
    "duration": 4,
    "start_time": "2022-05-20T13:25:26.563Z"
   },
   {
    "duration": 12,
    "start_time": "2022-05-20T13:30:30.515Z"
   },
   {
    "duration": 5,
    "start_time": "2022-05-20T13:35:38.188Z"
   },
   {
    "duration": 13,
    "start_time": "2022-05-20T13:39:13.279Z"
   },
   {
    "duration": 5,
    "start_time": "2022-05-20T13:39:40.623Z"
   },
   {
    "duration": 39,
    "start_time": "2022-05-20T13:39:43.290Z"
   },
   {
    "duration": 35,
    "start_time": "2022-05-20T13:40:08.834Z"
   },
   {
    "duration": 7,
    "start_time": "2022-05-20T13:41:08.131Z"
   },
   {
    "duration": 23,
    "start_time": "2022-05-20T13:42:38.207Z"
   },
   {
    "duration": 35,
    "start_time": "2022-05-20T13:42:57.075Z"
   },
   {
    "duration": 29,
    "start_time": "2022-05-20T13:47:12.952Z"
   },
   {
    "duration": 24,
    "start_time": "2022-05-20T13:47:16.714Z"
   },
   {
    "duration": 340,
    "start_time": "2022-05-20T13:51:23.305Z"
   },
   {
    "duration": 18,
    "start_time": "2022-05-20T13:51:30.445Z"
   },
   {
    "duration": 16,
    "start_time": "2022-05-20T13:51:42.546Z"
   },
   {
    "duration": 640,
    "start_time": "2022-05-20T13:51:48.322Z"
   },
   {
    "duration": 92,
    "start_time": "2022-05-20T13:51:48.963Z"
   },
   {
    "duration": 33,
    "start_time": "2022-05-20T13:51:49.056Z"
   },
   {
    "duration": 13,
    "start_time": "2022-05-20T13:51:49.091Z"
   },
   {
    "duration": 4,
    "start_time": "2022-05-20T13:51:49.106Z"
   },
   {
    "duration": 17,
    "start_time": "2022-05-20T13:51:49.111Z"
   },
   {
    "duration": 11,
    "start_time": "2022-05-20T13:51:49.129Z"
   },
   {
    "duration": 42,
    "start_time": "2022-05-20T13:51:49.141Z"
   },
   {
    "duration": 5,
    "start_time": "2022-05-20T13:51:49.185Z"
   },
   {
    "duration": 4,
    "start_time": "2022-05-20T13:51:49.192Z"
   },
   {
    "duration": 6,
    "start_time": "2022-05-20T13:51:49.198Z"
   },
   {
    "duration": 9,
    "start_time": "2022-05-20T13:51:49.206Z"
   },
   {
    "duration": 10,
    "start_time": "2022-05-20T13:51:49.216Z"
   },
   {
    "duration": 11,
    "start_time": "2022-05-20T13:51:49.228Z"
   },
   {
    "duration": 43,
    "start_time": "2022-05-20T13:51:49.240Z"
   },
   {
    "duration": 2,
    "start_time": "2022-05-20T13:51:49.285Z"
   },
   {
    "duration": 4,
    "start_time": "2022-05-20T13:52:03.879Z"
   },
   {
    "duration": 5,
    "start_time": "2022-05-20T13:52:05.486Z"
   },
   {
    "duration": 6,
    "start_time": "2022-05-20T13:52:06.418Z"
   },
   {
    "duration": 4,
    "start_time": "2022-05-20T13:52:07.299Z"
   },
   {
    "duration": 5,
    "start_time": "2022-05-20T13:52:09.415Z"
   },
   {
    "duration": 21,
    "start_time": "2022-05-20T13:52:10.401Z"
   },
   {
    "duration": 19,
    "start_time": "2022-05-20T13:52:17.131Z"
   },
   {
    "duration": 147,
    "start_time": "2022-05-20T14:04:50.333Z"
   },
   {
    "duration": 39,
    "start_time": "2022-05-20T14:04:56.662Z"
   },
   {
    "duration": 5,
    "start_time": "2022-05-20T14:07:00.450Z"
   },
   {
    "duration": 31,
    "start_time": "2022-05-20T14:12:16.718Z"
   },
   {
    "duration": 59,
    "start_time": "2022-05-20T14:12:57.856Z"
   },
   {
    "duration": 11,
    "start_time": "2022-05-20T14:38:13.130Z"
   },
   {
    "duration": 39,
    "start_time": "2022-05-20T14:39:43.048Z"
   },
   {
    "duration": 120,
    "start_time": "2022-05-20T14:41:56.686Z"
   },
   {
    "duration": 885,
    "start_time": "2022-05-20T14:50:25.027Z"
   },
   {
    "duration": 17,
    "start_time": "2022-05-20T14:52:19.197Z"
   },
   {
    "duration": 14,
    "start_time": "2022-05-20T14:52:25.220Z"
   },
   {
    "duration": 834,
    "start_time": "2022-05-20T14:52:30.648Z"
   },
   {
    "duration": 658,
    "start_time": "2022-05-20T14:56:24.066Z"
   },
   {
    "duration": 737,
    "start_time": "2022-05-20T14:56:28.601Z"
   },
   {
    "duration": 661,
    "start_time": "2022-05-20T14:56:33.914Z"
   },
   {
    "duration": 850,
    "start_time": "2022-05-20T14:56:38.941Z"
   },
   {
    "duration": 778,
    "start_time": "2022-05-20T14:56:45.727Z"
   },
   {
    "duration": 810,
    "start_time": "2022-05-20T14:56:50.474Z"
   },
   {
    "duration": 13,
    "start_time": "2022-05-20T14:57:14.165Z"
   },
   {
    "duration": 14023,
    "start_time": "2022-05-20T14:57:39.795Z"
   },
   {
    "duration": 703,
    "start_time": "2022-05-20T14:57:55.408Z"
   },
   {
    "duration": 1911,
    "start_time": "2022-05-20T14:58:05.942Z"
   },
   {
    "duration": 132,
    "start_time": "2022-05-20T14:58:14.205Z"
   },
   {
    "duration": 135,
    "start_time": "2022-05-20T14:58:20.087Z"
   },
   {
    "duration": 146,
    "start_time": "2022-05-20T14:58:26.271Z"
   },
   {
    "duration": 766,
    "start_time": "2022-05-20T14:59:01.968Z"
   },
   {
    "duration": 677,
    "start_time": "2022-05-20T14:59:06.892Z"
   },
   {
    "duration": 136,
    "start_time": "2022-05-20T14:59:12.321Z"
   },
   {
    "duration": 136,
    "start_time": "2022-05-20T14:59:21.709Z"
   },
   {
    "duration": 249,
    "start_time": "2022-05-20T14:59:24.910Z"
   },
   {
    "duration": 247,
    "start_time": "2022-05-20T14:59:28.569Z"
   },
   {
    "duration": 129,
    "start_time": "2022-05-20T14:59:31.647Z"
   },
   {
    "duration": 184,
    "start_time": "2022-05-20T14:59:36.270Z"
   },
   {
    "duration": 132,
    "start_time": "2022-05-20T14:59:39.152Z"
   },
   {
    "duration": 121,
    "start_time": "2022-05-20T14:59:43.997Z"
   },
   {
    "duration": 127,
    "start_time": "2022-05-20T14:59:47.528Z"
   },
   {
    "duration": 127,
    "start_time": "2022-05-20T14:59:51.011Z"
   },
   {
    "duration": 126,
    "start_time": "2022-05-20T15:00:35.356Z"
   },
   {
    "duration": 185,
    "start_time": "2022-05-20T15:00:43.217Z"
   },
   {
    "duration": 137,
    "start_time": "2022-05-20T15:00:46.955Z"
   },
   {
    "duration": 171,
    "start_time": "2022-05-20T15:00:50.464Z"
   },
   {
    "duration": 387,
    "start_time": "2022-05-20T15:01:08.097Z"
   },
   {
    "duration": 134,
    "start_time": "2022-05-20T15:01:26.458Z"
   },
   {
    "duration": 117,
    "start_time": "2022-05-20T15:01:31.009Z"
   },
   {
    "duration": 124,
    "start_time": "2022-05-20T15:01:36.541Z"
   },
   {
    "duration": 131,
    "start_time": "2022-05-20T15:01:43.310Z"
   },
   {
    "duration": 110,
    "start_time": "2022-05-20T15:01:46.245Z"
   },
   {
    "duration": 110,
    "start_time": "2022-05-20T15:01:48.638Z"
   },
   {
    "duration": 139,
    "start_time": "2022-05-20T15:01:51.440Z"
   },
   {
    "duration": 204,
    "start_time": "2022-05-20T15:02:05.457Z"
   },
   {
    "duration": 7,
    "start_time": "2022-05-20T15:04:35.953Z"
   },
   {
    "duration": 7,
    "start_time": "2022-05-20T15:13:05.927Z"
   },
   {
    "duration": 23,
    "start_time": "2022-05-20T15:13:11.275Z"
   },
   {
    "duration": 40,
    "start_time": "2022-05-20T15:15:10.149Z"
   },
   {
    "duration": 10,
    "start_time": "2022-05-20T15:15:58.982Z"
   },
   {
    "duration": 4,
    "start_time": "2022-05-20T15:16:04.945Z"
   },
   {
    "duration": 347,
    "start_time": "2022-05-20T15:16:08.605Z"
   },
   {
    "duration": 8,
    "start_time": "2022-05-20T15:16:19.839Z"
   },
   {
    "duration": 363,
    "start_time": "2022-05-20T15:16:29.987Z"
   },
   {
    "duration": 363,
    "start_time": "2022-05-20T15:16:33.826Z"
   },
   {
    "duration": 645,
    "start_time": "2022-05-20T15:16:55.285Z"
   },
   {
    "duration": 92,
    "start_time": "2022-05-20T15:16:55.931Z"
   },
   {
    "duration": 26,
    "start_time": "2022-05-20T15:16:56.025Z"
   },
   {
    "duration": 22,
    "start_time": "2022-05-20T15:16:56.053Z"
   },
   {
    "duration": 5,
    "start_time": "2022-05-20T15:16:56.077Z"
   },
   {
    "duration": 12,
    "start_time": "2022-05-20T15:16:56.084Z"
   },
   {
    "duration": 13,
    "start_time": "2022-05-20T15:16:56.097Z"
   },
   {
    "duration": 9,
    "start_time": "2022-05-20T15:16:56.112Z"
   },
   {
    "duration": 4,
    "start_time": "2022-05-20T15:16:56.123Z"
   },
   {
    "duration": 3,
    "start_time": "2022-05-20T15:16:56.130Z"
   },
   {
    "duration": 7,
    "start_time": "2022-05-20T15:16:56.175Z"
   },
   {
    "duration": 5,
    "start_time": "2022-05-20T15:16:56.184Z"
   },
   {
    "duration": 6,
    "start_time": "2022-05-20T15:16:56.190Z"
   },
   {
    "duration": 15,
    "start_time": "2022-05-20T15:16:56.197Z"
   },
   {
    "duration": 29,
    "start_time": "2022-05-20T15:16:56.214Z"
   },
   {
    "duration": 2,
    "start_time": "2022-05-20T15:16:56.245Z"
   },
   {
    "duration": 104,
    "start_time": "2022-05-20T15:16:56.249Z"
   },
   {
    "duration": 0,
    "start_time": "2022-05-20T15:16:56.354Z"
   },
   {
    "duration": 0,
    "start_time": "2022-05-20T15:16:56.356Z"
   },
   {
    "duration": 1,
    "start_time": "2022-05-20T15:16:56.357Z"
   },
   {
    "duration": 1,
    "start_time": "2022-05-20T15:16:56.358Z"
   },
   {
    "duration": 0,
    "start_time": "2022-05-20T15:16:56.360Z"
   },
   {
    "duration": 0,
    "start_time": "2022-05-20T15:16:56.361Z"
   },
   {
    "duration": 0,
    "start_time": "2022-05-20T15:16:56.375Z"
   },
   {
    "duration": 0,
    "start_time": "2022-05-20T15:16:56.376Z"
   },
   {
    "duration": 0,
    "start_time": "2022-05-20T15:16:56.377Z"
   },
   {
    "duration": 13,
    "start_time": "2022-05-20T15:17:01.007Z"
   },
   {
    "duration": 629,
    "start_time": "2022-05-20T15:17:08.904Z"
   },
   {
    "duration": 93,
    "start_time": "2022-05-20T15:17:09.534Z"
   },
   {
    "duration": 31,
    "start_time": "2022-05-20T15:17:09.629Z"
   },
   {
    "duration": 21,
    "start_time": "2022-05-20T15:17:09.662Z"
   },
   {
    "duration": 4,
    "start_time": "2022-05-20T15:17:09.684Z"
   },
   {
    "duration": 12,
    "start_time": "2022-05-20T15:17:09.689Z"
   },
   {
    "duration": 12,
    "start_time": "2022-05-20T15:17:09.703Z"
   },
   {
    "duration": 9,
    "start_time": "2022-05-20T15:17:09.717Z"
   },
   {
    "duration": 5,
    "start_time": "2022-05-20T15:17:09.727Z"
   },
   {
    "duration": 41,
    "start_time": "2022-05-20T15:17:09.734Z"
   },
   {
    "duration": 4,
    "start_time": "2022-05-20T15:17:09.777Z"
   },
   {
    "duration": 9,
    "start_time": "2022-05-20T15:17:09.783Z"
   },
   {
    "duration": 7,
    "start_time": "2022-05-20T15:17:09.793Z"
   },
   {
    "duration": 14,
    "start_time": "2022-05-20T15:17:09.801Z"
   },
   {
    "duration": 24,
    "start_time": "2022-05-20T15:17:09.816Z"
   },
   {
    "duration": 3,
    "start_time": "2022-05-20T15:17:09.841Z"
   },
   {
    "duration": 104,
    "start_time": "2022-05-20T15:17:09.845Z"
   },
   {
    "duration": 0,
    "start_time": "2022-05-20T15:17:09.951Z"
   },
   {
    "duration": 0,
    "start_time": "2022-05-20T15:17:09.952Z"
   },
   {
    "duration": 0,
    "start_time": "2022-05-20T15:17:09.954Z"
   },
   {
    "duration": 0,
    "start_time": "2022-05-20T15:17:09.955Z"
   },
   {
    "duration": 0,
    "start_time": "2022-05-20T15:17:09.956Z"
   },
   {
    "duration": 0,
    "start_time": "2022-05-20T15:17:09.957Z"
   },
   {
    "duration": 0,
    "start_time": "2022-05-20T15:17:09.958Z"
   },
   {
    "duration": 0,
    "start_time": "2022-05-20T15:17:09.959Z"
   },
   {
    "duration": 0,
    "start_time": "2022-05-20T15:17:09.975Z"
   },
   {
    "duration": 14,
    "start_time": "2022-05-20T15:17:12.776Z"
   },
   {
    "duration": 5,
    "start_time": "2022-05-20T15:17:19.685Z"
   },
   {
    "duration": 11,
    "start_time": "2022-05-20T15:17:20.564Z"
   },
   {
    "duration": 8,
    "start_time": "2022-05-20T15:17:21.564Z"
   },
   {
    "duration": 5,
    "start_time": "2022-05-20T15:17:22.511Z"
   },
   {
    "duration": 693,
    "start_time": "2022-05-20T15:17:29.731Z"
   },
   {
    "duration": 144,
    "start_time": "2022-05-20T15:17:30.426Z"
   },
   {
    "duration": 133,
    "start_time": "2022-05-20T15:17:31.127Z"
   },
   {
    "duration": 303,
    "start_time": "2022-05-20T15:17:31.729Z"
   },
   {
    "duration": 372,
    "start_time": "2022-05-20T15:17:33.797Z"
   },
   {
    "duration": 11,
    "start_time": "2022-05-20T15:20:26.273Z"
   },
   {
    "duration": 17,
    "start_time": "2022-05-20T15:24:02.939Z"
   },
   {
    "duration": 7,
    "start_time": "2022-05-20T15:24:14.738Z"
   },
   {
    "duration": 13,
    "start_time": "2022-05-20T15:24:22.779Z"
   },
   {
    "duration": 10,
    "start_time": "2022-05-20T15:24:31.531Z"
   },
   {
    "duration": 21,
    "start_time": "2022-05-20T15:24:42.149Z"
   },
   {
    "duration": 8,
    "start_time": "2022-05-20T15:25:02.452Z"
   },
   {
    "duration": 13,
    "start_time": "2022-05-20T15:25:10.311Z"
   },
   {
    "duration": 21,
    "start_time": "2022-05-20T15:26:44.848Z"
   },
   {
    "duration": 7,
    "start_time": "2022-05-20T15:29:45.603Z"
   },
   {
    "duration": 3,
    "start_time": "2022-05-20T15:29:55.942Z"
   },
   {
    "duration": 18,
    "start_time": "2022-05-20T15:29:57.747Z"
   },
   {
    "duration": 18,
    "start_time": "2022-05-20T15:30:02.271Z"
   },
   {
    "duration": 13,
    "start_time": "2022-05-20T15:30:13.751Z"
   },
   {
    "duration": 698,
    "start_time": "2022-05-20T15:30:28.494Z"
   },
   {
    "duration": 101,
    "start_time": "2022-05-20T15:30:29.194Z"
   },
   {
    "duration": 31,
    "start_time": "2022-05-20T15:30:29.297Z"
   },
   {
    "duration": 16,
    "start_time": "2022-05-20T15:30:29.331Z"
   },
   {
    "duration": 26,
    "start_time": "2022-05-20T15:30:29.349Z"
   },
   {
    "duration": 14,
    "start_time": "2022-05-20T15:30:29.376Z"
   },
   {
    "duration": 13,
    "start_time": "2022-05-20T15:30:29.392Z"
   },
   {
    "duration": 10,
    "start_time": "2022-05-20T15:30:29.407Z"
   },
   {
    "duration": 6,
    "start_time": "2022-05-20T15:30:29.419Z"
   },
   {
    "duration": 3,
    "start_time": "2022-05-20T15:30:29.428Z"
   },
   {
    "duration": 46,
    "start_time": "2022-05-20T15:30:29.432Z"
   },
   {
    "duration": 6,
    "start_time": "2022-05-20T15:30:29.479Z"
   },
   {
    "duration": 4,
    "start_time": "2022-05-20T15:30:29.486Z"
   },
   {
    "duration": 14,
    "start_time": "2022-05-20T15:30:29.491Z"
   },
   {
    "duration": 27,
    "start_time": "2022-05-20T15:30:29.507Z"
   },
   {
    "duration": 7,
    "start_time": "2022-05-20T15:30:29.536Z"
   },
   {
    "duration": 25,
    "start_time": "2022-05-20T15:30:29.575Z"
   },
   {
    "duration": 11,
    "start_time": "2022-05-20T15:30:29.601Z"
   },
   {
    "duration": 4,
    "start_time": "2022-05-20T15:30:29.614Z"
   },
   {
    "duration": 15,
    "start_time": "2022-05-20T15:30:29.619Z"
   },
   {
    "duration": 7,
    "start_time": "2022-05-20T15:30:29.635Z"
   },
   {
    "duration": 5,
    "start_time": "2022-05-20T15:30:29.643Z"
   },
   {
    "duration": 768,
    "start_time": "2022-05-20T15:30:29.675Z"
   },
   {
    "duration": 178,
    "start_time": "2022-05-20T15:30:30.445Z"
   },
   {
    "duration": 140,
    "start_time": "2022-05-20T15:30:30.624Z"
   },
   {
    "duration": 316,
    "start_time": "2022-05-20T15:30:30.766Z"
   },
   {
    "duration": 383,
    "start_time": "2022-05-20T15:30:31.084Z"
   },
   {
    "duration": 20,
    "start_time": "2022-05-20T15:31:50.769Z"
   },
   {
    "duration": 36,
    "start_time": "2022-05-20T15:32:04.734Z"
   },
   {
    "duration": 342,
    "start_time": "2022-05-20T15:34:57.114Z"
   },
   {
    "duration": 7,
    "start_time": "2022-05-20T15:36:25.706Z"
   },
   {
    "duration": 38,
    "start_time": "2022-05-20T15:36:29.997Z"
   },
   {
    "duration": 364,
    "start_time": "2022-05-20T15:36:43.783Z"
   },
   {
    "duration": 6,
    "start_time": "2022-05-20T15:36:55.746Z"
   },
   {
    "duration": 7,
    "start_time": "2022-05-20T15:37:21.540Z"
   },
   {
    "duration": 363,
    "start_time": "2022-05-20T15:37:25.917Z"
   },
   {
    "duration": 41,
    "start_time": "2022-05-20T15:37:29.915Z"
   },
   {
    "duration": 9,
    "start_time": "2022-05-20T15:43:05.547Z"
   },
   {
    "duration": 37,
    "start_time": "2022-05-20T15:43:09.167Z"
   },
   {
    "duration": 88,
    "start_time": "2022-05-20T15:46:19.180Z"
   },
   {
    "duration": 22,
    "start_time": "2022-05-20T15:46:27.831Z"
   },
   {
    "duration": 13,
    "start_time": "2022-05-20T15:46:33.104Z"
   },
   {
    "duration": 653,
    "start_time": "2022-05-20T15:47:54.861Z"
   },
   {
    "duration": 7,
    "start_time": "2022-05-20T15:51:28.841Z"
   },
   {
    "duration": 8,
    "start_time": "2022-05-20T15:51:42.551Z"
   },
   {
    "duration": 36,
    "start_time": "2022-05-20T15:51:45.431Z"
   },
   {
    "duration": 10,
    "start_time": "2022-05-20T15:51:58.186Z"
   },
   {
    "duration": 38,
    "start_time": "2022-05-20T15:52:01.703Z"
   },
   {
    "duration": 562,
    "start_time": "2022-05-20T15:52:09.238Z"
   },
   {
    "duration": 696,
    "start_time": "2022-05-20T15:52:56.088Z"
   },
   {
    "duration": 742,
    "start_time": "2022-05-20T15:58:15.783Z"
   },
   {
    "duration": 603,
    "start_time": "2022-05-20T16:03:33.064Z"
   },
   {
    "duration": 7,
    "start_time": "2022-05-20T16:03:39.313Z"
   },
   {
    "duration": 388,
    "start_time": "2022-05-20T16:03:41.749Z"
   },
   {
    "duration": 514,
    "start_time": "2022-05-20T16:03:47.507Z"
   },
   {
    "duration": 7,
    "start_time": "2022-05-20T16:03:54.074Z"
   },
   {
    "duration": 44,
    "start_time": "2022-05-20T16:04:51.793Z"
   },
   {
    "duration": 8,
    "start_time": "2022-05-20T16:05:12.734Z"
   },
   {
    "duration": 394,
    "start_time": "2022-05-20T16:05:16.728Z"
   },
   {
    "duration": 7,
    "start_time": "2022-05-20T16:06:55.132Z"
   },
   {
    "duration": 378,
    "start_time": "2022-05-20T16:06:59.501Z"
   },
   {
    "duration": 673,
    "start_time": "2022-05-20T16:07:05.758Z"
   },
   {
    "duration": 91,
    "start_time": "2022-05-20T16:07:06.433Z"
   },
   {
    "duration": 26,
    "start_time": "2022-05-20T16:07:06.526Z"
   },
   {
    "duration": 25,
    "start_time": "2022-05-20T16:07:06.554Z"
   },
   {
    "duration": 4,
    "start_time": "2022-05-20T16:07:06.581Z"
   },
   {
    "duration": 15,
    "start_time": "2022-05-20T16:07:06.586Z"
   },
   {
    "duration": 12,
    "start_time": "2022-05-20T16:07:06.602Z"
   },
   {
    "duration": 10,
    "start_time": "2022-05-20T16:07:06.615Z"
   },
   {
    "duration": 5,
    "start_time": "2022-05-20T16:07:06.626Z"
   },
   {
    "duration": 4,
    "start_time": "2022-05-20T16:07:06.633Z"
   },
   {
    "duration": 46,
    "start_time": "2022-05-20T16:07:06.638Z"
   },
   {
    "duration": 7,
    "start_time": "2022-05-20T16:07:06.686Z"
   },
   {
    "duration": 5,
    "start_time": "2022-05-20T16:07:06.695Z"
   },
   {
    "duration": 14,
    "start_time": "2022-05-20T16:07:06.702Z"
   },
   {
    "duration": 32,
    "start_time": "2022-05-20T16:07:06.718Z"
   },
   {
    "duration": 24,
    "start_time": "2022-05-20T16:07:06.752Z"
   },
   {
    "duration": 24,
    "start_time": "2022-05-20T16:07:06.777Z"
   },
   {
    "duration": 11,
    "start_time": "2022-05-20T16:07:06.803Z"
   },
   {
    "duration": 34,
    "start_time": "2022-05-20T16:07:06.815Z"
   },
   {
    "duration": 3,
    "start_time": "2022-05-20T16:07:06.850Z"
   },
   {
    "duration": 10,
    "start_time": "2022-05-20T16:07:06.875Z"
   },
   {
    "duration": 6,
    "start_time": "2022-05-20T16:07:06.886Z"
   },
   {
    "duration": 6,
    "start_time": "2022-05-20T16:07:06.893Z"
   },
   {
    "duration": 682,
    "start_time": "2022-05-20T16:07:06.900Z"
   },
   {
    "duration": 170,
    "start_time": "2022-05-20T16:07:07.584Z"
   },
   {
    "duration": 153,
    "start_time": "2022-05-20T16:07:07.756Z"
   },
   {
    "duration": 270,
    "start_time": "2022-05-20T16:07:07.910Z"
   },
   {
    "duration": 399,
    "start_time": "2022-05-20T16:07:08.183Z"
   },
   {
    "duration": 837,
    "start_time": "2022-05-21T12:47:27.718Z"
   },
   {
    "duration": 315,
    "start_time": "2022-05-21T12:47:28.558Z"
   },
   {
    "duration": 28,
    "start_time": "2022-05-21T12:47:28.875Z"
   },
   {
    "duration": 15,
    "start_time": "2022-05-21T12:47:28.904Z"
   },
   {
    "duration": 5,
    "start_time": "2022-05-21T12:47:28.921Z"
   },
   {
    "duration": 12,
    "start_time": "2022-05-21T12:47:28.928Z"
   },
   {
    "duration": 12,
    "start_time": "2022-05-21T12:47:28.942Z"
   },
   {
    "duration": 10,
    "start_time": "2022-05-21T12:47:28.956Z"
   },
   {
    "duration": 46,
    "start_time": "2022-05-21T12:47:28.968Z"
   },
   {
    "duration": 5,
    "start_time": "2022-05-21T12:47:29.015Z"
   },
   {
    "duration": 10,
    "start_time": "2022-05-21T12:47:29.022Z"
   },
   {
    "duration": 7,
    "start_time": "2022-05-21T12:47:29.033Z"
   },
   {
    "duration": 8,
    "start_time": "2022-05-21T12:47:29.042Z"
   },
   {
    "duration": 14,
    "start_time": "2022-05-21T12:47:29.052Z"
   },
   {
    "duration": 49,
    "start_time": "2022-05-21T12:47:29.068Z"
   },
   {
    "duration": 5,
    "start_time": "2022-05-21T12:47:29.119Z"
   },
   {
    "duration": 24,
    "start_time": "2022-05-21T12:47:29.126Z"
   },
   {
    "duration": 12,
    "start_time": "2022-05-21T12:47:29.152Z"
   },
   {
    "duration": 64,
    "start_time": "2022-05-21T12:47:29.166Z"
   },
   {
    "duration": 4,
    "start_time": "2022-05-21T12:47:29.232Z"
   },
   {
    "duration": 12,
    "start_time": "2022-05-21T12:47:29.237Z"
   },
   {
    "duration": 8,
    "start_time": "2022-05-21T12:47:29.251Z"
   },
   {
    "duration": 6,
    "start_time": "2022-05-21T12:47:29.260Z"
   },
   {
    "duration": 705,
    "start_time": "2022-05-21T12:47:29.268Z"
   },
   {
    "duration": 167,
    "start_time": "2022-05-21T12:47:29.974Z"
   },
   {
    "duration": 151,
    "start_time": "2022-05-21T12:47:30.142Z"
   },
   {
    "duration": 281,
    "start_time": "2022-05-21T12:47:30.295Z"
   },
   {
    "duration": 412,
    "start_time": "2022-05-21T12:47:30.577Z"
   },
   {
    "duration": 676,
    "start_time": "2022-05-21T12:58:45.082Z"
   },
   {
    "duration": 728,
    "start_time": "2022-05-21T12:59:08.835Z"
   },
   {
    "duration": 688,
    "start_time": "2022-05-21T12:59:16.146Z"
   },
   {
    "duration": 894,
    "start_time": "2022-05-21T12:59:24.132Z"
   },
   {
    "duration": 730,
    "start_time": "2022-05-21T13:00:15.806Z"
   },
   {
    "duration": 362,
    "start_time": "2022-05-21T13:00:20.929Z"
   },
   {
    "duration": 746,
    "start_time": "2022-05-21T13:00:24.441Z"
   },
   {
    "duration": 905,
    "start_time": "2022-05-21T13:07:50.728Z"
   },
   {
    "duration": 754,
    "start_time": "2022-05-21T13:07:55.308Z"
   },
   {
    "duration": 886,
    "start_time": "2022-05-21T13:08:09.915Z"
   },
   {
    "duration": 202,
    "start_time": "2022-05-21T13:11:21.483Z"
   },
   {
    "duration": 78,
    "start_time": "2022-05-21T13:15:02.060Z"
   },
   {
    "duration": 661,
    "start_time": "2022-05-21T13:15:28.933Z"
   },
   {
    "duration": 861,
    "start_time": "2022-05-22T18:29:21.660Z"
   },
   {
    "duration": 289,
    "start_time": "2022-05-22T18:29:22.523Z"
   },
   {
    "duration": 30,
    "start_time": "2022-05-22T18:29:22.813Z"
   },
   {
    "duration": 23,
    "start_time": "2022-05-22T18:29:22.845Z"
   },
   {
    "duration": 17,
    "start_time": "2022-05-22T18:29:22.870Z"
   },
   {
    "duration": 34,
    "start_time": "2022-05-22T18:29:22.888Z"
   },
   {
    "duration": 72,
    "start_time": "2022-05-22T18:29:22.924Z"
   },
   {
    "duration": 49,
    "start_time": "2022-05-22T18:29:22.997Z"
   },
   {
    "duration": 23,
    "start_time": "2022-05-22T18:29:23.047Z"
   },
   {
    "duration": 38,
    "start_time": "2022-05-22T18:29:23.072Z"
   },
   {
    "duration": 25,
    "start_time": "2022-05-22T18:29:23.112Z"
   },
   {
    "duration": 70,
    "start_time": "2022-05-22T18:29:23.138Z"
   },
   {
    "duration": 56,
    "start_time": "2022-05-22T18:29:23.210Z"
   },
   {
    "duration": 34,
    "start_time": "2022-05-22T18:29:23.269Z"
   },
   {
    "duration": 44,
    "start_time": "2022-05-22T18:29:23.305Z"
   },
   {
    "duration": 58,
    "start_time": "2022-05-22T18:29:23.351Z"
   },
   {
    "duration": 43,
    "start_time": "2022-05-22T18:29:23.411Z"
   },
   {
    "duration": 12,
    "start_time": "2022-05-22T18:29:23.456Z"
   },
   {
    "duration": 37,
    "start_time": "2022-05-22T18:29:23.469Z"
   },
   {
    "duration": 5,
    "start_time": "2022-05-22T18:29:23.508Z"
   },
   {
    "duration": 14,
    "start_time": "2022-05-22T18:29:23.515Z"
   },
   {
    "duration": 17,
    "start_time": "2022-05-22T18:29:23.530Z"
   },
   {
    "duration": 4,
    "start_time": "2022-05-22T18:29:23.549Z"
   },
   {
    "duration": 684,
    "start_time": "2022-05-22T18:29:23.555Z"
   },
   {
    "duration": 785,
    "start_time": "2022-05-22T18:29:24.241Z"
   },
   {
    "duration": 162,
    "start_time": "2022-05-22T18:29:25.028Z"
   },
   {
    "duration": 200,
    "start_time": "2022-05-22T18:29:25.192Z"
   },
   {
    "duration": 169,
    "start_time": "2022-05-22T18:29:25.394Z"
   },
   {
    "duration": 649,
    "start_time": "2022-05-22T18:29:25.565Z"
   },
   {
    "duration": 112,
    "start_time": "2022-05-22T18:31:05.673Z"
   },
   {
    "duration": 37,
    "start_time": "2022-05-22T18:31:08.179Z"
   },
   {
    "duration": 46,
    "start_time": "2022-05-22T18:31:12.011Z"
   },
   {
    "duration": 727,
    "start_time": "2022-05-22T18:31:21.205Z"
   },
   {
    "duration": 81,
    "start_time": "2022-05-22T18:38:24.226Z"
   },
   {
    "duration": 12,
    "start_time": "2022-05-22T18:38:45.983Z"
   },
   {
    "duration": 17,
    "start_time": "2022-05-22T18:45:57.727Z"
   },
   {
    "duration": 35,
    "start_time": "2022-05-22T18:46:16.439Z"
   },
   {
    "duration": 12,
    "start_time": "2022-05-22T18:46:20.500Z"
   },
   {
    "duration": 15,
    "start_time": "2022-05-22T18:46:27.564Z"
   },
   {
    "duration": 18,
    "start_time": "2022-05-22T18:47:57.913Z"
   },
   {
    "duration": 11,
    "start_time": "2022-05-22T18:48:20.296Z"
   },
   {
    "duration": 13,
    "start_time": "2022-05-22T18:53:49.161Z"
   },
   {
    "duration": 14,
    "start_time": "2022-05-22T18:54:01.374Z"
   },
   {
    "duration": 58,
    "start_time": "2022-05-24T13:33:11.195Z"
   },
   {
    "duration": 999,
    "start_time": "2022-05-24T13:33:16.300Z"
   },
   {
    "duration": 168,
    "start_time": "2022-05-24T13:33:17.302Z"
   },
   {
    "duration": 42,
    "start_time": "2022-05-24T13:33:17.471Z"
   },
   {
    "duration": 17,
    "start_time": "2022-05-24T13:33:17.516Z"
   },
   {
    "duration": 6,
    "start_time": "2022-05-24T13:33:17.535Z"
   },
   {
    "duration": 15,
    "start_time": "2022-05-24T13:33:17.543Z"
   },
   {
    "duration": 53,
    "start_time": "2022-05-24T13:33:17.560Z"
   },
   {
    "duration": 14,
    "start_time": "2022-05-24T13:33:17.615Z"
   },
   {
    "duration": 12,
    "start_time": "2022-05-24T13:33:17.631Z"
   },
   {
    "duration": 5,
    "start_time": "2022-05-24T13:33:17.646Z"
   },
   {
    "duration": 37,
    "start_time": "2022-05-24T13:33:17.652Z"
   },
   {
    "duration": 7,
    "start_time": "2022-05-24T13:33:17.694Z"
   },
   {
    "duration": 7,
    "start_time": "2022-05-24T13:33:17.703Z"
   },
   {
    "duration": 20,
    "start_time": "2022-05-24T13:33:17.711Z"
   },
   {
    "duration": 14,
    "start_time": "2022-05-24T13:33:17.732Z"
   },
   {
    "duration": 9,
    "start_time": "2022-05-24T13:33:17.748Z"
   },
   {
    "duration": 24,
    "start_time": "2022-05-24T13:33:17.759Z"
   },
   {
    "duration": 25,
    "start_time": "2022-05-24T13:33:17.785Z"
   },
   {
    "duration": 34,
    "start_time": "2022-05-24T13:33:17.812Z"
   },
   {
    "duration": 4,
    "start_time": "2022-05-24T13:33:17.847Z"
   },
   {
    "duration": 56,
    "start_time": "2022-05-24T13:33:17.853Z"
   },
   {
    "duration": 13,
    "start_time": "2022-05-24T13:33:17.913Z"
   },
   {
    "duration": 7,
    "start_time": "2022-05-24T13:33:17.929Z"
   },
   {
    "duration": 883,
    "start_time": "2022-05-24T13:33:17.938Z"
   },
   {
    "duration": 948,
    "start_time": "2022-05-24T13:33:18.822Z"
   },
   {
    "duration": 179,
    "start_time": "2022-05-24T13:33:19.772Z"
   },
   {
    "duration": 237,
    "start_time": "2022-05-24T13:33:19.953Z"
   },
   {
    "duration": 182,
    "start_time": "2022-05-24T13:33:20.193Z"
   },
   {
    "duration": 23,
    "start_time": "2022-05-24T13:33:20.377Z"
   },
   {
    "duration": 31,
    "start_time": "2022-05-24T13:33:20.402Z"
   },
   {
    "duration": 772,
    "start_time": "2022-05-24T13:33:20.434Z"
   },
   {
    "duration": 100,
    "start_time": "2022-05-24T13:34:10.163Z"
   },
   {
    "duration": 17,
    "start_time": "2022-05-24T13:34:21.502Z"
   },
   {
    "duration": 6,
    "start_time": "2022-05-24T13:34:27.664Z"
   },
   {
    "duration": 9,
    "start_time": "2022-05-24T13:34:55.840Z"
   },
   {
    "duration": 10,
    "start_time": "2022-05-24T13:35:53.002Z"
   },
   {
    "duration": 7,
    "start_time": "2022-05-24T13:36:02.436Z"
   },
   {
    "duration": 13,
    "start_time": "2022-05-24T13:36:13.382Z"
   },
   {
    "duration": 8,
    "start_time": "2022-05-24T13:36:26.051Z"
   },
   {
    "duration": 9,
    "start_time": "2022-05-24T13:45:08.018Z"
   },
   {
    "duration": 838,
    "start_time": "2022-05-24T13:45:17.299Z"
   },
   {
    "duration": 660,
    "start_time": "2022-05-24T13:45:20.921Z"
   },
   {
    "duration": 857,
    "start_time": "2022-05-24T13:48:04.574Z"
   },
   {
    "duration": 255,
    "start_time": "2022-05-24T13:48:27.965Z"
   },
   {
    "duration": 707,
    "start_time": "2022-05-24T13:48:33.001Z"
   },
   {
    "duration": 14,
    "start_time": "2022-05-24T13:50:47.523Z"
   },
   {
    "duration": 16,
    "start_time": "2022-05-24T13:50:58.946Z"
   },
   {
    "duration": 438,
    "start_time": "2022-05-24T13:54:07.859Z"
   },
   {
    "duration": 190,
    "start_time": "2022-05-24T13:54:23.251Z"
   },
   {
    "duration": 838,
    "start_time": "2022-05-24T13:55:00.239Z"
   },
   {
    "duration": 929,
    "start_time": "2022-05-24T14:00:53.322Z"
   },
   {
    "duration": 778,
    "start_time": "2022-05-24T14:01:11.953Z"
   },
   {
    "duration": 1000,
    "start_time": "2022-05-24T14:01:17.824Z"
   },
   {
    "duration": 766,
    "start_time": "2022-05-24T14:01:25.905Z"
   },
   {
    "duration": 948,
    "start_time": "2022-05-24T14:01:33.615Z"
   },
   {
    "duration": 801,
    "start_time": "2022-05-24T14:02:34.725Z"
   },
   {
    "duration": 907,
    "start_time": "2022-05-24T14:02:40.318Z"
   },
   {
    "duration": 960,
    "start_time": "2022-05-24T14:02:51.646Z"
   },
   {
    "duration": 721,
    "start_time": "2022-05-24T14:03:31.644Z"
   },
   {
    "duration": 889,
    "start_time": "2022-05-24T14:03:36.316Z"
   },
   {
    "duration": 4,
    "start_time": "2022-05-24T14:10:19.436Z"
   },
   {
    "duration": 4,
    "start_time": "2022-05-24T14:11:23.571Z"
   },
   {
    "duration": 58,
    "start_time": "2022-05-24T14:21:56.614Z"
   },
   {
    "duration": 758,
    "start_time": "2022-05-24T14:22:06.585Z"
   },
   {
    "duration": 150,
    "start_time": "2022-05-24T14:22:07.345Z"
   },
   {
    "duration": 35,
    "start_time": "2022-05-24T14:22:07.497Z"
   },
   {
    "duration": 16,
    "start_time": "2022-05-24T14:22:07.534Z"
   },
   {
    "duration": 6,
    "start_time": "2022-05-24T14:22:07.551Z"
   },
   {
    "duration": 25,
    "start_time": "2022-05-24T14:22:07.559Z"
   },
   {
    "duration": 13,
    "start_time": "2022-05-24T14:22:07.586Z"
   },
   {
    "duration": 10,
    "start_time": "2022-05-24T14:22:07.601Z"
   },
   {
    "duration": 6,
    "start_time": "2022-05-24T14:22:07.613Z"
   },
   {
    "duration": 4,
    "start_time": "2022-05-24T14:22:07.621Z"
   },
   {
    "duration": 9,
    "start_time": "2022-05-24T14:22:07.626Z"
   },
   {
    "duration": 6,
    "start_time": "2022-05-24T14:22:07.636Z"
   },
   {
    "duration": 42,
    "start_time": "2022-05-24T14:22:07.643Z"
   },
   {
    "duration": 15,
    "start_time": "2022-05-24T14:22:07.687Z"
   },
   {
    "duration": 11,
    "start_time": "2022-05-24T14:22:07.704Z"
   },
   {
    "duration": 6,
    "start_time": "2022-05-24T14:22:07.717Z"
   },
   {
    "duration": 15,
    "start_time": "2022-05-24T14:22:07.724Z"
   },
   {
    "duration": 19,
    "start_time": "2022-05-24T14:22:07.741Z"
   },
   {
    "duration": 56,
    "start_time": "2022-05-24T14:22:07.762Z"
   },
   {
    "duration": 4,
    "start_time": "2022-05-24T14:22:07.819Z"
   },
   {
    "duration": 14,
    "start_time": "2022-05-24T14:22:07.825Z"
   },
   {
    "duration": 7,
    "start_time": "2022-05-24T14:22:07.841Z"
   },
   {
    "duration": 43,
    "start_time": "2022-05-24T14:22:07.850Z"
   },
   {
    "duration": 829,
    "start_time": "2022-05-24T14:22:07.896Z"
   },
   {
    "duration": 1396,
    "start_time": "2022-05-24T14:22:08.727Z"
   },
   {
    "duration": 375,
    "start_time": "2022-05-24T14:22:10.125Z"
   },
   {
    "duration": 411,
    "start_time": "2022-05-24T14:22:10.502Z"
   },
   {
    "duration": 251,
    "start_time": "2022-05-24T14:22:10.917Z"
   },
   {
    "duration": 15,
    "start_time": "2022-05-24T14:22:11.169Z"
   },
   {
    "duration": 13,
    "start_time": "2022-05-24T14:22:11.186Z"
   },
   {
    "duration": 32,
    "start_time": "2022-05-24T14:22:11.201Z"
   },
   {
    "duration": 0,
    "start_time": "2022-05-24T14:22:11.235Z"
   },
   {
    "duration": 0,
    "start_time": "2022-05-24T14:22:11.236Z"
   },
   {
    "duration": 0,
    "start_time": "2022-05-24T14:22:11.237Z"
   },
   {
    "duration": 0,
    "start_time": "2022-05-24T14:22:11.238Z"
   },
   {
    "duration": 871,
    "start_time": "2022-05-24T14:23:04.457Z"
   },
   {
    "duration": 1053,
    "start_time": "2022-05-24T14:23:28.843Z"
   },
   {
    "duration": 1009,
    "start_time": "2022-05-24T14:23:46.787Z"
   },
   {
    "duration": 617,
    "start_time": "2022-05-24T14:24:02.248Z"
   },
   {
    "duration": 320,
    "start_time": "2022-05-24T14:25:53.426Z"
   },
   {
    "duration": 346,
    "start_time": "2022-05-24T14:26:16.968Z"
   },
   {
    "duration": 337,
    "start_time": "2022-05-24T14:26:26.268Z"
   },
   {
    "duration": 45,
    "start_time": "2022-05-24T14:37:25.558Z"
   },
   {
    "duration": 323,
    "start_time": "2022-05-24T14:37:40.981Z"
   },
   {
    "duration": 41,
    "start_time": "2022-05-24T14:39:13.791Z"
   },
   {
    "duration": 53,
    "start_time": "2022-05-24T14:39:25.548Z"
   },
   {
    "duration": 721,
    "start_time": "2022-05-24T14:39:39.277Z"
   },
   {
    "duration": 102,
    "start_time": "2022-05-24T14:39:40.001Z"
   },
   {
    "duration": 31,
    "start_time": "2022-05-24T14:39:40.104Z"
   },
   {
    "duration": 19,
    "start_time": "2022-05-24T14:39:40.138Z"
   },
   {
    "duration": 5,
    "start_time": "2022-05-24T14:39:40.159Z"
   },
   {
    "duration": 14,
    "start_time": "2022-05-24T14:39:40.183Z"
   },
   {
    "duration": 15,
    "start_time": "2022-05-24T14:39:40.199Z"
   },
   {
    "duration": 13,
    "start_time": "2022-05-24T14:39:40.215Z"
   },
   {
    "duration": 10,
    "start_time": "2022-05-24T14:39:40.230Z"
   },
   {
    "duration": 40,
    "start_time": "2022-05-24T14:39:40.244Z"
   },
   {
    "duration": 7,
    "start_time": "2022-05-24T14:39:40.286Z"
   },
   {
    "duration": 8,
    "start_time": "2022-05-24T14:39:40.295Z"
   },
   {
    "duration": 4,
    "start_time": "2022-05-24T14:39:40.305Z"
   },
   {
    "duration": 14,
    "start_time": "2022-05-24T14:39:40.311Z"
   },
   {
    "duration": 9,
    "start_time": "2022-05-24T14:39:40.326Z"
   },
   {
    "duration": 7,
    "start_time": "2022-05-24T14:39:40.336Z"
   },
   {
    "duration": 47,
    "start_time": "2022-05-24T14:39:40.344Z"
   },
   {
    "duration": 19,
    "start_time": "2022-05-24T14:39:40.392Z"
   },
   {
    "duration": 32,
    "start_time": "2022-05-24T14:39:40.413Z"
   },
   {
    "duration": 4,
    "start_time": "2022-05-24T14:39:40.446Z"
   },
   {
    "duration": 34,
    "start_time": "2022-05-24T14:39:40.452Z"
   },
   {
    "duration": 7,
    "start_time": "2022-05-24T14:39:40.487Z"
   },
   {
    "duration": 8,
    "start_time": "2022-05-24T14:39:40.496Z"
   },
   {
    "duration": 743,
    "start_time": "2022-05-24T14:39:40.505Z"
   },
   {
    "duration": 819,
    "start_time": "2022-05-24T14:39:41.250Z"
   },
   {
    "duration": 168,
    "start_time": "2022-05-24T14:39:42.071Z"
   },
   {
    "duration": 222,
    "start_time": "2022-05-24T14:39:42.241Z"
   },
   {
    "duration": 261,
    "start_time": "2022-05-24T14:39:42.466Z"
   },
   {
    "duration": 68,
    "start_time": "2022-05-24T14:39:42.729Z"
   },
   {
    "duration": 29,
    "start_time": "2022-05-24T14:39:42.799Z"
   },
   {
    "duration": 167,
    "start_time": "2022-05-24T14:39:42.830Z"
   },
   {
    "duration": 1455,
    "start_time": "2022-05-24T14:39:42.999Z"
   },
   {
    "duration": 775,
    "start_time": "2022-05-24T14:39:44.456Z"
   },
   {
    "duration": 6,
    "start_time": "2022-05-24T14:39:45.233Z"
   },
   {
    "duration": 112,
    "start_time": "2022-05-24T14:39:45.240Z"
   },
   {
    "duration": 44,
    "start_time": "2022-05-24T14:42:13.315Z"
   },
   {
    "duration": 43,
    "start_time": "2022-05-24T14:42:26.804Z"
   },
   {
    "duration": 54,
    "start_time": "2022-05-24T14:42:38.530Z"
   },
   {
    "duration": 48,
    "start_time": "2022-05-24T14:42:57.504Z"
   },
   {
    "duration": 30,
    "start_time": "2022-05-24T14:43:17.012Z"
   },
   {
    "duration": 600,
    "start_time": "2022-05-24T14:43:20.776Z"
   },
   {
    "duration": 739,
    "start_time": "2022-05-24T14:43:28.848Z"
   },
   {
    "duration": 20,
    "start_time": "2022-05-24T14:45:56.271Z"
   },
   {
    "duration": 5,
    "start_time": "2022-05-24T14:46:07.014Z"
   },
   {
    "duration": 6,
    "start_time": "2022-05-24T14:46:18.612Z"
   },
   {
    "duration": 25,
    "start_time": "2022-05-24T14:46:22.957Z"
   },
   {
    "duration": 7,
    "start_time": "2022-05-24T14:46:32.732Z"
   },
   {
    "duration": 3,
    "start_time": "2022-05-24T14:46:38.607Z"
   },
   {
    "duration": 831,
    "start_time": "2022-05-24T14:47:30.731Z"
   },
   {
    "duration": 12,
    "start_time": "2022-05-24T14:49:03.144Z"
   },
   {
    "duration": 11,
    "start_time": "2022-05-24T14:50:49.409Z"
   },
   {
    "duration": 12,
    "start_time": "2022-05-24T14:51:09.594Z"
   },
   {
    "duration": 13,
    "start_time": "2022-05-24T14:52:21.094Z"
   },
   {
    "duration": 17,
    "start_time": "2022-05-24T14:52:30.734Z"
   },
   {
    "duration": 17,
    "start_time": "2022-05-24T14:52:37.142Z"
   },
   {
    "duration": 20,
    "start_time": "2022-05-24T14:53:01.429Z"
   },
   {
    "duration": 30,
    "start_time": "2022-05-24T14:55:57.911Z"
   },
   {
    "duration": 17,
    "start_time": "2022-05-24T14:56:05.912Z"
   },
   {
    "duration": 27,
    "start_time": "2022-05-24T14:56:13.716Z"
   },
   {
    "duration": 51,
    "start_time": "2022-05-24T14:56:18.227Z"
   },
   {
    "duration": 15,
    "start_time": "2022-05-24T14:56:22.652Z"
   },
   {
    "duration": 18,
    "start_time": "2022-05-24T14:56:55.664Z"
   },
   {
    "duration": 20,
    "start_time": "2022-05-24T14:57:05.147Z"
   },
   {
    "duration": 27,
    "start_time": "2022-05-24T14:57:16.213Z"
   },
   {
    "duration": 4,
    "start_time": "2022-05-24T14:57:36.580Z"
   },
   {
    "duration": 28,
    "start_time": "2022-05-24T14:57:41.030Z"
   },
   {
    "duration": 28,
    "start_time": "2022-05-24T14:59:07.806Z"
   },
   {
    "duration": 32,
    "start_time": "2022-05-24T14:59:15.024Z"
   },
   {
    "duration": 26,
    "start_time": "2022-05-24T14:59:23.156Z"
   },
   {
    "duration": 25,
    "start_time": "2022-05-24T15:00:41.896Z"
   },
   {
    "duration": 33,
    "start_time": "2022-05-24T15:03:29.957Z"
   },
   {
    "duration": 45,
    "start_time": "2022-05-24T15:03:39.277Z"
   },
   {
    "duration": 22,
    "start_time": "2022-05-24T15:03:47.716Z"
   },
   {
    "duration": 39,
    "start_time": "2022-05-24T15:05:38.222Z"
   },
   {
    "duration": 20,
    "start_time": "2022-05-24T15:05:43.915Z"
   },
   {
    "duration": 29,
    "start_time": "2022-05-24T15:06:30.729Z"
   },
   {
    "duration": 23,
    "start_time": "2022-05-24T15:06:36.616Z"
   },
   {
    "duration": 38,
    "start_time": "2022-05-24T15:06:57.868Z"
   },
   {
    "duration": 33,
    "start_time": "2022-05-24T15:07:02.082Z"
   },
   {
    "duration": 45,
    "start_time": "2022-05-24T15:07:50.963Z"
   },
   {
    "duration": 33,
    "start_time": "2022-05-24T15:07:54.859Z"
   },
   {
    "duration": 7,
    "start_time": "2022-05-24T15:09:23.024Z"
   },
   {
    "duration": 33,
    "start_time": "2022-05-24T15:09:39.655Z"
   },
   {
    "duration": 22,
    "start_time": "2022-05-24T15:09:43.705Z"
   },
   {
    "duration": 18,
    "start_time": "2022-05-24T15:10:09.129Z"
   },
   {
    "duration": 31,
    "start_time": "2022-05-24T15:10:16.072Z"
   },
   {
    "duration": 23,
    "start_time": "2022-05-24T15:10:21.552Z"
   },
   {
    "duration": 34,
    "start_time": "2022-05-24T15:11:54.119Z"
   },
   {
    "duration": 25,
    "start_time": "2022-05-24T15:11:57.403Z"
   },
   {
    "duration": 6,
    "start_time": "2022-05-24T15:13:26.654Z"
   },
   {
    "duration": 21,
    "start_time": "2022-05-24T15:13:33.803Z"
   },
   {
    "duration": 33,
    "start_time": "2022-05-24T15:14:05.239Z"
   },
   {
    "duration": 26,
    "start_time": "2022-05-24T15:14:08.360Z"
   },
   {
    "duration": 25,
    "start_time": "2022-05-24T15:15:29.606Z"
   },
   {
    "duration": 21,
    "start_time": "2022-05-24T15:15:33.660Z"
   },
   {
    "duration": 21,
    "start_time": "2022-05-24T15:15:40.790Z"
   },
   {
    "duration": 20,
    "start_time": "2022-05-24T15:15:50.555Z"
   },
   {
    "duration": 21,
    "start_time": "2022-05-24T15:15:54.400Z"
   },
   {
    "duration": 7,
    "start_time": "2022-05-24T15:17:12.040Z"
   },
   {
    "duration": 5,
    "start_time": "2022-05-24T15:17:19.653Z"
   },
   {
    "duration": 8,
    "start_time": "2022-05-24T15:17:32.054Z"
   },
   {
    "duration": 8,
    "start_time": "2022-05-24T15:17:37.706Z"
   },
   {
    "duration": 10,
    "start_time": "2022-05-24T15:23:01.726Z"
   },
   {
    "duration": 10,
    "start_time": "2022-05-24T15:23:17.439Z"
   },
   {
    "duration": 12,
    "start_time": "2022-05-24T15:23:39.916Z"
   },
   {
    "duration": 11,
    "start_time": "2022-05-24T15:23:56.720Z"
   },
   {
    "duration": 13,
    "start_time": "2022-05-24T15:24:01.767Z"
   },
   {
    "duration": 12,
    "start_time": "2022-05-24T15:24:54.970Z"
   },
   {
    "duration": 13,
    "start_time": "2022-05-24T15:25:40.317Z"
   },
   {
    "duration": 399,
    "start_time": "2022-05-24T15:27:36.525Z"
   },
   {
    "duration": 12,
    "start_time": "2022-05-24T15:28:12.456Z"
   },
   {
    "duration": 610,
    "start_time": "2022-05-24T15:28:54.853Z"
   },
   {
    "duration": 5,
    "start_time": "2022-05-24T15:29:05.418Z"
   },
   {
    "duration": 5,
    "start_time": "2022-05-24T15:30:48.648Z"
   },
   {
    "duration": 10,
    "start_time": "2022-05-24T15:30:57.654Z"
   },
   {
    "duration": 12,
    "start_time": "2022-05-24T15:31:13.909Z"
   },
   {
    "duration": 403,
    "start_time": "2022-05-24T15:32:48.209Z"
   },
   {
    "duration": 9,
    "start_time": "2022-05-24T15:33:06.555Z"
   },
   {
    "duration": 510,
    "start_time": "2022-05-24T15:33:31.349Z"
   },
   {
    "duration": 16,
    "start_time": "2022-05-24T15:34:32.033Z"
   },
   {
    "duration": 5,
    "start_time": "2022-05-24T15:36:09.267Z"
   },
   {
    "duration": 19,
    "start_time": "2022-05-24T15:36:17.270Z"
   },
   {
    "duration": 38,
    "start_time": "2022-05-24T15:36:22.323Z"
   },
   {
    "duration": 16,
    "start_time": "2022-05-24T15:36:35.305Z"
   },
   {
    "duration": 8,
    "start_time": "2022-05-24T15:36:40.501Z"
   },
   {
    "duration": 10,
    "start_time": "2022-05-24T15:36:44.051Z"
   },
   {
    "duration": 18,
    "start_time": "2022-05-24T15:36:46.197Z"
   },
   {
    "duration": 9,
    "start_time": "2022-05-24T15:37:17.496Z"
   },
   {
    "duration": 8,
    "start_time": "2022-05-24T15:38:32.060Z"
   },
   {
    "duration": 183,
    "start_time": "2022-05-24T15:38:43.566Z"
   },
   {
    "duration": 9,
    "start_time": "2022-05-24T15:38:56.700Z"
   },
   {
    "duration": 9,
    "start_time": "2022-05-24T15:39:55.157Z"
   },
   {
    "duration": 9,
    "start_time": "2022-05-24T15:39:56.149Z"
   },
   {
    "duration": 11,
    "start_time": "2022-05-24T15:40:01.624Z"
   },
   {
    "duration": 10,
    "start_time": "2022-05-24T15:40:02.255Z"
   },
   {
    "duration": 8,
    "start_time": "2022-05-24T15:41:23.489Z"
   },
   {
    "duration": 11,
    "start_time": "2022-05-24T15:41:27.853Z"
   },
   {
    "duration": 9,
    "start_time": "2022-05-24T15:41:33.906Z"
   },
   {
    "duration": 57,
    "start_time": "2022-05-24T15:41:44.300Z"
   },
   {
    "duration": 12,
    "start_time": "2022-05-24T15:42:05.971Z"
   },
   {
    "duration": 9,
    "start_time": "2022-05-24T15:42:22.340Z"
   },
   {
    "duration": 10,
    "start_time": "2022-05-24T15:42:33.395Z"
   },
   {
    "duration": 8,
    "start_time": "2022-05-24T15:43:14.911Z"
   },
   {
    "duration": 9,
    "start_time": "2022-05-24T15:46:26.810Z"
   },
   {
    "duration": 30,
    "start_time": "2022-05-24T15:48:40.148Z"
   },
   {
    "duration": 7,
    "start_time": "2022-05-24T15:49:03.739Z"
   },
   {
    "duration": 7,
    "start_time": "2022-05-24T15:49:05.214Z"
   },
   {
    "duration": 8,
    "start_time": "2022-05-24T15:57:32.720Z"
   },
   {
    "duration": 10,
    "start_time": "2022-05-24T15:57:34.573Z"
   },
   {
    "duration": 8,
    "start_time": "2022-05-24T16:01:04.592Z"
   },
   {
    "duration": 12,
    "start_time": "2022-05-24T16:01:54.513Z"
   },
   {
    "duration": 10,
    "start_time": "2022-05-24T16:02:03.947Z"
   },
   {
    "duration": 10,
    "start_time": "2022-05-24T16:02:23.315Z"
   },
   {
    "duration": 15,
    "start_time": "2022-05-24T16:02:45.046Z"
   },
   {
    "duration": 675,
    "start_time": "2022-05-24T16:03:10.821Z"
   },
   {
    "duration": 98,
    "start_time": "2022-05-24T16:03:11.498Z"
   },
   {
    "duration": 29,
    "start_time": "2022-05-24T16:03:11.598Z"
   },
   {
    "duration": 22,
    "start_time": "2022-05-24T16:03:11.629Z"
   },
   {
    "duration": 15,
    "start_time": "2022-05-24T16:03:11.654Z"
   },
   {
    "duration": 35,
    "start_time": "2022-05-24T16:03:11.671Z"
   },
   {
    "duration": 18,
    "start_time": "2022-05-24T16:03:11.708Z"
   },
   {
    "duration": 15,
    "start_time": "2022-05-24T16:03:11.727Z"
   },
   {
    "duration": 12,
    "start_time": "2022-05-24T16:03:11.744Z"
   },
   {
    "duration": 13,
    "start_time": "2022-05-24T16:03:11.758Z"
   },
   {
    "duration": 27,
    "start_time": "2022-05-24T16:03:11.773Z"
   },
   {
    "duration": 22,
    "start_time": "2022-05-24T16:03:11.802Z"
   },
   {
    "duration": 9,
    "start_time": "2022-05-24T16:03:11.826Z"
   },
   {
    "duration": 37,
    "start_time": "2022-05-24T16:03:11.838Z"
   },
   {
    "duration": 18,
    "start_time": "2022-05-24T16:03:11.877Z"
   },
   {
    "duration": 32,
    "start_time": "2022-05-24T16:03:11.897Z"
   },
   {
    "duration": 55,
    "start_time": "2022-05-24T16:03:11.931Z"
   },
   {
    "duration": 57,
    "start_time": "2022-05-24T16:03:11.988Z"
   },
   {
    "duration": 78,
    "start_time": "2022-05-24T16:03:12.047Z"
   },
   {
    "duration": 34,
    "start_time": "2022-05-24T16:03:12.127Z"
   },
   {
    "duration": 57,
    "start_time": "2022-05-24T16:03:12.163Z"
   },
   {
    "duration": 26,
    "start_time": "2022-05-24T16:03:12.222Z"
   },
   {
    "duration": 14,
    "start_time": "2022-05-24T16:03:12.251Z"
   },
   {
    "duration": 772,
    "start_time": "2022-05-24T16:03:12.267Z"
   },
   {
    "duration": 835,
    "start_time": "2022-05-24T16:03:13.042Z"
   },
   {
    "duration": 170,
    "start_time": "2022-05-24T16:03:13.883Z"
   },
   {
    "duration": 208,
    "start_time": "2022-05-24T16:03:14.054Z"
   },
   {
    "duration": 161,
    "start_time": "2022-05-24T16:03:14.263Z"
   },
   {
    "duration": 11,
    "start_time": "2022-05-24T16:03:14.425Z"
   },
   {
    "duration": 13,
    "start_time": "2022-05-24T16:03:14.438Z"
   },
   {
    "duration": 51,
    "start_time": "2022-05-24T16:03:14.453Z"
   },
   {
    "duration": 19,
    "start_time": "2022-05-24T16:03:14.506Z"
   },
   {
    "duration": 5,
    "start_time": "2022-05-24T16:03:14.527Z"
   },
   {
    "duration": 9,
    "start_time": "2022-05-24T16:03:14.533Z"
   },
   {
    "duration": 8,
    "start_time": "2022-05-24T16:03:14.543Z"
   },
   {
    "duration": 39,
    "start_time": "2022-05-24T16:03:14.553Z"
   },
   {
    "duration": 17,
    "start_time": "2022-05-24T16:03:42.700Z"
   },
   {
    "duration": 12,
    "start_time": "2022-05-24T16:04:02.900Z"
   },
   {
    "duration": 37,
    "start_time": "2022-05-24T16:09:34.326Z"
   },
   {
    "duration": 36,
    "start_time": "2022-05-24T16:13:07.508Z"
   },
   {
    "duration": 11,
    "start_time": "2022-05-24T16:13:58.598Z"
   },
   {
    "duration": 14,
    "start_time": "2022-05-24T16:14:12.230Z"
   },
   {
    "duration": 44,
    "start_time": "2022-05-24T16:14:50.703Z"
   },
   {
    "duration": 31,
    "start_time": "2022-05-24T16:15:09.954Z"
   },
   {
    "duration": 91,
    "start_time": "2022-05-24T16:15:21.337Z"
   },
   {
    "duration": 14,
    "start_time": "2022-05-24T16:15:45.069Z"
   },
   {
    "duration": 18,
    "start_time": "2022-05-24T16:16:55.328Z"
   },
   {
    "duration": 17,
    "start_time": "2022-05-24T16:17:40.736Z"
   },
   {
    "duration": 19,
    "start_time": "2022-05-24T16:21:48.955Z"
   },
   {
    "duration": 16,
    "start_time": "2022-05-24T16:22:43.162Z"
   },
   {
    "duration": 10,
    "start_time": "2022-05-24T16:35:27.903Z"
   },
   {
    "duration": 9,
    "start_time": "2022-05-24T16:35:44.198Z"
   },
   {
    "duration": 11,
    "start_time": "2022-05-24T16:35:48.708Z"
   },
   {
    "duration": 18,
    "start_time": "2022-05-24T16:35:55.840Z"
   },
   {
    "duration": 17,
    "start_time": "2022-05-24T16:36:01.360Z"
   },
   {
    "duration": 26,
    "start_time": "2022-05-24T16:37:03.837Z"
   },
   {
    "duration": 17,
    "start_time": "2022-05-24T16:37:29.805Z"
   },
   {
    "duration": 18,
    "start_time": "2022-05-24T16:50:08.943Z"
   },
   {
    "duration": 9,
    "start_time": "2022-05-24T16:50:19.538Z"
   },
   {
    "duration": 16,
    "start_time": "2022-05-24T16:50:22.520Z"
   },
   {
    "duration": 11,
    "start_time": "2022-05-24T16:50:48.918Z"
   },
   {
    "duration": 13,
    "start_time": "2022-05-24T16:51:24.743Z"
   },
   {
    "duration": 14,
    "start_time": "2022-05-24T16:51:29.866Z"
   },
   {
    "duration": 13,
    "start_time": "2022-05-24T16:51:37.291Z"
   },
   {
    "duration": 38,
    "start_time": "2022-05-24T16:57:18.088Z"
   },
   {
    "duration": 20,
    "start_time": "2022-05-24T16:57:24.157Z"
   },
   {
    "duration": 21,
    "start_time": "2022-05-24T16:57:31.552Z"
   },
   {
    "duration": 22,
    "start_time": "2022-05-24T16:58:06.336Z"
   },
   {
    "duration": 12,
    "start_time": "2022-05-24T16:58:48.141Z"
   },
   {
    "duration": 11,
    "start_time": "2022-05-24T17:00:11.896Z"
   },
   {
    "duration": 11,
    "start_time": "2022-05-24T17:00:17.749Z"
   },
   {
    "duration": 14,
    "start_time": "2022-05-24T17:00:26.353Z"
   },
   {
    "duration": 15,
    "start_time": "2022-05-24T17:00:43.844Z"
   },
   {
    "duration": 18,
    "start_time": "2022-05-24T17:01:03.874Z"
   },
   {
    "duration": 16,
    "start_time": "2022-05-24T17:01:14.087Z"
   },
   {
    "duration": 14,
    "start_time": "2022-05-24T17:01:19.511Z"
   },
   {
    "duration": 16,
    "start_time": "2022-05-24T17:01:28.648Z"
   },
   {
    "duration": 13,
    "start_time": "2022-05-24T17:02:36.613Z"
   },
   {
    "duration": 10,
    "start_time": "2022-05-24T17:03:44.750Z"
   },
   {
    "duration": 13,
    "start_time": "2022-05-24T17:03:57.734Z"
   },
   {
    "duration": 13,
    "start_time": "2022-05-24T17:04:13.831Z"
   },
   {
    "duration": 12,
    "start_time": "2022-05-24T17:04:35.024Z"
   },
   {
    "duration": 14,
    "start_time": "2022-05-24T17:04:39.075Z"
   },
   {
    "duration": 32,
    "start_time": "2022-05-24T17:06:50.333Z"
   },
   {
    "duration": 895,
    "start_time": "2022-05-25T08:14:44.919Z"
   },
   {
    "duration": 322,
    "start_time": "2022-05-25T08:14:45.816Z"
   },
   {
    "duration": 34,
    "start_time": "2022-05-25T08:14:46.139Z"
   },
   {
    "duration": 18,
    "start_time": "2022-05-25T08:14:46.176Z"
   },
   {
    "duration": 6,
    "start_time": "2022-05-25T08:14:46.196Z"
   },
   {
    "duration": 15,
    "start_time": "2022-05-25T08:14:46.204Z"
   },
   {
    "duration": 51,
    "start_time": "2022-05-25T08:14:46.220Z"
   },
   {
    "duration": 14,
    "start_time": "2022-05-25T08:14:46.273Z"
   },
   {
    "duration": 8,
    "start_time": "2022-05-25T08:14:46.288Z"
   },
   {
    "duration": 5,
    "start_time": "2022-05-25T08:14:46.299Z"
   },
   {
    "duration": 14,
    "start_time": "2022-05-25T08:14:46.306Z"
   },
   {
    "duration": 17,
    "start_time": "2022-05-25T08:14:46.322Z"
   },
   {
    "duration": 26,
    "start_time": "2022-05-25T08:14:46.340Z"
   },
   {
    "duration": 22,
    "start_time": "2022-05-25T08:14:46.369Z"
   },
   {
    "duration": 9,
    "start_time": "2022-05-25T08:14:46.394Z"
   },
   {
    "duration": 10,
    "start_time": "2022-05-25T08:14:46.406Z"
   },
   {
    "duration": 19,
    "start_time": "2022-05-25T08:14:46.418Z"
   },
   {
    "duration": 43,
    "start_time": "2022-05-25T08:14:46.439Z"
   },
   {
    "duration": 33,
    "start_time": "2022-05-25T08:14:46.484Z"
   },
   {
    "duration": 4,
    "start_time": "2022-05-25T08:14:46.519Z"
   },
   {
    "duration": 16,
    "start_time": "2022-05-25T08:14:46.525Z"
   },
   {
    "duration": 10,
    "start_time": "2022-05-25T08:14:46.564Z"
   },
   {
    "duration": 10,
    "start_time": "2022-05-25T08:14:46.576Z"
   },
   {
    "duration": 791,
    "start_time": "2022-05-25T08:14:46.589Z"
   },
   {
    "duration": 846,
    "start_time": "2022-05-25T08:14:47.382Z"
   },
   {
    "duration": 166,
    "start_time": "2022-05-25T08:14:48.230Z"
   },
   {
    "duration": 226,
    "start_time": "2022-05-25T08:14:48.397Z"
   },
   {
    "duration": 173,
    "start_time": "2022-05-25T08:14:48.628Z"
   },
   {
    "duration": 17,
    "start_time": "2022-05-25T08:14:48.803Z"
   },
   {
    "duration": 15,
    "start_time": "2022-05-25T08:14:48.822Z"
   },
   {
    "duration": 64,
    "start_time": "2022-05-25T08:14:48.846Z"
   },
   {
    "duration": 25,
    "start_time": "2022-05-25T08:14:48.912Z"
   },
   {
    "duration": 30,
    "start_time": "2022-05-25T08:14:48.939Z"
   },
   {
    "duration": 15,
    "start_time": "2022-05-25T08:14:48.971Z"
   },
   {
    "duration": 30,
    "start_time": "2022-05-25T08:14:48.987Z"
   },
   {
    "duration": 11,
    "start_time": "2022-05-25T08:14:49.020Z"
   },
   {
    "duration": 26,
    "start_time": "2022-05-25T08:15:36.578Z"
   },
   {
    "duration": 16,
    "start_time": "2022-05-25T08:16:44.894Z"
   },
   {
    "duration": 21,
    "start_time": "2022-05-25T08:17:03.670Z"
   },
   {
    "duration": 11,
    "start_time": "2022-05-25T08:17:15.613Z"
   },
   {
    "duration": 84,
    "start_time": "2022-05-25T08:20:06.365Z"
   },
   {
    "duration": 29,
    "start_time": "2022-05-25T08:20:11.039Z"
   },
   {
    "duration": 21,
    "start_time": "2022-05-25T08:20:30.475Z"
   },
   {
    "duration": 740,
    "start_time": "2022-05-25T08:22:09.940Z"
   },
   {
    "duration": 748,
    "start_time": "2022-05-25T08:22:43.121Z"
   },
   {
    "duration": 594,
    "start_time": "2022-05-25T08:23:24.060Z"
   },
   {
    "duration": 17,
    "start_time": "2022-05-25T08:25:42.444Z"
   },
   {
    "duration": 587,
    "start_time": "2022-05-25T08:31:25.341Z"
   },
   {
    "duration": 70,
    "start_time": "2022-05-25T08:32:19.135Z"
   },
   {
    "duration": 11,
    "start_time": "2022-05-25T08:32:22.545Z"
   },
   {
    "duration": 69,
    "start_time": "2022-05-25T08:32:38.931Z"
   },
   {
    "duration": 45,
    "start_time": "2022-05-25T08:33:27.840Z"
   },
   {
    "duration": 14,
    "start_time": "2022-05-25T08:35:17.162Z"
   },
   {
    "duration": 18,
    "start_time": "2022-05-25T08:35:27.299Z"
   },
   {
    "duration": 310,
    "start_time": "2022-05-25T08:35:43.987Z"
   },
   {
    "duration": 158,
    "start_time": "2022-05-25T08:35:52.622Z"
   },
   {
    "duration": 312,
    "start_time": "2022-05-25T08:36:58.886Z"
   },
   {
    "duration": 338,
    "start_time": "2022-05-25T08:38:44.903Z"
   },
   {
    "duration": 312,
    "start_time": "2022-05-25T08:38:51.861Z"
   },
   {
    "duration": 298,
    "start_time": "2022-05-25T08:39:22.400Z"
   },
   {
    "duration": 190,
    "start_time": "2022-05-25T08:39:38.160Z"
   },
   {
    "duration": 275,
    "start_time": "2022-05-25T08:40:45.935Z"
   },
   {
    "duration": 181,
    "start_time": "2022-05-25T08:41:34.462Z"
   },
   {
    "duration": 148,
    "start_time": "2022-05-25T08:42:47.769Z"
   },
   {
    "duration": 34,
    "start_time": "2022-05-25T08:42:54.162Z"
   },
   {
    "duration": 155,
    "start_time": "2022-05-25T08:43:02.139Z"
   },
   {
    "duration": 157,
    "start_time": "2022-05-25T08:43:15.836Z"
   },
   {
    "duration": 172,
    "start_time": "2022-05-25T08:44:01.788Z"
   },
   {
    "duration": 177,
    "start_time": "2022-05-25T08:44:55.222Z"
   },
   {
    "duration": 173,
    "start_time": "2022-05-25T08:50:10.522Z"
   },
   {
    "duration": 188,
    "start_time": "2022-05-25T08:50:20.937Z"
   },
   {
    "duration": 8,
    "start_time": "2022-05-25T08:51:12.952Z"
   },
   {
    "duration": 36,
    "start_time": "2022-05-25T08:51:22.028Z"
   },
   {
    "duration": 43,
    "start_time": "2022-05-25T08:51:34.640Z"
   },
   {
    "duration": 19,
    "start_time": "2022-05-25T08:52:57.634Z"
   },
   {
    "duration": 33,
    "start_time": "2022-05-25T08:53:18.185Z"
   },
   {
    "duration": 37,
    "start_time": "2022-05-25T08:54:51.413Z"
   },
   {
    "duration": 32,
    "start_time": "2022-05-25T08:56:15.572Z"
   },
   {
    "duration": 35,
    "start_time": "2022-05-25T08:56:21.733Z"
   },
   {
    "duration": 35,
    "start_time": "2022-05-25T08:56:40.613Z"
   },
   {
    "duration": 39,
    "start_time": "2022-05-25T08:57:05.353Z"
   },
   {
    "duration": 35,
    "start_time": "2022-05-25T08:58:07.843Z"
   },
   {
    "duration": 4,
    "start_time": "2022-05-25T09:00:32.463Z"
   },
   {
    "duration": 5,
    "start_time": "2022-05-25T09:00:52.396Z"
   },
   {
    "duration": 65,
    "start_time": "2022-05-25T11:07:26.619Z"
   },
   {
    "duration": 70,
    "start_time": "2022-05-25T11:08:29.226Z"
   },
   {
    "duration": 29,
    "start_time": "2022-05-25T11:08:35.884Z"
   },
   {
    "duration": 35,
    "start_time": "2022-05-25T11:13:13.913Z"
   },
   {
    "duration": 791,
    "start_time": "2022-05-25T11:13:21.626Z"
   },
   {
    "duration": 146,
    "start_time": "2022-05-25T11:13:22.419Z"
   },
   {
    "duration": 30,
    "start_time": "2022-05-25T11:13:22.567Z"
   },
   {
    "duration": 15,
    "start_time": "2022-05-25T11:13:22.600Z"
   },
   {
    "duration": 6,
    "start_time": "2022-05-25T11:13:22.616Z"
   },
   {
    "duration": 12,
    "start_time": "2022-05-25T11:13:22.624Z"
   },
   {
    "duration": 44,
    "start_time": "2022-05-25T11:13:22.637Z"
   },
   {
    "duration": 11,
    "start_time": "2022-05-25T11:13:22.682Z"
   },
   {
    "duration": 6,
    "start_time": "2022-05-25T11:13:22.695Z"
   },
   {
    "duration": 3,
    "start_time": "2022-05-25T11:13:22.704Z"
   },
   {
    "duration": 6,
    "start_time": "2022-05-25T11:13:22.709Z"
   },
   {
    "duration": 6,
    "start_time": "2022-05-25T11:13:22.717Z"
   },
   {
    "duration": 5,
    "start_time": "2022-05-25T11:13:22.725Z"
   },
   {
    "duration": 57,
    "start_time": "2022-05-25T11:13:22.732Z"
   },
   {
    "duration": 8,
    "start_time": "2022-05-25T11:13:22.791Z"
   },
   {
    "duration": 11,
    "start_time": "2022-05-25T11:13:22.801Z"
   },
   {
    "duration": 13,
    "start_time": "2022-05-25T11:13:22.814Z"
   },
   {
    "duration": 24,
    "start_time": "2022-05-25T11:13:22.829Z"
   },
   {
    "duration": 44,
    "start_time": "2022-05-25T11:13:22.855Z"
   },
   {
    "duration": 8,
    "start_time": "2022-05-25T11:13:22.901Z"
   },
   {
    "duration": 0,
    "start_time": "2022-05-25T11:13:22.911Z"
   },
   {
    "duration": 0,
    "start_time": "2022-05-25T11:13:22.913Z"
   },
   {
    "duration": 0,
    "start_time": "2022-05-25T11:13:22.914Z"
   },
   {
    "duration": 0,
    "start_time": "2022-05-25T11:13:22.915Z"
   },
   {
    "duration": 0,
    "start_time": "2022-05-25T11:13:22.917Z"
   },
   {
    "duration": 0,
    "start_time": "2022-05-25T11:13:22.918Z"
   },
   {
    "duration": 0,
    "start_time": "2022-05-25T11:13:22.920Z"
   },
   {
    "duration": 0,
    "start_time": "2022-05-25T11:13:22.922Z"
   },
   {
    "duration": 0,
    "start_time": "2022-05-25T11:13:22.923Z"
   },
   {
    "duration": 0,
    "start_time": "2022-05-25T11:13:22.925Z"
   },
   {
    "duration": 0,
    "start_time": "2022-05-25T11:13:22.926Z"
   },
   {
    "duration": 0,
    "start_time": "2022-05-25T11:13:22.928Z"
   },
   {
    "duration": 0,
    "start_time": "2022-05-25T11:13:22.930Z"
   },
   {
    "duration": 0,
    "start_time": "2022-05-25T11:13:22.931Z"
   },
   {
    "duration": 0,
    "start_time": "2022-05-25T11:13:22.933Z"
   },
   {
    "duration": 0,
    "start_time": "2022-05-25T11:13:22.974Z"
   },
   {
    "duration": 0,
    "start_time": "2022-05-25T11:13:22.975Z"
   },
   {
    "duration": 0,
    "start_time": "2022-05-25T11:13:22.977Z"
   },
   {
    "duration": 0,
    "start_time": "2022-05-25T11:13:22.978Z"
   },
   {
    "duration": 0,
    "start_time": "2022-05-25T11:13:22.980Z"
   },
   {
    "duration": 0,
    "start_time": "2022-05-25T11:13:22.981Z"
   },
   {
    "duration": 4,
    "start_time": "2022-05-25T11:13:54.294Z"
   },
   {
    "duration": 33,
    "start_time": "2022-05-25T11:14:21.295Z"
   },
   {
    "duration": 45,
    "start_time": "2022-05-25T11:14:31.581Z"
   },
   {
    "duration": 59,
    "start_time": "2022-05-25T11:14:41.571Z"
   },
   {
    "duration": 6,
    "start_time": "2022-05-25T11:16:33.403Z"
   },
   {
    "duration": 629,
    "start_time": "2022-05-25T11:16:56.791Z"
   },
   {
    "duration": 87,
    "start_time": "2022-05-25T11:16:57.422Z"
   },
   {
    "duration": 27,
    "start_time": "2022-05-25T11:16:57.513Z"
   },
   {
    "duration": 14,
    "start_time": "2022-05-25T11:16:57.542Z"
   },
   {
    "duration": 19,
    "start_time": "2022-05-25T11:16:57.557Z"
   },
   {
    "duration": 11,
    "start_time": "2022-05-25T11:16:57.578Z"
   },
   {
    "duration": 13,
    "start_time": "2022-05-25T11:16:57.590Z"
   },
   {
    "duration": 9,
    "start_time": "2022-05-25T11:16:57.604Z"
   },
   {
    "duration": 7,
    "start_time": "2022-05-25T11:16:57.615Z"
   },
   {
    "duration": 5,
    "start_time": "2022-05-25T11:16:57.623Z"
   },
   {
    "duration": 48,
    "start_time": "2022-05-25T11:16:57.629Z"
   },
   {
    "duration": 5,
    "start_time": "2022-05-25T11:16:57.679Z"
   },
   {
    "duration": 3,
    "start_time": "2022-05-25T11:16:57.686Z"
   },
   {
    "duration": 13,
    "start_time": "2022-05-25T11:16:57.690Z"
   },
   {
    "duration": 5,
    "start_time": "2022-05-25T11:16:57.705Z"
   },
   {
    "duration": 9,
    "start_time": "2022-05-25T11:16:57.711Z"
   },
   {
    "duration": 7,
    "start_time": "2022-05-25T11:16:57.721Z"
   },
   {
    "duration": 12,
    "start_time": "2022-05-25T11:16:57.729Z"
   },
   {
    "duration": 42,
    "start_time": "2022-05-25T11:16:57.742Z"
   },
   {
    "duration": 4,
    "start_time": "2022-05-25T11:16:57.785Z"
   },
   {
    "duration": 0,
    "start_time": "2022-05-25T11:16:57.791Z"
   },
   {
    "duration": 0,
    "start_time": "2022-05-25T11:16:57.791Z"
   },
   {
    "duration": 0,
    "start_time": "2022-05-25T11:16:57.792Z"
   },
   {
    "duration": 0,
    "start_time": "2022-05-25T11:16:57.793Z"
   },
   {
    "duration": 0,
    "start_time": "2022-05-25T11:16:57.794Z"
   },
   {
    "duration": 0,
    "start_time": "2022-05-25T11:16:57.795Z"
   },
   {
    "duration": 0,
    "start_time": "2022-05-25T11:16:57.796Z"
   },
   {
    "duration": 0,
    "start_time": "2022-05-25T11:16:57.797Z"
   },
   {
    "duration": 0,
    "start_time": "2022-05-25T11:16:57.798Z"
   },
   {
    "duration": 0,
    "start_time": "2022-05-25T11:16:57.799Z"
   },
   {
    "duration": 0,
    "start_time": "2022-05-25T11:16:57.800Z"
   },
   {
    "duration": 0,
    "start_time": "2022-05-25T11:16:57.801Z"
   },
   {
    "duration": 0,
    "start_time": "2022-05-25T11:16:57.802Z"
   },
   {
    "duration": 0,
    "start_time": "2022-05-25T11:16:57.803Z"
   },
   {
    "duration": 0,
    "start_time": "2022-05-25T11:16:57.804Z"
   },
   {
    "duration": 0,
    "start_time": "2022-05-25T11:16:57.805Z"
   },
   {
    "duration": 0,
    "start_time": "2022-05-25T11:16:57.806Z"
   },
   {
    "duration": 0,
    "start_time": "2022-05-25T11:16:57.806Z"
   },
   {
    "duration": 0,
    "start_time": "2022-05-25T11:16:57.807Z"
   },
   {
    "duration": 0,
    "start_time": "2022-05-25T11:16:57.808Z"
   },
   {
    "duration": 0,
    "start_time": "2022-05-25T11:16:57.809Z"
   },
   {
    "duration": 43,
    "start_time": "2022-05-25T11:18:10.556Z"
   },
   {
    "duration": 629,
    "start_time": "2022-05-25T11:19:07.399Z"
   },
   {
    "duration": 92,
    "start_time": "2022-05-25T11:19:08.030Z"
   },
   {
    "duration": 25,
    "start_time": "2022-05-25T11:19:08.124Z"
   },
   {
    "duration": 13,
    "start_time": "2022-05-25T11:19:08.151Z"
   },
   {
    "duration": 4,
    "start_time": "2022-05-25T11:19:08.175Z"
   },
   {
    "duration": 12,
    "start_time": "2022-05-25T11:19:08.180Z"
   },
   {
    "duration": 13,
    "start_time": "2022-05-25T11:19:08.194Z"
   },
   {
    "duration": 13,
    "start_time": "2022-05-25T11:19:08.208Z"
   },
   {
    "duration": 6,
    "start_time": "2022-05-25T11:19:08.222Z"
   },
   {
    "duration": 4,
    "start_time": "2022-05-25T11:19:08.231Z"
   },
   {
    "duration": 8,
    "start_time": "2022-05-25T11:19:08.236Z"
   },
   {
    "duration": 31,
    "start_time": "2022-05-25T11:19:08.245Z"
   },
   {
    "duration": 3,
    "start_time": "2022-05-25T11:19:08.278Z"
   },
   {
    "duration": 14,
    "start_time": "2022-05-25T11:19:08.282Z"
   },
   {
    "duration": 7,
    "start_time": "2022-05-25T11:19:08.297Z"
   },
   {
    "duration": 6,
    "start_time": "2022-05-25T11:19:08.306Z"
   },
   {
    "duration": 7,
    "start_time": "2022-05-25T11:19:08.314Z"
   },
   {
    "duration": 13,
    "start_time": "2022-05-25T11:19:08.322Z"
   },
   {
    "duration": 43,
    "start_time": "2022-05-25T11:19:08.337Z"
   },
   {
    "duration": 29,
    "start_time": "2022-05-25T11:19:08.382Z"
   },
   {
    "duration": 3,
    "start_time": "2022-05-25T11:19:08.412Z"
   },
   {
    "duration": 13,
    "start_time": "2022-05-25T11:19:08.416Z"
   },
   {
    "duration": 6,
    "start_time": "2022-05-25T11:19:08.430Z"
   },
   {
    "duration": 6,
    "start_time": "2022-05-25T11:19:08.437Z"
   },
   {
    "duration": 707,
    "start_time": "2022-05-25T11:19:08.444Z"
   },
   {
    "duration": 712,
    "start_time": "2022-05-25T11:19:09.152Z"
   },
   {
    "duration": 182,
    "start_time": "2022-05-25T11:19:09.865Z"
   },
   {
    "duration": 202,
    "start_time": "2022-05-25T11:19:10.051Z"
   },
   {
    "duration": 142,
    "start_time": "2022-05-25T11:19:10.255Z"
   },
   {
    "duration": 10,
    "start_time": "2022-05-25T11:19:10.399Z"
   },
   {
    "duration": 13,
    "start_time": "2022-05-25T11:19:10.410Z"
   },
   {
    "duration": 51,
    "start_time": "2022-05-25T11:19:10.425Z"
   },
   {
    "duration": 17,
    "start_time": "2022-05-25T11:19:10.477Z"
   },
   {
    "duration": 5,
    "start_time": "2022-05-25T11:19:10.495Z"
   },
   {
    "duration": 10,
    "start_time": "2022-05-25T11:19:10.501Z"
   },
   {
    "duration": 9,
    "start_time": "2022-05-25T11:19:10.512Z"
   },
   {
    "duration": 165,
    "start_time": "2022-05-25T11:19:10.523Z"
   },
   {
    "duration": 75,
    "start_time": "2022-05-25T11:19:10.689Z"
   },
   {
    "duration": 0,
    "start_time": "2022-05-25T11:19:10.765Z"
   },
   {
    "duration": 188,
    "start_time": "2022-05-25T11:20:18.109Z"
   },
   {
    "duration": 197,
    "start_time": "2022-05-25T11:20:32.089Z"
   },
   {
    "duration": 19,
    "start_time": "2022-05-25T11:23:28.769Z"
   },
   {
    "duration": 12,
    "start_time": "2022-05-25T11:23:34.895Z"
   },
   {
    "duration": 13,
    "start_time": "2022-05-25T11:23:46.603Z"
   },
   {
    "duration": 181,
    "start_time": "2022-05-25T11:25:49.761Z"
   },
   {
    "duration": 10,
    "start_time": "2022-05-25T11:28:05.817Z"
   },
   {
    "duration": 14,
    "start_time": "2022-05-25T11:28:10.006Z"
   },
   {
    "duration": 8,
    "start_time": "2022-05-25T11:28:18.400Z"
   },
   {
    "duration": 7,
    "start_time": "2022-05-25T11:28:22.108Z"
   },
   {
    "duration": 85,
    "start_time": "2022-05-25T11:28:54.609Z"
   },
   {
    "duration": 8,
    "start_time": "2022-05-25T11:29:00.996Z"
   },
   {
    "duration": 6,
    "start_time": "2022-05-25T11:35:08.505Z"
   },
   {
    "duration": 204,
    "start_time": "2022-05-25T11:35:46.293Z"
   },
   {
    "duration": 2593,
    "start_time": "2022-05-25T11:35:51.401Z"
   },
   {
    "duration": 653,
    "start_time": "2022-05-25T11:35:57.240Z"
   },
   {
    "duration": 102,
    "start_time": "2022-05-25T11:35:57.898Z"
   },
   {
    "duration": 27,
    "start_time": "2022-05-25T11:35:58.001Z"
   },
   {
    "duration": 13,
    "start_time": "2022-05-25T11:35:58.030Z"
   },
   {
    "duration": 5,
    "start_time": "2022-05-25T11:35:58.044Z"
   },
   {
    "duration": 26,
    "start_time": "2022-05-25T11:35:58.050Z"
   },
   {
    "duration": 19,
    "start_time": "2022-05-25T11:35:58.078Z"
   },
   {
    "duration": 10,
    "start_time": "2022-05-25T11:35:58.099Z"
   },
   {
    "duration": 4,
    "start_time": "2022-05-25T11:35:58.111Z"
   },
   {
    "duration": 6,
    "start_time": "2022-05-25T11:35:58.117Z"
   },
   {
    "duration": 8,
    "start_time": "2022-05-25T11:35:58.124Z"
   },
   {
    "duration": 15,
    "start_time": "2022-05-25T11:35:58.133Z"
   },
   {
    "duration": 28,
    "start_time": "2022-05-25T11:35:58.149Z"
   },
   {
    "duration": 21,
    "start_time": "2022-05-25T11:35:58.181Z"
   },
   {
    "duration": 7,
    "start_time": "2022-05-25T11:35:58.203Z"
   },
   {
    "duration": 6,
    "start_time": "2022-05-25T11:35:58.212Z"
   },
   {
    "duration": 114,
    "start_time": "2022-05-25T11:35:58.220Z"
   },
   {
    "duration": 0,
    "start_time": "2022-05-25T11:35:58.335Z"
   },
   {
    "duration": 0,
    "start_time": "2022-05-25T11:35:58.336Z"
   },
   {
    "duration": 0,
    "start_time": "2022-05-25T11:35:58.337Z"
   },
   {
    "duration": 0,
    "start_time": "2022-05-25T11:35:58.339Z"
   },
   {
    "duration": 0,
    "start_time": "2022-05-25T11:35:58.340Z"
   },
   {
    "duration": 0,
    "start_time": "2022-05-25T11:35:58.341Z"
   },
   {
    "duration": 0,
    "start_time": "2022-05-25T11:35:58.342Z"
   },
   {
    "duration": 0,
    "start_time": "2022-05-25T11:35:58.342Z"
   },
   {
    "duration": 0,
    "start_time": "2022-05-25T11:35:58.344Z"
   },
   {
    "duration": 0,
    "start_time": "2022-05-25T11:35:58.345Z"
   },
   {
    "duration": 0,
    "start_time": "2022-05-25T11:35:58.346Z"
   },
   {
    "duration": 0,
    "start_time": "2022-05-25T11:35:58.347Z"
   },
   {
    "duration": 0,
    "start_time": "2022-05-25T11:35:58.348Z"
   },
   {
    "duration": 1,
    "start_time": "2022-05-25T11:35:58.348Z"
   },
   {
    "duration": 0,
    "start_time": "2022-05-25T11:35:58.350Z"
   },
   {
    "duration": 0,
    "start_time": "2022-05-25T11:35:58.351Z"
   },
   {
    "duration": 0,
    "start_time": "2022-05-25T11:35:58.374Z"
   },
   {
    "duration": 0,
    "start_time": "2022-05-25T11:35:58.376Z"
   },
   {
    "duration": 0,
    "start_time": "2022-05-25T11:35:58.377Z"
   },
   {
    "duration": 0,
    "start_time": "2022-05-25T11:35:58.378Z"
   },
   {
    "duration": 0,
    "start_time": "2022-05-25T11:35:58.379Z"
   },
   {
    "duration": 0,
    "start_time": "2022-05-25T11:35:58.380Z"
   },
   {
    "duration": 14,
    "start_time": "2022-05-25T11:36:09.296Z"
   },
   {
    "duration": 9,
    "start_time": "2022-05-25T11:36:28.645Z"
   },
   {
    "duration": 4,
    "start_time": "2022-05-25T11:38:42.387Z"
   },
   {
    "duration": 133,
    "start_time": "2022-05-25T11:38:46.355Z"
   },
   {
    "duration": 11,
    "start_time": "2022-05-25T11:39:03.556Z"
   },
   {
    "duration": 7,
    "start_time": "2022-05-25T11:39:12.217Z"
   },
   {
    "duration": 10,
    "start_time": "2022-05-25T11:39:35.991Z"
   },
   {
    "duration": 24,
    "start_time": "2022-05-25T11:40:07.054Z"
   },
   {
    "duration": 5,
    "start_time": "2022-05-25T11:40:29.675Z"
   },
   {
    "duration": 77,
    "start_time": "2022-05-25T11:40:31.924Z"
   },
   {
    "duration": 58,
    "start_time": "2022-05-25T11:41:02.239Z"
   },
   {
    "duration": 33,
    "start_time": "2022-05-25T11:41:09.394Z"
   },
   {
    "duration": 268,
    "start_time": "2022-05-25T11:42:23.768Z"
   },
   {
    "duration": 421,
    "start_time": "2022-05-25T11:43:06.589Z"
   },
   {
    "duration": 18,
    "start_time": "2022-05-25T11:43:15.844Z"
   },
   {
    "duration": 14,
    "start_time": "2022-05-25T11:43:44.313Z"
   },
   {
    "duration": 633,
    "start_time": "2022-05-25T11:44:25.023Z"
   },
   {
    "duration": 91,
    "start_time": "2022-05-25T11:44:25.658Z"
   },
   {
    "duration": 26,
    "start_time": "2022-05-25T11:44:25.751Z"
   },
   {
    "duration": 13,
    "start_time": "2022-05-25T11:44:25.778Z"
   },
   {
    "duration": 4,
    "start_time": "2022-05-25T11:44:25.793Z"
   },
   {
    "duration": 11,
    "start_time": "2022-05-25T11:44:25.799Z"
   },
   {
    "duration": 12,
    "start_time": "2022-05-25T11:44:25.811Z"
   },
   {
    "duration": 10,
    "start_time": "2022-05-25T11:44:25.825Z"
   },
   {
    "duration": 39,
    "start_time": "2022-05-25T11:44:25.837Z"
   },
   {
    "duration": 4,
    "start_time": "2022-05-25T11:44:25.879Z"
   },
   {
    "duration": 6,
    "start_time": "2022-05-25T11:44:25.885Z"
   },
   {
    "duration": 5,
    "start_time": "2022-05-25T11:44:25.893Z"
   },
   {
    "duration": 6,
    "start_time": "2022-05-25T11:44:25.900Z"
   },
   {
    "duration": 12,
    "start_time": "2022-05-25T11:44:25.908Z"
   },
   {
    "duration": 7,
    "start_time": "2022-05-25T11:44:25.922Z"
   },
   {
    "duration": 5,
    "start_time": "2022-05-25T11:44:25.931Z"
   },
   {
    "duration": 46,
    "start_time": "2022-05-25T11:44:25.938Z"
   },
   {
    "duration": 18,
    "start_time": "2022-05-25T11:44:25.986Z"
   },
   {
    "duration": 31,
    "start_time": "2022-05-25T11:44:26.005Z"
   },
   {
    "duration": 3,
    "start_time": "2022-05-25T11:44:26.037Z"
   },
   {
    "duration": 38,
    "start_time": "2022-05-25T11:44:26.041Z"
   },
   {
    "duration": 6,
    "start_time": "2022-05-25T11:44:26.081Z"
   },
   {
    "duration": 5,
    "start_time": "2022-05-25T11:44:26.089Z"
   },
   {
    "duration": 691,
    "start_time": "2022-05-25T11:44:26.095Z"
   },
   {
    "duration": 733,
    "start_time": "2022-05-25T11:44:26.788Z"
   },
   {
    "duration": 141,
    "start_time": "2022-05-25T11:44:27.522Z"
   },
   {
    "duration": 186,
    "start_time": "2022-05-25T11:44:27.666Z"
   },
   {
    "duration": 143,
    "start_time": "2022-05-25T11:44:27.855Z"
   },
   {
    "duration": 11,
    "start_time": "2022-05-25T11:44:28.000Z"
   },
   {
    "duration": 13,
    "start_time": "2022-05-25T11:44:28.012Z"
   },
   {
    "duration": 151,
    "start_time": "2022-05-25T11:44:28.026Z"
   },
   {
    "duration": 18,
    "start_time": "2022-05-25T11:44:28.178Z"
   },
   {
    "duration": 5,
    "start_time": "2022-05-25T11:44:28.198Z"
   },
   {
    "duration": 7,
    "start_time": "2022-05-25T11:44:28.204Z"
   },
   {
    "duration": 16,
    "start_time": "2022-05-25T11:44:28.213Z"
   },
   {
    "duration": 173,
    "start_time": "2022-05-25T11:44:28.231Z"
   },
   {
    "duration": 119,
    "start_time": "2022-05-25T11:44:28.406Z"
   },
   {
    "duration": 0,
    "start_time": "2022-05-25T11:44:28.527Z"
   },
   {
    "duration": 9,
    "start_time": "2022-05-25T11:48:21.545Z"
   },
   {
    "duration": 42,
    "start_time": "2022-05-25T11:52:40.189Z"
   },
   {
    "duration": 4,
    "start_time": "2022-05-25T11:53:33.753Z"
   },
   {
    "duration": 35,
    "start_time": "2022-05-25T11:57:26.136Z"
   },
   {
    "duration": 177,
    "start_time": "2022-05-25T12:21:29.634Z"
   },
   {
    "duration": 217,
    "start_time": "2022-05-25T12:25:23.405Z"
   },
   {
    "duration": 147,
    "start_time": "2022-05-25T12:27:04.297Z"
   },
   {
    "duration": 213,
    "start_time": "2022-05-25T12:27:37.407Z"
   },
   {
    "duration": 174,
    "start_time": "2022-05-25T12:31:20.217Z"
   },
   {
    "duration": 25,
    "start_time": "2022-05-25T12:34:30.034Z"
   },
   {
    "duration": 5,
    "start_time": "2022-05-25T12:45:35.507Z"
   },
   {
    "duration": 9,
    "start_time": "2022-05-25T12:45:38.856Z"
   },
   {
    "duration": 6,
    "start_time": "2022-05-25T12:45:49.791Z"
   },
   {
    "duration": 5,
    "start_time": "2022-05-25T12:45:50.610Z"
   },
   {
    "duration": 8,
    "start_time": "2022-05-25T12:45:51.103Z"
   },
   {
    "duration": 140,
    "start_time": "2022-05-25T12:46:07.465Z"
   },
   {
    "duration": 267,
    "start_time": "2022-05-25T12:46:20.900Z"
   },
   {
    "duration": 146,
    "start_time": "2022-05-25T12:55:35.442Z"
   },
   {
    "duration": 137,
    "start_time": "2022-05-25T12:56:24.409Z"
   },
   {
    "duration": 41,
    "start_time": "2022-05-25T12:57:02.823Z"
   },
   {
    "duration": 27,
    "start_time": "2022-05-25T12:57:47.516Z"
   },
   {
    "duration": 35,
    "start_time": "2022-05-25T12:58:01.914Z"
   },
   {
    "duration": 25,
    "start_time": "2022-05-25T12:58:28.493Z"
   },
   {
    "duration": 656,
    "start_time": "2022-05-25T12:58:33.302Z"
   },
   {
    "duration": 98,
    "start_time": "2022-05-25T12:58:33.960Z"
   },
   {
    "duration": 33,
    "start_time": "2022-05-25T12:58:34.060Z"
   },
   {
    "duration": 16,
    "start_time": "2022-05-25T12:58:34.096Z"
   },
   {
    "duration": 5,
    "start_time": "2022-05-25T12:58:34.113Z"
   },
   {
    "duration": 17,
    "start_time": "2022-05-25T12:58:34.120Z"
   },
   {
    "duration": 43,
    "start_time": "2022-05-25T12:58:34.139Z"
   },
   {
    "duration": 13,
    "start_time": "2022-05-25T12:58:34.183Z"
   },
   {
    "duration": 6,
    "start_time": "2022-05-25T12:58:34.198Z"
   },
   {
    "duration": 5,
    "start_time": "2022-05-25T12:58:34.206Z"
   },
   {
    "duration": 11,
    "start_time": "2022-05-25T12:58:34.213Z"
   },
   {
    "duration": 10,
    "start_time": "2022-05-25T12:58:34.225Z"
   },
   {
    "duration": 38,
    "start_time": "2022-05-25T12:58:34.237Z"
   },
   {
    "duration": 14,
    "start_time": "2022-05-25T12:58:34.277Z"
   },
   {
    "duration": 8,
    "start_time": "2022-05-25T12:58:34.292Z"
   },
   {
    "duration": 9,
    "start_time": "2022-05-25T12:58:34.301Z"
   },
   {
    "duration": 22,
    "start_time": "2022-05-25T12:58:34.311Z"
   },
   {
    "duration": 17,
    "start_time": "2022-05-25T12:58:34.335Z"
   },
   {
    "duration": 48,
    "start_time": "2022-05-25T12:58:34.354Z"
   },
   {
    "duration": 3,
    "start_time": "2022-05-25T12:58:34.404Z"
   },
   {
    "duration": 12,
    "start_time": "2022-05-25T12:58:34.408Z"
   },
   {
    "duration": 6,
    "start_time": "2022-05-25T12:58:34.422Z"
   },
   {
    "duration": 4,
    "start_time": "2022-05-25T12:58:34.429Z"
   },
   {
    "duration": 702,
    "start_time": "2022-05-25T12:58:34.435Z"
   },
   {
    "duration": 740,
    "start_time": "2022-05-25T12:58:35.138Z"
   },
   {
    "duration": 150,
    "start_time": "2022-05-25T12:58:35.880Z"
   },
   {
    "duration": 203,
    "start_time": "2022-05-25T12:58:36.032Z"
   },
   {
    "duration": 141,
    "start_time": "2022-05-25T12:58:36.238Z"
   },
   {
    "duration": 10,
    "start_time": "2022-05-25T12:58:36.380Z"
   },
   {
    "duration": 13,
    "start_time": "2022-05-25T12:58:36.391Z"
   },
   {
    "duration": 171,
    "start_time": "2022-05-25T12:58:36.405Z"
   },
   {
    "duration": 23,
    "start_time": "2022-05-25T12:58:36.578Z"
   },
   {
    "duration": 5,
    "start_time": "2022-05-25T12:58:36.602Z"
   },
   {
    "duration": 8,
    "start_time": "2022-05-25T12:58:36.608Z"
   },
   {
    "duration": 8,
    "start_time": "2022-05-25T12:58:36.617Z"
   },
   {
    "duration": 192,
    "start_time": "2022-05-25T12:58:36.627Z"
   },
   {
    "duration": 26,
    "start_time": "2022-05-25T12:58:36.821Z"
   },
   {
    "duration": 158,
    "start_time": "2022-05-25T12:58:44.032Z"
   },
   {
    "duration": 144,
    "start_time": "2022-05-25T12:58:48.484Z"
   },
   {
    "duration": 32,
    "start_time": "2022-05-25T12:59:09.080Z"
   },
   {
    "duration": 34,
    "start_time": "2022-05-25T12:59:26.265Z"
   },
   {
    "duration": 31,
    "start_time": "2022-05-25T13:00:26.410Z"
   },
   {
    "duration": 41,
    "start_time": "2022-05-25T13:01:10.832Z"
   },
   {
    "duration": 42,
    "start_time": "2022-05-25T13:01:22.577Z"
   },
   {
    "duration": 50,
    "start_time": "2022-05-25T13:03:45.062Z"
   },
   {
    "duration": 51,
    "start_time": "2022-05-25T13:03:52.756Z"
   },
   {
    "duration": 34,
    "start_time": "2022-05-25T13:03:59.173Z"
   },
   {
    "duration": 39,
    "start_time": "2022-05-25T13:04:05.704Z"
   },
   {
    "duration": 103,
    "start_time": "2022-05-25T13:04:14.494Z"
   },
   {
    "duration": 59,
    "start_time": "2022-05-25T13:04:19.663Z"
   },
   {
    "duration": 145,
    "start_time": "2022-05-25T15:04:29.551Z"
   },
   {
    "duration": 4,
    "start_time": "2022-05-25T15:04:44.224Z"
   },
   {
    "duration": 231,
    "start_time": "2022-05-25T15:04:53.905Z"
   },
   {
    "duration": 60,
    "start_time": "2022-05-25T15:12:44.963Z"
   },
   {
    "duration": 888,
    "start_time": "2022-05-25T15:13:46.765Z"
   },
   {
    "duration": 948,
    "start_time": "2022-05-25T15:16:36.794Z"
   },
   {
    "duration": 899,
    "start_time": "2022-05-25T15:17:14.222Z"
   },
   {
    "duration": 401,
    "start_time": "2022-05-25T15:20:20.490Z"
   },
   {
    "duration": 1286,
    "start_time": "2022-05-25T15:20:25.874Z"
   },
   {
    "duration": 1443,
    "start_time": "2022-05-25T15:20:59.700Z"
   },
   {
    "duration": 1470,
    "start_time": "2022-05-25T15:22:28.390Z"
   },
   {
    "duration": 588,
    "start_time": "2022-05-25T15:32:00.552Z"
   },
   {
    "duration": 535,
    "start_time": "2022-05-25T15:32:35.614Z"
   },
   {
    "duration": 1492,
    "start_time": "2022-05-25T15:33:46.866Z"
   },
   {
    "duration": 1095,
    "start_time": "2022-05-25T15:34:00.886Z"
   },
   {
    "duration": 1223,
    "start_time": "2022-05-25T15:34:46.444Z"
   },
   {
    "duration": 545,
    "start_time": "2022-05-25T15:35:23.721Z"
   },
   {
    "duration": 87,
    "start_time": "2022-05-25T15:48:23.785Z"
   },
   {
    "duration": 8,
    "start_time": "2022-05-25T15:49:07.558Z"
   },
   {
    "duration": 9,
    "start_time": "2022-05-25T15:49:19.471Z"
   },
   {
    "duration": 10,
    "start_time": "2022-05-25T15:49:52.536Z"
   },
   {
    "duration": 3,
    "start_time": "2022-05-25T15:50:42.912Z"
   },
   {
    "duration": 1110,
    "start_time": "2022-05-26T10:53:13.201Z"
   },
   {
    "duration": 144,
    "start_time": "2022-05-26T10:53:15.474Z"
   },
   {
    "duration": 29,
    "start_time": "2022-05-26T10:53:17.170Z"
   },
   {
    "duration": 14,
    "start_time": "2022-05-26T10:53:17.827Z"
   },
   {
    "duration": 4,
    "start_time": "2022-05-26T10:53:19.330Z"
   },
   {
    "duration": 12,
    "start_time": "2022-05-26T10:53:20.090Z"
   },
   {
    "duration": 14,
    "start_time": "2022-05-26T10:53:20.290Z"
   },
   {
    "duration": 11,
    "start_time": "2022-05-26T10:53:20.482Z"
   },
   {
    "duration": 6,
    "start_time": "2022-05-26T10:53:20.675Z"
   },
   {
    "duration": 3,
    "start_time": "2022-05-26T10:53:21.042Z"
   },
   {
    "duration": 5,
    "start_time": "2022-05-26T10:53:21.618Z"
   },
   {
    "duration": 5,
    "start_time": "2022-05-26T10:53:22.018Z"
   },
   {
    "duration": 3,
    "start_time": "2022-05-26T10:53:26.026Z"
   },
   {
    "duration": 12,
    "start_time": "2022-05-26T10:53:26.682Z"
   },
   {
    "duration": 6,
    "start_time": "2022-05-26T10:53:27.134Z"
   },
   {
    "duration": 5,
    "start_time": "2022-05-26T10:53:27.810Z"
   },
   {
    "duration": 2,
    "start_time": "2022-05-26T10:53:28.034Z"
   },
   {
    "duration": 2,
    "start_time": "2022-05-26T10:53:28.282Z"
   },
   {
    "duration": 382,
    "start_time": "2022-05-26T11:00:19.132Z"
   },
   {
    "duration": 21,
    "start_time": "2022-05-26T11:01:16.979Z"
   },
   {
    "duration": 3,
    "start_time": "2022-05-26T11:01:41.642Z"
   },
   {
    "duration": 86,
    "start_time": "2022-05-26T11:01:42.522Z"
   },
   {
    "duration": 27,
    "start_time": "2022-05-26T11:01:43.714Z"
   },
   {
    "duration": 14,
    "start_time": "2022-05-26T11:01:44.356Z"
   },
   {
    "duration": 6,
    "start_time": "2022-05-26T11:01:50.042Z"
   },
   {
    "duration": 11,
    "start_time": "2022-05-26T11:01:53.586Z"
   },
   {
    "duration": 11,
    "start_time": "2022-05-26T11:01:55.098Z"
   },
   {
    "duration": 10,
    "start_time": "2022-05-26T11:01:56.347Z"
   },
   {
    "duration": 4,
    "start_time": "2022-05-26T11:01:59.522Z"
   },
   {
    "duration": 3,
    "start_time": "2022-05-26T11:02:01.058Z"
   },
   {
    "duration": 5,
    "start_time": "2022-05-26T11:02:02.369Z"
   },
   {
    "duration": 6,
    "start_time": "2022-05-26T11:02:03.026Z"
   },
   {
    "duration": 3,
    "start_time": "2022-05-26T11:02:08.666Z"
   },
   {
    "duration": 11,
    "start_time": "2022-05-26T11:02:11.364Z"
   },
   {
    "duration": 6,
    "start_time": "2022-05-26T11:02:21.698Z"
   },
   {
    "duration": 7,
    "start_time": "2022-05-26T11:02:22.834Z"
   },
   {
    "duration": 18,
    "start_time": "2022-05-26T11:02:26.827Z"
   },
   {
    "duration": 23,
    "start_time": "2022-05-26T11:03:18.116Z"
   },
   {
    "duration": 21,
    "start_time": "2022-05-26T11:03:27.954Z"
   },
   {
    "duration": 5,
    "start_time": "2022-05-26T11:03:33.322Z"
   },
   {
    "duration": 3,
    "start_time": "2022-05-26T11:03:53.435Z"
   },
   {
    "duration": 85,
    "start_time": "2022-05-26T11:03:53.635Z"
   },
   {
    "duration": 24,
    "start_time": "2022-05-26T11:03:54.042Z"
   },
   {
    "duration": 13,
    "start_time": "2022-05-26T11:03:54.946Z"
   },
   {
    "duration": 22,
    "start_time": "2022-05-26T11:04:58.914Z"
   },
   {
    "duration": 10,
    "start_time": "2022-05-26T11:05:59.309Z"
   },
   {
    "duration": 836,
    "start_time": "2022-05-26T11:06:02.419Z"
   },
   {
    "duration": 3,
    "start_time": "2022-05-26T11:06:45.322Z"
   },
   {
    "duration": 91,
    "start_time": "2022-05-26T11:06:45.690Z"
   },
   {
    "duration": 23,
    "start_time": "2022-05-26T11:06:46.586Z"
   },
   {
    "duration": 13,
    "start_time": "2022-05-26T11:06:47.482Z"
   },
   {
    "duration": 6,
    "start_time": "2022-05-26T11:06:49.321Z"
   },
   {
    "duration": 12,
    "start_time": "2022-05-26T11:06:50.345Z"
   },
   {
    "duration": 11,
    "start_time": "2022-05-26T11:06:50.522Z"
   },
   {
    "duration": 12,
    "start_time": "2022-05-26T11:06:50.746Z"
   },
   {
    "duration": 5,
    "start_time": "2022-05-26T11:06:51.002Z"
   },
   {
    "duration": 4,
    "start_time": "2022-05-26T11:06:51.620Z"
   },
   {
    "duration": 5,
    "start_time": "2022-05-26T11:06:52.204Z"
   },
   {
    "duration": 6,
    "start_time": "2022-05-26T11:06:52.802Z"
   },
   {
    "duration": 4,
    "start_time": "2022-05-26T11:06:53.985Z"
   },
   {
    "duration": 19,
    "start_time": "2022-05-26T11:06:55.569Z"
   },
   {
    "duration": 6,
    "start_time": "2022-05-26T11:06:56.426Z"
   },
   {
    "duration": 6,
    "start_time": "2022-05-26T11:07:03.337Z"
   },
   {
    "duration": 23,
    "start_time": "2022-05-26T11:07:36.027Z"
   },
   {
    "duration": 13,
    "start_time": "2022-05-26T11:07:38.356Z"
   },
   {
    "duration": 22,
    "start_time": "2022-05-26T11:07:39.379Z"
   },
   {
    "duration": 32,
    "start_time": "2022-05-26T11:07:43.426Z"
   },
   {
    "duration": 4,
    "start_time": "2022-05-26T11:07:44.922Z"
   },
   {
    "duration": 11,
    "start_time": "2022-05-26T11:07:45.514Z"
   },
   {
    "duration": 7,
    "start_time": "2022-05-26T11:07:45.899Z"
   },
   {
    "duration": 5,
    "start_time": "2022-05-26T11:07:46.372Z"
   },
   {
    "duration": 1058,
    "start_time": "2022-05-26T11:07:47.193Z"
   },
   {
    "duration": 639,
    "start_time": "2022-05-26T11:07:48.379Z"
   },
   {
    "duration": 143,
    "start_time": "2022-05-26T11:07:49.258Z"
   },
   {
    "duration": 225,
    "start_time": "2022-05-26T11:07:49.776Z"
   },
   {
    "duration": 235,
    "start_time": "2022-05-26T11:07:51.705Z"
   },
   {
    "duration": 10,
    "start_time": "2022-05-26T11:07:52.530Z"
   },
   {
    "duration": 13,
    "start_time": "2022-05-26T11:07:53.137Z"
   },
   {
    "duration": 161,
    "start_time": "2022-05-26T11:07:58.123Z"
   },
   {
    "duration": 1439,
    "start_time": "2022-05-26T11:08:00.401Z"
   },
   {
    "duration": 6,
    "start_time": "2022-05-26T11:08:03.545Z"
   },
   {
    "duration": 7,
    "start_time": "2022-05-26T11:08:03.793Z"
   },
   {
    "duration": 7,
    "start_time": "2022-05-26T11:08:04.434Z"
   },
   {
    "duration": 157,
    "start_time": "2022-05-26T11:08:07.521Z"
   },
   {
    "duration": 568,
    "start_time": "2022-05-26T11:08:26.778Z"
   },
   {
    "duration": 628,
    "start_time": "2022-05-26T11:10:26.234Z"
   },
   {
    "duration": 140,
    "start_time": "2022-05-26T11:10:53.155Z"
   },
   {
    "duration": 513,
    "start_time": "2022-05-26T11:13:34.578Z"
   },
   {
    "duration": 512,
    "start_time": "2022-05-26T11:14:34.641Z"
   },
   {
    "duration": 220,
    "start_time": "2022-05-26T11:15:35.313Z"
   },
   {
    "duration": 142,
    "start_time": "2022-05-26T11:16:55.177Z"
   },
   {
    "duration": 30,
    "start_time": "2022-05-26T11:17:32.505Z"
   },
   {
    "duration": 6,
    "start_time": "2022-05-26T11:18:00.435Z"
   },
   {
    "duration": 39,
    "start_time": "2022-05-26T11:18:50.874Z"
   },
   {
    "duration": 138,
    "start_time": "2022-05-26T11:18:55.704Z"
   },
   {
    "duration": 169,
    "start_time": "2022-05-26T11:19:06.536Z"
   },
   {
    "duration": 3,
    "start_time": "2022-05-26T11:36:46.341Z"
   },
   {
    "duration": 925,
    "start_time": "2022-05-26T11:36:51.815Z"
   },
   {
    "duration": 335,
    "start_time": "2022-05-26T11:36:52.742Z"
   },
   {
    "duration": 31,
    "start_time": "2022-05-26T11:36:53.079Z"
   },
   {
    "duration": 15,
    "start_time": "2022-05-26T11:36:53.112Z"
   },
   {
    "duration": 5,
    "start_time": "2022-05-26T11:36:53.129Z"
   },
   {
    "duration": 33,
    "start_time": "2022-05-26T11:36:53.136Z"
   },
   {
    "duration": 19,
    "start_time": "2022-05-26T11:36:53.171Z"
   },
   {
    "duration": 13,
    "start_time": "2022-05-26T11:36:53.192Z"
   },
   {
    "duration": 5,
    "start_time": "2022-05-26T11:36:53.207Z"
   },
   {
    "duration": 3,
    "start_time": "2022-05-26T11:36:53.215Z"
   },
   {
    "duration": 48,
    "start_time": "2022-05-26T11:36:53.220Z"
   },
   {
    "duration": 8,
    "start_time": "2022-05-26T11:36:53.271Z"
   },
   {
    "duration": 9,
    "start_time": "2022-05-26T11:36:53.283Z"
   },
   {
    "duration": 16,
    "start_time": "2022-05-26T11:36:53.294Z"
   },
   {
    "duration": 7,
    "start_time": "2022-05-26T11:36:53.312Z"
   },
   {
    "duration": 11,
    "start_time": "2022-05-26T11:36:53.322Z"
   },
   {
    "duration": 51,
    "start_time": "2022-05-26T11:36:53.335Z"
   },
   {
    "duration": 12,
    "start_time": "2022-05-26T11:36:53.388Z"
   },
   {
    "duration": 35,
    "start_time": "2022-05-26T11:36:53.402Z"
   },
   {
    "duration": 13,
    "start_time": "2022-05-26T11:36:53.439Z"
   },
   {
    "duration": 35,
    "start_time": "2022-05-26T11:36:53.455Z"
   },
   {
    "duration": 41,
    "start_time": "2022-05-26T11:36:53.492Z"
   },
   {
    "duration": 6,
    "start_time": "2022-05-26T11:36:53.535Z"
   },
   {
    "duration": 21,
    "start_time": "2022-05-26T11:36:53.571Z"
   },
   {
    "duration": 9,
    "start_time": "2022-05-26T11:36:53.594Z"
   },
   {
    "duration": 11,
    "start_time": "2022-05-26T11:36:53.605Z"
   },
   {
    "duration": 959,
    "start_time": "2022-05-26T11:36:53.618Z"
   },
   {
    "duration": 835,
    "start_time": "2022-05-26T11:36:54.582Z"
   },
   {
    "duration": 200,
    "start_time": "2022-05-26T11:36:55.419Z"
   },
   {
    "duration": 256,
    "start_time": "2022-05-26T11:36:55.621Z"
   },
   {
    "duration": 200,
    "start_time": "2022-05-26T11:36:55.880Z"
   },
   {
    "duration": 11,
    "start_time": "2022-05-26T11:36:56.082Z"
   },
   {
    "duration": 15,
    "start_time": "2022-05-26T11:36:56.095Z"
   },
   {
    "duration": 214,
    "start_time": "2022-05-26T11:36:56.113Z"
   },
   {
    "duration": 1818,
    "start_time": "2022-05-26T11:36:56.328Z"
   },
   {
    "duration": 7,
    "start_time": "2022-05-26T11:36:58.147Z"
   },
   {
    "duration": 20,
    "start_time": "2022-05-26T11:36:58.155Z"
   },
   {
    "duration": 18,
    "start_time": "2022-05-26T11:36:58.177Z"
   },
   {
    "duration": 189,
    "start_time": "2022-05-26T11:36:58.196Z"
   },
   {
    "duration": 986,
    "start_time": "2022-05-26T11:36:58.387Z"
   },
   {
    "duration": 0,
    "start_time": "2022-05-26T11:36:59.376Z"
   },
   {
    "duration": 1370,
    "start_time": "2022-05-26T11:37:22.699Z"
   },
   {
    "duration": 1385,
    "start_time": "2022-05-26T11:38:01.620Z"
   },
   {
    "duration": 407,
    "start_time": "2022-05-26T11:38:47.987Z"
   },
   {
    "duration": 519,
    "start_time": "2022-05-26T11:39:02.197Z"
   },
   {
    "duration": 388,
    "start_time": "2022-05-26T11:39:11.551Z"
   },
   {
    "duration": 412,
    "start_time": "2022-05-26T11:39:16.511Z"
   },
   {
    "duration": 1042,
    "start_time": "2022-05-26T11:39:39.482Z"
   }
  ],
  "kernelspec": {
   "display_name": "Python 3 (ipykernel)",
   "language": "python",
   "name": "python3"
  },
  "language_info": {
   "codemirror_mode": {
    "name": "ipython",
    "version": 3
   },
   "file_extension": ".py",
   "mimetype": "text/x-python",
   "name": "python",
   "nbconvert_exporter": "python",
   "pygments_lexer": "ipython3",
   "version": "3.9.7"
  },
  "toc": {
   "base_numbering": 1,
   "nav_menu": {},
   "number_sections": true,
   "sideBar": true,
   "skip_h1_title": true,
   "title_cell": "Содержание",
   "title_sidebar": "Contents",
   "toc_cell": true,
   "toc_position": {},
   "toc_section_display": true,
   "toc_window_display": false
  }
 },
 "nbformat": 4,
 "nbformat_minor": 4
}
