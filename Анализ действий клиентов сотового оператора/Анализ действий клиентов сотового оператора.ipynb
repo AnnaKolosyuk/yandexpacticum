{
 "cells": [
  {
   "cell_type": "markdown",
   "id": "45b7772b",
   "metadata": {},
   "source": [
    "Сегодняшний проект посвящен компании «Мегалайн» — федерального оператора сотовой связи. Они предлагают клиентам два тарифных плана: «Смарт» и «Ультра». Чтобы скорректировать рекламный бюджет, коммерческий департамент хочет понять, какой тариф приносит больше денег.\n",
    "Нам предстоит сделать предварительный анализ тарифов на небольшой выборке клиентов. В нашем распоряжении данные 500 пользователей «Мегалайна»: кто они, откуда, каким тарифом пользуются, сколько звонков и сообщений каждый отправил за 2018 год. Нужно проанализировать поведение клиентов и сделать вывод — какой тариф лучше."
   ]
  },
  {
   "cell_type": "markdown",
   "id": "65be87a3",
   "metadata": {},
   "source": [
    "## Шаг 1. Обзор данных"
   ]
  },
  {
   "cell_type": "code",
   "execution_count": 1,
   "id": "a63b2354",
   "metadata": {},
   "outputs": [],
   "source": [
    "import pandas as pd\n",
    "import numpy as np\n",
    "from matplotlib import pyplot as plt\n",
    "from math import factorial\n",
    "import math as mt\n",
    "from scipy.stats import norm\n",
    "from scipy import stats as st\n",
    "import scipy.stats"
   ]
  },
  {
   "cell_type": "markdown",
   "id": "21e99919",
   "metadata": {},
   "source": [
    "Первым делом импортируем наши датасеты и выведем информацию о них на экран."
   ]
  },
  {
   "cell_type": "code",
   "execution_count": 2,
   "id": "0d72dcd1",
   "metadata": {},
   "outputs": [],
   "source": [
    "try:\n",
    "    users = pd.read_csv('C:/Users/annya/Downloads/users.csv')\n",
    "    tariffs = pd.read_csv('C:/Users/annya/Downloads/tariffs.csv')\n",
    "    messages = pd.read_csv('C:/Users/annya/Downloads/messages.csv')\n",
    "    internet = pd.read_csv('C:/Users/annya/Downloads/internet.csv')\n",
    "    calls = pd.read_csv('C:/Users/annya/Downloads/calls.csv')\n",
    "except:\n",
    "    users = pd.read_csv('/datasets/users.csv')\n",
    "    tariffs = pd.read_csv('/datasets/tariffs.csv')\n",
    "    messages = pd.read_csv('/datasets/messages.csv')\n",
    "    internet = pd.read_csv('/datasets/internet.csv')\n",
    "    calls = pd.read_csv('/datasets/calls.csv')"
   ]
  },
  {
   "cell_type": "code",
   "execution_count": 3,
   "id": "bd50a1fc",
   "metadata": {
    "scrolled": true
   },
   "outputs": [
    {
     "name": "stdout",
     "output_type": "stream",
     "text": [
      "<class 'pandas.core.frame.DataFrame'>\n",
      "RangeIndex: 500 entries, 0 to 499\n",
      "Data columns (total 8 columns):\n",
      " #   Column      Non-Null Count  Dtype \n",
      "---  ------      --------------  ----- \n",
      " 0   user_id     500 non-null    int64 \n",
      " 1   age         500 non-null    int64 \n",
      " 2   churn_date  38 non-null     object\n",
      " 3   city        500 non-null    object\n",
      " 4   first_name  500 non-null    object\n",
      " 5   last_name   500 non-null    object\n",
      " 6   reg_date    500 non-null    object\n",
      " 7   tariff      500 non-null    object\n",
      "dtypes: int64(2), object(6)\n",
      "memory usage: 31.4+ KB\n",
      "None\n",
      "<class 'pandas.core.frame.DataFrame'>\n",
      "RangeIndex: 2 entries, 0 to 1\n",
      "Data columns (total 8 columns):\n",
      " #   Column                 Non-Null Count  Dtype \n",
      "---  ------                 --------------  ----- \n",
      " 0   messages_included      2 non-null      int64 \n",
      " 1   mb_per_month_included  2 non-null      int64 \n",
      " 2   minutes_included       2 non-null      int64 \n",
      " 3   rub_monthly_fee        2 non-null      int64 \n",
      " 4   rub_per_gb             2 non-null      int64 \n",
      " 5   rub_per_message        2 non-null      int64 \n",
      " 6   rub_per_minute         2 non-null      int64 \n",
      " 7   tariff_name            2 non-null      object\n",
      "dtypes: int64(7), object(1)\n",
      "memory usage: 256.0+ bytes\n",
      "None\n",
      "<class 'pandas.core.frame.DataFrame'>\n",
      "RangeIndex: 123036 entries, 0 to 123035\n",
      "Data columns (total 3 columns):\n",
      " #   Column        Non-Null Count   Dtype \n",
      "---  ------        --------------   ----- \n",
      " 0   id            123036 non-null  object\n",
      " 1   message_date  123036 non-null  object\n",
      " 2   user_id       123036 non-null  int64 \n",
      "dtypes: int64(1), object(2)\n",
      "memory usage: 2.8+ MB\n",
      "None\n",
      "<class 'pandas.core.frame.DataFrame'>\n",
      "RangeIndex: 149396 entries, 0 to 149395\n",
      "Data columns (total 5 columns):\n",
      " #   Column        Non-Null Count   Dtype  \n",
      "---  ------        --------------   -----  \n",
      " 0   Unnamed: 0    149396 non-null  int64  \n",
      " 1   id            149396 non-null  object \n",
      " 2   mb_used       149396 non-null  float64\n",
      " 3   session_date  149396 non-null  object \n",
      " 4   user_id       149396 non-null  int64  \n",
      "dtypes: float64(1), int64(2), object(2)\n",
      "memory usage: 5.7+ MB\n",
      "None\n",
      "<class 'pandas.core.frame.DataFrame'>\n",
      "RangeIndex: 202607 entries, 0 to 202606\n",
      "Data columns (total 4 columns):\n",
      " #   Column     Non-Null Count   Dtype  \n",
      "---  ------     --------------   -----  \n",
      " 0   id         202607 non-null  object \n",
      " 1   call_date  202607 non-null  object \n",
      " 2   duration   202607 non-null  float64\n",
      " 3   user_id    202607 non-null  int64  \n",
      "dtypes: float64(1), int64(1), object(2)\n",
      "memory usage: 6.2+ MB\n"
     ]
    }
   ],
   "source": [
    "print(users.info())\n",
    "print(tariffs.info())\n",
    "print(messages.info())\n",
    "print(internet.info())\n",
    "calls.info()"
   ]
  },
  {
   "cell_type": "markdown",
   "id": "88910830",
   "metadata": {},
   "source": [
    "Первое, что мы можем отметить - отсутствие пропусков в наших датасетах, а это не может не радовать. Единственный пропуск замечен в users в столбце churn_date, он хранит в себе дату окончания действия тарифа, а NaN означает, что тариф всё ещё используется. Поэтому прежде чем начинать обработку дубликатов и дальнейшее исследование, избавимся от пропусков в этом столбце, заменив их на 0. Также мы видим колонку Unnamed: 0 в internet, который просто дублирует наши индексы. Удалим его, чтобы не путаться. И наконец переименует колонку tariff_name для того, чтобы в дальнейшем на её основе можно было соединять её с другими датасетами."
   ]
  },
  {
   "cell_type": "code",
   "execution_count": 4,
   "id": "e237e7e6",
   "metadata": {},
   "outputs": [],
   "source": [
    "users['churn_date'] = users['churn_date'].fillna(0)\n",
    "internet.pop('Unnamed: 0')\n",
    "tariffs.rename(columns={'tariff_name': 'tariff'}, inplace=True)"
   ]
  },
  {
   "cell_type": "markdown",
   "id": "29c29bc9",
   "metadata": {},
   "source": [
    "Теперь выведем по 5 первых строк из каждого датафрейма."
   ]
  },
  {
   "cell_type": "code",
   "execution_count": 5,
   "id": "db73cb09",
   "metadata": {
    "scrolled": true
   },
   "outputs": [
    {
     "data": {
      "text/html": [
       "<div>\n",
       "<style scoped>\n",
       "    .dataframe tbody tr th:only-of-type {\n",
       "        vertical-align: middle;\n",
       "    }\n",
       "\n",
       "    .dataframe tbody tr th {\n",
       "        vertical-align: top;\n",
       "    }\n",
       "\n",
       "    .dataframe thead th {\n",
       "        text-align: right;\n",
       "    }\n",
       "</style>\n",
       "<table border=\"1\" class=\"dataframe\">\n",
       "  <thead>\n",
       "    <tr style=\"text-align: right;\">\n",
       "      <th></th>\n",
       "      <th>user_id</th>\n",
       "      <th>age</th>\n",
       "      <th>churn_date</th>\n",
       "      <th>city</th>\n",
       "      <th>first_name</th>\n",
       "      <th>last_name</th>\n",
       "      <th>reg_date</th>\n",
       "      <th>tariff</th>\n",
       "    </tr>\n",
       "  </thead>\n",
       "  <tbody>\n",
       "    <tr>\n",
       "      <th>0</th>\n",
       "      <td>1000</td>\n",
       "      <td>52</td>\n",
       "      <td>0</td>\n",
       "      <td>Краснодар</td>\n",
       "      <td>Рафаил</td>\n",
       "      <td>Верещагин</td>\n",
       "      <td>2018-05-25</td>\n",
       "      <td>ultra</td>\n",
       "    </tr>\n",
       "    <tr>\n",
       "      <th>1</th>\n",
       "      <td>1001</td>\n",
       "      <td>41</td>\n",
       "      <td>0</td>\n",
       "      <td>Москва</td>\n",
       "      <td>Иван</td>\n",
       "      <td>Ежов</td>\n",
       "      <td>2018-11-01</td>\n",
       "      <td>smart</td>\n",
       "    </tr>\n",
       "    <tr>\n",
       "      <th>2</th>\n",
       "      <td>1002</td>\n",
       "      <td>59</td>\n",
       "      <td>0</td>\n",
       "      <td>Стерлитамак</td>\n",
       "      <td>Евгений</td>\n",
       "      <td>Абрамович</td>\n",
       "      <td>2018-06-17</td>\n",
       "      <td>smart</td>\n",
       "    </tr>\n",
       "    <tr>\n",
       "      <th>3</th>\n",
       "      <td>1003</td>\n",
       "      <td>23</td>\n",
       "      <td>0</td>\n",
       "      <td>Москва</td>\n",
       "      <td>Белла</td>\n",
       "      <td>Белякова</td>\n",
       "      <td>2018-08-17</td>\n",
       "      <td>ultra</td>\n",
       "    </tr>\n",
       "    <tr>\n",
       "      <th>4</th>\n",
       "      <td>1004</td>\n",
       "      <td>68</td>\n",
       "      <td>0</td>\n",
       "      <td>Новокузнецк</td>\n",
       "      <td>Татьяна</td>\n",
       "      <td>Авдеенко</td>\n",
       "      <td>2018-05-14</td>\n",
       "      <td>ultra</td>\n",
       "    </tr>\n",
       "  </tbody>\n",
       "</table>\n",
       "</div>"
      ],
      "text/plain": [
       "   user_id  age churn_date         city first_name  last_name    reg_date  \\\n",
       "0     1000   52          0    Краснодар     Рафаил  Верещагин  2018-05-25   \n",
       "1     1001   41          0       Москва       Иван       Ежов  2018-11-01   \n",
       "2     1002   59          0  Стерлитамак    Евгений  Абрамович  2018-06-17   \n",
       "3     1003   23          0       Москва      Белла   Белякова  2018-08-17   \n",
       "4     1004   68          0  Новокузнецк    Татьяна   Авдеенко  2018-05-14   \n",
       "\n",
       "  tariff  \n",
       "0  ultra  \n",
       "1  smart  \n",
       "2  smart  \n",
       "3  ultra  \n",
       "4  ultra  "
      ]
     },
     "metadata": {},
     "output_type": "display_data"
    },
    {
     "data": {
      "text/html": [
       "<div>\n",
       "<style scoped>\n",
       "    .dataframe tbody tr th:only-of-type {\n",
       "        vertical-align: middle;\n",
       "    }\n",
       "\n",
       "    .dataframe tbody tr th {\n",
       "        vertical-align: top;\n",
       "    }\n",
       "\n",
       "    .dataframe thead th {\n",
       "        text-align: right;\n",
       "    }\n",
       "</style>\n",
       "<table border=\"1\" class=\"dataframe\">\n",
       "  <thead>\n",
       "    <tr style=\"text-align: right;\">\n",
       "      <th></th>\n",
       "      <th>messages_included</th>\n",
       "      <th>mb_per_month_included</th>\n",
       "      <th>minutes_included</th>\n",
       "      <th>rub_monthly_fee</th>\n",
       "      <th>rub_per_gb</th>\n",
       "      <th>rub_per_message</th>\n",
       "      <th>rub_per_minute</th>\n",
       "      <th>tariff</th>\n",
       "    </tr>\n",
       "  </thead>\n",
       "  <tbody>\n",
       "    <tr>\n",
       "      <th>0</th>\n",
       "      <td>50</td>\n",
       "      <td>15360</td>\n",
       "      <td>500</td>\n",
       "      <td>550</td>\n",
       "      <td>200</td>\n",
       "      <td>3</td>\n",
       "      <td>3</td>\n",
       "      <td>smart</td>\n",
       "    </tr>\n",
       "    <tr>\n",
       "      <th>1</th>\n",
       "      <td>1000</td>\n",
       "      <td>30720</td>\n",
       "      <td>3000</td>\n",
       "      <td>1950</td>\n",
       "      <td>150</td>\n",
       "      <td>1</td>\n",
       "      <td>1</td>\n",
       "      <td>ultra</td>\n",
       "    </tr>\n",
       "  </tbody>\n",
       "</table>\n",
       "</div>"
      ],
      "text/plain": [
       "   messages_included  mb_per_month_included  minutes_included  \\\n",
       "0                 50                  15360               500   \n",
       "1               1000                  30720              3000   \n",
       "\n",
       "   rub_monthly_fee  rub_per_gb  rub_per_message  rub_per_minute tariff  \n",
       "0              550         200                3               3  smart  \n",
       "1             1950         150                1               1  ultra  "
      ]
     },
     "metadata": {},
     "output_type": "display_data"
    },
    {
     "data": {
      "text/html": [
       "<div>\n",
       "<style scoped>\n",
       "    .dataframe tbody tr th:only-of-type {\n",
       "        vertical-align: middle;\n",
       "    }\n",
       "\n",
       "    .dataframe tbody tr th {\n",
       "        vertical-align: top;\n",
       "    }\n",
       "\n",
       "    .dataframe thead th {\n",
       "        text-align: right;\n",
       "    }\n",
       "</style>\n",
       "<table border=\"1\" class=\"dataframe\">\n",
       "  <thead>\n",
       "    <tr style=\"text-align: right;\">\n",
       "      <th></th>\n",
       "      <th>id</th>\n",
       "      <th>message_date</th>\n",
       "      <th>user_id</th>\n",
       "    </tr>\n",
       "  </thead>\n",
       "  <tbody>\n",
       "    <tr>\n",
       "      <th>0</th>\n",
       "      <td>1000_0</td>\n",
       "      <td>2018-06-27</td>\n",
       "      <td>1000</td>\n",
       "    </tr>\n",
       "    <tr>\n",
       "      <th>1</th>\n",
       "      <td>1000_1</td>\n",
       "      <td>2018-10-08</td>\n",
       "      <td>1000</td>\n",
       "    </tr>\n",
       "    <tr>\n",
       "      <th>2</th>\n",
       "      <td>1000_2</td>\n",
       "      <td>2018-08-04</td>\n",
       "      <td>1000</td>\n",
       "    </tr>\n",
       "    <tr>\n",
       "      <th>3</th>\n",
       "      <td>1000_3</td>\n",
       "      <td>2018-06-16</td>\n",
       "      <td>1000</td>\n",
       "    </tr>\n",
       "    <tr>\n",
       "      <th>4</th>\n",
       "      <td>1000_4</td>\n",
       "      <td>2018-12-05</td>\n",
       "      <td>1000</td>\n",
       "    </tr>\n",
       "  </tbody>\n",
       "</table>\n",
       "</div>"
      ],
      "text/plain": [
       "       id message_date  user_id\n",
       "0  1000_0   2018-06-27     1000\n",
       "1  1000_1   2018-10-08     1000\n",
       "2  1000_2   2018-08-04     1000\n",
       "3  1000_3   2018-06-16     1000\n",
       "4  1000_4   2018-12-05     1000"
      ]
     },
     "metadata": {},
     "output_type": "display_data"
    },
    {
     "data": {
      "text/html": [
       "<div>\n",
       "<style scoped>\n",
       "    .dataframe tbody tr th:only-of-type {\n",
       "        vertical-align: middle;\n",
       "    }\n",
       "\n",
       "    .dataframe tbody tr th {\n",
       "        vertical-align: top;\n",
       "    }\n",
       "\n",
       "    .dataframe thead th {\n",
       "        text-align: right;\n",
       "    }\n",
       "</style>\n",
       "<table border=\"1\" class=\"dataframe\">\n",
       "  <thead>\n",
       "    <tr style=\"text-align: right;\">\n",
       "      <th></th>\n",
       "      <th>id</th>\n",
       "      <th>mb_used</th>\n",
       "      <th>session_date</th>\n",
       "      <th>user_id</th>\n",
       "    </tr>\n",
       "  </thead>\n",
       "  <tbody>\n",
       "    <tr>\n",
       "      <th>0</th>\n",
       "      <td>1000_0</td>\n",
       "      <td>112.95</td>\n",
       "      <td>2018-11-25</td>\n",
       "      <td>1000</td>\n",
       "    </tr>\n",
       "    <tr>\n",
       "      <th>1</th>\n",
       "      <td>1000_1</td>\n",
       "      <td>1052.81</td>\n",
       "      <td>2018-09-07</td>\n",
       "      <td>1000</td>\n",
       "    </tr>\n",
       "    <tr>\n",
       "      <th>2</th>\n",
       "      <td>1000_2</td>\n",
       "      <td>1197.26</td>\n",
       "      <td>2018-06-25</td>\n",
       "      <td>1000</td>\n",
       "    </tr>\n",
       "    <tr>\n",
       "      <th>3</th>\n",
       "      <td>1000_3</td>\n",
       "      <td>550.27</td>\n",
       "      <td>2018-08-22</td>\n",
       "      <td>1000</td>\n",
       "    </tr>\n",
       "    <tr>\n",
       "      <th>4</th>\n",
       "      <td>1000_4</td>\n",
       "      <td>302.56</td>\n",
       "      <td>2018-09-24</td>\n",
       "      <td>1000</td>\n",
       "    </tr>\n",
       "  </tbody>\n",
       "</table>\n",
       "</div>"
      ],
      "text/plain": [
       "       id  mb_used session_date  user_id\n",
       "0  1000_0   112.95   2018-11-25     1000\n",
       "1  1000_1  1052.81   2018-09-07     1000\n",
       "2  1000_2  1197.26   2018-06-25     1000\n",
       "3  1000_3   550.27   2018-08-22     1000\n",
       "4  1000_4   302.56   2018-09-24     1000"
      ]
     },
     "metadata": {},
     "output_type": "display_data"
    },
    {
     "data": {
      "text/html": [
       "<div>\n",
       "<style scoped>\n",
       "    .dataframe tbody tr th:only-of-type {\n",
       "        vertical-align: middle;\n",
       "    }\n",
       "\n",
       "    .dataframe tbody tr th {\n",
       "        vertical-align: top;\n",
       "    }\n",
       "\n",
       "    .dataframe thead th {\n",
       "        text-align: right;\n",
       "    }\n",
       "</style>\n",
       "<table border=\"1\" class=\"dataframe\">\n",
       "  <thead>\n",
       "    <tr style=\"text-align: right;\">\n",
       "      <th></th>\n",
       "      <th>id</th>\n",
       "      <th>call_date</th>\n",
       "      <th>duration</th>\n",
       "      <th>user_id</th>\n",
       "    </tr>\n",
       "  </thead>\n",
       "  <tbody>\n",
       "    <tr>\n",
       "      <th>0</th>\n",
       "      <td>1000_0</td>\n",
       "      <td>2018-07-25</td>\n",
       "      <td>0.00</td>\n",
       "      <td>1000</td>\n",
       "    </tr>\n",
       "    <tr>\n",
       "      <th>1</th>\n",
       "      <td>1000_1</td>\n",
       "      <td>2018-08-17</td>\n",
       "      <td>0.00</td>\n",
       "      <td>1000</td>\n",
       "    </tr>\n",
       "    <tr>\n",
       "      <th>2</th>\n",
       "      <td>1000_2</td>\n",
       "      <td>2018-06-11</td>\n",
       "      <td>2.85</td>\n",
       "      <td>1000</td>\n",
       "    </tr>\n",
       "    <tr>\n",
       "      <th>3</th>\n",
       "      <td>1000_3</td>\n",
       "      <td>2018-09-21</td>\n",
       "      <td>13.80</td>\n",
       "      <td>1000</td>\n",
       "    </tr>\n",
       "    <tr>\n",
       "      <th>4</th>\n",
       "      <td>1000_4</td>\n",
       "      <td>2018-12-15</td>\n",
       "      <td>5.18</td>\n",
       "      <td>1000</td>\n",
       "    </tr>\n",
       "  </tbody>\n",
       "</table>\n",
       "</div>"
      ],
      "text/plain": [
       "       id   call_date  duration  user_id\n",
       "0  1000_0  2018-07-25      0.00     1000\n",
       "1  1000_1  2018-08-17      0.00     1000\n",
       "2  1000_2  2018-06-11      2.85     1000\n",
       "3  1000_3  2018-09-21     13.80     1000\n",
       "4  1000_4  2018-12-15      5.18     1000"
      ]
     },
     "execution_count": 5,
     "metadata": {},
     "output_type": "execute_result"
    }
   ],
   "source": [
    "display(users.head())\n",
    "display(tariffs.head())\n",
    "display(messages.head())\n",
    "display(internet.head())\n",
    "calls.head()"
   ]
  },
  {
   "cell_type": "markdown",
   "id": "269c2072",
   "metadata": {},
   "source": [
    "Отлично, теперь перерходим к предобработке наших данных. Наша задачи заменить типы, исправить ошибки, удалить дубликаты."
   ]
  },
  {
   "cell_type": "markdown",
   "id": "f6688225",
   "metadata": {},
   "source": [
    "## Шаг 2. Подготовка и предобработка данных"
   ]
  },
  {
   "cell_type": "markdown",
   "id": "9940f2e2",
   "metadata": {},
   "source": [
    "Первым делом найдём явные дубликаты в каждом датасете."
   ]
  },
  {
   "cell_type": "code",
   "execution_count": 6,
   "id": "0bce5fdb",
   "metadata": {
    "scrolled": true
   },
   "outputs": [
    {
     "name": "stdout",
     "output_type": "stream",
     "text": [
      "0\n",
      "0\n",
      "0\n",
      "0\n"
     ]
    },
    {
     "data": {
      "text/plain": [
       "0"
      ]
     },
     "execution_count": 6,
     "metadata": {},
     "output_type": "execute_result"
    }
   ],
   "source": [
    "print(users.duplicated().sum())\n",
    "print(tariffs.duplicated().sum())\n",
    "print(messages.duplicated().sum())\n",
    "print(internet.duplicated().sum())\n",
    "calls.duplicated().sum()"
   ]
  },
  {
   "cell_type": "markdown",
   "id": "75ba6023",
   "metadata": {},
   "source": [
    "Теперь поищем неявные дубликаты в тех столбцах, где они могут встречаться."
   ]
  },
  {
   "cell_type": "code",
   "execution_count": 7,
   "id": "f96319f6",
   "metadata": {},
   "outputs": [
    {
     "name": "stdout",
     "output_type": "stream",
     "text": [
      "['Краснодар' 'Москва' 'Стерлитамак' 'Новокузнецк' 'Набережные Челны'\n",
      " 'Ульяновск' 'Челябинск' 'Пермь' 'Тюмень' 'Самара' 'Санкт-Петербург'\n",
      " 'Иваново' 'Чебоксары' 'Омск' 'Уфа' 'Томск' 'Чита' 'Мурманск'\n",
      " 'Петрозаводск' 'Тверь' 'Екатеринбург' 'Махачкала' 'Вологда' 'Череповец'\n",
      " 'Ярославль' 'Сочи' 'Хабаровск' 'Ставрополь' 'Рязань' 'Улан-Удэ' 'Тула'\n",
      " 'Саратов' 'Ростов-на-Дону' 'Казань' 'Иркутск' 'Курск' 'Калуга' 'Якутск'\n",
      " 'Астрахань' 'Химки' 'Владикавказ' 'Волгоград' 'Саранск' 'Ижевск'\n",
      " 'Новосибирск' 'Брянск' 'Тольятти' 'Нижний Тагил' 'Орёл' 'Белгород'\n",
      " 'Воронеж' 'Волжский' 'Курган' 'Барнаул' 'Красноярск' 'Архангельск'\n",
      " 'Липецк' 'Кемерово' 'Киров' 'Сургут' 'Пенза' 'Магнитогорск'\n",
      " 'Нижний Новгород' 'Кострома' 'Владивосток' 'Тамбов' 'Балашиха'\n",
      " 'Севастополь' 'Калининград' 'Оренбург' 'Смоленск' 'Нижневартовск'\n",
      " 'Владимир' 'Новороссийск' 'Грозный' 'Подольск']\n",
      "['ultra' 'smart']\n"
     ]
    },
    {
     "data": {
      "text/plain": [
       "array(['smart', 'ultra'], dtype=object)"
      ]
     },
     "execution_count": 7,
     "metadata": {},
     "output_type": "execute_result"
    }
   ],
   "source": [
    "print(users['city'].unique())\n",
    "print(users['tariff'].unique())\n",
    "tariffs['tariff'].unique()"
   ]
  },
  {
   "cell_type": "markdown",
   "id": "9cb73017",
   "metadata": {},
   "source": [
    "Таковых не нашлось, нам же легче!"
   ]
  },
  {
   "cell_type": "markdown",
   "id": "0bd442c8",
   "metadata": {},
   "source": [
    "Пришло время изменить типы данных в тех столбцах, где это требудется. В столбцах churn_date, reg_date, message_date, session_date, call_date заменим тип на datetime."
   ]
  },
  {
   "cell_type": "code",
   "execution_count": 8,
   "id": "f6a3a84c",
   "metadata": {},
   "outputs": [],
   "source": [
    "users['churn_date'] = users['churn_date'].astype('datetime64[ns]')\n",
    "users['reg_date'] = users['reg_date'].astype('datetime64[ns]')\n",
    "messages['message_date'] = messages['message_date'].astype('datetime64[ns]')\n",
    "internet['session_date'] = internet['session_date'].astype('datetime64[ns]')\n",
    "calls['call_date'] = calls['call_date'].astype('datetime64[ns]')"
   ]
  },
  {
   "cell_type": "markdown",
   "id": "310da9b9",
   "metadata": {},
   "source": [
    "Теперь добавим к нашим датасетам следующие рассчёты: \n",
    "- количество сделанных звонков и израсходованных минут разговора по месяцам(предварительно округлив их);\n",
    "- количество отправленных сообщений по месяцам;\n",
    "- объем израсходованного интернет-трафика по месяцам;"
   ]
  },
  {
   "cell_type": "code",
   "execution_count": 9,
   "id": "c3267735",
   "metadata": {},
   "outputs": [],
   "source": [
    "calls['duration'] = calls['duration'].apply(np.ceil)\n",
    "calls['month'] = pd.DatetimeIndex(calls['call_date']).month\n",
    "messages['month'] = pd.DatetimeIndex(messages['message_date']).month\n",
    "internet['month'] = pd.DatetimeIndex(internet['session_date']).month"
   ]
  },
  {
   "cell_type": "code",
   "execution_count": 22,
   "id": "f1f4534c",
   "metadata": {},
   "outputs": [
    {
     "data": {
      "text/html": [
       "<div>\n",
       "<style scoped>\n",
       "    .dataframe tbody tr th:only-of-type {\n",
       "        vertical-align: middle;\n",
       "    }\n",
       "\n",
       "    .dataframe tbody tr th {\n",
       "        vertical-align: top;\n",
       "    }\n",
       "\n",
       "    .dataframe thead th {\n",
       "        text-align: right;\n",
       "    }\n",
       "</style>\n",
       "<table border=\"1\" class=\"dataframe\">\n",
       "  <thead>\n",
       "    <tr style=\"text-align: right;\">\n",
       "      <th></th>\n",
       "      <th>id</th>\n",
       "      <th>call_date</th>\n",
       "      <th>duration</th>\n",
       "      <th>user_id</th>\n",
       "      <th>month</th>\n",
       "      <th>test</th>\n",
       "    </tr>\n",
       "  </thead>\n",
       "  <tbody>\n",
       "    <tr>\n",
       "      <th>0</th>\n",
       "      <td>1000_0</td>\n",
       "      <td>2018-07-25</td>\n",
       "      <td>0.0</td>\n",
       "      <td>1000</td>\n",
       "      <td>7</td>\n",
       "      <td>2018-07-01</td>\n",
       "    </tr>\n",
       "    <tr>\n",
       "      <th>1</th>\n",
       "      <td>1000_1</td>\n",
       "      <td>2018-08-17</td>\n",
       "      <td>0.0</td>\n",
       "      <td>1000</td>\n",
       "      <td>8</td>\n",
       "      <td>2018-08-01</td>\n",
       "    </tr>\n",
       "    <tr>\n",
       "      <th>2</th>\n",
       "      <td>1000_2</td>\n",
       "      <td>2018-06-11</td>\n",
       "      <td>3.0</td>\n",
       "      <td>1000</td>\n",
       "      <td>6</td>\n",
       "      <td>2018-06-01</td>\n",
       "    </tr>\n",
       "    <tr>\n",
       "      <th>3</th>\n",
       "      <td>1000_3</td>\n",
       "      <td>2018-09-21</td>\n",
       "      <td>14.0</td>\n",
       "      <td>1000</td>\n",
       "      <td>9</td>\n",
       "      <td>2018-09-01</td>\n",
       "    </tr>\n",
       "    <tr>\n",
       "      <th>4</th>\n",
       "      <td>1000_4</td>\n",
       "      <td>2018-12-15</td>\n",
       "      <td>6.0</td>\n",
       "      <td>1000</td>\n",
       "      <td>12</td>\n",
       "      <td>2018-12-01</td>\n",
       "    </tr>\n",
       "    <tr>\n",
       "      <th>...</th>\n",
       "      <td>...</td>\n",
       "      <td>...</td>\n",
       "      <td>...</td>\n",
       "      <td>...</td>\n",
       "      <td>...</td>\n",
       "      <td>...</td>\n",
       "    </tr>\n",
       "    <tr>\n",
       "      <th>202602</th>\n",
       "      <td>1499_215</td>\n",
       "      <td>2018-12-26</td>\n",
       "      <td>1.0</td>\n",
       "      <td>1499</td>\n",
       "      <td>12</td>\n",
       "      <td>2018-12-01</td>\n",
       "    </tr>\n",
       "    <tr>\n",
       "      <th>202603</th>\n",
       "      <td>1499_216</td>\n",
       "      <td>2018-10-18</td>\n",
       "      <td>19.0</td>\n",
       "      <td>1499</td>\n",
       "      <td>10</td>\n",
       "      <td>2018-10-01</td>\n",
       "    </tr>\n",
       "    <tr>\n",
       "      <th>202604</th>\n",
       "      <td>1499_217</td>\n",
       "      <td>2018-11-10</td>\n",
       "      <td>11.0</td>\n",
       "      <td>1499</td>\n",
       "      <td>11</td>\n",
       "      <td>2018-11-01</td>\n",
       "    </tr>\n",
       "    <tr>\n",
       "      <th>202605</th>\n",
       "      <td>1499_218</td>\n",
       "      <td>2018-10-06</td>\n",
       "      <td>5.0</td>\n",
       "      <td>1499</td>\n",
       "      <td>10</td>\n",
       "      <td>2018-10-01</td>\n",
       "    </tr>\n",
       "    <tr>\n",
       "      <th>202606</th>\n",
       "      <td>1499_219</td>\n",
       "      <td>2018-12-14</td>\n",
       "      <td>20.0</td>\n",
       "      <td>1499</td>\n",
       "      <td>12</td>\n",
       "      <td>2018-12-01</td>\n",
       "    </tr>\n",
       "  </tbody>\n",
       "</table>\n",
       "<p>202607 rows × 6 columns</p>\n",
       "</div>"
      ],
      "text/plain": [
       "              id  call_date  duration  user_id  month       test\n",
       "0         1000_0 2018-07-25       0.0     1000      7 2018-07-01\n",
       "1         1000_1 2018-08-17       0.0     1000      8 2018-08-01\n",
       "2         1000_2 2018-06-11       3.0     1000      6 2018-06-01\n",
       "3         1000_3 2018-09-21      14.0     1000      9 2018-09-01\n",
       "4         1000_4 2018-12-15       6.0     1000     12 2018-12-01\n",
       "...          ...        ...       ...      ...    ...        ...\n",
       "202602  1499_215 2018-12-26       1.0     1499     12 2018-12-01\n",
       "202603  1499_216 2018-10-18      19.0     1499     10 2018-10-01\n",
       "202604  1499_217 2018-11-10      11.0     1499     11 2018-11-01\n",
       "202605  1499_218 2018-10-06       5.0     1499     10 2018-10-01\n",
       "202606  1499_219 2018-12-14      20.0     1499     12 2018-12-01\n",
       "\n",
       "[202607 rows x 6 columns]"
      ]
     },
     "execution_count": 22,
     "metadata": {},
     "output_type": "execute_result"
    }
   ],
   "source": [
    "# Код ревьюера\n",
    "calls['test'] = calls['call_date'].astype('datetime64[M]')\n",
    "calls"
   ]
  },
  {
   "cell_type": "code",
   "execution_count": 10,
   "id": "14898308",
   "metadata": {},
   "outputs": [
    {
     "data": {
      "text/html": [
       "<div>\n",
       "<style scoped>\n",
       "    .dataframe tbody tr th:only-of-type {\n",
       "        vertical-align: middle;\n",
       "    }\n",
       "\n",
       "    .dataframe tbody tr th {\n",
       "        vertical-align: top;\n",
       "    }\n",
       "\n",
       "    .dataframe thead th {\n",
       "        text-align: right;\n",
       "    }\n",
       "</style>\n",
       "<table border=\"1\" class=\"dataframe\">\n",
       "  <thead>\n",
       "    <tr style=\"text-align: right;\">\n",
       "      <th></th>\n",
       "      <th>user_id</th>\n",
       "      <th>month</th>\n",
       "      <th>sum_min</th>\n",
       "      <th>count_calls</th>\n",
       "    </tr>\n",
       "  </thead>\n",
       "  <tbody>\n",
       "    <tr>\n",
       "      <th>0</th>\n",
       "      <td>1000</td>\n",
       "      <td>5</td>\n",
       "      <td>159.0</td>\n",
       "      <td>22</td>\n",
       "    </tr>\n",
       "    <tr>\n",
       "      <th>1</th>\n",
       "      <td>1000</td>\n",
       "      <td>6</td>\n",
       "      <td>172.0</td>\n",
       "      <td>43</td>\n",
       "    </tr>\n",
       "    <tr>\n",
       "      <th>2</th>\n",
       "      <td>1000</td>\n",
       "      <td>7</td>\n",
       "      <td>340.0</td>\n",
       "      <td>47</td>\n",
       "    </tr>\n",
       "    <tr>\n",
       "      <th>3</th>\n",
       "      <td>1000</td>\n",
       "      <td>8</td>\n",
       "      <td>408.0</td>\n",
       "      <td>52</td>\n",
       "    </tr>\n",
       "    <tr>\n",
       "      <th>4</th>\n",
       "      <td>1000</td>\n",
       "      <td>9</td>\n",
       "      <td>466.0</td>\n",
       "      <td>58</td>\n",
       "    </tr>\n",
       "  </tbody>\n",
       "</table>\n",
       "</div>"
      ],
      "text/plain": [
       "   user_id  month  sum_min  count_calls\n",
       "0     1000      5    159.0           22\n",
       "1     1000      6    172.0           43\n",
       "2     1000      7    340.0           47\n",
       "3     1000      8    408.0           52\n",
       "4     1000      9    466.0           58"
      ]
     },
     "metadata": {},
     "output_type": "display_data"
    },
    {
     "data": {
      "text/html": [
       "<div>\n",
       "<style scoped>\n",
       "    .dataframe tbody tr th:only-of-type {\n",
       "        vertical-align: middle;\n",
       "    }\n",
       "\n",
       "    .dataframe tbody tr th {\n",
       "        vertical-align: top;\n",
       "    }\n",
       "\n",
       "    .dataframe thead th {\n",
       "        text-align: right;\n",
       "    }\n",
       "</style>\n",
       "<table border=\"1\" class=\"dataframe\">\n",
       "  <thead>\n",
       "    <tr style=\"text-align: right;\">\n",
       "      <th></th>\n",
       "      <th>user_id</th>\n",
       "      <th>month</th>\n",
       "      <th>count_messages</th>\n",
       "    </tr>\n",
       "  </thead>\n",
       "  <tbody>\n",
       "    <tr>\n",
       "      <th>0</th>\n",
       "      <td>1000</td>\n",
       "      <td>5</td>\n",
       "      <td>22</td>\n",
       "    </tr>\n",
       "    <tr>\n",
       "      <th>1</th>\n",
       "      <td>1000</td>\n",
       "      <td>6</td>\n",
       "      <td>60</td>\n",
       "    </tr>\n",
       "    <tr>\n",
       "      <th>2</th>\n",
       "      <td>1000</td>\n",
       "      <td>7</td>\n",
       "      <td>75</td>\n",
       "    </tr>\n",
       "    <tr>\n",
       "      <th>3</th>\n",
       "      <td>1000</td>\n",
       "      <td>8</td>\n",
       "      <td>81</td>\n",
       "    </tr>\n",
       "    <tr>\n",
       "      <th>4</th>\n",
       "      <td>1000</td>\n",
       "      <td>9</td>\n",
       "      <td>57</td>\n",
       "    </tr>\n",
       "  </tbody>\n",
       "</table>\n",
       "</div>"
      ],
      "text/plain": [
       "   user_id  month  count_messages\n",
       "0     1000      5              22\n",
       "1     1000      6              60\n",
       "2     1000      7              75\n",
       "3     1000      8              81\n",
       "4     1000      9              57"
      ]
     },
     "metadata": {},
     "output_type": "display_data"
    },
    {
     "data": {
      "text/html": [
       "<div>\n",
       "<style scoped>\n",
       "    .dataframe tbody tr th:only-of-type {\n",
       "        vertical-align: middle;\n",
       "    }\n",
       "\n",
       "    .dataframe tbody tr th {\n",
       "        vertical-align: top;\n",
       "    }\n",
       "\n",
       "    .dataframe thead th {\n",
       "        text-align: right;\n",
       "    }\n",
       "</style>\n",
       "<table border=\"1\" class=\"dataframe\">\n",
       "  <thead>\n",
       "    <tr style=\"text-align: right;\">\n",
       "      <th></th>\n",
       "      <th>user_id</th>\n",
       "      <th>month</th>\n",
       "      <th>sum_internet</th>\n",
       "    </tr>\n",
       "  </thead>\n",
       "  <tbody>\n",
       "    <tr>\n",
       "      <th>0</th>\n",
       "      <td>1000</td>\n",
       "      <td>5</td>\n",
       "      <td>2.200674</td>\n",
       "    </tr>\n",
       "    <tr>\n",
       "      <th>1</th>\n",
       "      <td>1000</td>\n",
       "      <td>6</td>\n",
       "      <td>22.689229</td>\n",
       "    </tr>\n",
       "    <tr>\n",
       "      <th>2</th>\n",
       "      <td>1000</td>\n",
       "      <td>7</td>\n",
       "      <td>13.675430</td>\n",
       "    </tr>\n",
       "    <tr>\n",
       "      <th>3</th>\n",
       "      <td>1000</td>\n",
       "      <td>8</td>\n",
       "      <td>13.726494</td>\n",
       "    </tr>\n",
       "    <tr>\n",
       "      <th>4</th>\n",
       "      <td>1000</td>\n",
       "      <td>9</td>\n",
       "      <td>14.227451</td>\n",
       "    </tr>\n",
       "  </tbody>\n",
       "</table>\n",
       "</div>"
      ],
      "text/plain": [
       "   user_id  month  sum_internet\n",
       "0     1000      5      2.200674\n",
       "1     1000      6     22.689229\n",
       "2     1000      7     13.675430\n",
       "3     1000      8     13.726494\n",
       "4     1000      9     14.227451"
      ]
     },
     "execution_count": 10,
     "metadata": {},
     "output_type": "execute_result"
    }
   ],
   "source": [
    "calls_pivot = calls.pivot_table(index=['user_id', 'month'], values='duration', aggfunc=['sum', 'count']).reset_index()\n",
    "messages_pivot = messages.pivot_table(index=['user_id', 'month'], values='id', aggfunc='count').reset_index()\n",
    "internet_pivot = internet.pivot_table(index=['user_id', 'month'], values='mb_used', aggfunc='sum').reset_index()\n",
    "calls_pivot.columns = ['user_id', 'month', 'sum_min', 'count_calls']\n",
    "messages_pivot.columns=['user_id', 'month', 'count_messages']\n",
    "internet_pivot.columns = ['user_id', 'month', 'sum_internet']\n",
    "internet_pivot['sum_internet'] = internet_pivot['sum_internet']/1024 #переводим мб в гб\n",
    "display(calls_pivot.head())\n",
    "display(messages_pivot.head())\n",
    "internet_pivot.head()"
   ]
  },
  {
   "cell_type": "markdown",
   "id": "f868d985",
   "metadata": {},
   "source": [
    "Теперь посчитаем помесячную выручку с каждого пользователя. Для этого вычтем бесплатный лимит из суммарного количества звонков, сообщений и интернет-трафика; остаток умножим на значение из тарифного плана и прибавим абонентскую плату, соответствующую тарифному плану). Но сначала для удобства подсчётов объединим таблицы с нашими данными и округлим гигабайты и минуты в большую сторону."
   ]
  },
  {
   "cell_type": "code",
   "execution_count": 11,
   "id": "73ec4fe9",
   "metadata": {
    "scrolled": true
   },
   "outputs": [
    {
     "data": {
      "text/html": [
       "<div>\n",
       "<style scoped>\n",
       "    .dataframe tbody tr th:only-of-type {\n",
       "        vertical-align: middle;\n",
       "    }\n",
       "\n",
       "    .dataframe tbody tr th {\n",
       "        vertical-align: top;\n",
       "    }\n",
       "\n",
       "    .dataframe thead th {\n",
       "        text-align: right;\n",
       "    }\n",
       "</style>\n",
       "<table border=\"1\" class=\"dataframe\">\n",
       "  <thead>\n",
       "    <tr style=\"text-align: right;\">\n",
       "      <th></th>\n",
       "      <th>user_id</th>\n",
       "      <th>month</th>\n",
       "      <th>sum_min</th>\n",
       "      <th>count_calls</th>\n",
       "      <th>count_messages</th>\n",
       "      <th>sum_internet</th>\n",
       "      <th>age</th>\n",
       "      <th>churn_date</th>\n",
       "      <th>city</th>\n",
       "      <th>first_name</th>\n",
       "      <th>last_name</th>\n",
       "      <th>reg_date</th>\n",
       "      <th>tariff</th>\n",
       "      <th>messages_included</th>\n",
       "      <th>mb_per_month_included</th>\n",
       "      <th>minutes_included</th>\n",
       "      <th>rub_monthly_fee</th>\n",
       "      <th>rub_per_gb</th>\n",
       "      <th>rub_per_message</th>\n",
       "      <th>rub_per_minute</th>\n",
       "    </tr>\n",
       "  </thead>\n",
       "  <tbody>\n",
       "    <tr>\n",
       "      <th>0</th>\n",
       "      <td>1000</td>\n",
       "      <td>5</td>\n",
       "      <td>159.0</td>\n",
       "      <td>22.0</td>\n",
       "      <td>22.0</td>\n",
       "      <td>3.0</td>\n",
       "      <td>52</td>\n",
       "      <td>1970-01-01</td>\n",
       "      <td>Краснодар</td>\n",
       "      <td>Рафаил</td>\n",
       "      <td>Верещагин</td>\n",
       "      <td>2018-05-25</td>\n",
       "      <td>ultra</td>\n",
       "      <td>1000</td>\n",
       "      <td>30720</td>\n",
       "      <td>3000</td>\n",
       "      <td>1950</td>\n",
       "      <td>150</td>\n",
       "      <td>1</td>\n",
       "      <td>1</td>\n",
       "    </tr>\n",
       "    <tr>\n",
       "      <th>1</th>\n",
       "      <td>1000</td>\n",
       "      <td>6</td>\n",
       "      <td>172.0</td>\n",
       "      <td>43.0</td>\n",
       "      <td>60.0</td>\n",
       "      <td>23.0</td>\n",
       "      <td>52</td>\n",
       "      <td>1970-01-01</td>\n",
       "      <td>Краснодар</td>\n",
       "      <td>Рафаил</td>\n",
       "      <td>Верещагин</td>\n",
       "      <td>2018-05-25</td>\n",
       "      <td>ultra</td>\n",
       "      <td>1000</td>\n",
       "      <td>30720</td>\n",
       "      <td>3000</td>\n",
       "      <td>1950</td>\n",
       "      <td>150</td>\n",
       "      <td>1</td>\n",
       "      <td>1</td>\n",
       "    </tr>\n",
       "    <tr>\n",
       "      <th>2</th>\n",
       "      <td>1000</td>\n",
       "      <td>7</td>\n",
       "      <td>340.0</td>\n",
       "      <td>47.0</td>\n",
       "      <td>75.0</td>\n",
       "      <td>14.0</td>\n",
       "      <td>52</td>\n",
       "      <td>1970-01-01</td>\n",
       "      <td>Краснодар</td>\n",
       "      <td>Рафаил</td>\n",
       "      <td>Верещагин</td>\n",
       "      <td>2018-05-25</td>\n",
       "      <td>ultra</td>\n",
       "      <td>1000</td>\n",
       "      <td>30720</td>\n",
       "      <td>3000</td>\n",
       "      <td>1950</td>\n",
       "      <td>150</td>\n",
       "      <td>1</td>\n",
       "      <td>1</td>\n",
       "    </tr>\n",
       "    <tr>\n",
       "      <th>3</th>\n",
       "      <td>1000</td>\n",
       "      <td>8</td>\n",
       "      <td>408.0</td>\n",
       "      <td>52.0</td>\n",
       "      <td>81.0</td>\n",
       "      <td>14.0</td>\n",
       "      <td>52</td>\n",
       "      <td>1970-01-01</td>\n",
       "      <td>Краснодар</td>\n",
       "      <td>Рафаил</td>\n",
       "      <td>Верещагин</td>\n",
       "      <td>2018-05-25</td>\n",
       "      <td>ultra</td>\n",
       "      <td>1000</td>\n",
       "      <td>30720</td>\n",
       "      <td>3000</td>\n",
       "      <td>1950</td>\n",
       "      <td>150</td>\n",
       "      <td>1</td>\n",
       "      <td>1</td>\n",
       "    </tr>\n",
       "    <tr>\n",
       "      <th>4</th>\n",
       "      <td>1000</td>\n",
       "      <td>9</td>\n",
       "      <td>466.0</td>\n",
       "      <td>58.0</td>\n",
       "      <td>57.0</td>\n",
       "      <td>15.0</td>\n",
       "      <td>52</td>\n",
       "      <td>1970-01-01</td>\n",
       "      <td>Краснодар</td>\n",
       "      <td>Рафаил</td>\n",
       "      <td>Верещагин</td>\n",
       "      <td>2018-05-25</td>\n",
       "      <td>ultra</td>\n",
       "      <td>1000</td>\n",
       "      <td>30720</td>\n",
       "      <td>3000</td>\n",
       "      <td>1950</td>\n",
       "      <td>150</td>\n",
       "      <td>1</td>\n",
       "      <td>1</td>\n",
       "    </tr>\n",
       "    <tr>\n",
       "      <th>...</th>\n",
       "      <td>...</td>\n",
       "      <td>...</td>\n",
       "      <td>...</td>\n",
       "      <td>...</td>\n",
       "      <td>...</td>\n",
       "      <td>...</td>\n",
       "      <td>...</td>\n",
       "      <td>...</td>\n",
       "      <td>...</td>\n",
       "      <td>...</td>\n",
       "      <td>...</td>\n",
       "      <td>...</td>\n",
       "      <td>...</td>\n",
       "      <td>...</td>\n",
       "      <td>...</td>\n",
       "      <td>...</td>\n",
       "      <td>...</td>\n",
       "      <td>...</td>\n",
       "      <td>...</td>\n",
       "      <td>...</td>\n",
       "    </tr>\n",
       "    <tr>\n",
       "      <th>3209</th>\n",
       "      <td>1489</td>\n",
       "      <td>8</td>\n",
       "      <td>NaN</td>\n",
       "      <td>NaN</td>\n",
       "      <td>17.0</td>\n",
       "      <td>11.0</td>\n",
       "      <td>35</td>\n",
       "      <td>1970-01-01</td>\n",
       "      <td>Санкт-Петербург</td>\n",
       "      <td>Павел</td>\n",
       "      <td>Гончаров</td>\n",
       "      <td>2018-08-15</td>\n",
       "      <td>smart</td>\n",
       "      <td>50</td>\n",
       "      <td>15360</td>\n",
       "      <td>500</td>\n",
       "      <td>550</td>\n",
       "      <td>200</td>\n",
       "      <td>3</td>\n",
       "      <td>3</td>\n",
       "    </tr>\n",
       "    <tr>\n",
       "      <th>3210</th>\n",
       "      <td>1489</td>\n",
       "      <td>9</td>\n",
       "      <td>NaN</td>\n",
       "      <td>NaN</td>\n",
       "      <td>32.0</td>\n",
       "      <td>17.0</td>\n",
       "      <td>35</td>\n",
       "      <td>1970-01-01</td>\n",
       "      <td>Санкт-Петербург</td>\n",
       "      <td>Павел</td>\n",
       "      <td>Гончаров</td>\n",
       "      <td>2018-08-15</td>\n",
       "      <td>smart</td>\n",
       "      <td>50</td>\n",
       "      <td>15360</td>\n",
       "      <td>500</td>\n",
       "      <td>550</td>\n",
       "      <td>200</td>\n",
       "      <td>3</td>\n",
       "      <td>3</td>\n",
       "    </tr>\n",
       "    <tr>\n",
       "      <th>3211</th>\n",
       "      <td>1489</td>\n",
       "      <td>10</td>\n",
       "      <td>NaN</td>\n",
       "      <td>NaN</td>\n",
       "      <td>21.0</td>\n",
       "      <td>20.0</td>\n",
       "      <td>35</td>\n",
       "      <td>1970-01-01</td>\n",
       "      <td>Санкт-Петербург</td>\n",
       "      <td>Павел</td>\n",
       "      <td>Гончаров</td>\n",
       "      <td>2018-08-15</td>\n",
       "      <td>smart</td>\n",
       "      <td>50</td>\n",
       "      <td>15360</td>\n",
       "      <td>500</td>\n",
       "      <td>550</td>\n",
       "      <td>200</td>\n",
       "      <td>3</td>\n",
       "      <td>3</td>\n",
       "    </tr>\n",
       "    <tr>\n",
       "      <th>3212</th>\n",
       "      <td>1489</td>\n",
       "      <td>11</td>\n",
       "      <td>NaN</td>\n",
       "      <td>NaN</td>\n",
       "      <td>20.0</td>\n",
       "      <td>18.0</td>\n",
       "      <td>35</td>\n",
       "      <td>1970-01-01</td>\n",
       "      <td>Санкт-Петербург</td>\n",
       "      <td>Павел</td>\n",
       "      <td>Гончаров</td>\n",
       "      <td>2018-08-15</td>\n",
       "      <td>smart</td>\n",
       "      <td>50</td>\n",
       "      <td>15360</td>\n",
       "      <td>500</td>\n",
       "      <td>550</td>\n",
       "      <td>200</td>\n",
       "      <td>3</td>\n",
       "      <td>3</td>\n",
       "    </tr>\n",
       "    <tr>\n",
       "      <th>3213</th>\n",
       "      <td>1489</td>\n",
       "      <td>12</td>\n",
       "      <td>NaN</td>\n",
       "      <td>NaN</td>\n",
       "      <td>35.0</td>\n",
       "      <td>17.0</td>\n",
       "      <td>35</td>\n",
       "      <td>1970-01-01</td>\n",
       "      <td>Санкт-Петербург</td>\n",
       "      <td>Павел</td>\n",
       "      <td>Гончаров</td>\n",
       "      <td>2018-08-15</td>\n",
       "      <td>smart</td>\n",
       "      <td>50</td>\n",
       "      <td>15360</td>\n",
       "      <td>500</td>\n",
       "      <td>550</td>\n",
       "      <td>200</td>\n",
       "      <td>3</td>\n",
       "      <td>3</td>\n",
       "    </tr>\n",
       "  </tbody>\n",
       "</table>\n",
       "<p>3214 rows × 20 columns</p>\n",
       "</div>"
      ],
      "text/plain": [
       "      user_id  month  sum_min  count_calls  count_messages  sum_internet  age  \\\n",
       "0        1000      5    159.0         22.0            22.0           3.0   52   \n",
       "1        1000      6    172.0         43.0            60.0          23.0   52   \n",
       "2        1000      7    340.0         47.0            75.0          14.0   52   \n",
       "3        1000      8    408.0         52.0            81.0          14.0   52   \n",
       "4        1000      9    466.0         58.0            57.0          15.0   52   \n",
       "...       ...    ...      ...          ...             ...           ...  ...   \n",
       "3209     1489      8      NaN          NaN            17.0          11.0   35   \n",
       "3210     1489      9      NaN          NaN            32.0          17.0   35   \n",
       "3211     1489     10      NaN          NaN            21.0          20.0   35   \n",
       "3212     1489     11      NaN          NaN            20.0          18.0   35   \n",
       "3213     1489     12      NaN          NaN            35.0          17.0   35   \n",
       "\n",
       "     churn_date             city first_name  last_name   reg_date tariff  \\\n",
       "0    1970-01-01        Краснодар     Рафаил  Верещагин 2018-05-25  ultra   \n",
       "1    1970-01-01        Краснодар     Рафаил  Верещагин 2018-05-25  ultra   \n",
       "2    1970-01-01        Краснодар     Рафаил  Верещагин 2018-05-25  ultra   \n",
       "3    1970-01-01        Краснодар     Рафаил  Верещагин 2018-05-25  ultra   \n",
       "4    1970-01-01        Краснодар     Рафаил  Верещагин 2018-05-25  ultra   \n",
       "...         ...              ...        ...        ...        ...    ...   \n",
       "3209 1970-01-01  Санкт-Петербург      Павел   Гончаров 2018-08-15  smart   \n",
       "3210 1970-01-01  Санкт-Петербург      Павел   Гончаров 2018-08-15  smart   \n",
       "3211 1970-01-01  Санкт-Петербург      Павел   Гончаров 2018-08-15  smart   \n",
       "3212 1970-01-01  Санкт-Петербург      Павел   Гончаров 2018-08-15  smart   \n",
       "3213 1970-01-01  Санкт-Петербург      Павел   Гончаров 2018-08-15  smart   \n",
       "\n",
       "      messages_included  mb_per_month_included  minutes_included  \\\n",
       "0                  1000                  30720              3000   \n",
       "1                  1000                  30720              3000   \n",
       "2                  1000                  30720              3000   \n",
       "3                  1000                  30720              3000   \n",
       "4                  1000                  30720              3000   \n",
       "...                 ...                    ...               ...   \n",
       "3209                 50                  15360               500   \n",
       "3210                 50                  15360               500   \n",
       "3211                 50                  15360               500   \n",
       "3212                 50                  15360               500   \n",
       "3213                 50                  15360               500   \n",
       "\n",
       "      rub_monthly_fee  rub_per_gb  rub_per_message  rub_per_minute  \n",
       "0                1950         150                1               1  \n",
       "1                1950         150                1               1  \n",
       "2                1950         150                1               1  \n",
       "3                1950         150                1               1  \n",
       "4                1950         150                1               1  \n",
       "...               ...         ...              ...             ...  \n",
       "3209              550         200                3               3  \n",
       "3210              550         200                3               3  \n",
       "3211              550         200                3               3  \n",
       "3212              550         200                3               3  \n",
       "3213              550         200                3               3  \n",
       "\n",
       "[3214 rows x 20 columns]"
      ]
     },
     "execution_count": 11,
     "metadata": {},
     "output_type": "execute_result"
    }
   ],
   "source": [
    "big_data1 = calls_pivot.merge(messages_pivot, on=['user_id','month'], how='outer')\n",
    "big_data2 = big_data1.merge(internet_pivot, on=['user_id','month'], how='outer')\n",
    "big_data3 = big_data2.merge(users, on='user_id', how='left')\n",
    "data = big_data3.merge(tariffs, on='tariff')\n",
    "data = data.reset_index(drop=True)\n",
    "data['sum_internet'] = data['sum_internet'].apply(np.ceil)\n",
    "data"
   ]
  },
  {
   "cell_type": "markdown",
   "id": "6964282b",
   "metadata": {},
   "source": [
    "Прежде чем производить подсчёт проверим, нет ли пропусков в наших данных, а если таковые обнаружаться, то заменим их на 0. А также изменим тип на int в тех столбцах, где были пропущенные значения."
   ]
  },
  {
   "cell_type": "code",
   "execution_count": 12,
   "id": "06898a13",
   "metadata": {},
   "outputs": [
    {
     "name": "stdout",
     "output_type": "stream",
     "text": [
      "user_id                    0\n",
      "month                      0\n",
      "sum_min                   40\n",
      "count_calls               40\n",
      "count_messages           497\n",
      "sum_internet              11\n",
      "age                        0\n",
      "churn_date                 0\n",
      "city                       0\n",
      "first_name                 0\n",
      "last_name                  0\n",
      "reg_date                   0\n",
      "tariff                     0\n",
      "messages_included          0\n",
      "mb_per_month_included      0\n",
      "minutes_included           0\n",
      "rub_monthly_fee            0\n",
      "rub_per_gb                 0\n",
      "rub_per_message            0\n",
      "rub_per_minute             0\n",
      "dtype: int64\n"
     ]
    }
   ],
   "source": [
    "print(data.isnull().sum())\n",
    "data = data.fillna(0)\n",
    "data['count_messages'] = data['count_messages'].astype(int)\n",
    "data['sum_min'] = data['sum_min'].astype(int)\n",
    "data['count_calls'] = data['count_calls'].astype(int)"
   ]
  },
  {
   "cell_type": "markdown",
   "id": "326f9595",
   "metadata": {},
   "source": [
    "Теперь приступаем к подсчёту помесячной выручки. Напишим функцию, которая произведёт подсчёт абонентской платны и выход за трафик(если такой имеется) и вернёт нам сумму помесячной выручки с одного клиента. После рассчётов выведем на экран 8 случайных строк из датасета."
   ]
  },
  {
   "cell_type": "code",
   "execution_count": 13,
   "id": "2eda3c48",
   "metadata": {
    "scrolled": true
   },
   "outputs": [
    {
     "data": {
      "text/html": [
       "<div>\n",
       "<style scoped>\n",
       "    .dataframe tbody tr th:only-of-type {\n",
       "        vertical-align: middle;\n",
       "    }\n",
       "\n",
       "    .dataframe tbody tr th {\n",
       "        vertical-align: top;\n",
       "    }\n",
       "\n",
       "    .dataframe thead th {\n",
       "        text-align: right;\n",
       "    }\n",
       "</style>\n",
       "<table border=\"1\" class=\"dataframe\">\n",
       "  <thead>\n",
       "    <tr style=\"text-align: right;\">\n",
       "      <th></th>\n",
       "      <th>user_id</th>\n",
       "      <th>month</th>\n",
       "      <th>sum_min</th>\n",
       "      <th>count_calls</th>\n",
       "      <th>count_messages</th>\n",
       "      <th>sum_internet</th>\n",
       "      <th>age</th>\n",
       "      <th>churn_date</th>\n",
       "      <th>city</th>\n",
       "      <th>first_name</th>\n",
       "      <th>...</th>\n",
       "      <th>reg_date</th>\n",
       "      <th>tariff</th>\n",
       "      <th>messages_included</th>\n",
       "      <th>mb_per_month_included</th>\n",
       "      <th>minutes_included</th>\n",
       "      <th>rub_monthly_fee</th>\n",
       "      <th>rub_per_gb</th>\n",
       "      <th>rub_per_message</th>\n",
       "      <th>rub_per_minute</th>\n",
       "      <th>income</th>\n",
       "    </tr>\n",
       "  </thead>\n",
       "  <tbody>\n",
       "    <tr>\n",
       "      <th>3204</th>\n",
       "      <td>1499</td>\n",
       "      <td>9</td>\n",
       "      <td>70</td>\n",
       "      <td>9</td>\n",
       "      <td>11</td>\n",
       "      <td>2.0</td>\n",
       "      <td>35</td>\n",
       "      <td>1970-01-01</td>\n",
       "      <td>Пермь</td>\n",
       "      <td>Гектор</td>\n",
       "      <td>...</td>\n",
       "      <td>2018-09-27</td>\n",
       "      <td>smart</td>\n",
       "      <td>50</td>\n",
       "      <td>15360</td>\n",
       "      <td>500</td>\n",
       "      <td>550</td>\n",
       "      <td>200</td>\n",
       "      <td>3</td>\n",
       "      <td>3</td>\n",
       "      <td>550</td>\n",
       "    </tr>\n",
       "    <tr>\n",
       "      <th>3205</th>\n",
       "      <td>1499</td>\n",
       "      <td>10</td>\n",
       "      <td>449</td>\n",
       "      <td>68</td>\n",
       "      <td>48</td>\n",
       "      <td>18.0</td>\n",
       "      <td>35</td>\n",
       "      <td>1970-01-01</td>\n",
       "      <td>Пермь</td>\n",
       "      <td>Гектор</td>\n",
       "      <td>...</td>\n",
       "      <td>2018-09-27</td>\n",
       "      <td>smart</td>\n",
       "      <td>50</td>\n",
       "      <td>15360</td>\n",
       "      <td>500</td>\n",
       "      <td>550</td>\n",
       "      <td>200</td>\n",
       "      <td>3</td>\n",
       "      <td>3</td>\n",
       "      <td>550</td>\n",
       "    </tr>\n",
       "    <tr>\n",
       "      <th>3206</th>\n",
       "      <td>1499</td>\n",
       "      <td>11</td>\n",
       "      <td>612</td>\n",
       "      <td>74</td>\n",
       "      <td>59</td>\n",
       "      <td>18.0</td>\n",
       "      <td>35</td>\n",
       "      <td>1970-01-01</td>\n",
       "      <td>Пермь</td>\n",
       "      <td>Гектор</td>\n",
       "      <td>...</td>\n",
       "      <td>2018-09-27</td>\n",
       "      <td>smart</td>\n",
       "      <td>50</td>\n",
       "      <td>15360</td>\n",
       "      <td>500</td>\n",
       "      <td>550</td>\n",
       "      <td>200</td>\n",
       "      <td>3</td>\n",
       "      <td>3</td>\n",
       "      <td>2563</td>\n",
       "    </tr>\n",
       "    <tr>\n",
       "      <th>3207</th>\n",
       "      <td>1499</td>\n",
       "      <td>12</td>\n",
       "      <td>492</td>\n",
       "      <td>69</td>\n",
       "      <td>66</td>\n",
       "      <td>13.0</td>\n",
       "      <td>35</td>\n",
       "      <td>1970-01-01</td>\n",
       "      <td>Пермь</td>\n",
       "      <td>Гектор</td>\n",
       "      <td>...</td>\n",
       "      <td>2018-09-27</td>\n",
       "      <td>smart</td>\n",
       "      <td>50</td>\n",
       "      <td>15360</td>\n",
       "      <td>500</td>\n",
       "      <td>550</td>\n",
       "      <td>200</td>\n",
       "      <td>3</td>\n",
       "      <td>3</td>\n",
       "      <td>748</td>\n",
       "    </tr>\n",
       "    <tr>\n",
       "      <th>3208</th>\n",
       "      <td>1373</td>\n",
       "      <td>6</td>\n",
       "      <td>0</td>\n",
       "      <td>0</td>\n",
       "      <td>48</td>\n",
       "      <td>13.0</td>\n",
       "      <td>34</td>\n",
       "      <td>1970-01-01</td>\n",
       "      <td>Улан-Удэ</td>\n",
       "      <td>Нелли</td>\n",
       "      <td>...</td>\n",
       "      <td>2018-01-17</td>\n",
       "      <td>smart</td>\n",
       "      <td>50</td>\n",
       "      <td>15360</td>\n",
       "      <td>500</td>\n",
       "      <td>550</td>\n",
       "      <td>200</td>\n",
       "      <td>3</td>\n",
       "      <td>3</td>\n",
       "      <td>550</td>\n",
       "    </tr>\n",
       "    <tr>\n",
       "      <th>3209</th>\n",
       "      <td>1489</td>\n",
       "      <td>8</td>\n",
       "      <td>0</td>\n",
       "      <td>0</td>\n",
       "      <td>17</td>\n",
       "      <td>11.0</td>\n",
       "      <td>35</td>\n",
       "      <td>1970-01-01</td>\n",
       "      <td>Санкт-Петербург</td>\n",
       "      <td>Павел</td>\n",
       "      <td>...</td>\n",
       "      <td>2018-08-15</td>\n",
       "      <td>smart</td>\n",
       "      <td>50</td>\n",
       "      <td>15360</td>\n",
       "      <td>500</td>\n",
       "      <td>550</td>\n",
       "      <td>200</td>\n",
       "      <td>3</td>\n",
       "      <td>3</td>\n",
       "      <td>550</td>\n",
       "    </tr>\n",
       "    <tr>\n",
       "      <th>3210</th>\n",
       "      <td>1489</td>\n",
       "      <td>9</td>\n",
       "      <td>0</td>\n",
       "      <td>0</td>\n",
       "      <td>32</td>\n",
       "      <td>17.0</td>\n",
       "      <td>35</td>\n",
       "      <td>1970-01-01</td>\n",
       "      <td>Санкт-Петербург</td>\n",
       "      <td>Павел</td>\n",
       "      <td>...</td>\n",
       "      <td>2018-08-15</td>\n",
       "      <td>smart</td>\n",
       "      <td>50</td>\n",
       "      <td>15360</td>\n",
       "      <td>500</td>\n",
       "      <td>550</td>\n",
       "      <td>200</td>\n",
       "      <td>3</td>\n",
       "      <td>3</td>\n",
       "      <td>550</td>\n",
       "    </tr>\n",
       "    <tr>\n",
       "      <th>3211</th>\n",
       "      <td>1489</td>\n",
       "      <td>10</td>\n",
       "      <td>0</td>\n",
       "      <td>0</td>\n",
       "      <td>21</td>\n",
       "      <td>20.0</td>\n",
       "      <td>35</td>\n",
       "      <td>1970-01-01</td>\n",
       "      <td>Санкт-Петербург</td>\n",
       "      <td>Павел</td>\n",
       "      <td>...</td>\n",
       "      <td>2018-08-15</td>\n",
       "      <td>smart</td>\n",
       "      <td>50</td>\n",
       "      <td>15360</td>\n",
       "      <td>500</td>\n",
       "      <td>550</td>\n",
       "      <td>200</td>\n",
       "      <td>3</td>\n",
       "      <td>3</td>\n",
       "      <td>550</td>\n",
       "    </tr>\n",
       "    <tr>\n",
       "      <th>3212</th>\n",
       "      <td>1489</td>\n",
       "      <td>11</td>\n",
       "      <td>0</td>\n",
       "      <td>0</td>\n",
       "      <td>20</td>\n",
       "      <td>18.0</td>\n",
       "      <td>35</td>\n",
       "      <td>1970-01-01</td>\n",
       "      <td>Санкт-Петербург</td>\n",
       "      <td>Павел</td>\n",
       "      <td>...</td>\n",
       "      <td>2018-08-15</td>\n",
       "      <td>smart</td>\n",
       "      <td>50</td>\n",
       "      <td>15360</td>\n",
       "      <td>500</td>\n",
       "      <td>550</td>\n",
       "      <td>200</td>\n",
       "      <td>3</td>\n",
       "      <td>3</td>\n",
       "      <td>550</td>\n",
       "    </tr>\n",
       "    <tr>\n",
       "      <th>3213</th>\n",
       "      <td>1489</td>\n",
       "      <td>12</td>\n",
       "      <td>0</td>\n",
       "      <td>0</td>\n",
       "      <td>35</td>\n",
       "      <td>17.0</td>\n",
       "      <td>35</td>\n",
       "      <td>1970-01-01</td>\n",
       "      <td>Санкт-Петербург</td>\n",
       "      <td>Павел</td>\n",
       "      <td>...</td>\n",
       "      <td>2018-08-15</td>\n",
       "      <td>smart</td>\n",
       "      <td>50</td>\n",
       "      <td>15360</td>\n",
       "      <td>500</td>\n",
       "      <td>550</td>\n",
       "      <td>200</td>\n",
       "      <td>3</td>\n",
       "      <td>3</td>\n",
       "      <td>550</td>\n",
       "    </tr>\n",
       "  </tbody>\n",
       "</table>\n",
       "<p>10 rows × 21 columns</p>\n",
       "</div>"
      ],
      "text/plain": [
       "      user_id  month  sum_min  count_calls  count_messages  sum_internet  age  \\\n",
       "3204     1499      9       70            9              11           2.0   35   \n",
       "3205     1499     10      449           68              48          18.0   35   \n",
       "3206     1499     11      612           74              59          18.0   35   \n",
       "3207     1499     12      492           69              66          13.0   35   \n",
       "3208     1373      6        0            0              48          13.0   34   \n",
       "3209     1489      8        0            0              17          11.0   35   \n",
       "3210     1489      9        0            0              32          17.0   35   \n",
       "3211     1489     10        0            0              21          20.0   35   \n",
       "3212     1489     11        0            0              20          18.0   35   \n",
       "3213     1489     12        0            0              35          17.0   35   \n",
       "\n",
       "     churn_date             city first_name  ...   reg_date tariff  \\\n",
       "3204 1970-01-01            Пермь     Гектор  ... 2018-09-27  smart   \n",
       "3205 1970-01-01            Пермь     Гектор  ... 2018-09-27  smart   \n",
       "3206 1970-01-01            Пермь     Гектор  ... 2018-09-27  smart   \n",
       "3207 1970-01-01            Пермь     Гектор  ... 2018-09-27  smart   \n",
       "3208 1970-01-01         Улан-Удэ      Нелли  ... 2018-01-17  smart   \n",
       "3209 1970-01-01  Санкт-Петербург      Павел  ... 2018-08-15  smart   \n",
       "3210 1970-01-01  Санкт-Петербург      Павел  ... 2018-08-15  smart   \n",
       "3211 1970-01-01  Санкт-Петербург      Павел  ... 2018-08-15  smart   \n",
       "3212 1970-01-01  Санкт-Петербург      Павел  ... 2018-08-15  smart   \n",
       "3213 1970-01-01  Санкт-Петербург      Павел  ... 2018-08-15  smart   \n",
       "\n",
       "     messages_included  mb_per_month_included  minutes_included  \\\n",
       "3204                50                  15360               500   \n",
       "3205                50                  15360               500   \n",
       "3206                50                  15360               500   \n",
       "3207                50                  15360               500   \n",
       "3208                50                  15360               500   \n",
       "3209                50                  15360               500   \n",
       "3210                50                  15360               500   \n",
       "3211                50                  15360               500   \n",
       "3212                50                  15360               500   \n",
       "3213                50                  15360               500   \n",
       "\n",
       "      rub_monthly_fee  rub_per_gb  rub_per_message  rub_per_minute  income  \n",
       "3204              550         200                3               3     550  \n",
       "3205              550         200                3               3     550  \n",
       "3206              550         200                3               3    2563  \n",
       "3207              550         200                3               3     748  \n",
       "3208              550         200                3               3     550  \n",
       "3209              550         200                3               3     550  \n",
       "3210              550         200                3               3     550  \n",
       "3211              550         200                3               3     550  \n",
       "3212              550         200                3               3     550  \n",
       "3213              550         200                3               3     550  \n",
       "\n",
       "[10 rows x 21 columns]"
      ]
     },
     "execution_count": 13,
     "metadata": {},
     "output_type": "execute_result"
    }
   ],
   "source": [
    "price_minute_smart = 3\n",
    "price_message_smart = 3\n",
    "extra_gb_smart = 200 \n",
    "price_minute_ultra = 1\n",
    "price_message_ultra = 1\n",
    "extra_gb_ultra = 150 \n",
    " \n",
    "def money_income(row):\n",
    "    if row['tariff'] == 'smart':\n",
    "        income = 550\n",
    "        if row['sum_min'] > 500:\n",
    "            income += (row['sum_min']*price_minute_smart)\n",
    "        if row['count_messages'] > 50:\n",
    "            income += (row['count_messages']*price_message_smart)\n",
    "        if row['sum_internet'] > 15360:\n",
    "            income += (row['sum_internet']*extra_gb_smart)\n",
    "    else:\n",
    "        income = 1950\n",
    "        if row['sum_min'] > 3000:\n",
    "            income += (row['sum_min']*price_minute_ultra)\n",
    "        if row['count_messages'] > 1000:\n",
    "            income += (row['count_messages']*price_message_ultra)\n",
    "        if row['sum_internet'] > 30720:\n",
    "            income += (row['sum_internet']*extra_gb_ultra)\n",
    "    return income\n",
    " \n",
    "data['income'] = data.apply(money_income, axis=1)   \n",
    "data.tail(10)"
   ]
  },
  {
   "cell_type": "markdown",
   "id": "cf8d5487",
   "metadata": {},
   "source": [
    "В этом блоке мы проделали большую работу:\n",
    "- проверили датасет на наличие явных и неявных дубликатов\n",
    "- изменили типы данных\n",
    "- изменили значение столбцов \n",
    "- произвели дополнительные рассчёты и добавили их в таблицу\n",
    "- создали сводные таблицы и объеденили их в один большой датасет, который в будущем здорово облегчит нам работу\n"
   ]
  },
  {
   "cell_type": "markdown",
   "id": "6cea6efa",
   "metadata": {},
   "source": [
    "Из рассчёта суммарной выручки с одного пользователя видно, что какие-то пользователи укладываются в свой тариф и платят только за абонентскую плату, а какие-то переплачивают за доп. расход минут, сообщений и гб. "
   ]
  },
  {
   "cell_type": "markdown",
   "id": "5bd0d6f6",
   "metadata": {},
   "source": [
    "Пока эти данные мало информативны, хотя по ним уже можно делать некоторые выводы. Для более подробного отчёта нам нужно проанализировать поведение клиентов данного мобильного оператора, а именно: Сколько минут разговора, сколько сообщений и какой объём интернет-трафика требуется пользователям каждого тарифа в месяц? Этим мы и займёмся в следующем шаге."
   ]
  },
  {
   "cell_type": "markdown",
   "id": "a878c0fd",
   "metadata": {},
   "source": [
    "## Шаг 3. Анализ данных"
   ]
  },
  {
   "cell_type": "markdown",
   "id": "67304527",
   "metadata": {},
   "source": [
    "Для начала мы посчитаем среднее количество потраченых минут, смс и гб для каждого тарифа, а также их дисперсию и стандартное отклонение."
   ]
  },
  {
   "cell_type": "code",
   "execution_count": 14,
   "id": "7349072f",
   "metadata": {},
   "outputs": [
    {
     "data": {
      "text/html": [
       "<div>\n",
       "<style scoped>\n",
       "    .dataframe tbody tr th:only-of-type {\n",
       "        vertical-align: middle;\n",
       "    }\n",
       "\n",
       "    .dataframe tbody tr th {\n",
       "        vertical-align: top;\n",
       "    }\n",
       "\n",
       "    .dataframe thead th {\n",
       "        text-align: right;\n",
       "    }\n",
       "</style>\n",
       "<table border=\"1\" class=\"dataframe\">\n",
       "  <thead>\n",
       "    <tr style=\"text-align: right;\">\n",
       "      <th></th>\n",
       "      <th>mean</th>\n",
       "      <th>std</th>\n",
       "      <th>var</th>\n",
       "    </tr>\n",
       "  </thead>\n",
       "  <tbody>\n",
       "    <tr>\n",
       "      <th>0</th>\n",
       "      <td>8.735294</td>\n",
       "      <td>6.277950</td>\n",
       "      <td>39.412656</td>\n",
       "    </tr>\n",
       "    <tr>\n",
       "      <th>1</th>\n",
       "      <td>11.844828</td>\n",
       "      <td>6.095157</td>\n",
       "      <td>37.150938</td>\n",
       "    </tr>\n",
       "    <tr>\n",
       "      <th>2</th>\n",
       "      <td>15.233766</td>\n",
       "      <td>5.705252</td>\n",
       "      <td>32.549897</td>\n",
       "    </tr>\n",
       "    <tr>\n",
       "      <th>3</th>\n",
       "      <td>13.625000</td>\n",
       "      <td>5.594600</td>\n",
       "      <td>31.299550</td>\n",
       "    </tr>\n",
       "    <tr>\n",
       "      <th>4</th>\n",
       "      <td>15.907801</td>\n",
       "      <td>5.862594</td>\n",
       "      <td>34.370010</td>\n",
       "    </tr>\n",
       "    <tr>\n",
       "      <th>5</th>\n",
       "      <td>15.951220</td>\n",
       "      <td>5.649046</td>\n",
       "      <td>31.911716</td>\n",
       "    </tr>\n",
       "    <tr>\n",
       "      <th>6</th>\n",
       "      <td>15.875622</td>\n",
       "      <td>5.780956</td>\n",
       "      <td>33.419453</td>\n",
       "    </tr>\n",
       "    <tr>\n",
       "      <th>7</th>\n",
       "      <td>16.736170</td>\n",
       "      <td>5.480986</td>\n",
       "      <td>30.041207</td>\n",
       "    </tr>\n",
       "    <tr>\n",
       "      <th>8</th>\n",
       "      <td>16.392308</td>\n",
       "      <td>5.087643</td>\n",
       "      <td>25.884110</td>\n",
       "    </tr>\n",
       "    <tr>\n",
       "      <th>9</th>\n",
       "      <td>16.880952</td>\n",
       "      <td>5.735594</td>\n",
       "      <td>32.897042</td>\n",
       "    </tr>\n",
       "    <tr>\n",
       "      <th>10</th>\n",
       "      <td>17.000000</td>\n",
       "      <td>5.213535</td>\n",
       "      <td>27.180952</td>\n",
       "    </tr>\n",
       "    <tr>\n",
       "      <th>11</th>\n",
       "      <td>18.201780</td>\n",
       "      <td>5.457705</td>\n",
       "      <td>29.786544</td>\n",
       "    </tr>\n",
       "  </tbody>\n",
       "</table>\n",
       "</div>"
      ],
      "text/plain": [
       "         mean       std        var\n",
       "0    8.735294  6.277950  39.412656\n",
       "1   11.844828  6.095157  37.150938\n",
       "2   15.233766  5.705252  32.549897\n",
       "3   13.625000  5.594600  31.299550\n",
       "4   15.907801  5.862594  34.370010\n",
       "5   15.951220  5.649046  31.911716\n",
       "6   15.875622  5.780956  33.419453\n",
       "7   16.736170  5.480986  30.041207\n",
       "8   16.392308  5.087643  25.884110\n",
       "9   16.880952  5.735594  32.897042\n",
       "10  17.000000  5.213535  27.180952\n",
       "11  18.201780  5.457705  29.786544"
      ]
     },
     "metadata": {},
     "output_type": "display_data"
    },
    {
     "data": {
      "text/html": [
       "<div>\n",
       "<style scoped>\n",
       "    .dataframe tbody tr th:only-of-type {\n",
       "        vertical-align: middle;\n",
       "    }\n",
       "\n",
       "    .dataframe tbody tr th {\n",
       "        vertical-align: top;\n",
       "    }\n",
       "\n",
       "    .dataframe thead th {\n",
       "        text-align: right;\n",
       "    }\n",
       "</style>\n",
       "<table border=\"1\" class=\"dataframe\">\n",
       "  <thead>\n",
       "    <tr style=\"text-align: right;\">\n",
       "      <th></th>\n",
       "      <th>mean</th>\n",
       "      <th>std</th>\n",
       "      <th>var</th>\n",
       "    </tr>\n",
       "  </thead>\n",
       "  <tbody>\n",
       "    <tr>\n",
       "      <th>0</th>\n",
       "      <td>18.235294</td>\n",
       "      <td>16.197753</td>\n",
       "      <td>262.367201</td>\n",
       "    </tr>\n",
       "    <tr>\n",
       "      <th>1</th>\n",
       "      <td>24.086207</td>\n",
       "      <td>21.750809</td>\n",
       "      <td>473.097701</td>\n",
       "    </tr>\n",
       "    <tr>\n",
       "      <th>2</th>\n",
       "      <td>31.857143</td>\n",
       "      <td>26.804710</td>\n",
       "      <td>718.492481</td>\n",
       "    </tr>\n",
       "    <tr>\n",
       "      <th>3</th>\n",
       "      <td>30.741071</td>\n",
       "      <td>24.538532</td>\n",
       "      <td>602.139559</td>\n",
       "    </tr>\n",
       "    <tr>\n",
       "      <th>4</th>\n",
       "      <td>33.773050</td>\n",
       "      <td>27.036845</td>\n",
       "      <td>730.990983</td>\n",
       "    </tr>\n",
       "    <tr>\n",
       "      <th>5</th>\n",
       "      <td>33.402439</td>\n",
       "      <td>28.404337</td>\n",
       "      <td>806.806374</td>\n",
       "    </tr>\n",
       "    <tr>\n",
       "      <th>6</th>\n",
       "      <td>33.751244</td>\n",
       "      <td>28.282288</td>\n",
       "      <td>799.887811</td>\n",
       "    </tr>\n",
       "    <tr>\n",
       "      <th>7</th>\n",
       "      <td>33.638298</td>\n",
       "      <td>28.952677</td>\n",
       "      <td>838.257501</td>\n",
       "    </tr>\n",
       "    <tr>\n",
       "      <th>8</th>\n",
       "      <td>33.638462</td>\n",
       "      <td>28.117927</td>\n",
       "      <td>790.617820</td>\n",
       "    </tr>\n",
       "    <tr>\n",
       "      <th>9</th>\n",
       "      <td>33.765306</td>\n",
       "      <td>28.567673</td>\n",
       "      <td>816.111966</td>\n",
       "    </tr>\n",
       "    <tr>\n",
       "      <th>10</th>\n",
       "      <td>34.075949</td>\n",
       "      <td>28.389031</td>\n",
       "      <td>805.937071</td>\n",
       "    </tr>\n",
       "    <tr>\n",
       "      <th>11</th>\n",
       "      <td>35.994065</td>\n",
       "      <td>30.576990</td>\n",
       "      <td>934.952346</td>\n",
       "    </tr>\n",
       "  </tbody>\n",
       "</table>\n",
       "</div>"
      ],
      "text/plain": [
       "         mean        std         var\n",
       "0   18.235294  16.197753  262.367201\n",
       "1   24.086207  21.750809  473.097701\n",
       "2   31.857143  26.804710  718.492481\n",
       "3   30.741071  24.538532  602.139559\n",
       "4   33.773050  27.036845  730.990983\n",
       "5   33.402439  28.404337  806.806374\n",
       "6   33.751244  28.282288  799.887811\n",
       "7   33.638298  28.952677  838.257501\n",
       "8   33.638462  28.117927  790.617820\n",
       "9   33.765306  28.567673  816.111966\n",
       "10  34.075949  28.389031  805.937071\n",
       "11  35.994065  30.576990  934.952346"
      ]
     },
     "metadata": {},
     "output_type": "display_data"
    },
    {
     "data": {
      "text/html": [
       "<div>\n",
       "<style scoped>\n",
       "    .dataframe tbody tr th:only-of-type {\n",
       "        vertical-align: middle;\n",
       "    }\n",
       "\n",
       "    .dataframe tbody tr th {\n",
       "        vertical-align: top;\n",
       "    }\n",
       "\n",
       "    .dataframe thead th {\n",
       "        text-align: right;\n",
       "    }\n",
       "</style>\n",
       "<table border=\"1\" class=\"dataframe\">\n",
       "  <thead>\n",
       "    <tr style=\"text-align: right;\">\n",
       "      <th></th>\n",
       "      <th>mean</th>\n",
       "      <th>std</th>\n",
       "      <th>var</th>\n",
       "    </tr>\n",
       "  </thead>\n",
       "  <tbody>\n",
       "    <tr>\n",
       "      <th>0</th>\n",
       "      <td>203.852941</td>\n",
       "      <td>154.231454</td>\n",
       "      <td>23787.341355</td>\n",
       "    </tr>\n",
       "    <tr>\n",
       "      <th>1</th>\n",
       "      <td>298.689655</td>\n",
       "      <td>190.820041</td>\n",
       "      <td>36412.287961</td>\n",
       "    </tr>\n",
       "    <tr>\n",
       "      <th>2</th>\n",
       "      <td>390.051948</td>\n",
       "      <td>191.893604</td>\n",
       "      <td>36823.155161</td>\n",
       "    </tr>\n",
       "    <tr>\n",
       "      <th>3</th>\n",
       "      <td>367.133929</td>\n",
       "      <td>186.489161</td>\n",
       "      <td>34778.207127</td>\n",
       "    </tr>\n",
       "    <tr>\n",
       "      <th>4</th>\n",
       "      <td>387.361702</td>\n",
       "      <td>186.601343</td>\n",
       "      <td>34820.061094</td>\n",
       "    </tr>\n",
       "    <tr>\n",
       "      <th>5</th>\n",
       "      <td>395.640244</td>\n",
       "      <td>175.336587</td>\n",
       "      <td>30742.918861</td>\n",
       "    </tr>\n",
       "    <tr>\n",
       "      <th>6</th>\n",
       "      <td>408.353234</td>\n",
       "      <td>179.583601</td>\n",
       "      <td>32250.269602</td>\n",
       "    </tr>\n",
       "    <tr>\n",
       "      <th>7</th>\n",
       "      <td>421.468085</td>\n",
       "      <td>186.530382</td>\n",
       "      <td>34793.583379</td>\n",
       "    </tr>\n",
       "    <tr>\n",
       "      <th>8</th>\n",
       "      <td>428.611538</td>\n",
       "      <td>183.126576</td>\n",
       "      <td>33535.342723</td>\n",
       "    </tr>\n",
       "    <tr>\n",
       "      <th>9</th>\n",
       "      <td>426.136054</td>\n",
       "      <td>188.128510</td>\n",
       "      <td>35392.336375</td>\n",
       "    </tr>\n",
       "    <tr>\n",
       "      <th>10</th>\n",
       "      <td>435.265823</td>\n",
       "      <td>177.778618</td>\n",
       "      <td>31605.237050</td>\n",
       "    </tr>\n",
       "    <tr>\n",
       "      <th>11</th>\n",
       "      <td>478.560831</td>\n",
       "      <td>199.245131</td>\n",
       "      <td>39698.622033</td>\n",
       "    </tr>\n",
       "  </tbody>\n",
       "</table>\n",
       "</div>"
      ],
      "text/plain": [
       "          mean         std           var\n",
       "0   203.852941  154.231454  23787.341355\n",
       "1   298.689655  190.820041  36412.287961\n",
       "2   390.051948  191.893604  36823.155161\n",
       "3   367.133929  186.489161  34778.207127\n",
       "4   387.361702  186.601343  34820.061094\n",
       "5   395.640244  175.336587  30742.918861\n",
       "6   408.353234  179.583601  32250.269602\n",
       "7   421.468085  186.530382  34793.583379\n",
       "8   428.611538  183.126576  33535.342723\n",
       "9   426.136054  188.128510  35392.336375\n",
       "10  435.265823  177.778618  31605.237050\n",
       "11  478.560831  199.245131  39698.622033"
      ]
     },
     "execution_count": 14,
     "metadata": {},
     "output_type": "execute_result"
    }
   ],
   "source": [
    "smart_call = data.query('tariff == \"smart\"').groupby('month')['sum_min'].agg(['mean', 'std', 'var']).reset_index(drop=True)\n",
    "smart_messages = data.query('tariff == \"smart\"').groupby('month')['count_messages'].agg(['mean', 'std', 'var']).reset_index(drop=True)\n",
    "smart_internet = data.query('tariff == \"smart\"').groupby('month')['sum_internet'].agg(['mean', 'std', 'var']).reset_index(drop=True)\n",
    "display(smart_internet)\n",
    "display(smart_messages)\n",
    "smart_call"
   ]
  },
  {
   "cell_type": "code",
   "execution_count": 15,
   "id": "db333909",
   "metadata": {},
   "outputs": [
    {
     "data": {
      "text/html": [
       "<div>\n",
       "<style scoped>\n",
       "    .dataframe tbody tr th:only-of-type {\n",
       "        vertical-align: middle;\n",
       "    }\n",
       "\n",
       "    .dataframe tbody tr th {\n",
       "        vertical-align: top;\n",
       "    }\n",
       "\n",
       "    .dataframe thead th {\n",
       "        text-align: right;\n",
       "    }\n",
       "</style>\n",
       "<table border=\"1\" class=\"dataframe\">\n",
       "  <thead>\n",
       "    <tr style=\"text-align: right;\">\n",
       "      <th></th>\n",
       "      <th>mean</th>\n",
       "      <th>std</th>\n",
       "      <th>var</th>\n",
       "    </tr>\n",
       "  </thead>\n",
       "  <tbody>\n",
       "    <tr>\n",
       "      <th>0</th>\n",
       "      <td>13.222222</td>\n",
       "      <td>6.666667</td>\n",
       "      <td>44.444444</td>\n",
       "    </tr>\n",
       "    <tr>\n",
       "      <th>1</th>\n",
       "      <td>12.000000</td>\n",
       "      <td>10.446551</td>\n",
       "      <td>109.130435</td>\n",
       "    </tr>\n",
       "    <tr>\n",
       "      <th>2</th>\n",
       "      <td>17.648649</td>\n",
       "      <td>10.693238</td>\n",
       "      <td>114.345345</td>\n",
       "    </tr>\n",
       "    <tr>\n",
       "      <th>3</th>\n",
       "      <td>16.963636</td>\n",
       "      <td>9.457436</td>\n",
       "      <td>89.443098</td>\n",
       "    </tr>\n",
       "    <tr>\n",
       "      <th>4</th>\n",
       "      <td>19.373134</td>\n",
       "      <td>9.779130</td>\n",
       "      <td>95.631389</td>\n",
       "    </tr>\n",
       "    <tr>\n",
       "      <th>5</th>\n",
       "      <td>18.940476</td>\n",
       "      <td>9.077114</td>\n",
       "      <td>82.394005</td>\n",
       "    </tr>\n",
       "    <tr>\n",
       "      <th>6</th>\n",
       "      <td>20.505495</td>\n",
       "      <td>9.819905</td>\n",
       "      <td>96.430525</td>\n",
       "    </tr>\n",
       "    <tr>\n",
       "      <th>7</th>\n",
       "      <td>19.598131</td>\n",
       "      <td>10.254184</td>\n",
       "      <td>105.148298</td>\n",
       "    </tr>\n",
       "    <tr>\n",
       "      <th>8</th>\n",
       "      <td>19.243478</td>\n",
       "      <td>9.287410</td>\n",
       "      <td>86.255988</td>\n",
       "    </tr>\n",
       "    <tr>\n",
       "      <th>9</th>\n",
       "      <td>20.065041</td>\n",
       "      <td>9.552907</td>\n",
       "      <td>91.258030</td>\n",
       "    </tr>\n",
       "    <tr>\n",
       "      <th>10</th>\n",
       "      <td>19.805970</td>\n",
       "      <td>9.684867</td>\n",
       "      <td>93.796656</td>\n",
       "    </tr>\n",
       "    <tr>\n",
       "      <th>11</th>\n",
       "      <td>21.741007</td>\n",
       "      <td>10.160550</td>\n",
       "      <td>103.236784</td>\n",
       "    </tr>\n",
       "  </tbody>\n",
       "</table>\n",
       "</div>"
      ],
      "text/plain": [
       "         mean        std         var\n",
       "0   13.222222   6.666667   44.444444\n",
       "1   12.000000  10.446551  109.130435\n",
       "2   17.648649  10.693238  114.345345\n",
       "3   16.963636   9.457436   89.443098\n",
       "4   19.373134   9.779130   95.631389\n",
       "5   18.940476   9.077114   82.394005\n",
       "6   20.505495   9.819905   96.430525\n",
       "7   19.598131  10.254184  105.148298\n",
       "8   19.243478   9.287410   86.255988\n",
       "9   20.065041   9.552907   91.258030\n",
       "10  19.805970   9.684867   93.796656\n",
       "11  21.741007  10.160550  103.236784"
      ]
     },
     "metadata": {},
     "output_type": "display_data"
    },
    {
     "data": {
      "text/html": [
       "<div>\n",
       "<style scoped>\n",
       "    .dataframe tbody tr th:only-of-type {\n",
       "        vertical-align: middle;\n",
       "    }\n",
       "\n",
       "    .dataframe tbody tr th {\n",
       "        vertical-align: top;\n",
       "    }\n",
       "\n",
       "    .dataframe thead th {\n",
       "        text-align: right;\n",
       "    }\n",
       "</style>\n",
       "<table border=\"1\" class=\"dataframe\">\n",
       "  <thead>\n",
       "    <tr style=\"text-align: right;\">\n",
       "      <th></th>\n",
       "      <th>mean</th>\n",
       "      <th>std</th>\n",
       "      <th>var</th>\n",
       "    </tr>\n",
       "  </thead>\n",
       "  <tbody>\n",
       "    <tr>\n",
       "      <th>0</th>\n",
       "      <td>33.777778</td>\n",
       "      <td>30.670742</td>\n",
       "      <td>940.694444</td>\n",
       "    </tr>\n",
       "    <tr>\n",
       "      <th>1</th>\n",
       "      <td>21.958333</td>\n",
       "      <td>26.773574</td>\n",
       "      <td>716.824275</td>\n",
       "    </tr>\n",
       "    <tr>\n",
       "      <th>2</th>\n",
       "      <td>32.297297</td>\n",
       "      <td>41.621886</td>\n",
       "      <td>1732.381381</td>\n",
       "    </tr>\n",
       "    <tr>\n",
       "      <th>3</th>\n",
       "      <td>31.563636</td>\n",
       "      <td>37.513831</td>\n",
       "      <td>1407.287542</td>\n",
       "    </tr>\n",
       "    <tr>\n",
       "      <th>4</th>\n",
       "      <td>37.850746</td>\n",
       "      <td>40.306874</td>\n",
       "      <td>1624.644052</td>\n",
       "    </tr>\n",
       "    <tr>\n",
       "      <th>5</th>\n",
       "      <td>41.726190</td>\n",
       "      <td>44.567899</td>\n",
       "      <td>1986.297619</td>\n",
       "    </tr>\n",
       "    <tr>\n",
       "      <th>6</th>\n",
       "      <td>49.846154</td>\n",
       "      <td>48.703621</td>\n",
       "      <td>2372.042735</td>\n",
       "    </tr>\n",
       "    <tr>\n",
       "      <th>7</th>\n",
       "      <td>48.439252</td>\n",
       "      <td>46.601923</td>\n",
       "      <td>2171.739199</td>\n",
       "    </tr>\n",
       "    <tr>\n",
       "      <th>8</th>\n",
       "      <td>52.286957</td>\n",
       "      <td>46.398874</td>\n",
       "      <td>2152.855530</td>\n",
       "    </tr>\n",
       "    <tr>\n",
       "      <th>9</th>\n",
       "      <td>58.430894</td>\n",
       "      <td>51.934398</td>\n",
       "      <td>2697.181661</td>\n",
       "    </tr>\n",
       "    <tr>\n",
       "      <th>10</th>\n",
       "      <td>55.791045</td>\n",
       "      <td>49.768951</td>\n",
       "      <td>2476.948491</td>\n",
       "    </tr>\n",
       "    <tr>\n",
       "      <th>11</th>\n",
       "      <td>60.611511</td>\n",
       "      <td>51.787821</td>\n",
       "      <td>2681.978417</td>\n",
       "    </tr>\n",
       "  </tbody>\n",
       "</table>\n",
       "</div>"
      ],
      "text/plain": [
       "         mean        std          var\n",
       "0   33.777778  30.670742   940.694444\n",
       "1   21.958333  26.773574   716.824275\n",
       "2   32.297297  41.621886  1732.381381\n",
       "3   31.563636  37.513831  1407.287542\n",
       "4   37.850746  40.306874  1624.644052\n",
       "5   41.726190  44.567899  1986.297619\n",
       "6   49.846154  48.703621  2372.042735\n",
       "7   48.439252  46.601923  2171.739199\n",
       "8   52.286957  46.398874  2152.855530\n",
       "9   58.430894  51.934398  2697.181661\n",
       "10  55.791045  49.768951  2476.948491\n",
       "11  60.611511  51.787821  2681.978417"
      ]
     },
     "metadata": {},
     "output_type": "display_data"
    },
    {
     "data": {
      "text/html": [
       "<div>\n",
       "<style scoped>\n",
       "    .dataframe tbody tr th:only-of-type {\n",
       "        vertical-align: middle;\n",
       "    }\n",
       "\n",
       "    .dataframe tbody tr th {\n",
       "        vertical-align: top;\n",
       "    }\n",
       "\n",
       "    .dataframe thead th {\n",
       "        text-align: right;\n",
       "    }\n",
       "</style>\n",
       "<table border=\"1\" class=\"dataframe\">\n",
       "  <thead>\n",
       "    <tr style=\"text-align: right;\">\n",
       "      <th></th>\n",
       "      <th>mean</th>\n",
       "      <th>std</th>\n",
       "      <th>var</th>\n",
       "    </tr>\n",
       "  </thead>\n",
       "  <tbody>\n",
       "    <tr>\n",
       "      <th>0</th>\n",
       "      <td>428.111111</td>\n",
       "      <td>269.757968</td>\n",
       "      <td>72769.361111</td>\n",
       "    </tr>\n",
       "    <tr>\n",
       "      <th>1</th>\n",
       "      <td>297.125000</td>\n",
       "      <td>296.512528</td>\n",
       "      <td>87919.679348</td>\n",
       "    </tr>\n",
       "    <tr>\n",
       "      <th>2</th>\n",
       "      <td>489.648649</td>\n",
       "      <td>333.743765</td>\n",
       "      <td>111384.900901</td>\n",
       "    </tr>\n",
       "    <tr>\n",
       "      <th>3</th>\n",
       "      <td>458.018182</td>\n",
       "      <td>267.682405</td>\n",
       "      <td>71653.870034</td>\n",
       "    </tr>\n",
       "    <tr>\n",
       "      <th>4</th>\n",
       "      <td>510.328358</td>\n",
       "      <td>289.603511</td>\n",
       "      <td>83870.193578</td>\n",
       "    </tr>\n",
       "    <tr>\n",
       "      <th>5</th>\n",
       "      <td>479.702381</td>\n",
       "      <td>302.549081</td>\n",
       "      <td>91535.946500</td>\n",
       "    </tr>\n",
       "    <tr>\n",
       "      <th>6</th>\n",
       "      <td>545.791209</td>\n",
       "      <td>307.119322</td>\n",
       "      <td>94322.278144</td>\n",
       "    </tr>\n",
       "    <tr>\n",
       "      <th>7</th>\n",
       "      <td>510.775701</td>\n",
       "      <td>312.980026</td>\n",
       "      <td>97956.496385</td>\n",
       "    </tr>\n",
       "    <tr>\n",
       "      <th>8</th>\n",
       "      <td>539.443478</td>\n",
       "      <td>325.141162</td>\n",
       "      <td>105716.775286</td>\n",
       "    </tr>\n",
       "    <tr>\n",
       "      <th>9</th>\n",
       "      <td>558.081301</td>\n",
       "      <td>326.289110</td>\n",
       "      <td>106464.583500</td>\n",
       "    </tr>\n",
       "    <tr>\n",
       "      <th>10</th>\n",
       "      <td>541.380597</td>\n",
       "      <td>310.757232</td>\n",
       "      <td>96570.057064</td>\n",
       "    </tr>\n",
       "    <tr>\n",
       "      <th>11</th>\n",
       "      <td>592.805755</td>\n",
       "      <td>342.456321</td>\n",
       "      <td>117276.331561</td>\n",
       "    </tr>\n",
       "  </tbody>\n",
       "</table>\n",
       "</div>"
      ],
      "text/plain": [
       "          mean         std            var\n",
       "0   428.111111  269.757968   72769.361111\n",
       "1   297.125000  296.512528   87919.679348\n",
       "2   489.648649  333.743765  111384.900901\n",
       "3   458.018182  267.682405   71653.870034\n",
       "4   510.328358  289.603511   83870.193578\n",
       "5   479.702381  302.549081   91535.946500\n",
       "6   545.791209  307.119322   94322.278144\n",
       "7   510.775701  312.980026   97956.496385\n",
       "8   539.443478  325.141162  105716.775286\n",
       "9   558.081301  326.289110  106464.583500\n",
       "10  541.380597  310.757232   96570.057064\n",
       "11  592.805755  342.456321  117276.331561"
      ]
     },
     "execution_count": 15,
     "metadata": {},
     "output_type": "execute_result"
    }
   ],
   "source": [
    "ultra_call = data.query('tariff == \"ultra\"').groupby('month')['sum_min'].agg(['mean', 'std', 'var']).reset_index(drop=True)\n",
    "ultra_messages = data.query('tariff == \"ultra\"').groupby('month')['count_messages'].agg(['mean', 'std', 'var']).reset_index(drop=True)\n",
    "ultra_internet = data.query('tariff == \"ultra\"').groupby('month')['sum_internet'].agg(['mean', 'std', 'var']).reset_index(drop=True)\n",
    "display(ultra_internet)\n",
    "display(ultra_messages)\n",
    "ultra_call"
   ]
  },
  {
   "cell_type": "markdown",
   "id": "54e8e106",
   "metadata": {},
   "source": [
    "Теперь построим графики с информацией о том, сколько гб интернета, минут и смс тратят пользователи каждого тарифа."
   ]
  },
  {
   "cell_type": "code",
   "execution_count": 16,
   "id": "105e28dd",
   "metadata": {
    "scrolled": true
   },
   "outputs": [
    {
     "data": {
      "text/plain": [
       "<AxesSubplot:ylabel='Frequency'>"
      ]
     },
     "execution_count": 16,
     "metadata": {},
     "output_type": "execute_result"
    },
    {
     "data": {
      "image/png": "[encoded data removed]",
      "text/plain": [
       "<Figure size 432x288 with 1 Axes>"
      ]
     },
     "metadata": {
      "needs_background": "light"
     },
     "output_type": "display_data"
    }
   ],
   "source": [
    "data['sum_min'][data['tariff'] == 'smart'].plot(kind='hist', alpha=0.5)\n",
    "data['sum_min'][data['tariff'] == 'ultra'].plot(kind='hist', alpha=0.5)"
   ]
  },
  {
   "cell_type": "markdown",
   "id": "d4b89ce7",
   "metadata": {},
   "source": [
    "На графике видно, что распределение у тарифов 'smart' и 'ultra' отличается. У первого оно близко к нормальному, но имеет скошенность вправо, у второго также наблюдается скошеность вправо, но оно более равномерное, не имеет чёткого пика, как при нормальном распределении."
   ]
  },
  {
   "cell_type": "code",
   "execution_count": 17,
   "id": "1a01fdb1",
   "metadata": {},
   "outputs": [
    {
     "data": {
      "text/plain": [
       "<AxesSubplot:ylabel='Frequency'>"
      ]
     },
     "execution_count": 17,
     "metadata": {},
     "output_type": "execute_result"
    },
    {
     "data": {
      "image/png": "[encoded data removed]",
      "text/plain": [
       "<Figure size 432x288 with 1 Axes>"
      ]
     },
     "metadata": {
      "needs_background": "light"
     },
     "output_type": "display_data"
    }
   ],
   "source": [
    "data['sum_internet'][data['tariff'] == 'smart'].plot(kind='hist', alpha=0.5)\n",
    "data['sum_internet'][data['tariff'] == 'ultra'].plot(kind='hist', alpha=0.5)"
   ]
  },
  {
   "cell_type": "markdown",
   "id": "9a5d81d1",
   "metadata": {},
   "source": [
    "На графике видно, что распределение у тарифа 'smart' близко к нормальному, также как и у 'ultra', но у него оно более равномерное, можно предположить, что количество людей с тарифом 'ultra' меньше, чем с другим тарифом."
   ]
  },
  {
   "cell_type": "code",
   "execution_count": 18,
   "id": "c0d7a012",
   "metadata": {},
   "outputs": [
    {
     "data": {
      "text/plain": [
       "<AxesSubplot:ylabel='Frequency'>"
      ]
     },
     "execution_count": 18,
     "metadata": {},
     "output_type": "execute_result"
    },
    {
     "data": {
      "image/png": "[encoded data removed]",
      "text/plain": [
       "<Figure size 432x288 with 1 Axes>"
      ]
     },
     "metadata": {
      "needs_background": "light"
     },
     "output_type": "display_data"
    }
   ],
   "source": [
    "data['count_messages'][data['tariff'] == 'smart'].plot(kind='hist', alpha=0.5)\n",
    "data['count_messages'][data['tariff'] == 'ultra'].plot(kind='hist', alpha=0.5)"
   ]
  },
  {
   "cell_type": "markdown",
   "id": "3249b345",
   "metadata": {},
   "source": [
    "На графике мы видим, что распределение у этих тарифов практически одинаковое, а именно распределение с положительной ассиметрией, но у тарифа 'ultra' ассиметрия вправо больше, чем у 'smart'."
   ]
  },
  {
   "cell_type": "markdown",
   "id": "16d48419",
   "metadata": {},
   "source": [
    "## Шаг 4. Составление и проверка гипотез"
   ]
  },
  {
   "cell_type": "markdown",
   "id": "ad93a2db",
   "metadata": {},
   "source": [
    "На данном этапе мы должны проверить наши гиуотезы по поводу того, что средняя выручка пользователей тарифов «Ультра» и «Смарт» различаются. Нашей Н0 станет гипотеза, которая звучит так: \"Средняя выручка пользователей тарифов «Ультра» и «Смарт» не различаются\". Альтернативная же гипотеза будет звучать так: \"Средняя выручка пользователей тарифов «Ультра» и «Смарт» различаются\""
   ]
  },
  {
   "cell_type": "markdown",
   "id": "d73a8324",
   "metadata": {},
   "source": [
    "Для проверки данной гипотезы мы будет использовать t-тест, поскольку выборки у нас независимые."
   ]
  },
  {
   "cell_type": "code",
   "execution_count": 19,
   "id": "13dd74b7",
   "metadata": {
    "scrolled": true
   },
   "outputs": [
    {
     "name": "stdout",
     "output_type": "stream",
     "text": [
      "p-значение: 2.096430794562863e-119\n",
      "Отвергаем нулевую гипотезу\n"
     ]
    }
   ],
   "source": [
    "smart = data.query('tariff == \"smart\"')\n",
    "ultra = data.query('tariff == \"ultra\"')\n",
    "alpha = 0.05\n",
    "results = st.ttest_ind(smart['income'], ultra['income'])\n",
    "\n",
    "print('p-значение:', results.pvalue)\n",
    "\n",
    "if results.pvalue<alpha:\n",
    "    print(\"Отвергаем нулевую гипотезу\")\n",
    "else:\n",
    "    print(\"Не получилось отвергнуть нулевую гипотезу\")"
   ]
  },
  {
   "cell_type": "markdown",
   "id": "5017a2b3",
   "metadata": {},
   "source": [
    "В процессе проверки гипотез мы пришли к выводу, что нулевую гипотезу придётся отвергунть, так как её P уровень значимости оказался меньше 5%. То есть вероятность такого события при верной нулевой гипотезе признаётся слишком малой, значит, у нас есть основание отвергнуть нулевую гипотезу. "
   ]
  },
  {
   "cell_type": "markdown",
   "id": "c7fd17e1",
   "metadata": {},
   "source": [
    "Для того, чтобы результат стал нагляднее - выведем среднюю выручку пользователей по тарифам."
   ]
  },
  {
   "cell_type": "code",
   "execution_count": 20,
   "id": "66671fea",
   "metadata": {},
   "outputs": [
    {
     "name": "stdout",
     "output_type": "stream",
     "text": [
      "1237.5733512786003\n"
     ]
    },
    {
     "data": {
      "text/plain": [
       "1950.0"
      ]
     },
     "execution_count": 20,
     "metadata": {},
     "output_type": "execute_result"
    }
   ],
   "source": [
    "print(smart['income'].mean())\n",
    "ultra['income'].mean()"
   ]
  },
  {
   "cell_type": "markdown",
   "id": "8cb05f82",
   "metadata": {},
   "source": [
    "Теперь мы видим, что средняя выручка по тарифу 'ultra' куда больше, чем выручка по тарифу 'smart'."
   ]
  },
  {
   "cell_type": "markdown",
   "id": "11b15bbb",
   "metadata": {},
   "source": [
    "Теперь проверим вторую гипотезу о том, что средняя выручка пользователей из Москвы отличается от выручки пользователей из других регионов. Нулевая гипотеза будет звучать так: \"Средняя выручка пользователей из Москвы не отличается от выручки пользователей из других регионов\", а альтернативная гипотеза будет звучать следующим образом: \"Средняя выручка пользователей из Москвы отличается от выручки пользователей из других регионов.\""
   ]
  },
  {
   "cell_type": "markdown",
   "id": "40f4a823",
   "metadata": {},
   "source": [
    "Для проверки данной гипотезы мы будет использовать t-тест, поскольку выборки у нас независимые."
   ]
  },
  {
   "cell_type": "code",
   "execution_count": 21,
   "id": "bb6b0d1f",
   "metadata": {
    "scrolled": true
   },
   "outputs": [
    {
     "name": "stdout",
     "output_type": "stream",
     "text": [
      "p-значение: 0.6213003786524719\n",
      "Не получилось отвергнуть нулевую гипотезу\n"
     ]
    }
   ],
   "source": [
    "tariffs_msk = data.query('city == \"Москва\"')\n",
    "tariffs_not_msk = data.query('city != \"Москва\"')\n",
    "alpha = 0.05\n",
    "results = st.ttest_ind(tariffs_msk['income'], tariffs_not_msk['income'])\n",
    "\n",
    "print('p-значение:', results.pvalue)\n",
    "\n",
    "if results.pvalue<alpha:\n",
    "    print(\"Отвергаем нулевую гипотезу\")\n",
    "else:\n",
    "    print(\"Не получилось отвергнуть нулевую гипотезу\")"
   ]
  },
  {
   "cell_type": "markdown",
   "id": "205fcc37",
   "metadata": {},
   "source": [
    "В процессе проверки гипотез мы пришли к выводу, что нулевую гипотезу не получится отвергунть, так как её P уровень значимости оказался меньше 5%. Это значит, что вероятность того, что измеренное эмпирически значение окажется далеко от среднего равна меньше 5%. То есть вероятность Н0 при верной нулевой гипотезе признаётся высокой, значит, у нас есть основание не отвергнуть нулевую гипотезу."
   ]
  },
  {
   "cell_type": "markdown",
   "id": "ee7101a0",
   "metadata": {},
   "source": [
    "## Шаг 5. Общий вывод"
   ]
  },
  {
   "cell_type": "markdown",
   "id": "01f94c77",
   "metadata": {},
   "source": [
    "Мы проделали огромную работу в процессе изучения этого кейса. Мы обработали имеющиеся данные, рассчитали средний доход с каждого тарифа для каждого пользователя, это помогло нам в дальнейшем исследовании, ведь на их основе мы проверяли наши гипотезы(было составлено две нулевых и две альтернативных гипотезы). По ним мы получили следующие результаты:"
   ]
  },
  {
   "cell_type": "markdown",
   "id": "f85fc498",
   "metadata": {},
   "source": [
    "Гипотеза о том, что средняя выручка пользователей тарифов Ультра не отличается от выручки пользователей Тарифа смарт отвергнута, поскольку в результате исследований мы узнали, что P уровень значимости оказался меньше 5%. То есть вероятность такого события при верной нулевой гипотезе признаётся слишком малой, значит, у нас есть основание отвергнуть нулевую гипотезу. "
   ]
  },
  {
   "cell_type": "markdown",
   "id": "5b9b4738",
   "metadata": {},
   "source": [
    "Гипотеза о том, что выручка пользователей из Москвы равна не отличается от выручки пользователей из других регионов не отвергнута. Поскольку её P уровень значимости оказался меньше 5%. Это значит, что вероятность того, что измеренное эмпирически значение окажется далеко от среднего равна меньше 5%. То есть вероятность Н0 при верной нулевой гипотезе признаётся высокой, значит, у нас есть основание не отвергнуть нулевую гипотезу."
   ]
  }
 ],
 "metadata": {
  "ExecuteTimeLog": [
   {
    "duration": 1265,
    "start_time": "2022-05-27T18:24:20.271Z"
   },
   {
    "duration": 1233,
    "start_time": "2022-05-27T18:24:21.539Z"
   },
   {
    "duration": 79,
    "start_time": "2022-05-27T18:24:22.773Z"
   },
   {
    "duration": 4,
    "start_time": "2022-05-27T18:24:22.854Z"
   },
   {
    "duration": 56,
    "start_time": "2022-05-27T18:24:22.860Z"
   },
   {
    "duration": 233,
    "start_time": "2022-05-27T18:24:22.918Z"
   },
   {
    "duration": 5,
    "start_time": "2022-05-27T18:24:23.153Z"
   },
   {
    "duration": 103,
    "start_time": "2022-05-27T18:24:23.160Z"
   },
   {
    "duration": 55,
    "start_time": "2022-05-27T18:24:23.265Z"
   },
   {
    "duration": 122,
    "start_time": "2022-05-27T18:24:23.321Z"
   },
   {
    "duration": 58,
    "start_time": "2022-05-27T18:24:23.445Z"
   },
   {
    "duration": 11,
    "start_time": "2022-05-27T18:24:23.504Z"
   },
   {
    "duration": 99,
    "start_time": "2022-05-27T18:24:23.517Z"
   },
   {
    "duration": 37,
    "start_time": "2022-05-27T18:24:23.618Z"
   },
   {
    "duration": 59,
    "start_time": "2022-05-27T18:24:23.656Z"
   },
   {
    "duration": 258,
    "start_time": "2022-05-27T18:24:23.717Z"
   },
   {
    "duration": 157,
    "start_time": "2022-05-27T18:24:23.976Z"
   },
   {
    "duration": 177,
    "start_time": "2022-05-27T18:24:24.135Z"
   },
   {
    "duration": 10,
    "start_time": "2022-05-27T18:24:24.314Z"
   },
   {
    "duration": 11,
    "start_time": "2022-05-27T18:24:24.326Z"
   },
   {
    "duration": 1091,
    "start_time": "2022-05-27T18:29:19.510Z"
   },
   {
    "duration": 431,
    "start_time": "2022-05-27T18:29:20.603Z"
   },
   {
    "duration": 86,
    "start_time": "2022-05-27T18:29:21.036Z"
   },
   {
    "duration": 5,
    "start_time": "2022-05-27T18:29:21.124Z"
   },
   {
    "duration": 35,
    "start_time": "2022-05-27T18:29:21.132Z"
   },
   {
    "duration": 241,
    "start_time": "2022-05-27T18:29:21.168Z"
   },
   {
    "duration": 7,
    "start_time": "2022-05-27T18:29:21.410Z"
   },
   {
    "duration": 93,
    "start_time": "2022-05-27T18:29:21.418Z"
   },
   {
    "duration": 51,
    "start_time": "2022-05-27T18:29:21.512Z"
   },
   {
    "duration": 129,
    "start_time": "2022-05-27T18:29:21.565Z"
   },
   {
    "duration": 41,
    "start_time": "2022-05-27T18:29:21.696Z"
   },
   {
    "duration": 10,
    "start_time": "2022-05-27T18:29:21.738Z"
   },
   {
    "duration": 111,
    "start_time": "2022-05-27T18:29:21.750Z"
   },
   {
    "duration": 48,
    "start_time": "2022-05-27T18:29:21.864Z"
   },
   {
    "duration": 34,
    "start_time": "2022-05-27T18:29:21.913Z"
   },
   {
    "duration": 197,
    "start_time": "2022-05-27T18:29:21.949Z"
   },
   {
    "duration": 226,
    "start_time": "2022-05-27T18:29:22.148Z"
   },
   {
    "duration": 168,
    "start_time": "2022-05-27T18:29:22.376Z"
   },
   {
    "duration": 10,
    "start_time": "2022-05-27T18:29:22.546Z"
   },
   {
    "duration": 13,
    "start_time": "2022-05-27T18:29:22.558Z"
   },
   {
    "duration": 27,
    "start_time": "2022-05-27T18:43:49.556Z"
   },
   {
    "duration": 54,
    "start_time": "2022-05-27T18:45:46.894Z"
   },
   {
    "duration": 1232,
    "start_time": "2022-05-27T18:51:41.736Z"
   },
   {
    "duration": 895,
    "start_time": "2022-05-27T18:51:42.971Z"
   },
   {
    "duration": 68,
    "start_time": "2022-05-27T18:51:43.868Z"
   },
   {
    "duration": 5,
    "start_time": "2022-05-27T18:51:43.937Z"
   },
   {
    "duration": 53,
    "start_time": "2022-05-27T18:51:43.944Z"
   },
   {
    "duration": 188,
    "start_time": "2022-05-27T18:51:43.998Z"
   },
   {
    "duration": 5,
    "start_time": "2022-05-27T18:51:44.188Z"
   },
   {
    "duration": 90,
    "start_time": "2022-05-27T18:51:44.195Z"
   },
   {
    "duration": 108,
    "start_time": "2022-05-27T18:51:44.286Z"
   },
   {
    "duration": 0,
    "start_time": "2022-05-27T18:51:44.395Z"
   },
   {
    "duration": 0,
    "start_time": "2022-05-27T18:51:44.396Z"
   },
   {
    "duration": 0,
    "start_time": "2022-05-27T18:51:44.397Z"
   },
   {
    "duration": 0,
    "start_time": "2022-05-27T18:51:44.398Z"
   },
   {
    "duration": 0,
    "start_time": "2022-05-27T18:51:44.398Z"
   },
   {
    "duration": 0,
    "start_time": "2022-05-27T18:51:44.399Z"
   },
   {
    "duration": 0,
    "start_time": "2022-05-27T18:51:44.400Z"
   },
   {
    "duration": 0,
    "start_time": "2022-05-27T18:51:44.401Z"
   },
   {
    "duration": 0,
    "start_time": "2022-05-27T18:51:44.402Z"
   },
   {
    "duration": 0,
    "start_time": "2022-05-27T18:51:44.403Z"
   },
   {
    "duration": 0,
    "start_time": "2022-05-27T18:51:44.403Z"
   },
   {
    "duration": 0,
    "start_time": "2022-05-27T18:51:44.404Z"
   },
   {
    "duration": 10,
    "start_time": "2022-05-27T18:52:02.288Z"
   },
   {
    "duration": 10,
    "start_time": "2022-05-27T18:52:15.223Z"
   },
   {
    "duration": 11,
    "start_time": "2022-05-27T18:53:12.868Z"
   },
   {
    "duration": 17,
    "start_time": "2022-05-27T18:58:02.060Z"
   },
   {
    "duration": 50,
    "start_time": "2022-05-27T18:59:33.186Z"
   },
   {
    "duration": 1027,
    "start_time": "2022-05-27T19:00:17.901Z"
   },
   {
    "duration": 407,
    "start_time": "2022-05-27T19:00:18.930Z"
   },
   {
    "duration": 74,
    "start_time": "2022-05-27T19:00:19.338Z"
   },
   {
    "duration": 4,
    "start_time": "2022-05-27T19:00:19.414Z"
   },
   {
    "duration": 49,
    "start_time": "2022-05-27T19:00:19.420Z"
   },
   {
    "duration": 217,
    "start_time": "2022-05-27T19:00:19.470Z"
   },
   {
    "duration": 5,
    "start_time": "2022-05-27T19:00:19.689Z"
   },
   {
    "duration": 96,
    "start_time": "2022-05-27T19:00:19.696Z"
   },
   {
    "duration": 52,
    "start_time": "2022-05-27T19:00:19.794Z"
   },
   {
    "duration": 114,
    "start_time": "2022-05-27T19:00:19.848Z"
   },
   {
    "duration": 136,
    "start_time": "2022-05-27T19:00:19.963Z"
   },
   {
    "duration": 0,
    "start_time": "2022-05-27T19:00:20.101Z"
   },
   {
    "duration": 0,
    "start_time": "2022-05-27T19:00:20.102Z"
   },
   {
    "duration": 0,
    "start_time": "2022-05-27T19:00:20.103Z"
   },
   {
    "duration": 0,
    "start_time": "2022-05-27T19:00:20.104Z"
   },
   {
    "duration": 0,
    "start_time": "2022-05-27T19:00:20.105Z"
   },
   {
    "duration": 0,
    "start_time": "2022-05-27T19:00:20.106Z"
   },
   {
    "duration": 0,
    "start_time": "2022-05-27T19:00:20.107Z"
   },
   {
    "duration": 0,
    "start_time": "2022-05-27T19:00:20.108Z"
   },
   {
    "duration": 0,
    "start_time": "2022-05-27T19:00:20.109Z"
   },
   {
    "duration": 0,
    "start_time": "2022-05-27T19:00:20.110Z"
   },
   {
    "duration": 31,
    "start_time": "2022-05-27T19:00:56.692Z"
   },
   {
    "duration": 42,
    "start_time": "2022-05-27T19:01:22.098Z"
   },
   {
    "duration": 11,
    "start_time": "2022-05-27T19:01:33.312Z"
   },
   {
    "duration": 374,
    "start_time": "2022-05-27T19:02:10.117Z"
   },
   {
    "duration": 10,
    "start_time": "2022-05-27T19:02:21.800Z"
   },
   {
    "duration": 83,
    "start_time": "2022-05-27T19:02:24.505Z"
   },
   {
    "duration": 1072,
    "start_time": "2022-05-27T19:02:31.197Z"
   },
   {
    "duration": 441,
    "start_time": "2022-05-27T19:02:32.271Z"
   },
   {
    "duration": 79,
    "start_time": "2022-05-27T19:02:32.713Z"
   },
   {
    "duration": 4,
    "start_time": "2022-05-27T19:02:32.794Z"
   },
   {
    "duration": 35,
    "start_time": "2022-05-27T19:02:32.800Z"
   },
   {
    "duration": 264,
    "start_time": "2022-05-27T19:02:32.837Z"
   },
   {
    "duration": 5,
    "start_time": "2022-05-27T19:02:33.102Z"
   },
   {
    "duration": 93,
    "start_time": "2022-05-27T19:02:33.109Z"
   },
   {
    "duration": 57,
    "start_time": "2022-05-27T19:02:33.204Z"
   },
   {
    "duration": 114,
    "start_time": "2022-05-27T19:02:33.263Z"
   },
   {
    "duration": 42,
    "start_time": "2022-05-27T19:02:33.379Z"
   },
   {
    "duration": 11,
    "start_time": "2022-05-27T19:02:33.423Z"
   },
   {
    "duration": 103,
    "start_time": "2022-05-27T19:02:33.435Z"
   },
   {
    "duration": 46,
    "start_time": "2022-05-27T19:02:33.540Z"
   },
   {
    "duration": 31,
    "start_time": "2022-05-27T19:02:33.588Z"
   },
   {
    "duration": 189,
    "start_time": "2022-05-27T19:02:33.621Z"
   },
   {
    "duration": 218,
    "start_time": "2022-05-27T19:02:33.811Z"
   },
   {
    "duration": 152,
    "start_time": "2022-05-27T19:02:34.030Z"
   },
   {
    "duration": 9,
    "start_time": "2022-05-27T19:02:34.184Z"
   },
   {
    "duration": 7,
    "start_time": "2022-05-27T19:02:34.194Z"
   },
   {
    "duration": 11,
    "start_time": "2022-05-27T19:02:34.203Z"
   },
   {
    "duration": 1222,
    "start_time": "2022-05-28T10:29:16.641Z"
   },
   {
    "duration": 1439,
    "start_time": "2022-05-28T10:29:17.866Z"
   },
   {
    "duration": 64,
    "start_time": "2022-05-28T10:29:19.306Z"
   },
   {
    "duration": 4,
    "start_time": "2022-05-28T10:29:19.372Z"
   },
   {
    "duration": 32,
    "start_time": "2022-05-28T10:29:19.377Z"
   },
   {
    "duration": 211,
    "start_time": "2022-05-28T10:29:19.411Z"
   },
   {
    "duration": 8,
    "start_time": "2022-05-28T10:29:19.624Z"
   },
   {
    "duration": 91,
    "start_time": "2022-05-28T10:29:19.633Z"
   },
   {
    "duration": 48,
    "start_time": "2022-05-28T10:29:19.725Z"
   },
   {
    "duration": 105,
    "start_time": "2022-05-28T10:29:19.776Z"
   },
   {
    "duration": 40,
    "start_time": "2022-05-28T10:29:19.883Z"
   },
   {
    "duration": 10,
    "start_time": "2022-05-28T10:29:19.924Z"
   },
   {
    "duration": 101,
    "start_time": "2022-05-28T10:29:19.935Z"
   },
   {
    "duration": 40,
    "start_time": "2022-05-28T10:29:20.037Z"
   },
   {
    "duration": 30,
    "start_time": "2022-05-28T10:29:20.078Z"
   },
   {
    "duration": 229,
    "start_time": "2022-05-28T10:29:20.110Z"
   },
   {
    "duration": 136,
    "start_time": "2022-05-28T10:29:20.341Z"
   },
   {
    "duration": 140,
    "start_time": "2022-05-28T10:29:20.478Z"
   },
   {
    "duration": 10,
    "start_time": "2022-05-28T10:29:20.620Z"
   },
   {
    "duration": 7,
    "start_time": "2022-05-28T10:29:20.631Z"
   },
   {
    "duration": 27,
    "start_time": "2022-05-28T10:29:20.639Z"
   },
   {
    "duration": 29,
    "start_time": "2022-05-28T10:31:19.303Z"
   }
  ],
  "kernelspec": {
   "display_name": "Python 3 (ipykernel)",
   "language": "python",
   "name": "python3"
  },
  "language_info": {
   "codemirror_mode": {
    "name": "ipython",
    "version": 3
   },
   "file_extension": ".py",
   "mimetype": "text/x-python",
   "name": "python",
   "nbconvert_exporter": "python",
   "pygments_lexer": "ipython3",
   "version": "3.9.7"
  },
  "toc": {
   "base_numbering": 1,
   "nav_menu": {},
   "number_sections": true,
   "sideBar": true,
   "skip_h1_title": true,
   "title_cell": "Table of Contents",
   "title_sidebar": "Contents",
   "toc_cell": false,
   "toc_position": {},
   "toc_section_display": true,
   "toc_window_display": false
  }
 },
 "nbformat": 4,
 "nbformat_minor": 5
}
