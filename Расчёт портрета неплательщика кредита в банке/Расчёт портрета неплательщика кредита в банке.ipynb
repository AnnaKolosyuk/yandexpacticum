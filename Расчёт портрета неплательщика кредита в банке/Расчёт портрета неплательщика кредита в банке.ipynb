{
 "cells": [
  {
   "cell_type": "markdown",
   "id": "913a8cd6",
   "metadata": {},
   "source": [
    "# Исследование надежности заемщиков."
   ]
  },
  {
   "cell_type": "markdown",
   "id": "a09eb363",
   "metadata": {},
   "source": [
    "*Поступил запрос от заказчика. Ему требуется ответ на вопрос: \"Влияет ли семейное положение и количество детей клиента на факт погашения кредита в срок?\" В данном проекте стоит разобраться, действительно ли семейное положение влияет на погашение кредита в срок, а также существуют ли какие-либо ещё взаимосвязи между погашением кредита и данными кредитора/типом кредита.*"
   ]
  },
  {
   "cell_type": "markdown",
   "id": "7b462066",
   "metadata": {},
   "source": [
    "*Первым делом нам стоит посмотреть на данные, которые имеются у нас в наличии. Какого они типа? Имеются ли в них пропущенные значения? Для этого мы должны обратиться к датасету. Приступим ;)*"
   ]
  },
  {
   "cell_type": "markdown",
   "id": "b65372e2",
   "metadata": {},
   "source": [
    "## Шаг 1. Обзор данных"
   ]
  },
  {
   "cell_type": "code",
   "execution_count": 1,
   "id": "a8c4bddf",
   "metadata": {},
   "outputs": [],
   "source": [
    "import pandas as pd"
   ]
  },
  {
   "cell_type": "code",
   "execution_count": 2,
   "id": "8b9722f4",
   "metadata": {
    "scrolled": false
   },
   "outputs": [
    {
     "name": "stdout",
     "output_type": "stream",
     "text": [
      "<class 'pandas.core.frame.DataFrame'>\n",
      "RangeIndex: 21525 entries, 0 to 21524\n",
      "Data columns (total 12 columns):\n",
      " #   Column            Non-Null Count  Dtype  \n",
      "---  ------            --------------  -----  \n",
      " 0   children          21525 non-null  int64  \n",
      " 1   days_employed     19351 non-null  float64\n",
      " 2   dob_years         21525 non-null  int64  \n",
      " 3   education         21525 non-null  object \n",
      " 4   education_id      21525 non-null  int64  \n",
      " 5   family_status     21525 non-null  object \n",
      " 6   family_status_id  21525 non-null  int64  \n",
      " 7   gender            21525 non-null  object \n",
      " 8   income_type       21525 non-null  object \n",
      " 9   debt              21525 non-null  int64  \n",
      " 10  total_income      19351 non-null  float64\n",
      " 11  purpose           21525 non-null  object \n",
      "dtypes: float64(2), int64(5), object(5)\n",
      "memory usage: 2.0+ MB\n"
     ]
    }
   ],
   "source": [
    "data = pd.read_csv('/datasets/data.csv')\n",
    "\n",
    "data.info()"
   ]
  },
  {
   "cell_type": "markdown",
   "id": "72543339",
   "metadata": {},
   "source": [
    "*Как мы видим, в столбцах \"days_employed\" и \"total_income\" имеются пропущенные значения. А также, только эти два столбца имеют тип float. Взглянем на них, чтобы определить как выглядят пропущенные занчения. Для этого проверим все строки в столбцах и оставим только те, в которых есть NaN. А затем выведем первые 5 из них*"
   ]
  },
  {
   "cell_type": "code",
   "execution_count": 3,
   "id": "bd18340f",
   "metadata": {
    "scrolled": false
   },
   "outputs": [
    {
     "data": {
      "text/html": [
       "<div>\n",
       "<style scoped>\n",
       "    .dataframe tbody tr th:only-of-type {\n",
       "        vertical-align: middle;\n",
       "    }\n",
       "\n",
       "    .dataframe tbody tr th {\n",
       "        vertical-align: top;\n",
       "    }\n",
       "\n",
       "    .dataframe thead th {\n",
       "        text-align: right;\n",
       "    }\n",
       "</style>\n",
       "<table border=\"1\" class=\"dataframe\">\n",
       "  <thead>\n",
       "    <tr style=\"text-align: right;\">\n",
       "      <th></th>\n",
       "      <th>children</th>\n",
       "      <th>days_employed</th>\n",
       "      <th>dob_years</th>\n",
       "      <th>education</th>\n",
       "      <th>education_id</th>\n",
       "      <th>family_status</th>\n",
       "      <th>family_status_id</th>\n",
       "      <th>gender</th>\n",
       "      <th>income_type</th>\n",
       "      <th>debt</th>\n",
       "      <th>total_income</th>\n",
       "      <th>purpose</th>\n",
       "    </tr>\n",
       "  </thead>\n",
       "  <tbody>\n",
       "    <tr>\n",
       "      <th>12</th>\n",
       "      <td>0</td>\n",
       "      <td>NaN</td>\n",
       "      <td>65</td>\n",
       "      <td>среднее</td>\n",
       "      <td>1</td>\n",
       "      <td>гражданский брак</td>\n",
       "      <td>1</td>\n",
       "      <td>M</td>\n",
       "      <td>пенсионер</td>\n",
       "      <td>0</td>\n",
       "      <td>NaN</td>\n",
       "      <td>сыграть свадьбу</td>\n",
       "    </tr>\n",
       "    <tr>\n",
       "      <th>26</th>\n",
       "      <td>0</td>\n",
       "      <td>NaN</td>\n",
       "      <td>41</td>\n",
       "      <td>среднее</td>\n",
       "      <td>1</td>\n",
       "      <td>женат / замужем</td>\n",
       "      <td>0</td>\n",
       "      <td>M</td>\n",
       "      <td>госслужащий</td>\n",
       "      <td>0</td>\n",
       "      <td>NaN</td>\n",
       "      <td>образование</td>\n",
       "    </tr>\n",
       "    <tr>\n",
       "      <th>29</th>\n",
       "      <td>0</td>\n",
       "      <td>NaN</td>\n",
       "      <td>63</td>\n",
       "      <td>среднее</td>\n",
       "      <td>1</td>\n",
       "      <td>Не женат / не замужем</td>\n",
       "      <td>4</td>\n",
       "      <td>F</td>\n",
       "      <td>пенсионер</td>\n",
       "      <td>0</td>\n",
       "      <td>NaN</td>\n",
       "      <td>строительство жилой недвижимости</td>\n",
       "    </tr>\n",
       "    <tr>\n",
       "      <th>41</th>\n",
       "      <td>0</td>\n",
       "      <td>NaN</td>\n",
       "      <td>50</td>\n",
       "      <td>среднее</td>\n",
       "      <td>1</td>\n",
       "      <td>женат / замужем</td>\n",
       "      <td>0</td>\n",
       "      <td>F</td>\n",
       "      <td>госслужащий</td>\n",
       "      <td>0</td>\n",
       "      <td>NaN</td>\n",
       "      <td>сделка с подержанным автомобилем</td>\n",
       "    </tr>\n",
       "    <tr>\n",
       "      <th>55</th>\n",
       "      <td>0</td>\n",
       "      <td>NaN</td>\n",
       "      <td>54</td>\n",
       "      <td>среднее</td>\n",
       "      <td>1</td>\n",
       "      <td>гражданский брак</td>\n",
       "      <td>1</td>\n",
       "      <td>F</td>\n",
       "      <td>пенсионер</td>\n",
       "      <td>1</td>\n",
       "      <td>NaN</td>\n",
       "      <td>сыграть свадьбу</td>\n",
       "    </tr>\n",
       "  </tbody>\n",
       "</table>\n",
       "</div>"
      ],
      "text/plain": [
       "    children  days_employed  dob_years education  education_id  \\\n",
       "12         0            NaN         65   среднее             1   \n",
       "26         0            NaN         41   среднее             1   \n",
       "29         0            NaN         63   среднее             1   \n",
       "41         0            NaN         50   среднее             1   \n",
       "55         0            NaN         54   среднее             1   \n",
       "\n",
       "            family_status  family_status_id gender  income_type  debt  \\\n",
       "12       гражданский брак                 1      M    пенсионер     0   \n",
       "26        женат / замужем                 0      M  госслужащий     0   \n",
       "29  Не женат / не замужем                 4      F    пенсионер     0   \n",
       "41        женат / замужем                 0      F  госслужащий     0   \n",
       "55       гражданский брак                 1      F    пенсионер     1   \n",
       "\n",
       "    total_income                           purpose  \n",
       "12           NaN                   сыграть свадьбу  \n",
       "26           NaN                       образование  \n",
       "29           NaN  строительство жилой недвижимости  \n",
       "41           NaN  сделка с подержанным автомобилем  \n",
       "55           NaN                   сыграть свадьбу  "
      ]
     },
     "execution_count": 3,
     "metadata": {},
     "output_type": "execute_result"
    }
   ],
   "source": [
    "data[data['days_employed'].isna()].head()"
   ]
  },
  {
   "cell_type": "markdown",
   "id": "841c3af2",
   "metadata": {},
   "source": [
    "*На первый взгялд, пропущенные значения обозначаются, как NaN.* \n",
    "\n",
    "*Посчитаем, какую долю составлют пропущенные значения для каждого из столбцов.*"
   ]
  },
  {
   "cell_type": "code",
   "execution_count": 33,
   "id": "e9630bb9",
   "metadata": {
    "scrolled": true
   },
   "outputs": [
    {
     "data": {
      "text/plain": [
       "children                 0.0\n",
       "days_employed            0.0\n",
       "dob_years                0.0\n",
       "education                0.0\n",
       "education_id             0.0\n",
       "family_status            0.0\n",
       "family_status_id         0.0\n",
       "gender                   0.0\n",
       "income_type              0.0\n",
       "debt                     0.0\n",
       "total_income             0.0\n",
       "purpose                  0.0\n",
       "total_income_category    0.0\n",
       "purpose_category         0.0\n",
       "dtype: float64"
      ]
     },
     "execution_count": 33,
     "metadata": {},
     "output_type": "execute_result"
    }
   ],
   "source": [
    "\n",
    "data.isna().mean()"
   ]
  },
  {
   "cell_type": "markdown",
   "id": "c4e5c92a",
   "metadata": {},
   "source": [
    "*Количество пропущенных значений составляет меньше 1%.* \n",
    "*У данных пропусков есть несколько возможных причин:*\n",
    "- Если они заполняются вручную, то человек мог просто не указать нужные данные о себе.\n",
    "- При выгрузке данных, часть из них была утеряна."
   ]
  },
  {
   "cell_type": "markdown",
   "id": "3f47de9e",
   "metadata": {},
   "source": [
    "## Шаг 2 Заполнение пропусков"
   ]
  },
  {
   "cell_type": "markdown",
   "id": "3570a80e",
   "metadata": {},
   "source": [
    "*Мы выяснили достаточно. Начнём заполнение пропущенных значений со столбца \"total_income\". Заполним данные в нём медианными значениями.*"
   ]
  },
  {
   "cell_type": "markdown",
   "id": "ed68cc17",
   "metadata": {},
   "source": [
    "*Данный тип заполнения подходит больше всего, поскольку данные в этом столбце отражают ежемесячных доход, то некорректно было бы заполнять его средним арифметическим, поскольку тогда данные были бы не совсем верные. Ведь если в выборке присутствуют выдающиеся значения (прим. 1000 против 10), лучше использовать медиану, во избежания искажения данных.*\n",
    "\n",
    "*Заполним пропуски медианным значением в зависимости от типа занятости, а затем проверим, остались ли они.*"
   ]
  },
  {
   "cell_type": "code",
   "execution_count": 7,
   "id": "3bf64931",
   "metadata": {
    "scrolled": true
   },
   "outputs": [
    {
     "data": {
      "text/plain": [
       "children            0\n",
       "days_employed       0\n",
       "dob_years           0\n",
       "education           0\n",
       "education_id        0\n",
       "family_status       0\n",
       "family_status_id    0\n",
       "gender              0\n",
       "income_type         0\n",
       "debt                0\n",
       "total_income        0\n",
       "purpose             0\n",
       "dtype: int64"
      ]
     },
     "execution_count": 7,
     "metadata": {},
     "output_type": "execute_result"
    }
   ],
   "source": [
    "df['total_income'] = df['total_income'].fillna(df.groupby('income_type')['total_income'].transform(\"median\"))\n",
    "data[data['total_income'].isna()].count()"
   ]
  },
  {
   "cell_type": "markdown",
   "id": "301b5d36",
   "metadata": {},
   "source": [
    "*Ура! Все пропущенные строки заполнились медианными значениями. Можем переходить к следующему столбцу \"days_empoyed\"*"
   ]
  },
  {
   "cell_type": "markdown",
   "id": "f0b866fb",
   "metadata": {},
   "source": [
    "## Шаг 3 Проверка данных на аномалии и исправления."
   ]
  },
  {
   "cell_type": "markdown",
   "id": "359b64a1",
   "metadata": {},
   "source": [
    "*Также мы знаем, что в столбце \"days_employed\" могут присутствовать аномалии, а если они обнаружатся, значит нужно с ними разобраться. Попытаемся найти эти аномалии и проанализируем их.*"
   ]
  },
  {
   "cell_type": "markdown",
   "id": "899a5c98",
   "metadata": {},
   "source": [
    "*Первым делом попробуем найти отрицательные значения. Для этого посчитаем количество строк с отрицательными и положительными значениями.*"
   ]
  },
  {
   "cell_type": "code",
   "execution_count": 8,
   "id": "37df1314",
   "metadata": {
    "scrolled": true
   },
   "outputs": [
    {
     "name": "stdout",
     "output_type": "stream",
     "text": [
      "3445\n",
      "18080\n"
     ]
    }
   ],
   "source": [
    "positive_lines = 0\n",
    "negative_lines = 0\n",
    " \n",
    "for days in data['days_employed']:\n",
    "    if days > 0:\n",
    "        positive_lines += 1\n",
    "    else:\n",
    "        negative_lines += 1\n",
    "print(positive_lines)\n",
    "print(negative_lines)"
   ]
  },
  {
   "cell_type": "markdown",
   "id": "798d3483",
   "metadata": {},
   "source": [
    "*При первой проверке в данных более 80% данных оказались с отрицательными значениями. Выведем некоторые из них на экран.*"
   ]
  },
  {
   "cell_type": "code",
   "execution_count": 9,
   "id": "bb4b7d2f",
   "metadata": {
    "scrolled": false
   },
   "outputs": [
    {
     "data": {
      "text/html": [
       "<div>\n",
       "<style scoped>\n",
       "    .dataframe tbody tr th:only-of-type {\n",
       "        vertical-align: middle;\n",
       "    }\n",
       "\n",
       "    .dataframe tbody tr th {\n",
       "        vertical-align: top;\n",
       "    }\n",
       "\n",
       "    .dataframe thead th {\n",
       "        text-align: right;\n",
       "    }\n",
       "</style>\n",
       "<table border=\"1\" class=\"dataframe\">\n",
       "  <thead>\n",
       "    <tr style=\"text-align: right;\">\n",
       "      <th></th>\n",
       "      <th>children</th>\n",
       "      <th>days_employed</th>\n",
       "      <th>dob_years</th>\n",
       "      <th>education</th>\n",
       "      <th>education_id</th>\n",
       "      <th>family_status</th>\n",
       "      <th>family_status_id</th>\n",
       "      <th>gender</th>\n",
       "      <th>income_type</th>\n",
       "      <th>debt</th>\n",
       "      <th>total_income</th>\n",
       "      <th>purpose</th>\n",
       "    </tr>\n",
       "  </thead>\n",
       "  <tbody>\n",
       "    <tr>\n",
       "      <th>0</th>\n",
       "      <td>1</td>\n",
       "      <td>-8437.673028</td>\n",
       "      <td>42</td>\n",
       "      <td>высшее</td>\n",
       "      <td>0</td>\n",
       "      <td>женат / замужем</td>\n",
       "      <td>0</td>\n",
       "      <td>F</td>\n",
       "      <td>сотрудник</td>\n",
       "      <td>0</td>\n",
       "      <td>253875.639453</td>\n",
       "      <td>покупка жилья</td>\n",
       "    </tr>\n",
       "    <tr>\n",
       "      <th>1</th>\n",
       "      <td>1</td>\n",
       "      <td>-4024.803754</td>\n",
       "      <td>36</td>\n",
       "      <td>среднее</td>\n",
       "      <td>1</td>\n",
       "      <td>женат / замужем</td>\n",
       "      <td>0</td>\n",
       "      <td>F</td>\n",
       "      <td>сотрудник</td>\n",
       "      <td>0</td>\n",
       "      <td>112080.014102</td>\n",
       "      <td>приобретение автомобиля</td>\n",
       "    </tr>\n",
       "    <tr>\n",
       "      <th>2</th>\n",
       "      <td>0</td>\n",
       "      <td>-5623.422610</td>\n",
       "      <td>33</td>\n",
       "      <td>Среднее</td>\n",
       "      <td>1</td>\n",
       "      <td>женат / замужем</td>\n",
       "      <td>0</td>\n",
       "      <td>M</td>\n",
       "      <td>сотрудник</td>\n",
       "      <td>0</td>\n",
       "      <td>145885.952297</td>\n",
       "      <td>покупка жилья</td>\n",
       "    </tr>\n",
       "    <tr>\n",
       "      <th>3</th>\n",
       "      <td>3</td>\n",
       "      <td>-4124.747207</td>\n",
       "      <td>32</td>\n",
       "      <td>среднее</td>\n",
       "      <td>1</td>\n",
       "      <td>женат / замужем</td>\n",
       "      <td>0</td>\n",
       "      <td>M</td>\n",
       "      <td>сотрудник</td>\n",
       "      <td>0</td>\n",
       "      <td>267628.550329</td>\n",
       "      <td>дополнительное образование</td>\n",
       "    </tr>\n",
       "    <tr>\n",
       "      <th>5</th>\n",
       "      <td>0</td>\n",
       "      <td>-926.185831</td>\n",
       "      <td>27</td>\n",
       "      <td>высшее</td>\n",
       "      <td>0</td>\n",
       "      <td>гражданский брак</td>\n",
       "      <td>1</td>\n",
       "      <td>M</td>\n",
       "      <td>компаньон</td>\n",
       "      <td>0</td>\n",
       "      <td>255763.565419</td>\n",
       "      <td>покупка жилья</td>\n",
       "    </tr>\n",
       "  </tbody>\n",
       "</table>\n",
       "</div>"
      ],
      "text/plain": [
       "   children  days_employed  dob_years education  education_id  \\\n",
       "0         1   -8437.673028         42    высшее             0   \n",
       "1         1   -4024.803754         36   среднее             1   \n",
       "2         0   -5623.422610         33   Среднее             1   \n",
       "3         3   -4124.747207         32   среднее             1   \n",
       "5         0    -926.185831         27    высшее             0   \n",
       "\n",
       "      family_status  family_status_id gender income_type  debt   total_income  \\\n",
       "0   женат / замужем                 0      F   сотрудник     0  253875.639453   \n",
       "1   женат / замужем                 0      F   сотрудник     0  112080.014102   \n",
       "2   женат / замужем                 0      M   сотрудник     0  145885.952297   \n",
       "3   женат / замужем                 0      M   сотрудник     0  267628.550329   \n",
       "5  гражданский брак                 1      M   компаньон     0  255763.565419   \n",
       "\n",
       "                      purpose  \n",
       "0               покупка жилья  \n",
       "1     приобретение автомобиля  \n",
       "2               покупка жилья  \n",
       "3  дополнительное образование  \n",
       "5               покупка жилья  "
      ]
     },
     "metadata": {},
     "output_type": "display_data"
    }
   ],
   "source": [
    "display(data[data['days_employed'] < 0].head())"
   ]
  },
  {
   "cell_type": "markdown",
   "id": "932bf686",
   "metadata": {},
   "source": [
    "*Действительно, в нашем столбце 84% данных перепутались и стали иметь отрицательное значение. Вернем им положительное значение, чтобы сделать данные корректными.*"
   ]
  },
  {
   "cell_type": "code",
   "execution_count": 10,
   "id": "e86daff7",
   "metadata": {},
   "outputs": [],
   "source": [
    "data['days_employed'] = data['days_employed'].abs()"
   ]
  },
  {
   "cell_type": "markdown",
   "id": "068bb201",
   "metadata": {},
   "source": [
    "*Проверим, остались ли отрицательные значения.*"
   ]
  },
  {
   "cell_type": "code",
   "execution_count": 11,
   "id": "9951364e",
   "metadata": {},
   "outputs": [
    {
     "data": {
      "text/plain": [
       "children            0\n",
       "days_employed       0\n",
       "dob_years           0\n",
       "education           0\n",
       "education_id        0\n",
       "family_status       0\n",
       "family_status_id    0\n",
       "gender              0\n",
       "income_type         0\n",
       "debt                0\n",
       "total_income        0\n",
       "purpose             0\n",
       "dtype: int64"
      ]
     },
     "execution_count": 11,
     "metadata": {},
     "output_type": "execute_result"
    }
   ],
   "source": [
    "data[data['days_employed'] < 0].count()"
   ]
  },
  {
   "cell_type": "markdown",
   "id": "f4767e23",
   "metadata": {},
   "source": [
    "*Отлично, теперь можем заполнить пропуски корректными медианными значениями. Сделаем это и проверим, остались ли они.*"
   ]
  },
  {
   "cell_type": "code",
   "execution_count": 12,
   "id": "a104d1f8",
   "metadata": {
    "scrolled": true
   },
   "outputs": [
    {
     "data": {
      "text/plain": [
       "children            0\n",
       "days_employed       0\n",
       "dob_years           0\n",
       "education           0\n",
       "education_id        0\n",
       "family_status       0\n",
       "family_status_id    0\n",
       "gender              0\n",
       "income_type         0\n",
       "debt                0\n",
       "total_income        0\n",
       "purpose             0\n",
       "dtype: int64"
      ]
     },
     "execution_count": 12,
     "metadata": {},
     "output_type": "execute_result"
    }
   ],
   "source": [
    "data['days_employed'] = data['days_employed'].fillna(value = data['days_employed'].median())\n",
    "data[data['days_employed'].isna()].count()"
   ]
  },
  {
   "cell_type": "markdown",
   "id": "fe29c4f5",
   "metadata": {},
   "source": [
    "*Теперь проверим наличие аномалий в столбце \"children\". Для этого выведем уникальные значения из этого столбца. А затем проверим, сколько раз встречается аномальное значение.*"
   ]
  },
  {
   "cell_type": "code",
   "execution_count": 13,
   "id": "67f10a88",
   "metadata": {},
   "outputs": [
    {
     "data": {
      "text/plain": [
       "array([ 1,  0,  3,  2, -1,  4, 20,  5])"
      ]
     },
     "execution_count": 13,
     "metadata": {},
     "output_type": "execute_result"
    }
   ],
   "source": [
    "data['children'].unique()"
   ]
  },
  {
   "cell_type": "code",
   "execution_count": 14,
   "id": "89c14ac4",
   "metadata": {},
   "outputs": [
    {
     "data": {
      "text/plain": [
       "children    47\n",
       "dtype: int64"
      ]
     },
     "execution_count": 14,
     "metadata": {},
     "output_type": "execute_result"
    }
   ],
   "source": [
    "data.loc[data['children'] == -1, ['children']].count()"
   ]
  },
  {
   "cell_type": "markdown",
   "id": "4a619edf",
   "metadata": {},
   "source": [
    "*Как мы видим, здесь есть значение -1, а такое вряд ли возможно. Поскольку такое значение встречается всего у 47 заёмщиков(что меньше одного процента), то принято решение удалить строки с данными аномальными значениями, поскольку их отсутствие не сильно исказит финальный подсчёт.*"
   ]
  },
  {
   "cell_type": "code",
   "execution_count": 15,
   "id": "50a248df",
   "metadata": {},
   "outputs": [],
   "source": [
    "data = data.loc[data['children'] >= 0]"
   ]
  },
  {
   "cell_type": "code",
   "execution_count": 16,
   "id": "0c7bbc64",
   "metadata": {},
   "outputs": [
    {
     "data": {
      "text/plain": [
       "children            0\n",
       "days_employed       0\n",
       "dob_years           0\n",
       "education           0\n",
       "education_id        0\n",
       "family_status       0\n",
       "family_status_id    0\n",
       "gender              0\n",
       "income_type         0\n",
       "debt                0\n",
       "total_income        0\n",
       "purpose             0\n",
       "dtype: int64"
      ]
     },
     "execution_count": 16,
     "metadata": {},
     "output_type": "execute_result"
    }
   ],
   "source": [
    "data.loc[data['children'] < 0].count()"
   ]
  },
  {
   "cell_type": "markdown",
   "id": "0d7871bd",
   "metadata": {},
   "source": [
    "*Отлично! Мы закончили работу со всеми аномалиями. Но стоит задуматься от чего же мог появится такой большой процент в dats_employed?*\n",
    "*Есть несколько возможных вариантов:*\n",
    "* *Ошибка произошла при выгрузке данных. Они повредились и что-то пошло не так.*\n",
    "* *Возможно данные были неверно закодированны*\n",
    " \n",
    "*Но можно точно сказать, что это не случайная опечатка, вызванная человеческим фактором.*"
   ]
  },
  {
   "cell_type": "markdown",
   "id": "d3b46862",
   "metadata": {},
   "source": [
    "## Шаг 4 Изменение типов данных."
   ]
  },
  {
   "cell_type": "markdown",
   "id": "4ce82cba",
   "metadata": {},
   "source": [
    "*Теперь займёмся изменением типа данных. Мы уже видели, что в начале в датасете столбцы \"days_employed\", \"total_income\" и \"children\" имеют тип float. Поэтому изменим данный тип данных на int.*"
   ]
  },
  {
   "cell_type": "code",
   "execution_count": 17,
   "id": "c33b7dbd",
   "metadata": {},
   "outputs": [],
   "source": [
    "data['total_income'] = data['total_income'].astype('int')\n",
    "data['days_employed'] = data['days_employed'].astype('int') \n",
    "data['children'] = data['children'].astype('int') "
   ]
  },
  {
   "cell_type": "markdown",
   "id": "f3dced38",
   "metadata": {},
   "source": [
    "*После изменения проверим типы данных.*"
   ]
  },
  {
   "cell_type": "code",
   "execution_count": 18,
   "id": "4cbe0822",
   "metadata": {
    "scrolled": true
   },
   "outputs": [
    {
     "name": "stdout",
     "output_type": "stream",
     "text": [
      "<class 'pandas.core.frame.DataFrame'>\n",
      "Int64Index: 21478 entries, 0 to 21524\n",
      "Data columns (total 12 columns):\n",
      " #   Column            Non-Null Count  Dtype \n",
      "---  ------            --------------  ----- \n",
      " 0   children          21478 non-null  int64 \n",
      " 1   days_employed     21478 non-null  int64 \n",
      " 2   dob_years         21478 non-null  int64 \n",
      " 3   education         21478 non-null  object\n",
      " 4   education_id      21478 non-null  int64 \n",
      " 5   family_status     21478 non-null  object\n",
      " 6   family_status_id  21478 non-null  int64 \n",
      " 7   gender            21478 non-null  object\n",
      " 8   income_type       21478 non-null  object\n",
      " 9   debt              21478 non-null  int64 \n",
      " 10  total_income      21478 non-null  int64 \n",
      " 11  purpose           21478 non-null  object\n",
      "dtypes: int64(7), object(5)\n",
      "memory usage: 2.1+ MB\n"
     ]
    }
   ],
   "source": [
    "data.info()"
   ]
  },
  {
   "cell_type": "markdown",
   "id": "c06db752",
   "metadata": {},
   "source": [
    "## Шаг 5 Удаление дубликатов."
   ]
  },
  {
   "cell_type": "markdown",
   "id": "8bf2789f",
   "metadata": {},
   "source": [
    "*Следующий шаг в обработке наших данных - проверка на дубликаты. Сначала посчитаем, а затем выведем на экран яные дубликаты.*"
   ]
  },
  {
   "cell_type": "code",
   "execution_count": 19,
   "id": "cb701431",
   "metadata": {},
   "outputs": [
    {
     "data": {
      "text/plain": [
       "54"
      ]
     },
     "execution_count": 19,
     "metadata": {},
     "output_type": "execute_result"
    }
   ],
   "source": [
    "data.duplicated().sum()"
   ]
  },
  {
   "cell_type": "code",
   "execution_count": 20,
   "id": "8a75fcc0",
   "metadata": {},
   "outputs": [
    {
     "data": {
      "text/html": [
       "<div>\n",
       "<style scoped>\n",
       "    .dataframe tbody tr th:only-of-type {\n",
       "        vertical-align: middle;\n",
       "    }\n",
       "\n",
       "    .dataframe tbody tr th {\n",
       "        vertical-align: top;\n",
       "    }\n",
       "\n",
       "    .dataframe thead th {\n",
       "        text-align: right;\n",
       "    }\n",
       "</style>\n",
       "<table border=\"1\" class=\"dataframe\">\n",
       "  <thead>\n",
       "    <tr style=\"text-align: right;\">\n",
       "      <th></th>\n",
       "      <th>children</th>\n",
       "      <th>days_employed</th>\n",
       "      <th>dob_years</th>\n",
       "      <th>education</th>\n",
       "      <th>education_id</th>\n",
       "      <th>family_status</th>\n",
       "      <th>family_status_id</th>\n",
       "      <th>gender</th>\n",
       "      <th>income_type</th>\n",
       "      <th>debt</th>\n",
       "      <th>total_income</th>\n",
       "      <th>purpose</th>\n",
       "    </tr>\n",
       "  </thead>\n",
       "  <tbody>\n",
       "    <tr>\n",
       "      <th>2849</th>\n",
       "      <td>0</td>\n",
       "      <td>2194</td>\n",
       "      <td>41</td>\n",
       "      <td>среднее</td>\n",
       "      <td>1</td>\n",
       "      <td>женат / замужем</td>\n",
       "      <td>0</td>\n",
       "      <td>F</td>\n",
       "      <td>сотрудник</td>\n",
       "      <td>0</td>\n",
       "      <td>145017</td>\n",
       "      <td>покупка жилья для семьи</td>\n",
       "    </tr>\n",
       "    <tr>\n",
       "      <th>4182</th>\n",
       "      <td>1</td>\n",
       "      <td>2194</td>\n",
       "      <td>34</td>\n",
       "      <td>ВЫСШЕЕ</td>\n",
       "      <td>0</td>\n",
       "      <td>гражданский брак</td>\n",
       "      <td>1</td>\n",
       "      <td>F</td>\n",
       "      <td>сотрудник</td>\n",
       "      <td>0</td>\n",
       "      <td>145017</td>\n",
       "      <td>свадьба</td>\n",
       "    </tr>\n",
       "    <tr>\n",
       "      <th>4851</th>\n",
       "      <td>0</td>\n",
       "      <td>2194</td>\n",
       "      <td>60</td>\n",
       "      <td>среднее</td>\n",
       "      <td>1</td>\n",
       "      <td>гражданский брак</td>\n",
       "      <td>1</td>\n",
       "      <td>F</td>\n",
       "      <td>пенсионер</td>\n",
       "      <td>0</td>\n",
       "      <td>145017</td>\n",
       "      <td>свадьба</td>\n",
       "    </tr>\n",
       "    <tr>\n",
       "      <th>5557</th>\n",
       "      <td>0</td>\n",
       "      <td>2194</td>\n",
       "      <td>58</td>\n",
       "      <td>среднее</td>\n",
       "      <td>1</td>\n",
       "      <td>гражданский брак</td>\n",
       "      <td>1</td>\n",
       "      <td>F</td>\n",
       "      <td>пенсионер</td>\n",
       "      <td>0</td>\n",
       "      <td>145017</td>\n",
       "      <td>сыграть свадьбу</td>\n",
       "    </tr>\n",
       "    <tr>\n",
       "      <th>7808</th>\n",
       "      <td>0</td>\n",
       "      <td>2194</td>\n",
       "      <td>57</td>\n",
       "      <td>среднее</td>\n",
       "      <td>1</td>\n",
       "      <td>гражданский брак</td>\n",
       "      <td>1</td>\n",
       "      <td>F</td>\n",
       "      <td>пенсионер</td>\n",
       "      <td>0</td>\n",
       "      <td>145017</td>\n",
       "      <td>на проведение свадьбы</td>\n",
       "    </tr>\n",
       "    <tr>\n",
       "      <th>8583</th>\n",
       "      <td>0</td>\n",
       "      <td>2194</td>\n",
       "      <td>58</td>\n",
       "      <td>высшее</td>\n",
       "      <td>0</td>\n",
       "      <td>Не женат / не замужем</td>\n",
       "      <td>4</td>\n",
       "      <td>F</td>\n",
       "      <td>пенсионер</td>\n",
       "      <td>0</td>\n",
       "      <td>145017</td>\n",
       "      <td>дополнительное образование</td>\n",
       "    </tr>\n",
       "    <tr>\n",
       "      <th>9238</th>\n",
       "      <td>2</td>\n",
       "      <td>2194</td>\n",
       "      <td>34</td>\n",
       "      <td>среднее</td>\n",
       "      <td>1</td>\n",
       "      <td>женат / замужем</td>\n",
       "      <td>0</td>\n",
       "      <td>F</td>\n",
       "      <td>сотрудник</td>\n",
       "      <td>0</td>\n",
       "      <td>145017</td>\n",
       "      <td>покупка жилья для сдачи</td>\n",
       "    </tr>\n",
       "    <tr>\n",
       "      <th>9528</th>\n",
       "      <td>0</td>\n",
       "      <td>2194</td>\n",
       "      <td>66</td>\n",
       "      <td>среднее</td>\n",
       "      <td>1</td>\n",
       "      <td>вдовец / вдова</td>\n",
       "      <td>2</td>\n",
       "      <td>F</td>\n",
       "      <td>пенсионер</td>\n",
       "      <td>0</td>\n",
       "      <td>145017</td>\n",
       "      <td>операции со своей недвижимостью</td>\n",
       "    </tr>\n",
       "    <tr>\n",
       "      <th>9627</th>\n",
       "      <td>0</td>\n",
       "      <td>2194</td>\n",
       "      <td>56</td>\n",
       "      <td>среднее</td>\n",
       "      <td>1</td>\n",
       "      <td>женат / замужем</td>\n",
       "      <td>0</td>\n",
       "      <td>F</td>\n",
       "      <td>пенсионер</td>\n",
       "      <td>0</td>\n",
       "      <td>145017</td>\n",
       "      <td>операции со своей недвижимостью</td>\n",
       "    </tr>\n",
       "    <tr>\n",
       "      <th>10462</th>\n",
       "      <td>0</td>\n",
       "      <td>2194</td>\n",
       "      <td>62</td>\n",
       "      <td>среднее</td>\n",
       "      <td>1</td>\n",
       "      <td>женат / замужем</td>\n",
       "      <td>0</td>\n",
       "      <td>F</td>\n",
       "      <td>пенсионер</td>\n",
       "      <td>0</td>\n",
       "      <td>145017</td>\n",
       "      <td>покупка коммерческой недвижимости</td>\n",
       "    </tr>\n",
       "    <tr>\n",
       "      <th>10697</th>\n",
       "      <td>0</td>\n",
       "      <td>2194</td>\n",
       "      <td>40</td>\n",
       "      <td>среднее</td>\n",
       "      <td>1</td>\n",
       "      <td>гражданский брак</td>\n",
       "      <td>1</td>\n",
       "      <td>F</td>\n",
       "      <td>компаньон</td>\n",
       "      <td>0</td>\n",
       "      <td>145017</td>\n",
       "      <td>сыграть свадьбу</td>\n",
       "    </tr>\n",
       "    <tr>\n",
       "      <th>10864</th>\n",
       "      <td>0</td>\n",
       "      <td>2194</td>\n",
       "      <td>62</td>\n",
       "      <td>среднее</td>\n",
       "      <td>1</td>\n",
       "      <td>женат / замужем</td>\n",
       "      <td>0</td>\n",
       "      <td>F</td>\n",
       "      <td>пенсионер</td>\n",
       "      <td>0</td>\n",
       "      <td>145017</td>\n",
       "      <td>ремонт жилью</td>\n",
       "    </tr>\n",
       "    <tr>\n",
       "      <th>10994</th>\n",
       "      <td>0</td>\n",
       "      <td>2194</td>\n",
       "      <td>62</td>\n",
       "      <td>среднее</td>\n",
       "      <td>1</td>\n",
       "      <td>женат / замужем</td>\n",
       "      <td>0</td>\n",
       "      <td>F</td>\n",
       "      <td>пенсионер</td>\n",
       "      <td>0</td>\n",
       "      <td>145017</td>\n",
       "      <td>ремонт жилью</td>\n",
       "    </tr>\n",
       "    <tr>\n",
       "      <th>11791</th>\n",
       "      <td>0</td>\n",
       "      <td>2194</td>\n",
       "      <td>47</td>\n",
       "      <td>среднее</td>\n",
       "      <td>1</td>\n",
       "      <td>женат / замужем</td>\n",
       "      <td>0</td>\n",
       "      <td>F</td>\n",
       "      <td>сотрудник</td>\n",
       "      <td>0</td>\n",
       "      <td>145017</td>\n",
       "      <td>строительство недвижимости</td>\n",
       "    </tr>\n",
       "    <tr>\n",
       "      <th>12373</th>\n",
       "      <td>0</td>\n",
       "      <td>2194</td>\n",
       "      <td>58</td>\n",
       "      <td>среднее</td>\n",
       "      <td>1</td>\n",
       "      <td>женат / замужем</td>\n",
       "      <td>0</td>\n",
       "      <td>M</td>\n",
       "      <td>сотрудник</td>\n",
       "      <td>0</td>\n",
       "      <td>145017</td>\n",
       "      <td>покупка недвижимости</td>\n",
       "    </tr>\n",
       "    <tr>\n",
       "      <th>12375</th>\n",
       "      <td>1</td>\n",
       "      <td>2194</td>\n",
       "      <td>37</td>\n",
       "      <td>среднее</td>\n",
       "      <td>1</td>\n",
       "      <td>женат / замужем</td>\n",
       "      <td>0</td>\n",
       "      <td>F</td>\n",
       "      <td>сотрудник</td>\n",
       "      <td>0</td>\n",
       "      <td>145017</td>\n",
       "      <td>покупка недвижимости</td>\n",
       "    </tr>\n",
       "    <tr>\n",
       "      <th>12736</th>\n",
       "      <td>0</td>\n",
       "      <td>2194</td>\n",
       "      <td>59</td>\n",
       "      <td>среднее</td>\n",
       "      <td>1</td>\n",
       "      <td>женат / замужем</td>\n",
       "      <td>0</td>\n",
       "      <td>F</td>\n",
       "      <td>пенсионер</td>\n",
       "      <td>0</td>\n",
       "      <td>145017</td>\n",
       "      <td>заняться образованием</td>\n",
       "    </tr>\n",
       "    <tr>\n",
       "      <th>13025</th>\n",
       "      <td>1</td>\n",
       "      <td>2194</td>\n",
       "      <td>44</td>\n",
       "      <td>среднее</td>\n",
       "      <td>1</td>\n",
       "      <td>женат / замужем</td>\n",
       "      <td>0</td>\n",
       "      <td>F</td>\n",
       "      <td>сотрудник</td>\n",
       "      <td>0</td>\n",
       "      <td>145017</td>\n",
       "      <td>сделка с подержанным автомобилем</td>\n",
       "    </tr>\n",
       "    <tr>\n",
       "      <th>13639</th>\n",
       "      <td>0</td>\n",
       "      <td>2194</td>\n",
       "      <td>64</td>\n",
       "      <td>среднее</td>\n",
       "      <td>1</td>\n",
       "      <td>женат / замужем</td>\n",
       "      <td>0</td>\n",
       "      <td>F</td>\n",
       "      <td>пенсионер</td>\n",
       "      <td>0</td>\n",
       "      <td>145017</td>\n",
       "      <td>автомобиль</td>\n",
       "    </tr>\n",
       "    <tr>\n",
       "      <th>13773</th>\n",
       "      <td>0</td>\n",
       "      <td>2194</td>\n",
       "      <td>35</td>\n",
       "      <td>среднее</td>\n",
       "      <td>1</td>\n",
       "      <td>гражданский брак</td>\n",
       "      <td>1</td>\n",
       "      <td>F</td>\n",
       "      <td>сотрудник</td>\n",
       "      <td>0</td>\n",
       "      <td>145017</td>\n",
       "      <td>сыграть свадьбу</td>\n",
       "    </tr>\n",
       "    <tr>\n",
       "      <th>13878</th>\n",
       "      <td>1</td>\n",
       "      <td>2194</td>\n",
       "      <td>31</td>\n",
       "      <td>среднее</td>\n",
       "      <td>1</td>\n",
       "      <td>женат / замужем</td>\n",
       "      <td>0</td>\n",
       "      <td>F</td>\n",
       "      <td>компаньон</td>\n",
       "      <td>0</td>\n",
       "      <td>145017</td>\n",
       "      <td>покупка жилья</td>\n",
       "    </tr>\n",
       "    <tr>\n",
       "      <th>13942</th>\n",
       "      <td>0</td>\n",
       "      <td>2194</td>\n",
       "      <td>44</td>\n",
       "      <td>среднее</td>\n",
       "      <td>1</td>\n",
       "      <td>женат / замужем</td>\n",
       "      <td>0</td>\n",
       "      <td>F</td>\n",
       "      <td>сотрудник</td>\n",
       "      <td>0</td>\n",
       "      <td>145017</td>\n",
       "      <td>приобретение автомобиля</td>\n",
       "    </tr>\n",
       "    <tr>\n",
       "      <th>14432</th>\n",
       "      <td>2</td>\n",
       "      <td>2194</td>\n",
       "      <td>36</td>\n",
       "      <td>высшее</td>\n",
       "      <td>0</td>\n",
       "      <td>женат / замужем</td>\n",
       "      <td>0</td>\n",
       "      <td>F</td>\n",
       "      <td>госслужащий</td>\n",
       "      <td>0</td>\n",
       "      <td>145017</td>\n",
       "      <td>получение образования</td>\n",
       "    </tr>\n",
       "    <tr>\n",
       "      <th>14832</th>\n",
       "      <td>0</td>\n",
       "      <td>2194</td>\n",
       "      <td>50</td>\n",
       "      <td>среднее</td>\n",
       "      <td>1</td>\n",
       "      <td>Не женат / не замужем</td>\n",
       "      <td>4</td>\n",
       "      <td>F</td>\n",
       "      <td>сотрудник</td>\n",
       "      <td>0</td>\n",
       "      <td>145017</td>\n",
       "      <td>недвижимость</td>\n",
       "    </tr>\n",
       "    <tr>\n",
       "      <th>15091</th>\n",
       "      <td>0</td>\n",
       "      <td>2194</td>\n",
       "      <td>58</td>\n",
       "      <td>среднее</td>\n",
       "      <td>1</td>\n",
       "      <td>гражданский брак</td>\n",
       "      <td>1</td>\n",
       "      <td>M</td>\n",
       "      <td>сотрудник</td>\n",
       "      <td>0</td>\n",
       "      <td>145017</td>\n",
       "      <td>на проведение свадьбы</td>\n",
       "    </tr>\n",
       "    <tr>\n",
       "      <th>15188</th>\n",
       "      <td>0</td>\n",
       "      <td>2194</td>\n",
       "      <td>60</td>\n",
       "      <td>среднее</td>\n",
       "      <td>1</td>\n",
       "      <td>женат / замужем</td>\n",
       "      <td>0</td>\n",
       "      <td>M</td>\n",
       "      <td>сотрудник</td>\n",
       "      <td>0</td>\n",
       "      <td>145017</td>\n",
       "      <td>покупка недвижимости</td>\n",
       "    </tr>\n",
       "    <tr>\n",
       "      <th>15273</th>\n",
       "      <td>0</td>\n",
       "      <td>2194</td>\n",
       "      <td>57</td>\n",
       "      <td>среднее</td>\n",
       "      <td>1</td>\n",
       "      <td>гражданский брак</td>\n",
       "      <td>1</td>\n",
       "      <td>F</td>\n",
       "      <td>пенсионер</td>\n",
       "      <td>0</td>\n",
       "      <td>145017</td>\n",
       "      <td>свадьба</td>\n",
       "    </tr>\n",
       "    <tr>\n",
       "      <th>16176</th>\n",
       "      <td>0</td>\n",
       "      <td>2194</td>\n",
       "      <td>47</td>\n",
       "      <td>среднее</td>\n",
       "      <td>1</td>\n",
       "      <td>женат / замужем</td>\n",
       "      <td>0</td>\n",
       "      <td>F</td>\n",
       "      <td>сотрудник</td>\n",
       "      <td>0</td>\n",
       "      <td>145017</td>\n",
       "      <td>ремонт жилью</td>\n",
       "    </tr>\n",
       "    <tr>\n",
       "      <th>16378</th>\n",
       "      <td>0</td>\n",
       "      <td>2194</td>\n",
       "      <td>46</td>\n",
       "      <td>среднее</td>\n",
       "      <td>1</td>\n",
       "      <td>женат / замужем</td>\n",
       "      <td>0</td>\n",
       "      <td>F</td>\n",
       "      <td>сотрудник</td>\n",
       "      <td>0</td>\n",
       "      <td>145017</td>\n",
       "      <td>высшее образование</td>\n",
       "    </tr>\n",
       "    <tr>\n",
       "      <th>16902</th>\n",
       "      <td>2</td>\n",
       "      <td>2194</td>\n",
       "      <td>39</td>\n",
       "      <td>среднее</td>\n",
       "      <td>1</td>\n",
       "      <td>гражданский брак</td>\n",
       "      <td>1</td>\n",
       "      <td>F</td>\n",
       "      <td>сотрудник</td>\n",
       "      <td>0</td>\n",
       "      <td>145017</td>\n",
       "      <td>сыграть свадьбу</td>\n",
       "    </tr>\n",
       "    <tr>\n",
       "      <th>16904</th>\n",
       "      <td>1</td>\n",
       "      <td>2194</td>\n",
       "      <td>32</td>\n",
       "      <td>высшее</td>\n",
       "      <td>0</td>\n",
       "      <td>женат / замужем</td>\n",
       "      <td>0</td>\n",
       "      <td>F</td>\n",
       "      <td>сотрудник</td>\n",
       "      <td>0</td>\n",
       "      <td>145017</td>\n",
       "      <td>на покупку подержанного автомобиля</td>\n",
       "    </tr>\n",
       "    <tr>\n",
       "      <th>17379</th>\n",
       "      <td>0</td>\n",
       "      <td>2194</td>\n",
       "      <td>54</td>\n",
       "      <td>высшее</td>\n",
       "      <td>0</td>\n",
       "      <td>женат / замужем</td>\n",
       "      <td>0</td>\n",
       "      <td>M</td>\n",
       "      <td>компаньон</td>\n",
       "      <td>0</td>\n",
       "      <td>145017</td>\n",
       "      <td>операции с коммерческой недвижимостью</td>\n",
       "    </tr>\n",
       "    <tr>\n",
       "      <th>17755</th>\n",
       "      <td>1</td>\n",
       "      <td>2194</td>\n",
       "      <td>43</td>\n",
       "      <td>среднее</td>\n",
       "      <td>1</td>\n",
       "      <td>женат / замужем</td>\n",
       "      <td>0</td>\n",
       "      <td>M</td>\n",
       "      <td>сотрудник</td>\n",
       "      <td>0</td>\n",
       "      <td>145017</td>\n",
       "      <td>заняться образованием</td>\n",
       "    </tr>\n",
       "    <tr>\n",
       "      <th>17774</th>\n",
       "      <td>1</td>\n",
       "      <td>2194</td>\n",
       "      <td>40</td>\n",
       "      <td>среднее</td>\n",
       "      <td>1</td>\n",
       "      <td>гражданский брак</td>\n",
       "      <td>1</td>\n",
       "      <td>F</td>\n",
       "      <td>компаньон</td>\n",
       "      <td>0</td>\n",
       "      <td>145017</td>\n",
       "      <td>строительство жилой недвижимости</td>\n",
       "    </tr>\n",
       "    <tr>\n",
       "      <th>18328</th>\n",
       "      <td>0</td>\n",
       "      <td>2194</td>\n",
       "      <td>29</td>\n",
       "      <td>высшее</td>\n",
       "      <td>0</td>\n",
       "      <td>женат / замужем</td>\n",
       "      <td>0</td>\n",
       "      <td>M</td>\n",
       "      <td>сотрудник</td>\n",
       "      <td>0</td>\n",
       "      <td>145017</td>\n",
       "      <td>покупка жилой недвижимости</td>\n",
       "    </tr>\n",
       "    <tr>\n",
       "      <th>18349</th>\n",
       "      <td>1</td>\n",
       "      <td>2194</td>\n",
       "      <td>30</td>\n",
       "      <td>высшее</td>\n",
       "      <td>0</td>\n",
       "      <td>женат / замужем</td>\n",
       "      <td>0</td>\n",
       "      <td>F</td>\n",
       "      <td>госслужащий</td>\n",
       "      <td>0</td>\n",
       "      <td>145017</td>\n",
       "      <td>покупка жилья для семьи</td>\n",
       "    </tr>\n",
       "    <tr>\n",
       "      <th>18428</th>\n",
       "      <td>0</td>\n",
       "      <td>2194</td>\n",
       "      <td>64</td>\n",
       "      <td>среднее</td>\n",
       "      <td>1</td>\n",
       "      <td>женат / замужем</td>\n",
       "      <td>0</td>\n",
       "      <td>F</td>\n",
       "      <td>пенсионер</td>\n",
       "      <td>0</td>\n",
       "      <td>145017</td>\n",
       "      <td>жилье</td>\n",
       "    </tr>\n",
       "    <tr>\n",
       "      <th>18521</th>\n",
       "      <td>0</td>\n",
       "      <td>2194</td>\n",
       "      <td>56</td>\n",
       "      <td>среднее</td>\n",
       "      <td>1</td>\n",
       "      <td>гражданский брак</td>\n",
       "      <td>1</td>\n",
       "      <td>F</td>\n",
       "      <td>сотрудник</td>\n",
       "      <td>0</td>\n",
       "      <td>145017</td>\n",
       "      <td>сыграть свадьбу</td>\n",
       "    </tr>\n",
       "    <tr>\n",
       "      <th>18563</th>\n",
       "      <td>0</td>\n",
       "      <td>2194</td>\n",
       "      <td>54</td>\n",
       "      <td>среднее</td>\n",
       "      <td>1</td>\n",
       "      <td>женат / замужем</td>\n",
       "      <td>0</td>\n",
       "      <td>F</td>\n",
       "      <td>сотрудник</td>\n",
       "      <td>0</td>\n",
       "      <td>145017</td>\n",
       "      <td>операции со своей недвижимостью</td>\n",
       "    </tr>\n",
       "    <tr>\n",
       "      <th>18755</th>\n",
       "      <td>0</td>\n",
       "      <td>2194</td>\n",
       "      <td>58</td>\n",
       "      <td>среднее</td>\n",
       "      <td>1</td>\n",
       "      <td>женат / замужем</td>\n",
       "      <td>0</td>\n",
       "      <td>F</td>\n",
       "      <td>пенсионер</td>\n",
       "      <td>0</td>\n",
       "      <td>145017</td>\n",
       "      <td>заняться образованием</td>\n",
       "    </tr>\n",
       "    <tr>\n",
       "      <th>19041</th>\n",
       "      <td>0</td>\n",
       "      <td>2194</td>\n",
       "      <td>56</td>\n",
       "      <td>среднее</td>\n",
       "      <td>1</td>\n",
       "      <td>гражданский брак</td>\n",
       "      <td>1</td>\n",
       "      <td>F</td>\n",
       "      <td>сотрудник</td>\n",
       "      <td>0</td>\n",
       "      <td>145017</td>\n",
       "      <td>на проведение свадьбы</td>\n",
       "    </tr>\n",
       "    <tr>\n",
       "      <th>19184</th>\n",
       "      <td>0</td>\n",
       "      <td>2194</td>\n",
       "      <td>46</td>\n",
       "      <td>среднее</td>\n",
       "      <td>1</td>\n",
       "      <td>женат / замужем</td>\n",
       "      <td>0</td>\n",
       "      <td>F</td>\n",
       "      <td>сотрудник</td>\n",
       "      <td>0</td>\n",
       "      <td>145017</td>\n",
       "      <td>свой автомобиль</td>\n",
       "    </tr>\n",
       "    <tr>\n",
       "      <th>19321</th>\n",
       "      <td>0</td>\n",
       "      <td>2194</td>\n",
       "      <td>23</td>\n",
       "      <td>среднее</td>\n",
       "      <td>1</td>\n",
       "      <td>Не женат / не замужем</td>\n",
       "      <td>4</td>\n",
       "      <td>F</td>\n",
       "      <td>сотрудник</td>\n",
       "      <td>0</td>\n",
       "      <td>145017</td>\n",
       "      <td>сделка с подержанным автомобилем</td>\n",
       "    </tr>\n",
       "    <tr>\n",
       "      <th>19387</th>\n",
       "      <td>0</td>\n",
       "      <td>2194</td>\n",
       "      <td>38</td>\n",
       "      <td>высшее</td>\n",
       "      <td>0</td>\n",
       "      <td>гражданский брак</td>\n",
       "      <td>1</td>\n",
       "      <td>F</td>\n",
       "      <td>компаньон</td>\n",
       "      <td>0</td>\n",
       "      <td>145017</td>\n",
       "      <td>на проведение свадьбы</td>\n",
       "    </tr>\n",
       "    <tr>\n",
       "      <th>19688</th>\n",
       "      <td>0</td>\n",
       "      <td>2194</td>\n",
       "      <td>61</td>\n",
       "      <td>среднее</td>\n",
       "      <td>1</td>\n",
       "      <td>женат / замужем</td>\n",
       "      <td>0</td>\n",
       "      <td>F</td>\n",
       "      <td>пенсионер</td>\n",
       "      <td>0</td>\n",
       "      <td>145017</td>\n",
       "      <td>операции с недвижимостью</td>\n",
       "    </tr>\n",
       "    <tr>\n",
       "      <th>19832</th>\n",
       "      <td>0</td>\n",
       "      <td>2194</td>\n",
       "      <td>48</td>\n",
       "      <td>среднее</td>\n",
       "      <td>1</td>\n",
       "      <td>женат / замужем</td>\n",
       "      <td>0</td>\n",
       "      <td>F</td>\n",
       "      <td>сотрудник</td>\n",
       "      <td>0</td>\n",
       "      <td>145017</td>\n",
       "      <td>ремонт жилью</td>\n",
       "    </tr>\n",
       "    <tr>\n",
       "      <th>19946</th>\n",
       "      <td>0</td>\n",
       "      <td>2194</td>\n",
       "      <td>57</td>\n",
       "      <td>среднее</td>\n",
       "      <td>1</td>\n",
       "      <td>женат / замужем</td>\n",
       "      <td>0</td>\n",
       "      <td>F</td>\n",
       "      <td>сотрудник</td>\n",
       "      <td>0</td>\n",
       "      <td>145017</td>\n",
       "      <td>сделка с подержанным автомобилем</td>\n",
       "    </tr>\n",
       "    <tr>\n",
       "      <th>20116</th>\n",
       "      <td>0</td>\n",
       "      <td>2194</td>\n",
       "      <td>57</td>\n",
       "      <td>среднее</td>\n",
       "      <td>1</td>\n",
       "      <td>гражданский брак</td>\n",
       "      <td>1</td>\n",
       "      <td>M</td>\n",
       "      <td>пенсионер</td>\n",
       "      <td>0</td>\n",
       "      <td>145017</td>\n",
       "      <td>свадьба</td>\n",
       "    </tr>\n",
       "    <tr>\n",
       "      <th>20165</th>\n",
       "      <td>0</td>\n",
       "      <td>2194</td>\n",
       "      <td>42</td>\n",
       "      <td>среднее</td>\n",
       "      <td>1</td>\n",
       "      <td>женат / замужем</td>\n",
       "      <td>0</td>\n",
       "      <td>F</td>\n",
       "      <td>сотрудник</td>\n",
       "      <td>0</td>\n",
       "      <td>145017</td>\n",
       "      <td>покупка жилья для семьи</td>\n",
       "    </tr>\n",
       "    <tr>\n",
       "      <th>20702</th>\n",
       "      <td>0</td>\n",
       "      <td>2194</td>\n",
       "      <td>64</td>\n",
       "      <td>среднее</td>\n",
       "      <td>1</td>\n",
       "      <td>женат / замужем</td>\n",
       "      <td>0</td>\n",
       "      <td>F</td>\n",
       "      <td>пенсионер</td>\n",
       "      <td>0</td>\n",
       "      <td>145017</td>\n",
       "      <td>дополнительное образование</td>\n",
       "    </tr>\n",
       "    <tr>\n",
       "      <th>21032</th>\n",
       "      <td>0</td>\n",
       "      <td>2194</td>\n",
       "      <td>60</td>\n",
       "      <td>среднее</td>\n",
       "      <td>1</td>\n",
       "      <td>женат / замужем</td>\n",
       "      <td>0</td>\n",
       "      <td>F</td>\n",
       "      <td>пенсионер</td>\n",
       "      <td>0</td>\n",
       "      <td>145017</td>\n",
       "      <td>заняться образованием</td>\n",
       "    </tr>\n",
       "    <tr>\n",
       "      <th>21132</th>\n",
       "      <td>0</td>\n",
       "      <td>2194</td>\n",
       "      <td>47</td>\n",
       "      <td>среднее</td>\n",
       "      <td>1</td>\n",
       "      <td>женат / замужем</td>\n",
       "      <td>0</td>\n",
       "      <td>F</td>\n",
       "      <td>сотрудник</td>\n",
       "      <td>0</td>\n",
       "      <td>145017</td>\n",
       "      <td>ремонт жилью</td>\n",
       "    </tr>\n",
       "    <tr>\n",
       "      <th>21281</th>\n",
       "      <td>1</td>\n",
       "      <td>2194</td>\n",
       "      <td>30</td>\n",
       "      <td>высшее</td>\n",
       "      <td>0</td>\n",
       "      <td>женат / замужем</td>\n",
       "      <td>0</td>\n",
       "      <td>F</td>\n",
       "      <td>сотрудник</td>\n",
       "      <td>0</td>\n",
       "      <td>145017</td>\n",
       "      <td>покупка коммерческой недвижимости</td>\n",
       "    </tr>\n",
       "    <tr>\n",
       "      <th>21415</th>\n",
       "      <td>0</td>\n",
       "      <td>2194</td>\n",
       "      <td>54</td>\n",
       "      <td>среднее</td>\n",
       "      <td>1</td>\n",
       "      <td>женат / замужем</td>\n",
       "      <td>0</td>\n",
       "      <td>F</td>\n",
       "      <td>пенсионер</td>\n",
       "      <td>0</td>\n",
       "      <td>145017</td>\n",
       "      <td>операции с жильем</td>\n",
       "    </tr>\n",
       "  </tbody>\n",
       "</table>\n",
       "</div>"
      ],
      "text/plain": [
       "       children  days_employed  dob_years education  education_id  \\\n",
       "2849          0           2194         41   среднее             1   \n",
       "4182          1           2194         34    ВЫСШЕЕ             0   \n",
       "4851          0           2194         60   среднее             1   \n",
       "5557          0           2194         58   среднее             1   \n",
       "7808          0           2194         57   среднее             1   \n",
       "8583          0           2194         58    высшее             0   \n",
       "9238          2           2194         34   среднее             1   \n",
       "9528          0           2194         66   среднее             1   \n",
       "9627          0           2194         56   среднее             1   \n",
       "10462         0           2194         62   среднее             1   \n",
       "10697         0           2194         40   среднее             1   \n",
       "10864         0           2194         62   среднее             1   \n",
       "10994         0           2194         62   среднее             1   \n",
       "11791         0           2194         47   среднее             1   \n",
       "12373         0           2194         58   среднее             1   \n",
       "12375         1           2194         37   среднее             1   \n",
       "12736         0           2194         59   среднее             1   \n",
       "13025         1           2194         44   среднее             1   \n",
       "13639         0           2194         64   среднее             1   \n",
       "13773         0           2194         35   среднее             1   \n",
       "13878         1           2194         31   среднее             1   \n",
       "13942         0           2194         44   среднее             1   \n",
       "14432         2           2194         36    высшее             0   \n",
       "14832         0           2194         50   среднее             1   \n",
       "15091         0           2194         58   среднее             1   \n",
       "15188         0           2194         60   среднее             1   \n",
       "15273         0           2194         57   среднее             1   \n",
       "16176         0           2194         47   среднее             1   \n",
       "16378         0           2194         46   среднее             1   \n",
       "16902         2           2194         39   среднее             1   \n",
       "16904         1           2194         32    высшее             0   \n",
       "17379         0           2194         54    высшее             0   \n",
       "17755         1           2194         43   среднее             1   \n",
       "17774         1           2194         40   среднее             1   \n",
       "18328         0           2194         29    высшее             0   \n",
       "18349         1           2194         30    высшее             0   \n",
       "18428         0           2194         64   среднее             1   \n",
       "18521         0           2194         56   среднее             1   \n",
       "18563         0           2194         54   среднее             1   \n",
       "18755         0           2194         58   среднее             1   \n",
       "19041         0           2194         56   среднее             1   \n",
       "19184         0           2194         46   среднее             1   \n",
       "19321         0           2194         23   среднее             1   \n",
       "19387         0           2194         38    высшее             0   \n",
       "19688         0           2194         61   среднее             1   \n",
       "19832         0           2194         48   среднее             1   \n",
       "19946         0           2194         57   среднее             1   \n",
       "20116         0           2194         57   среднее             1   \n",
       "20165         0           2194         42   среднее             1   \n",
       "20702         0           2194         64   среднее             1   \n",
       "21032         0           2194         60   среднее             1   \n",
       "21132         0           2194         47   среднее             1   \n",
       "21281         1           2194         30    высшее             0   \n",
       "21415         0           2194         54   среднее             1   \n",
       "\n",
       "               family_status  family_status_id gender  income_type  debt  \\\n",
       "2849         женат / замужем                 0      F    сотрудник     0   \n",
       "4182        гражданский брак                 1      F    сотрудник     0   \n",
       "4851        гражданский брак                 1      F    пенсионер     0   \n",
       "5557        гражданский брак                 1      F    пенсионер     0   \n",
       "7808        гражданский брак                 1      F    пенсионер     0   \n",
       "8583   Не женат / не замужем                 4      F    пенсионер     0   \n",
       "9238         женат / замужем                 0      F    сотрудник     0   \n",
       "9528          вдовец / вдова                 2      F    пенсионер     0   \n",
       "9627         женат / замужем                 0      F    пенсионер     0   \n",
       "10462        женат / замужем                 0      F    пенсионер     0   \n",
       "10697       гражданский брак                 1      F    компаньон     0   \n",
       "10864        женат / замужем                 0      F    пенсионер     0   \n",
       "10994        женат / замужем                 0      F    пенсионер     0   \n",
       "11791        женат / замужем                 0      F    сотрудник     0   \n",
       "12373        женат / замужем                 0      M    сотрудник     0   \n",
       "12375        женат / замужем                 0      F    сотрудник     0   \n",
       "12736        женат / замужем                 0      F    пенсионер     0   \n",
       "13025        женат / замужем                 0      F    сотрудник     0   \n",
       "13639        женат / замужем                 0      F    пенсионер     0   \n",
       "13773       гражданский брак                 1      F    сотрудник     0   \n",
       "13878        женат / замужем                 0      F    компаньон     0   \n",
       "13942        женат / замужем                 0      F    сотрудник     0   \n",
       "14432        женат / замужем                 0      F  госслужащий     0   \n",
       "14832  Не женат / не замужем                 4      F    сотрудник     0   \n",
       "15091       гражданский брак                 1      M    сотрудник     0   \n",
       "15188        женат / замужем                 0      M    сотрудник     0   \n",
       "15273       гражданский брак                 1      F    пенсионер     0   \n",
       "16176        женат / замужем                 0      F    сотрудник     0   \n",
       "16378        женат / замужем                 0      F    сотрудник     0   \n",
       "16902       гражданский брак                 1      F    сотрудник     0   \n",
       "16904        женат / замужем                 0      F    сотрудник     0   \n",
       "17379        женат / замужем                 0      M    компаньон     0   \n",
       "17755        женат / замужем                 0      M    сотрудник     0   \n",
       "17774       гражданский брак                 1      F    компаньон     0   \n",
       "18328        женат / замужем                 0      M    сотрудник     0   \n",
       "18349        женат / замужем                 0      F  госслужащий     0   \n",
       "18428        женат / замужем                 0      F    пенсионер     0   \n",
       "18521       гражданский брак                 1      F    сотрудник     0   \n",
       "18563        женат / замужем                 0      F    сотрудник     0   \n",
       "18755        женат / замужем                 0      F    пенсионер     0   \n",
       "19041       гражданский брак                 1      F    сотрудник     0   \n",
       "19184        женат / замужем                 0      F    сотрудник     0   \n",
       "19321  Не женат / не замужем                 4      F    сотрудник     0   \n",
       "19387       гражданский брак                 1      F    компаньон     0   \n",
       "19688        женат / замужем                 0      F    пенсионер     0   \n",
       "19832        женат / замужем                 0      F    сотрудник     0   \n",
       "19946        женат / замужем                 0      F    сотрудник     0   \n",
       "20116       гражданский брак                 1      M    пенсионер     0   \n",
       "20165        женат / замужем                 0      F    сотрудник     0   \n",
       "20702        женат / замужем                 0      F    пенсионер     0   \n",
       "21032        женат / замужем                 0      F    пенсионер     0   \n",
       "21132        женат / замужем                 0      F    сотрудник     0   \n",
       "21281        женат / замужем                 0      F    сотрудник     0   \n",
       "21415        женат / замужем                 0      F    пенсионер     0   \n",
       "\n",
       "       total_income                                purpose  \n",
       "2849         145017                покупка жилья для семьи  \n",
       "4182         145017                                свадьба  \n",
       "4851         145017                                свадьба  \n",
       "5557         145017                        сыграть свадьбу  \n",
       "7808         145017                  на проведение свадьбы  \n",
       "8583         145017             дополнительное образование  \n",
       "9238         145017                покупка жилья для сдачи  \n",
       "9528         145017        операции со своей недвижимостью  \n",
       "9627         145017        операции со своей недвижимостью  \n",
       "10462        145017      покупка коммерческой недвижимости  \n",
       "10697        145017                        сыграть свадьбу  \n",
       "10864        145017                           ремонт жилью  \n",
       "10994        145017                           ремонт жилью  \n",
       "11791        145017             строительство недвижимости  \n",
       "12373        145017                   покупка недвижимости  \n",
       "12375        145017                   покупка недвижимости  \n",
       "12736        145017                  заняться образованием  \n",
       "13025        145017       сделка с подержанным автомобилем  \n",
       "13639        145017                             автомобиль  \n",
       "13773        145017                        сыграть свадьбу  \n",
       "13878        145017                          покупка жилья  \n",
       "13942        145017                приобретение автомобиля  \n",
       "14432        145017                  получение образования  \n",
       "14832        145017                           недвижимость  \n",
       "15091        145017                  на проведение свадьбы  \n",
       "15188        145017                   покупка недвижимости  \n",
       "15273        145017                                свадьба  \n",
       "16176        145017                           ремонт жилью  \n",
       "16378        145017                     высшее образование  \n",
       "16902        145017                        сыграть свадьбу  \n",
       "16904        145017     на покупку подержанного автомобиля  \n",
       "17379        145017  операции с коммерческой недвижимостью  \n",
       "17755        145017                  заняться образованием  \n",
       "17774        145017       строительство жилой недвижимости  \n",
       "18328        145017             покупка жилой недвижимости  \n",
       "18349        145017                покупка жилья для семьи  \n",
       "18428        145017                                  жилье  \n",
       "18521        145017                        сыграть свадьбу  \n",
       "18563        145017        операции со своей недвижимостью  \n",
       "18755        145017                  заняться образованием  \n",
       "19041        145017                  на проведение свадьбы  \n",
       "19184        145017                        свой автомобиль  \n",
       "19321        145017       сделка с подержанным автомобилем  \n",
       "19387        145017                  на проведение свадьбы  \n",
       "19688        145017               операции с недвижимостью  \n",
       "19832        145017                           ремонт жилью  \n",
       "19946        145017       сделка с подержанным автомобилем  \n",
       "20116        145017                                свадьба  \n",
       "20165        145017                покупка жилья для семьи  \n",
       "20702        145017             дополнительное образование  \n",
       "21032        145017                  заняться образованием  \n",
       "21132        145017                           ремонт жилью  \n",
       "21281        145017      покупка коммерческой недвижимости  \n",
       "21415        145017                      операции с жильем  "
      ]
     },
     "execution_count": 20,
     "metadata": {},
     "output_type": "execute_result"
    }
   ],
   "source": [
    "data[data.duplicated()]"
   ]
  },
  {
   "cell_type": "markdown",
   "id": "79b3b8ff",
   "metadata": {},
   "source": [
    "*На первый взгляд тяжело сказать, почему возникают такого рода дубликаты. Возможно ошибка кроется в заполнении данных, а может быть один и тот же человек брал кредит несколько раз, в следствие чего был внесён в базу дважды.*"
   ]
  },
  {
   "cell_type": "markdown",
   "id": "b4656f2d",
   "metadata": {},
   "source": [
    "*Удалим явные дубликаты известным нам методом и проверим остались ли они.*"
   ]
  },
  {
   "cell_type": "code",
   "execution_count": 21,
   "id": "c105a82a",
   "metadata": {},
   "outputs": [
    {
     "data": {
      "text/plain": [
       "0"
      ]
     },
     "execution_count": 21,
     "metadata": {},
     "output_type": "execute_result"
    }
   ],
   "source": [
    "data = data.drop_duplicates().reset_index(drop=True)\n",
    "data.duplicated().sum()"
   ]
  },
  {
   "cell_type": "markdown",
   "id": "7cac916a",
   "metadata": {},
   "source": [
    "*Отлично, от явлых дубликатов мы избавились. Далее искать неявные дубликаты будем в тех столбцах, которые имеют категориальное значение. Это столбцы \"education\", \"family_status\", \"gender\", \"income_type\", \"purpose\". Выведем уникальные занчения этих столбцов на экран и поищем дубликаты среди них.*"
   ]
  },
  {
   "cell_type": "code",
   "execution_count": 22,
   "id": "ec88169f",
   "metadata": {},
   "outputs": [
    {
     "name": "stdout",
     "output_type": "stream",
     "text": [
      "['высшее' 'среднее' 'Среднее' 'СРЕДНЕЕ' 'ВЫСШЕЕ' 'неоконченное высшее'\n",
      " 'начальное' 'Высшее' 'НЕОКОНЧЕННОЕ ВЫСШЕЕ' 'Неоконченное высшее'\n",
      " 'НАЧАЛЬНОЕ' 'Начальное' 'Ученая степень' 'УЧЕНАЯ СТЕПЕНЬ'\n",
      " 'ученая степень']\n",
      "['женат / замужем' 'гражданский брак' 'вдовец / вдова' 'в разводе'\n",
      " 'Не женат / не замужем']\n",
      "['F' 'M' 'XNA']\n",
      "['сотрудник' 'пенсионер' 'компаньон' 'госслужащий' 'безработный'\n",
      " 'предприниматель' 'студент' 'в декрете']\n",
      "['покупка жилья' 'приобретение автомобиля' 'дополнительное образование'\n",
      " 'сыграть свадьбу' 'операции с жильем' 'образование'\n",
      " 'на проведение свадьбы' 'покупка жилья для семьи' 'покупка недвижимости'\n",
      " 'покупка коммерческой недвижимости' 'покупка жилой недвижимости'\n",
      " 'строительство собственной недвижимости' 'недвижимость'\n",
      " 'строительство недвижимости' 'на покупку подержанного автомобиля'\n",
      " 'на покупку своего автомобиля' 'операции с коммерческой недвижимостью'\n",
      " 'строительство жилой недвижимости' 'жилье'\n",
      " 'операции со своей недвижимостью' 'автомобили' 'заняться образованием'\n",
      " 'сделка с подержанным автомобилем' 'получение образования' 'автомобиль'\n",
      " 'свадьба' 'получение дополнительного образования' 'покупка своего жилья'\n",
      " 'операции с недвижимостью' 'получение высшего образования'\n",
      " 'свой автомобиль' 'сделка с автомобилем' 'профильное образование'\n",
      " 'высшее образование' 'покупка жилья для сдачи' 'на покупку автомобиля'\n",
      " 'ремонт жилью' 'заняться высшим образованием']\n"
     ]
    }
   ],
   "source": [
    "print(data['education'].unique())\n",
    "print(data['family_status'].unique())\n",
    "print(data['gender'].unique())\n",
    "print(data['income_type'].unique())\n",
    "print(data['purpose'].unique())"
   ]
  },
  {
   "cell_type": "markdown",
   "id": "819cc6eb",
   "metadata": {},
   "source": [
    "*Как мы видим, в столбце \"education\" есть дубликаты, которые связаны с регистром. Остальные же столбцы не имеют дубликатов (кроме \"purpose\", но с категоризацией целей кредита мы разберёмся позже, пока отчистим \"education\" от дубликатов.)*"
   ]
  },
  {
   "cell_type": "code",
   "execution_count": 23,
   "id": "09ee7932",
   "metadata": {
    "scrolled": true
   },
   "outputs": [
    {
     "data": {
      "text/html": [
       "<div>\n",
       "<style scoped>\n",
       "    .dataframe tbody tr th:only-of-type {\n",
       "        vertical-align: middle;\n",
       "    }\n",
       "\n",
       "    .dataframe tbody tr th {\n",
       "        vertical-align: top;\n",
       "    }\n",
       "\n",
       "    .dataframe thead th {\n",
       "        text-align: right;\n",
       "    }\n",
       "</style>\n",
       "<table border=\"1\" class=\"dataframe\">\n",
       "  <thead>\n",
       "    <tr style=\"text-align: right;\">\n",
       "      <th></th>\n",
       "      <th>children</th>\n",
       "      <th>days_employed</th>\n",
       "      <th>dob_years</th>\n",
       "      <th>education</th>\n",
       "      <th>education_id</th>\n",
       "      <th>family_status</th>\n",
       "      <th>family_status_id</th>\n",
       "      <th>gender</th>\n",
       "      <th>income_type</th>\n",
       "      <th>debt</th>\n",
       "      <th>total_income</th>\n",
       "      <th>purpose</th>\n",
       "    </tr>\n",
       "  </thead>\n",
       "  <tbody>\n",
       "    <tr>\n",
       "      <th>0</th>\n",
       "      <td>1</td>\n",
       "      <td>8437</td>\n",
       "      <td>42</td>\n",
       "      <td>высшее</td>\n",
       "      <td>0</td>\n",
       "      <td>женат / замужем</td>\n",
       "      <td>0</td>\n",
       "      <td>F</td>\n",
       "      <td>сотрудник</td>\n",
       "      <td>0</td>\n",
       "      <td>253875</td>\n",
       "      <td>покупка жилья</td>\n",
       "    </tr>\n",
       "    <tr>\n",
       "      <th>1</th>\n",
       "      <td>1</td>\n",
       "      <td>4024</td>\n",
       "      <td>36</td>\n",
       "      <td>среднее</td>\n",
       "      <td>1</td>\n",
       "      <td>женат / замужем</td>\n",
       "      <td>0</td>\n",
       "      <td>F</td>\n",
       "      <td>сотрудник</td>\n",
       "      <td>0</td>\n",
       "      <td>112080</td>\n",
       "      <td>приобретение автомобиля</td>\n",
       "    </tr>\n",
       "    <tr>\n",
       "      <th>2</th>\n",
       "      <td>0</td>\n",
       "      <td>5623</td>\n",
       "      <td>33</td>\n",
       "      <td>среднее</td>\n",
       "      <td>1</td>\n",
       "      <td>женат / замужем</td>\n",
       "      <td>0</td>\n",
       "      <td>M</td>\n",
       "      <td>сотрудник</td>\n",
       "      <td>0</td>\n",
       "      <td>145885</td>\n",
       "      <td>покупка жилья</td>\n",
       "    </tr>\n",
       "    <tr>\n",
       "      <th>3</th>\n",
       "      <td>3</td>\n",
       "      <td>4124</td>\n",
       "      <td>32</td>\n",
       "      <td>среднее</td>\n",
       "      <td>1</td>\n",
       "      <td>женат / замужем</td>\n",
       "      <td>0</td>\n",
       "      <td>M</td>\n",
       "      <td>сотрудник</td>\n",
       "      <td>0</td>\n",
       "      <td>267628</td>\n",
       "      <td>дополнительное образование</td>\n",
       "    </tr>\n",
       "    <tr>\n",
       "      <th>4</th>\n",
       "      <td>0</td>\n",
       "      <td>340266</td>\n",
       "      <td>53</td>\n",
       "      <td>среднее</td>\n",
       "      <td>1</td>\n",
       "      <td>гражданский брак</td>\n",
       "      <td>1</td>\n",
       "      <td>F</td>\n",
       "      <td>пенсионер</td>\n",
       "      <td>0</td>\n",
       "      <td>158616</td>\n",
       "      <td>сыграть свадьбу</td>\n",
       "    </tr>\n",
       "  </tbody>\n",
       "</table>\n",
       "</div>"
      ],
      "text/plain": [
       "   children  days_employed  dob_years education  education_id  \\\n",
       "0         1           8437         42    высшее             0   \n",
       "1         1           4024         36   среднее             1   \n",
       "2         0           5623         33   среднее             1   \n",
       "3         3           4124         32   среднее             1   \n",
       "4         0         340266         53   среднее             1   \n",
       "\n",
       "      family_status  family_status_id gender income_type  debt  total_income  \\\n",
       "0   женат / замужем                 0      F   сотрудник     0        253875   \n",
       "1   женат / замужем                 0      F   сотрудник     0        112080   \n",
       "2   женат / замужем                 0      M   сотрудник     0        145885   \n",
       "3   женат / замужем                 0      M   сотрудник     0        267628   \n",
       "4  гражданский брак                 1      F   пенсионер     0        158616   \n",
       "\n",
       "                      purpose  \n",
       "0               покупка жилья  \n",
       "1     приобретение автомобиля  \n",
       "2               покупка жилья  \n",
       "3  дополнительное образование  \n",
       "4             сыграть свадьбу  "
      ]
     },
     "execution_count": 23,
     "metadata": {},
     "output_type": "execute_result"
    }
   ],
   "source": [
    "data['lower_education'] = data['education'].str.lower()\n",
    "data['education'] = data['lower_education']\n",
    "data.pop('lower_education')\n",
    "data.head()"
   ]
  },
  {
   "cell_type": "markdown",
   "id": "0efddc49",
   "metadata": {},
   "source": [
    "*Отлично, проверим все ли дубликаты мы удалили.*"
   ]
  },
  {
   "cell_type": "code",
   "execution_count": 24,
   "id": "e62819f1",
   "metadata": {
    "scrolled": false
   },
   "outputs": [
    {
     "data": {
      "text/plain": [
       "array(['высшее', 'среднее', 'неоконченное высшее', 'начальное',\n",
       "       'ученая степень'], dtype=object)"
      ]
     },
     "execution_count": 24,
     "metadata": {},
     "output_type": "execute_result"
    }
   ],
   "source": [
    "data['education'].unique()"
   ]
  },
  {
   "cell_type": "markdown",
   "id": "668a8e12",
   "metadata": {},
   "source": [
    "*Отлично, мы отчистили данный столбец от думбликатов, пора переходить к следующей задаче: формированию дополнительных датафреймов словарей и декомпозицией исходного датафрейма.*"
   ]
  },
  {
   "cell_type": "markdown",
   "id": "6cea8136",
   "metadata": {},
   "source": [
    "## Шаг 6 Формирование дополнительных датафреймов словарей, декомпозиция исходного датафрейма."
   ]
  },
  {
   "cell_type": "markdown",
   "id": "9f8c2a6c",
   "metadata": {},
   "source": [
    "*Для удобства мы создадим дополнительный датафрейм, который будет хранить в себе идентификатор и данные о двух столбцах: 'education' и 'family_status'. А затем отчистим исходный датафрейм от данных столбцов, оставив только их идентификатор.*"
   ]
  },
  {
   "cell_type": "code",
   "execution_count": 25,
   "id": "689e7136",
   "metadata": {
    "scrolled": false
   },
   "outputs": [
    {
     "data": {
      "text/html": [
       "<div>\n",
       "<style scoped>\n",
       "    .dataframe tbody tr th:only-of-type {\n",
       "        vertical-align: middle;\n",
       "    }\n",
       "\n",
       "    .dataframe tbody tr th {\n",
       "        vertical-align: top;\n",
       "    }\n",
       "\n",
       "    .dataframe thead th {\n",
       "        text-align: right;\n",
       "    }\n",
       "</style>\n",
       "<table border=\"1\" class=\"dataframe\">\n",
       "  <thead>\n",
       "    <tr style=\"text-align: right;\">\n",
       "      <th></th>\n",
       "      <th>children</th>\n",
       "      <th>days_employed</th>\n",
       "      <th>dob_years</th>\n",
       "      <th>education</th>\n",
       "      <th>education_id</th>\n",
       "      <th>family_status</th>\n",
       "      <th>family_status_id</th>\n",
       "      <th>gender</th>\n",
       "      <th>income_type</th>\n",
       "      <th>debt</th>\n",
       "      <th>total_income</th>\n",
       "      <th>purpose</th>\n",
       "    </tr>\n",
       "  </thead>\n",
       "  <tbody>\n",
       "    <tr>\n",
       "      <th>0</th>\n",
       "      <td>1</td>\n",
       "      <td>8437</td>\n",
       "      <td>42</td>\n",
       "      <td>высшее</td>\n",
       "      <td>0</td>\n",
       "      <td>женат / замужем</td>\n",
       "      <td>0</td>\n",
       "      <td>F</td>\n",
       "      <td>сотрудник</td>\n",
       "      <td>0</td>\n",
       "      <td>253875</td>\n",
       "      <td>покупка жилья</td>\n",
       "    </tr>\n",
       "    <tr>\n",
       "      <th>1</th>\n",
       "      <td>1</td>\n",
       "      <td>4024</td>\n",
       "      <td>36</td>\n",
       "      <td>среднее</td>\n",
       "      <td>1</td>\n",
       "      <td>женат / замужем</td>\n",
       "      <td>0</td>\n",
       "      <td>F</td>\n",
       "      <td>сотрудник</td>\n",
       "      <td>0</td>\n",
       "      <td>112080</td>\n",
       "      <td>приобретение автомобиля</td>\n",
       "    </tr>\n",
       "    <tr>\n",
       "      <th>2</th>\n",
       "      <td>0</td>\n",
       "      <td>5623</td>\n",
       "      <td>33</td>\n",
       "      <td>среднее</td>\n",
       "      <td>1</td>\n",
       "      <td>женат / замужем</td>\n",
       "      <td>0</td>\n",
       "      <td>M</td>\n",
       "      <td>сотрудник</td>\n",
       "      <td>0</td>\n",
       "      <td>145885</td>\n",
       "      <td>покупка жилья</td>\n",
       "    </tr>\n",
       "    <tr>\n",
       "      <th>3</th>\n",
       "      <td>3</td>\n",
       "      <td>4124</td>\n",
       "      <td>32</td>\n",
       "      <td>среднее</td>\n",
       "      <td>1</td>\n",
       "      <td>женат / замужем</td>\n",
       "      <td>0</td>\n",
       "      <td>M</td>\n",
       "      <td>сотрудник</td>\n",
       "      <td>0</td>\n",
       "      <td>267628</td>\n",
       "      <td>дополнительное образование</td>\n",
       "    </tr>\n",
       "    <tr>\n",
       "      <th>4</th>\n",
       "      <td>0</td>\n",
       "      <td>340266</td>\n",
       "      <td>53</td>\n",
       "      <td>среднее</td>\n",
       "      <td>1</td>\n",
       "      <td>гражданский брак</td>\n",
       "      <td>1</td>\n",
       "      <td>F</td>\n",
       "      <td>пенсионер</td>\n",
       "      <td>0</td>\n",
       "      <td>158616</td>\n",
       "      <td>сыграть свадьбу</td>\n",
       "    </tr>\n",
       "  </tbody>\n",
       "</table>\n",
       "</div>"
      ],
      "text/plain": [
       "   children  days_employed  dob_years education  education_id  \\\n",
       "0         1           8437         42    высшее             0   \n",
       "1         1           4024         36   среднее             1   \n",
       "2         0           5623         33   среднее             1   \n",
       "3         3           4124         32   среднее             1   \n",
       "4         0         340266         53   среднее             1   \n",
       "\n",
       "      family_status  family_status_id gender income_type  debt  total_income  \\\n",
       "0   женат / замужем                 0      F   сотрудник     0        253875   \n",
       "1   женат / замужем                 0      F   сотрудник     0        112080   \n",
       "2   женат / замужем                 0      M   сотрудник     0        145885   \n",
       "3   женат / замужем                 0      M   сотрудник     0        267628   \n",
       "4  гражданский брак                 1      F   пенсионер     0        158616   \n",
       "\n",
       "                      purpose  \n",
       "0               покупка жилья  \n",
       "1     приобретение автомобиля  \n",
       "2               покупка жилья  \n",
       "3  дополнительное образование  \n",
       "4             сыграть свадьбу  "
      ]
     },
     "execution_count": 25,
     "metadata": {},
     "output_type": "execute_result"
    }
   ],
   "source": [
    "education_dict = pd.DataFrame(data.loc[:, 'education':'education_id'])\n",
    "family_dict = pd.DataFrame(data.loc[:, 'family_status':'family_status_id'])\n",
    "family_dict = family_dict.drop_duplicates().reset_index(drop=True)\n",
    "education_dict = education_dict.drop_duplicates().reset_index(drop=True)\n",
    "data.drop(['education', 'family_status'], axis=1)\n",
    "data.head()"
   ]
  },
  {
   "cell_type": "markdown",
   "id": "c9cb4b6a",
   "metadata": {},
   "source": [
    "## Шаг 7 Категоризация дохода."
   ]
  },
  {
   "cell_type": "markdown",
   "id": "3840c40a",
   "metadata": {},
   "source": [
    "*Для того, чтобы человек, которому нужно понять категорию заёмщика, мог быстро это сделать, нам нужно категоризировать данные по доходу. Составим дополнительных столбец, куда внесём категории заёмщиков, распределив их по доходу из столбца \"total_income\", а затем выведем первые 5 строк датафрейма для проверки.*"
   ]
  },
  {
   "cell_type": "code",
   "execution_count": 26,
   "id": "5d8bcd78",
   "metadata": {
    "scrolled": true
   },
   "outputs": [
    {
     "data": {
      "text/html": [
       "<div>\n",
       "<style scoped>\n",
       "    .dataframe tbody tr th:only-of-type {\n",
       "        vertical-align: middle;\n",
       "    }\n",
       "\n",
       "    .dataframe tbody tr th {\n",
       "        vertical-align: top;\n",
       "    }\n",
       "\n",
       "    .dataframe thead th {\n",
       "        text-align: right;\n",
       "    }\n",
       "</style>\n",
       "<table border=\"1\" class=\"dataframe\">\n",
       "  <thead>\n",
       "    <tr style=\"text-align: right;\">\n",
       "      <th></th>\n",
       "      <th>children</th>\n",
       "      <th>days_employed</th>\n",
       "      <th>dob_years</th>\n",
       "      <th>education</th>\n",
       "      <th>education_id</th>\n",
       "      <th>family_status</th>\n",
       "      <th>family_status_id</th>\n",
       "      <th>gender</th>\n",
       "      <th>income_type</th>\n",
       "      <th>debt</th>\n",
       "      <th>total_income</th>\n",
       "      <th>purpose</th>\n",
       "      <th>total_income_category</th>\n",
       "    </tr>\n",
       "  </thead>\n",
       "  <tbody>\n",
       "    <tr>\n",
       "      <th>0</th>\n",
       "      <td>1</td>\n",
       "      <td>8437</td>\n",
       "      <td>42</td>\n",
       "      <td>высшее</td>\n",
       "      <td>0</td>\n",
       "      <td>женат / замужем</td>\n",
       "      <td>0</td>\n",
       "      <td>F</td>\n",
       "      <td>сотрудник</td>\n",
       "      <td>0</td>\n",
       "      <td>253875</td>\n",
       "      <td>покупка жилья</td>\n",
       "      <td>B</td>\n",
       "    </tr>\n",
       "    <tr>\n",
       "      <th>1</th>\n",
       "      <td>1</td>\n",
       "      <td>4024</td>\n",
       "      <td>36</td>\n",
       "      <td>среднее</td>\n",
       "      <td>1</td>\n",
       "      <td>женат / замужем</td>\n",
       "      <td>0</td>\n",
       "      <td>F</td>\n",
       "      <td>сотрудник</td>\n",
       "      <td>0</td>\n",
       "      <td>112080</td>\n",
       "      <td>приобретение автомобиля</td>\n",
       "      <td>C</td>\n",
       "    </tr>\n",
       "    <tr>\n",
       "      <th>2</th>\n",
       "      <td>0</td>\n",
       "      <td>5623</td>\n",
       "      <td>33</td>\n",
       "      <td>среднее</td>\n",
       "      <td>1</td>\n",
       "      <td>женат / замужем</td>\n",
       "      <td>0</td>\n",
       "      <td>M</td>\n",
       "      <td>сотрудник</td>\n",
       "      <td>0</td>\n",
       "      <td>145885</td>\n",
       "      <td>покупка жилья</td>\n",
       "      <td>C</td>\n",
       "    </tr>\n",
       "    <tr>\n",
       "      <th>3</th>\n",
       "      <td>3</td>\n",
       "      <td>4124</td>\n",
       "      <td>32</td>\n",
       "      <td>среднее</td>\n",
       "      <td>1</td>\n",
       "      <td>женат / замужем</td>\n",
       "      <td>0</td>\n",
       "      <td>M</td>\n",
       "      <td>сотрудник</td>\n",
       "      <td>0</td>\n",
       "      <td>267628</td>\n",
       "      <td>дополнительное образование</td>\n",
       "      <td>B</td>\n",
       "    </tr>\n",
       "    <tr>\n",
       "      <th>4</th>\n",
       "      <td>0</td>\n",
       "      <td>340266</td>\n",
       "      <td>53</td>\n",
       "      <td>среднее</td>\n",
       "      <td>1</td>\n",
       "      <td>гражданский брак</td>\n",
       "      <td>1</td>\n",
       "      <td>F</td>\n",
       "      <td>пенсионер</td>\n",
       "      <td>0</td>\n",
       "      <td>158616</td>\n",
       "      <td>сыграть свадьбу</td>\n",
       "      <td>C</td>\n",
       "    </tr>\n",
       "  </tbody>\n",
       "</table>\n",
       "</div>"
      ],
      "text/plain": [
       "   children  days_employed  dob_years education  education_id  \\\n",
       "0         1           8437         42    высшее             0   \n",
       "1         1           4024         36   среднее             1   \n",
       "2         0           5623         33   среднее             1   \n",
       "3         3           4124         32   среднее             1   \n",
       "4         0         340266         53   среднее             1   \n",
       "\n",
       "      family_status  family_status_id gender income_type  debt  total_income  \\\n",
       "0   женат / замужем                 0      F   сотрудник     0        253875   \n",
       "1   женат / замужем                 0      F   сотрудник     0        112080   \n",
       "2   женат / замужем                 0      M   сотрудник     0        145885   \n",
       "3   женат / замужем                 0      M   сотрудник     0        267628   \n",
       "4  гражданский брак                 1      F   пенсионер     0        158616   \n",
       "\n",
       "                      purpose total_income_category  \n",
       "0               покупка жилья                     B  \n",
       "1     приобретение автомобиля                     C  \n",
       "2               покупка жилья                     C  \n",
       "3  дополнительное образование                     B  \n",
       "4             сыграть свадьбу                     C  "
      ]
     },
     "execution_count": 26,
     "metadata": {},
     "output_type": "execute_result"
    }
   ],
   "source": [
    "def category(total_income): \n",
    "    try:\n",
    "        if 0 < total_income < 30000:\n",
    "            return 'E'\n",
    "        elif 30001 < total_income < 50000:\n",
    "            return 'D'\n",
    "        elif 50001 < total_income < 200000:\n",
    "            return 'C'\n",
    "        elif 200001 < total_income < 1000000:\n",
    "            return 'B'\n",
    "        else:\n",
    "            return 'A'\n",
    "    except:\n",
    "        return 'нет категории'\n",
    "data['total_income_category'] = data['total_income'].apply(category)\n",
    "data.head()"
   ]
  },
  {
   "cell_type": "markdown",
   "id": "07f49cd7",
   "metadata": {},
   "source": [
    "*Отлично, теперь сразу понятно, кто к какой категории относится. Теперь проделаем тоже самое с целями кредита.*"
   ]
  },
  {
   "cell_type": "markdown",
   "id": "1891a33e",
   "metadata": {},
   "source": [
    "## Шаг 8 Категоризация целей кредита."
   ]
  },
  {
   "cell_type": "markdown",
   "id": "e94f1585",
   "metadata": {},
   "source": [
    "*Теперь нам нужно разбить цели кредита на отдельные категории. Для начала вновь выведем уникальные значения, ориентируясь на которые, мы будем категоризировать цели кредита.*"
   ]
  },
  {
   "cell_type": "code",
   "execution_count": 27,
   "id": "32f06b52",
   "metadata": {
    "scrolled": true
   },
   "outputs": [
    {
     "data": {
      "text/plain": [
       "array(['покупка жилья', 'приобретение автомобиля',\n",
       "       'дополнительное образование', 'сыграть свадьбу',\n",
       "       'операции с жильем', 'образование', 'на проведение свадьбы',\n",
       "       'покупка жилья для семьи', 'покупка недвижимости',\n",
       "       'покупка коммерческой недвижимости', 'покупка жилой недвижимости',\n",
       "       'строительство собственной недвижимости', 'недвижимость',\n",
       "       'строительство недвижимости', 'на покупку подержанного автомобиля',\n",
       "       'на покупку своего автомобиля',\n",
       "       'операции с коммерческой недвижимостью',\n",
       "       'строительство жилой недвижимости', 'жилье',\n",
       "       'операции со своей недвижимостью', 'автомобили',\n",
       "       'заняться образованием', 'сделка с подержанным автомобилем',\n",
       "       'получение образования', 'автомобиль', 'свадьба',\n",
       "       'получение дополнительного образования', 'покупка своего жилья',\n",
       "       'операции с недвижимостью', 'получение высшего образования',\n",
       "       'свой автомобиль', 'сделка с автомобилем',\n",
       "       'профильное образование', 'высшее образование',\n",
       "       'покупка жилья для сдачи', 'на покупку автомобиля', 'ремонт жилью',\n",
       "       'заняться высшим образованием'], dtype=object)"
      ]
     },
     "execution_count": 27,
     "metadata": {},
     "output_type": "execute_result"
    }
   ],
   "source": [
    "data['purpose'].unique()"
   ]
  },
  {
   "cell_type": "markdown",
   "id": "1abebb21",
   "metadata": {},
   "source": [
    "*Выводя уникальные значения, мы обнаружили множество повторов в целях кредита, которые отличаются лишь формулировкой и/или регистром. Нужно это исправить. Создадим дополнительный столбец, в котором будут отражены цели кредита, распределённые на 4 категории: \"операции с автомобилем\", \"операции с недвижимостью\", \"проведение свадьбы\", \"получение образования\".*"
   ]
  },
  {
   "cell_type": "code",
   "execution_count": 28,
   "id": "70c04dc1",
   "metadata": {},
   "outputs": [
    {
     "data": {
      "text/html": [
       "<div>\n",
       "<style scoped>\n",
       "    .dataframe tbody tr th:only-of-type {\n",
       "        vertical-align: middle;\n",
       "    }\n",
       "\n",
       "    .dataframe tbody tr th {\n",
       "        vertical-align: top;\n",
       "    }\n",
       "\n",
       "    .dataframe thead th {\n",
       "        text-align: right;\n",
       "    }\n",
       "</style>\n",
       "<table border=\"1\" class=\"dataframe\">\n",
       "  <thead>\n",
       "    <tr style=\"text-align: right;\">\n",
       "      <th></th>\n",
       "      <th>children</th>\n",
       "      <th>days_employed</th>\n",
       "      <th>dob_years</th>\n",
       "      <th>education</th>\n",
       "      <th>education_id</th>\n",
       "      <th>family_status</th>\n",
       "      <th>family_status_id</th>\n",
       "      <th>gender</th>\n",
       "      <th>income_type</th>\n",
       "      <th>debt</th>\n",
       "      <th>total_income</th>\n",
       "      <th>purpose</th>\n",
       "      <th>total_income_category</th>\n",
       "      <th>purpose_category</th>\n",
       "    </tr>\n",
       "  </thead>\n",
       "  <tbody>\n",
       "    <tr>\n",
       "      <th>0</th>\n",
       "      <td>1</td>\n",
       "      <td>8437</td>\n",
       "      <td>42</td>\n",
       "      <td>высшее</td>\n",
       "      <td>0</td>\n",
       "      <td>женат / замужем</td>\n",
       "      <td>0</td>\n",
       "      <td>F</td>\n",
       "      <td>сотрудник</td>\n",
       "      <td>0</td>\n",
       "      <td>253875</td>\n",
       "      <td>покупка жилья</td>\n",
       "      <td>B</td>\n",
       "      <td>операции с недвижимостью</td>\n",
       "    </tr>\n",
       "    <tr>\n",
       "      <th>1</th>\n",
       "      <td>1</td>\n",
       "      <td>4024</td>\n",
       "      <td>36</td>\n",
       "      <td>среднее</td>\n",
       "      <td>1</td>\n",
       "      <td>женат / замужем</td>\n",
       "      <td>0</td>\n",
       "      <td>F</td>\n",
       "      <td>сотрудник</td>\n",
       "      <td>0</td>\n",
       "      <td>112080</td>\n",
       "      <td>приобретение автомобиля</td>\n",
       "      <td>C</td>\n",
       "      <td>операции с автомобилем</td>\n",
       "    </tr>\n",
       "    <tr>\n",
       "      <th>2</th>\n",
       "      <td>0</td>\n",
       "      <td>5623</td>\n",
       "      <td>33</td>\n",
       "      <td>среднее</td>\n",
       "      <td>1</td>\n",
       "      <td>женат / замужем</td>\n",
       "      <td>0</td>\n",
       "      <td>M</td>\n",
       "      <td>сотрудник</td>\n",
       "      <td>0</td>\n",
       "      <td>145885</td>\n",
       "      <td>покупка жилья</td>\n",
       "      <td>C</td>\n",
       "      <td>операции с недвижимостью</td>\n",
       "    </tr>\n",
       "    <tr>\n",
       "      <th>3</th>\n",
       "      <td>3</td>\n",
       "      <td>4124</td>\n",
       "      <td>32</td>\n",
       "      <td>среднее</td>\n",
       "      <td>1</td>\n",
       "      <td>женат / замужем</td>\n",
       "      <td>0</td>\n",
       "      <td>M</td>\n",
       "      <td>сотрудник</td>\n",
       "      <td>0</td>\n",
       "      <td>267628</td>\n",
       "      <td>дополнительное образование</td>\n",
       "      <td>B</td>\n",
       "      <td>получение образования</td>\n",
       "    </tr>\n",
       "    <tr>\n",
       "      <th>4</th>\n",
       "      <td>0</td>\n",
       "      <td>340266</td>\n",
       "      <td>53</td>\n",
       "      <td>среднее</td>\n",
       "      <td>1</td>\n",
       "      <td>гражданский брак</td>\n",
       "      <td>1</td>\n",
       "      <td>F</td>\n",
       "      <td>пенсионер</td>\n",
       "      <td>0</td>\n",
       "      <td>158616</td>\n",
       "      <td>сыграть свадьбу</td>\n",
       "      <td>C</td>\n",
       "      <td>проведение свадьбы</td>\n",
       "    </tr>\n",
       "  </tbody>\n",
       "</table>\n",
       "</div>"
      ],
      "text/plain": [
       "   children  days_employed  dob_years education  education_id  \\\n",
       "0         1           8437         42    высшее             0   \n",
       "1         1           4024         36   среднее             1   \n",
       "2         0           5623         33   среднее             1   \n",
       "3         3           4124         32   среднее             1   \n",
       "4         0         340266         53   среднее             1   \n",
       "\n",
       "      family_status  family_status_id gender income_type  debt  total_income  \\\n",
       "0   женат / замужем                 0      F   сотрудник     0        253875   \n",
       "1   женат / замужем                 0      F   сотрудник     0        112080   \n",
       "2   женат / замужем                 0      M   сотрудник     0        145885   \n",
       "3   женат / замужем                 0      M   сотрудник     0        267628   \n",
       "4  гражданский брак                 1      F   пенсионер     0        158616   \n",
       "\n",
       "                      purpose total_income_category          purpose_category  \n",
       "0               покупка жилья                     B  операции с недвижимостью  \n",
       "1     приобретение автомобиля                     C    операции с автомобилем  \n",
       "2               покупка жилья                     C  операции с недвижимостью  \n",
       "3  дополнительное образование                     B     получение образования  \n",
       "4             сыграть свадьбу                     C        проведение свадьбы  "
      ]
     },
     "execution_count": 28,
     "metadata": {},
     "output_type": "execute_result"
    }
   ],
   "source": [
    "def credit_purpose(purpose):\n",
    "    try:\n",
    "        if 'авто' in purpose:\n",
    "            return 'операции с автомобилем'\n",
    "        if 'недвиж' in purpose or 'жил' in purpose:\n",
    "            return 'операции с недвижимостью'\n",
    "        if 'свад' in purpose:\n",
    "            return 'проведение свадьбы'\n",
    "        if 'образов' in purpose:\n",
    "            return 'получение образования'\n",
    "    except:\n",
    "        return 'нет категории'\n",
    "data['purpose_category'] = data['purpose'].apply(credit_purpose)\n",
    "data.head()"
   ]
  },
  {
   "cell_type": "markdown",
   "id": "2d4bac26",
   "metadata": {},
   "source": [
    "*Отлично, цели кредита чётко известны в отдельном столбце. Данные обработаны и готовы к анализу! Пришло время проверить гипотезы.*"
   ]
  },
  {
   "cell_type": "markdown",
   "id": "4d2deebd",
   "metadata": {},
   "source": [
    "## Ответы на вопросы."
   ]
  },
  {
   "cell_type": "markdown",
   "id": "ed1adbb0",
   "metadata": {},
   "source": [
    "### *Вопрос 1:* \n",
    "*Есть ли зависимость между количеством детей и возвратом кредита в срок?*"
   ]
  },
  {
   "cell_type": "code",
   "execution_count": 29,
   "id": "b6f94a8d",
   "metadata": {
    "scrolled": false
   },
   "outputs": [
    {
     "data": {
      "text/html": [
       "<div>\n",
       "<style scoped>\n",
       "    .dataframe tbody tr th:only-of-type {\n",
       "        vertical-align: middle;\n",
       "    }\n",
       "\n",
       "    .dataframe tbody tr th {\n",
       "        vertical-align: top;\n",
       "    }\n",
       "\n",
       "    .dataframe thead th {\n",
       "        text-align: right;\n",
       "    }\n",
       "</style>\n",
       "<table border=\"1\" class=\"dataframe\">\n",
       "  <thead>\n",
       "    <tr style=\"text-align: right;\">\n",
       "      <th>debt</th>\n",
       "      <th>0</th>\n",
       "      <th>1</th>\n",
       "      <th>result</th>\n",
       "    </tr>\n",
       "    <tr>\n",
       "      <th>children</th>\n",
       "      <th></th>\n",
       "      <th></th>\n",
       "      <th></th>\n",
       "    </tr>\n",
       "  </thead>\n",
       "  <tbody>\n",
       "    <tr>\n",
       "      <th>0</th>\n",
       "      <td>13044.0</td>\n",
       "      <td>1063.0</td>\n",
       "      <td>7.535266</td>\n",
       "    </tr>\n",
       "    <tr>\n",
       "      <th>1</th>\n",
       "      <td>4365.0</td>\n",
       "      <td>444.0</td>\n",
       "      <td>9.232689</td>\n",
       "    </tr>\n",
       "    <tr>\n",
       "      <th>2</th>\n",
       "      <td>1858.0</td>\n",
       "      <td>194.0</td>\n",
       "      <td>9.454191</td>\n",
       "    </tr>\n",
       "    <tr>\n",
       "      <th>3</th>\n",
       "      <td>303.0</td>\n",
       "      <td>27.0</td>\n",
       "      <td>8.181818</td>\n",
       "    </tr>\n",
       "    <tr>\n",
       "      <th>4</th>\n",
       "      <td>37.0</td>\n",
       "      <td>4.0</td>\n",
       "      <td>9.756098</td>\n",
       "    </tr>\n",
       "    <tr>\n",
       "      <th>5</th>\n",
       "      <td>9.0</td>\n",
       "      <td>NaN</td>\n",
       "      <td>NaN</td>\n",
       "    </tr>\n",
       "    <tr>\n",
       "      <th>20</th>\n",
       "      <td>68.0</td>\n",
       "      <td>8.0</td>\n",
       "      <td>10.526316</td>\n",
       "    </tr>\n",
       "  </tbody>\n",
       "</table>\n",
       "</div>"
      ],
      "text/plain": [
       "debt            0       1     result\n",
       "children                            \n",
       "0         13044.0  1063.0   7.535266\n",
       "1          4365.0   444.0   9.232689\n",
       "2          1858.0   194.0   9.454191\n",
       "3           303.0    27.0   8.181818\n",
       "4            37.0     4.0   9.756098\n",
       "5             9.0     NaN        NaN\n",
       "20           68.0     8.0  10.526316"
      ]
     },
     "execution_count": 29,
     "metadata": {},
     "output_type": "execute_result"
    }
   ],
   "source": [
    "children_result = data.pivot_table(index = 'children', columns = 'debt', values = 'days_employed', aggfunc ='count')\n",
    "children_result['result'] = children_result[1]/(children_result[0] + children_result[1]) * 100\n",
    "children_result"
   ]
  },
  {
   "cell_type": "markdown",
   "id": "79643be1",
   "metadata": {},
   "source": [
    "##### *Вывод 1:*\n",
    "*Из полученной таблицы можно сделать следующий вывод: люди, у которых есть как минимум 1 ребёнок, больше склонны к тому, чтобы не вернуть кредит в срок, чем те, у кого детей нет. Больше всего просрочек у людей, которые имеют 2, 4 и 20 детей.*"
   ]
  },
  {
   "cell_type": "markdown",
   "id": "920f77ff",
   "metadata": {},
   "source": [
    "### *Вопрос 2:*\n",
    "*Есть ли зависимость между семейным положением и возвратом кредита в срок?*"
   ]
  },
  {
   "cell_type": "code",
   "execution_count": 30,
   "id": "aaf2f054",
   "metadata": {
    "scrolled": true
   },
   "outputs": [
    {
     "data": {
      "text/html": [
       "<div>\n",
       "<style scoped>\n",
       "    .dataframe tbody tr th:only-of-type {\n",
       "        vertical-align: middle;\n",
       "    }\n",
       "\n",
       "    .dataframe tbody tr th {\n",
       "        vertical-align: top;\n",
       "    }\n",
       "\n",
       "    .dataframe thead th {\n",
       "        text-align: right;\n",
       "    }\n",
       "</style>\n",
       "<table border=\"1\" class=\"dataframe\">\n",
       "  <thead>\n",
       "    <tr style=\"text-align: right;\">\n",
       "      <th></th>\n",
       "      <th>family_status_id</th>\n",
       "      <th>0</th>\n",
       "      <th>1</th>\n",
       "      <th>result</th>\n",
       "      <th>family_status</th>\n",
       "    </tr>\n",
       "  </thead>\n",
       "  <tbody>\n",
       "    <tr>\n",
       "      <th>0</th>\n",
       "      <td>0</td>\n",
       "      <td>11385</td>\n",
       "      <td>930</td>\n",
       "      <td>7.551766</td>\n",
       "      <td>женат / замужем</td>\n",
       "    </tr>\n",
       "    <tr>\n",
       "      <th>1</th>\n",
       "      <td>1</td>\n",
       "      <td>3770</td>\n",
       "      <td>388</td>\n",
       "      <td>9.331409</td>\n",
       "      <td>гражданский брак</td>\n",
       "    </tr>\n",
       "    <tr>\n",
       "      <th>2</th>\n",
       "      <td>2</td>\n",
       "      <td>892</td>\n",
       "      <td>63</td>\n",
       "      <td>6.596859</td>\n",
       "      <td>вдовец / вдова</td>\n",
       "    </tr>\n",
       "    <tr>\n",
       "      <th>3</th>\n",
       "      <td>3</td>\n",
       "      <td>1106</td>\n",
       "      <td>85</td>\n",
       "      <td>7.136860</td>\n",
       "      <td>в разводе</td>\n",
       "    </tr>\n",
       "    <tr>\n",
       "      <th>4</th>\n",
       "      <td>4</td>\n",
       "      <td>2531</td>\n",
       "      <td>274</td>\n",
       "      <td>9.768271</td>\n",
       "      <td>Не женат / не замужем</td>\n",
       "    </tr>\n",
       "  </tbody>\n",
       "</table>\n",
       "</div>"
      ],
      "text/plain": [
       "   family_status_id      0    1    result          family_status\n",
       "0                 0  11385  930  7.551766        женат / замужем\n",
       "1                 1   3770  388  9.331409       гражданский брак\n",
       "2                 2    892   63  6.596859         вдовец / вдова\n",
       "3                 3   1106   85  7.136860              в разводе\n",
       "4                 4   2531  274  9.768271  Не женат / не замужем"
      ]
     },
     "execution_count": 30,
     "metadata": {},
     "output_type": "execute_result"
    }
   ],
   "source": [
    "family_status_result = data.pivot_table(index = 'family_status_id', columns = 'debt', values = 'days_employed', aggfunc ='count')\n",
    "family_status_result['result'] = family_status_result[1]/(family_status_result[0] + family_status_result[1]) * 100\n",
    "family_status_result.reset_index().merge(family_dict)"
   ]
  },
  {
   "cell_type": "markdown",
   "id": "a653701c",
   "metadata": {},
   "source": [
    "#### *Вывод 2:*\n",
    "*Из полученной таблицы можно сделать следующий вывод: больше всего склонны к невозврату кредита в срок люди, которые состоят в гражданском браке или не состоят в нём вообще. Процент недобросовестных заёмщиков в этих категориях равен 9%.*"
   ]
  },
  {
   "cell_type": "markdown",
   "id": "c8cd3a87",
   "metadata": {},
   "source": [
    "### *Вопрос 3:* \n",
    "*Есть ли зависимость между уровнем дохода и возвратом кредита в срок?*"
   ]
  },
  {
   "cell_type": "code",
   "execution_count": 31,
   "id": "a9ff2b7e",
   "metadata": {},
   "outputs": [
    {
     "data": {
      "text/html": [
       "<div>\n",
       "<style scoped>\n",
       "    .dataframe tbody tr th:only-of-type {\n",
       "        vertical-align: middle;\n",
       "    }\n",
       "\n",
       "    .dataframe tbody tr th {\n",
       "        vertical-align: top;\n",
       "    }\n",
       "\n",
       "    .dataframe thead th {\n",
       "        text-align: right;\n",
       "    }\n",
       "</style>\n",
       "<table border=\"1\" class=\"dataframe\">\n",
       "  <thead>\n",
       "    <tr style=\"text-align: right;\">\n",
       "      <th>debt</th>\n",
       "      <th>0</th>\n",
       "      <th>1</th>\n",
       "      <th>result</th>\n",
       "    </tr>\n",
       "    <tr>\n",
       "      <th>total_income_category</th>\n",
       "      <th></th>\n",
       "      <th></th>\n",
       "      <th></th>\n",
       "    </tr>\n",
       "  </thead>\n",
       "  <tbody>\n",
       "    <tr>\n",
       "      <th>A</th>\n",
       "      <td>24</td>\n",
       "      <td>2</td>\n",
       "      <td>7.692308</td>\n",
       "    </tr>\n",
       "    <tr>\n",
       "      <th>B</th>\n",
       "      <td>4676</td>\n",
       "      <td>356</td>\n",
       "      <td>7.074722</td>\n",
       "    </tr>\n",
       "    <tr>\n",
       "      <th>C</th>\n",
       "      <td>14636</td>\n",
       "      <td>1359</td>\n",
       "      <td>8.496405</td>\n",
       "    </tr>\n",
       "    <tr>\n",
       "      <th>D</th>\n",
       "      <td>328</td>\n",
       "      <td>21</td>\n",
       "      <td>6.017192</td>\n",
       "    </tr>\n",
       "    <tr>\n",
       "      <th>E</th>\n",
       "      <td>20</td>\n",
       "      <td>2</td>\n",
       "      <td>9.090909</td>\n",
       "    </tr>\n",
       "  </tbody>\n",
       "</table>\n",
       "</div>"
      ],
      "text/plain": [
       "debt                       0     1    result\n",
       "total_income_category                       \n",
       "A                         24     2  7.692308\n",
       "B                       4676   356  7.074722\n",
       "C                      14636  1359  8.496405\n",
       "D                        328    21  6.017192\n",
       "E                         20     2  9.090909"
      ]
     },
     "execution_count": 31,
     "metadata": {},
     "output_type": "execute_result"
    }
   ],
   "source": [
    "total_income_result = data.pivot_table(index = 'total_income_category', columns = 'debt', values = 'days_employed', aggfunc ='count')\n",
    "total_income_result['result'] = total_income_result[1]/(total_income_result[0] + total_income_result[1])  * 100\n",
    "total_income_result"
   ]
  },
  {
   "cell_type": "markdown",
   "id": "2968afdb",
   "metadata": {},
   "source": [
    "#### *Вывод 3:*\n",
    "*Из полученной таблицы можно сделать следующий вывод: больше всего недобросовестных заёмщиков среди категории С. То есть, люди со средним доходом больше склонны не возвращать кредит в срок, нежели люди с более высоким или низким уровнем доходов. (По процентам также лидирует категория Е, но говорить о том, что там больше всего уровень просрочки будет некорректно, так как сильно отличается количество человек, анализируемые в данном вопросе).*"
   ]
  },
  {
   "cell_type": "markdown",
   "id": "8cbf7340",
   "metadata": {},
   "source": [
    "### *Вопрос 4:*\n",
    "*Как разные цели кредита влияют на его возврат в срок?*"
   ]
  },
  {
   "cell_type": "code",
   "execution_count": 32,
   "id": "ce4e5586",
   "metadata": {
    "scrolled": true
   },
   "outputs": [
    {
     "data": {
      "text/html": [
       "<div>\n",
       "<style scoped>\n",
       "    .dataframe tbody tr th:only-of-type {\n",
       "        vertical-align: middle;\n",
       "    }\n",
       "\n",
       "    .dataframe tbody tr th {\n",
       "        vertical-align: top;\n",
       "    }\n",
       "\n",
       "    .dataframe thead th {\n",
       "        text-align: right;\n",
       "    }\n",
       "</style>\n",
       "<table border=\"1\" class=\"dataframe\">\n",
       "  <thead>\n",
       "    <tr style=\"text-align: right;\">\n",
       "      <th>debt</th>\n",
       "      <th>0</th>\n",
       "      <th>1</th>\n",
       "      <th>result</th>\n",
       "    </tr>\n",
       "    <tr>\n",
       "      <th>purpose_category</th>\n",
       "      <th></th>\n",
       "      <th></th>\n",
       "      <th></th>\n",
       "    </tr>\n",
       "  </thead>\n",
       "  <tbody>\n",
       "    <tr>\n",
       "      <th>операции с автомобилем</th>\n",
       "      <td>3895</td>\n",
       "      <td>402</td>\n",
       "      <td>9.355364</td>\n",
       "    </tr>\n",
       "    <tr>\n",
       "      <th>операции с недвижимостью</th>\n",
       "      <td>10008</td>\n",
       "      <td>782</td>\n",
       "      <td>7.247451</td>\n",
       "    </tr>\n",
       "    <tr>\n",
       "      <th>получение образования</th>\n",
       "      <td>3634</td>\n",
       "      <td>370</td>\n",
       "      <td>9.240759</td>\n",
       "    </tr>\n",
       "    <tr>\n",
       "      <th>проведение свадьбы</th>\n",
       "      <td>2147</td>\n",
       "      <td>186</td>\n",
       "      <td>7.972568</td>\n",
       "    </tr>\n",
       "  </tbody>\n",
       "</table>\n",
       "</div>"
      ],
      "text/plain": [
       "debt                          0    1    result\n",
       "purpose_category                              \n",
       "операции с автомобилем     3895  402  9.355364\n",
       "операции с недвижимостью  10008  782  7.247451\n",
       "получение образования      3634  370  9.240759\n",
       "проведение свадьбы         2147  186  7.972568"
      ]
     },
     "execution_count": 32,
     "metadata": {},
     "output_type": "execute_result"
    }
   ],
   "source": [
    "purpose_category_result = data.pivot_table(index = 'purpose_category', columns = 'debt', values = 'days_employed', aggfunc ='count')\n",
    "purpose_category_result['result'] = purpose_category_result[1]/(purpose_category_result[0] + purpose_category_result[1]) * 100\n",
    "purpose_category_result"
   ]
  },
  {
   "cell_type": "markdown",
   "id": "1b488f2a",
   "metadata": {},
   "source": [
    "#### *Вывод 4:*\n",
    "*Из выведенной таблицы можно сделать следующий вывод: больше всего склонны не возвращать кредит в срок те люди, которые взяли его на операции с автомобилем и получением образования. Средти таких заёмщиков уровень невозвратов равно 9%.*"
   ]
  },
  {
   "cell_type": "markdown",
   "id": "736924d8",
   "metadata": {},
   "source": [
    "## Общий вывод:"
   ]
  },
  {
   "cell_type": "markdown",
   "id": "070f990d",
   "metadata": {},
   "source": [
    "*В данном проекте мы исследовали то, какие именно переменные влияют на возврат кредита в срок. Благодаря анализу удалось выявить, что как минимум три фактора влияют на возврат кредита в срок, а именно: цель кредита, семейное положение и доход заёмщика. Как вы выяснили, портрет заёмщика, который с большей долей вероятности просрочит кредит, будет в большинстве случаев выглядеть так: это человек со средним уровнем дохода(50 - 200 тыс. руб), который имеет как минимум одного ребёнка(как правило 2ух/4ех или 20), который состоит в гражданском браке(или вообще не состоит в браке), а также целью его кредита будут операции с автомобилем, либо же получение образования. Эти данные можно будет использовать при оценке будущего заёмщика с целью просчитать заранее, каковы шансы того, что долг будет выплачен вовремя.*"
   ]
  }
 ],
 "metadata": {
  "ExecuteTimeLog": [
   {
    "duration": 617,
    "start_time": "2022-04-12T11:39:43.776Z"
   },
   {
    "duration": 535,
    "start_time": "2022-04-12T11:42:36.600Z"
   },
   {
    "duration": 82,
    "start_time": "2022-04-12T11:50:43.766Z"
   },
   {
    "duration": 770,
    "start_time": "2022-04-12T11:51:09.724Z"
   },
   {
    "duration": 21,
    "start_time": "2022-04-12T11:53:29.469Z"
   },
   {
    "duration": 13,
    "start_time": "2022-04-12T11:53:41.068Z"
   },
   {
    "duration": 9,
    "start_time": "2022-04-12T11:53:56.257Z"
   },
   {
    "duration": 9,
    "start_time": "2022-04-12T11:54:04.348Z"
   },
   {
    "duration": 6,
    "start_time": "2022-04-12T11:54:08.277Z"
   },
   {
    "duration": 7,
    "start_time": "2022-04-12T11:54:35.295Z"
   },
   {
    "duration": 7,
    "start_time": "2022-04-12T11:55:39.990Z"
   },
   {
    "duration": 8,
    "start_time": "2022-04-12T11:55:40.380Z"
   },
   {
    "duration": 7,
    "start_time": "2022-04-12T11:55:59.952Z"
   },
   {
    "duration": 7,
    "start_time": "2022-04-12T11:56:06.826Z"
   },
   {
    "duration": 10,
    "start_time": "2022-04-12T12:08:56.133Z"
   },
   {
    "duration": 31,
    "start_time": "2022-04-12T12:11:33.518Z"
   },
   {
    "duration": 142,
    "start_time": "2022-04-12T12:12:03.980Z"
   },
   {
    "duration": 20,
    "start_time": "2022-04-12T12:12:09.346Z"
   },
   {
    "duration": 30,
    "start_time": "2022-04-12T12:12:22.877Z"
   },
   {
    "duration": 20,
    "start_time": "2022-04-12T12:12:48.898Z"
   },
   {
    "duration": 20,
    "start_time": "2022-04-12T12:12:49.849Z"
   },
   {
    "duration": 10,
    "start_time": "2022-04-12T12:13:47.302Z"
   },
   {
    "duration": 8,
    "start_time": "2022-04-12T12:14:22.340Z"
   },
   {
    "duration": 8,
    "start_time": "2022-04-12T12:14:38.552Z"
   },
   {
    "duration": 8,
    "start_time": "2022-04-12T12:14:57.127Z"
   },
   {
    "duration": 20,
    "start_time": "2022-04-12T12:15:40.580Z"
   },
   {
    "duration": 6,
    "start_time": "2022-04-12T12:23:00.793Z"
   },
   {
    "duration": 8,
    "start_time": "2022-04-12T12:23:20.889Z"
   },
   {
    "duration": 8,
    "start_time": "2022-04-12T12:24:40.814Z"
   },
   {
    "duration": 113,
    "start_time": "2022-04-12T12:29:02.894Z"
   },
   {
    "duration": 29,
    "start_time": "2022-04-12T12:29:19.037Z"
   },
   {
    "duration": 9,
    "start_time": "2022-04-12T12:30:27.071Z"
   },
   {
    "duration": 12,
    "start_time": "2022-04-12T12:33:14.152Z"
   },
   {
    "duration": 7,
    "start_time": "2022-04-12T12:33:40.100Z"
   },
   {
    "duration": 598,
    "start_time": "2022-04-12T12:34:07.174Z"
   },
   {
    "duration": 30,
    "start_time": "2022-04-12T12:34:10.507Z"
   },
   {
    "duration": 8,
    "start_time": "2022-04-12T12:34:12.886Z"
   },
   {
    "duration": 9,
    "start_time": "2022-04-12T12:34:14.970Z"
   },
   {
    "duration": 10,
    "start_time": "2022-04-12T12:34:17.243Z"
   },
   {
    "duration": 57,
    "start_time": "2022-04-20T16:01:15.076Z"
   },
   {
    "duration": 8,
    "start_time": "2022-04-20T16:02:03.247Z"
   },
   {
    "duration": 6,
    "start_time": "2022-04-20T16:02:24.437Z"
   },
   {
    "duration": 8,
    "start_time": "2022-04-20T16:02:48.403Z"
   },
   {
    "duration": 6,
    "start_time": "2022-04-20T16:02:57.225Z"
   },
   {
    "duration": 436,
    "start_time": "2022-04-20T16:03:01.341Z"
   },
   {
    "duration": 21,
    "start_time": "2022-04-20T16:03:06.335Z"
   },
   {
    "duration": 10,
    "start_time": "2022-04-20T16:03:11.016Z"
   },
   {
    "duration": 5,
    "start_time": "2022-04-20T16:03:11.553Z"
   },
   {
    "duration": 7,
    "start_time": "2022-04-20T16:03:16.447Z"
   },
   {
    "duration": 46,
    "start_time": "2022-04-20T16:03:20.085Z"
   },
   {
    "duration": 9,
    "start_time": "2022-04-20T16:03:30.994Z"
   },
   {
    "duration": 14,
    "start_time": "2022-04-20T16:03:41.477Z"
   },
   {
    "duration": 6,
    "start_time": "2022-04-20T16:04:55.981Z"
   },
   {
    "duration": 74,
    "start_time": "2022-04-20T16:05:18.509Z"
   },
   {
    "duration": 72,
    "start_time": "2022-04-20T16:05:28.139Z"
   },
   {
    "duration": 7,
    "start_time": "2022-04-20T16:05:36.382Z"
   },
   {
    "duration": 7,
    "start_time": "2022-04-20T16:05:42.482Z"
   },
   {
    "duration": 7,
    "start_time": "2022-04-20T16:05:58.976Z"
   },
   {
    "duration": 7,
    "start_time": "2022-04-20T16:06:02.926Z"
   },
   {
    "duration": 7,
    "start_time": "2022-04-20T16:07:08.424Z"
   },
   {
    "duration": 7,
    "start_time": "2022-04-20T16:08:55.525Z"
   },
   {
    "duration": 9,
    "start_time": "2022-04-20T16:09:05.320Z"
   },
   {
    "duration": 7,
    "start_time": "2022-04-20T16:09:13.769Z"
   },
   {
    "duration": 11,
    "start_time": "2022-04-20T16:09:48.791Z"
   },
   {
    "duration": 10,
    "start_time": "2022-04-20T16:09:54.562Z"
   },
   {
    "duration": 7,
    "start_time": "2022-04-20T16:10:00.400Z"
   },
   {
    "duration": 7,
    "start_time": "2022-04-20T16:10:04.486Z"
   },
   {
    "duration": 487,
    "start_time": "2022-04-20T16:10:14.450Z"
   },
   {
    "duration": 21,
    "start_time": "2022-04-20T16:10:14.939Z"
   },
   {
    "duration": 6,
    "start_time": "2022-04-20T16:10:14.961Z"
   },
   {
    "duration": 6,
    "start_time": "2022-04-20T16:10:14.969Z"
   },
   {
    "duration": 7,
    "start_time": "2022-04-20T16:10:14.977Z"
   },
   {
    "duration": 102,
    "start_time": "2022-04-20T16:10:14.986Z"
   },
   {
    "duration": 0,
    "start_time": "2022-04-20T16:10:15.090Z"
   },
   {
    "duration": 7,
    "start_time": "2022-04-20T16:10:42.263Z"
   },
   {
    "duration": 9,
    "start_time": "2022-04-20T16:10:56.946Z"
   },
   {
    "duration": 10,
    "start_time": "2022-04-20T16:11:00.373Z"
   },
   {
    "duration": 15,
    "start_time": "2022-04-20T16:14:13.936Z"
   },
   {
    "duration": 7,
    "start_time": "2022-04-20T16:14:31.963Z"
   },
   {
    "duration": 9,
    "start_time": "2022-04-20T16:14:49.296Z"
   },
   {
    "duration": 550,
    "start_time": "2022-04-20T16:14:56.643Z"
   },
   {
    "duration": 11,
    "start_time": "2022-04-20T16:15:10.708Z"
   },
   {
    "duration": 9,
    "start_time": "2022-04-20T16:15:57.392Z"
   },
   {
    "duration": 15,
    "start_time": "2022-04-20T16:16:58.264Z"
   },
   {
    "duration": 13,
    "start_time": "2022-04-20T16:17:03.022Z"
   },
   {
    "duration": 15,
    "start_time": "2022-04-20T16:23:58.118Z"
   },
   {
    "duration": 8,
    "start_time": "2022-04-20T16:24:14.351Z"
   },
   {
    "duration": 7,
    "start_time": "2022-04-20T16:24:27.749Z"
   },
   {
    "duration": 19,
    "start_time": "2022-04-20T16:24:41.125Z"
   },
   {
    "duration": 7,
    "start_time": "2022-04-20T16:24:51.302Z"
   },
   {
    "duration": 8,
    "start_time": "2022-04-20T16:25:00.985Z"
   },
   {
    "duration": 8,
    "start_time": "2022-04-20T16:25:18.365Z"
   },
   {
    "duration": 7,
    "start_time": "2022-04-20T16:25:37.860Z"
   },
   {
    "duration": 7,
    "start_time": "2022-04-20T16:26:05.180Z"
   },
   {
    "duration": 4,
    "start_time": "2022-04-20T16:33:02.595Z"
   },
   {
    "duration": 13,
    "start_time": "2022-04-20T16:33:20.330Z"
   },
   {
    "duration": 4,
    "start_time": "2022-04-20T16:33:23.125Z"
   },
   {
    "duration": 7,
    "start_time": "2022-04-20T16:33:24.658Z"
   },
   {
    "duration": 3,
    "start_time": "2022-04-20T16:34:07.273Z"
   },
   {
    "duration": 8,
    "start_time": "2022-04-20T16:34:08.350Z"
   },
   {
    "duration": 511,
    "start_time": "2022-04-20T16:34:16.913Z"
   },
   {
    "duration": 20,
    "start_time": "2022-04-20T16:34:17.426Z"
   },
   {
    "duration": 6,
    "start_time": "2022-04-20T16:34:17.447Z"
   },
   {
    "duration": 8,
    "start_time": "2022-04-20T16:34:17.455Z"
   },
   {
    "duration": 8,
    "start_time": "2022-04-20T16:34:17.464Z"
   },
   {
    "duration": 8,
    "start_time": "2022-04-20T16:34:17.474Z"
   },
   {
    "duration": 40,
    "start_time": "2022-04-20T16:34:17.483Z"
   },
   {
    "duration": 5,
    "start_time": "2022-04-20T16:34:17.525Z"
   },
   {
    "duration": 11,
    "start_time": "2022-04-20T16:34:17.532Z"
   },
   {
    "duration": 3,
    "start_time": "2022-04-20T16:34:17.545Z"
   },
   {
    "duration": 103,
    "start_time": "2022-04-20T16:34:17.549Z"
   },
   {
    "duration": 10,
    "start_time": "2022-04-20T16:38:46.133Z"
   },
   {
    "duration": 5,
    "start_time": "2022-04-20T16:38:54.982Z"
   },
   {
    "duration": 12,
    "start_time": "2022-04-20T16:38:56.638Z"
   },
   {
    "duration": 3,
    "start_time": "2022-04-20T16:42:56.444Z"
   },
   {
    "duration": 7,
    "start_time": "2022-04-20T16:42:57.454Z"
   },
   {
    "duration": 27,
    "start_time": "2022-04-20T16:43:20.131Z"
   },
   {
    "duration": 483,
    "start_time": "2022-04-20T16:45:27.646Z"
   },
   {
    "duration": 19,
    "start_time": "2022-04-20T16:45:28.131Z"
   },
   {
    "duration": 5,
    "start_time": "2022-04-20T16:45:28.151Z"
   },
   {
    "duration": 6,
    "start_time": "2022-04-20T16:45:28.159Z"
   },
   {
    "duration": 8,
    "start_time": "2022-04-20T16:45:28.167Z"
   },
   {
    "duration": 42,
    "start_time": "2022-04-20T16:45:28.177Z"
   },
   {
    "duration": 18,
    "start_time": "2022-04-20T16:45:28.221Z"
   },
   {
    "duration": 4,
    "start_time": "2022-04-20T16:45:28.241Z"
   },
   {
    "duration": 23,
    "start_time": "2022-04-20T16:45:28.247Z"
   },
   {
    "duration": 7,
    "start_time": "2022-04-20T16:45:28.272Z"
   },
   {
    "duration": 2,
    "start_time": "2022-04-20T16:45:28.308Z"
   },
   {
    "duration": 88,
    "start_time": "2022-04-20T16:45:28.312Z"
   },
   {
    "duration": 12,
    "start_time": "2022-04-20T16:46:20.709Z"
   },
   {
    "duration": 21,
    "start_time": "2022-04-20T16:46:45.319Z"
   },
   {
    "duration": 3,
    "start_time": "2022-04-20T16:47:13.967Z"
   },
   {
    "duration": 26,
    "start_time": "2022-04-20T16:47:24.193Z"
   },
   {
    "duration": 472,
    "start_time": "2022-04-20T16:47:45.416Z"
   },
   {
    "duration": 21,
    "start_time": "2022-04-20T16:47:45.890Z"
   },
   {
    "duration": 7,
    "start_time": "2022-04-20T16:47:45.912Z"
   },
   {
    "duration": 5,
    "start_time": "2022-04-20T16:47:45.922Z"
   },
   {
    "duration": 9,
    "start_time": "2022-04-20T16:47:45.929Z"
   },
   {
    "duration": 7,
    "start_time": "2022-04-20T16:47:45.939Z"
   },
   {
    "duration": 16,
    "start_time": "2022-04-20T16:47:45.948Z"
   },
   {
    "duration": 3,
    "start_time": "2022-04-20T16:47:45.965Z"
   },
   {
    "duration": 65,
    "start_time": "2022-04-20T16:47:45.970Z"
   },
   {
    "duration": 7,
    "start_time": "2022-04-20T16:47:46.036Z"
   },
   {
    "duration": 4,
    "start_time": "2022-04-20T16:47:46.045Z"
   },
   {
    "duration": 90,
    "start_time": "2022-04-20T16:47:46.051Z"
   },
   {
    "duration": 8,
    "start_time": "2022-04-20T16:48:48.652Z"
   },
   {
    "duration": 5,
    "start_time": "2022-04-20T16:49:57.719Z"
   },
   {
    "duration": 6,
    "start_time": "2022-04-20T16:50:28.734Z"
   },
   {
    "duration": 3,
    "start_time": "2022-04-20T16:50:58.293Z"
   },
   {
    "duration": 8,
    "start_time": "2022-04-20T16:50:59.122Z"
   },
   {
    "duration": 7,
    "start_time": "2022-04-20T16:51:02.766Z"
   },
   {
    "duration": 9,
    "start_time": "2022-04-20T16:52:06.762Z"
   },
   {
    "duration": 7,
    "start_time": "2022-04-20T16:54:04.037Z"
   },
   {
    "duration": 9,
    "start_time": "2022-04-20T16:54:42.458Z"
   },
   {
    "duration": 8,
    "start_time": "2022-04-20T16:55:07.344Z"
   },
   {
    "duration": 9,
    "start_time": "2022-04-20T16:55:17.821Z"
   },
   {
    "duration": 8,
    "start_time": "2022-04-20T16:55:22.194Z"
   },
   {
    "duration": 19,
    "start_time": "2022-04-20T16:56:03.506Z"
   },
   {
    "duration": 499,
    "start_time": "2022-04-20T17:10:23.829Z"
   },
   {
    "duration": 20,
    "start_time": "2022-04-20T17:10:24.330Z"
   },
   {
    "duration": 7,
    "start_time": "2022-04-20T17:10:24.351Z"
   },
   {
    "duration": 6,
    "start_time": "2022-04-20T17:10:24.360Z"
   },
   {
    "duration": 49,
    "start_time": "2022-04-20T17:10:24.369Z"
   },
   {
    "duration": 10,
    "start_time": "2022-04-20T17:10:24.423Z"
   },
   {
    "duration": 17,
    "start_time": "2022-04-20T17:10:24.435Z"
   },
   {
    "duration": 3,
    "start_time": "2022-04-20T17:10:24.454Z"
   },
   {
    "duration": 14,
    "start_time": "2022-04-20T17:10:24.459Z"
   },
   {
    "duration": 10,
    "start_time": "2022-04-20T17:10:24.475Z"
   },
   {
    "duration": 99,
    "start_time": "2022-04-20T17:10:24.487Z"
   },
   {
    "duration": 11,
    "start_time": "2022-04-20T17:12:55.295Z"
   },
   {
    "duration": 12,
    "start_time": "2022-04-20T17:14:26.637Z"
   },
   {
    "duration": 12,
    "start_time": "2022-04-20T17:14:51.369Z"
   },
   {
    "duration": 4,
    "start_time": "2022-04-20T17:16:51.027Z"
   },
   {
    "duration": 15,
    "start_time": "2022-04-20T17:17:31.769Z"
   },
   {
    "duration": 458,
    "start_time": "2022-04-20T17:17:45.849Z"
   },
   {
    "duration": 24,
    "start_time": "2022-04-20T17:17:46.309Z"
   },
   {
    "duration": 20,
    "start_time": "2022-04-20T17:17:46.335Z"
   },
   {
    "duration": 19,
    "start_time": "2022-04-20T17:17:46.358Z"
   },
   {
    "duration": 28,
    "start_time": "2022-04-20T17:17:46.378Z"
   },
   {
    "duration": 15,
    "start_time": "2022-04-20T17:17:46.413Z"
   },
   {
    "duration": 23,
    "start_time": "2022-04-20T17:17:46.429Z"
   },
   {
    "duration": 3,
    "start_time": "2022-04-20T17:17:46.454Z"
   },
   {
    "duration": 21,
    "start_time": "2022-04-20T17:17:46.458Z"
   },
   {
    "duration": 21,
    "start_time": "2022-04-20T17:17:46.481Z"
   },
   {
    "duration": 13,
    "start_time": "2022-04-20T17:17:46.504Z"
   },
   {
    "duration": 34,
    "start_time": "2022-04-20T17:17:46.519Z"
   },
   {
    "duration": 6,
    "start_time": "2022-04-20T17:18:33.683Z"
   },
   {
    "duration": 13,
    "start_time": "2022-04-20T17:19:21.141Z"
   },
   {
    "duration": 12,
    "start_time": "2022-04-20T17:19:31.286Z"
   },
   {
    "duration": 4,
    "start_time": "2022-04-20T17:21:19.037Z"
   },
   {
    "duration": 463,
    "start_time": "2022-04-20T17:21:29.139Z"
   },
   {
    "duration": 28,
    "start_time": "2022-04-20T17:21:29.604Z"
   },
   {
    "duration": 6,
    "start_time": "2022-04-20T17:21:29.634Z"
   },
   {
    "duration": 10,
    "start_time": "2022-04-20T17:21:29.642Z"
   },
   {
    "duration": 13,
    "start_time": "2022-04-20T17:21:29.654Z"
   },
   {
    "duration": 8,
    "start_time": "2022-04-20T17:21:29.668Z"
   },
   {
    "duration": 46,
    "start_time": "2022-04-20T17:21:29.678Z"
   },
   {
    "duration": 4,
    "start_time": "2022-04-20T17:21:29.726Z"
   },
   {
    "duration": 8,
    "start_time": "2022-04-20T17:21:29.731Z"
   },
   {
    "duration": 14,
    "start_time": "2022-04-20T17:21:29.741Z"
   },
   {
    "duration": 3,
    "start_time": "2022-04-20T17:21:29.757Z"
   },
   {
    "duration": 18,
    "start_time": "2022-04-20T17:21:29.762Z"
   },
   {
    "duration": 89,
    "start_time": "2022-04-20T17:22:49.453Z"
   },
   {
    "duration": 67,
    "start_time": "2022-04-20T17:22:53.092Z"
   },
   {
    "duration": 61,
    "start_time": "2022-04-20T17:23:25.338Z"
   },
   {
    "duration": 106,
    "start_time": "2022-04-20T17:23:29.792Z"
   },
   {
    "duration": 86,
    "start_time": "2022-04-20T17:23:41.082Z"
   },
   {
    "duration": 66,
    "start_time": "2022-04-20T17:23:44.539Z"
   },
   {
    "duration": 12,
    "start_time": "2022-04-20T17:24:34.270Z"
   },
   {
    "duration": 20,
    "start_time": "2022-04-20T17:26:00.841Z"
   },
   {
    "duration": 21,
    "start_time": "2022-04-20T17:26:39.264Z"
   },
   {
    "duration": 21,
    "start_time": "2022-04-20T17:27:01.688Z"
   },
   {
    "duration": 17,
    "start_time": "2022-04-20T17:27:53.320Z"
   },
   {
    "duration": 11,
    "start_time": "2022-04-20T17:28:03.280Z"
   },
   {
    "duration": 15,
    "start_time": "2022-04-20T17:28:09.609Z"
   },
   {
    "duration": 10,
    "start_time": "2022-04-20T17:28:16.416Z"
   },
   {
    "duration": 5,
    "start_time": "2022-04-20T17:28:29.594Z"
   },
   {
    "duration": 17,
    "start_time": "2022-04-20T17:28:36.016Z"
   },
   {
    "duration": 3,
    "start_time": "2022-04-20T17:29:40.484Z"
   },
   {
    "duration": 425,
    "start_time": "2022-04-20T17:29:59.071Z"
   },
   {
    "duration": 26,
    "start_time": "2022-04-20T17:29:59.499Z"
   },
   {
    "duration": 6,
    "start_time": "2022-04-20T17:29:59.526Z"
   },
   {
    "duration": 6,
    "start_time": "2022-04-20T17:29:59.535Z"
   },
   {
    "duration": 8,
    "start_time": "2022-04-20T17:29:59.543Z"
   },
   {
    "duration": 7,
    "start_time": "2022-04-20T17:29:59.553Z"
   },
   {
    "duration": 55,
    "start_time": "2022-04-20T17:29:59.562Z"
   },
   {
    "duration": 4,
    "start_time": "2022-04-20T17:29:59.618Z"
   },
   {
    "duration": 8,
    "start_time": "2022-04-20T17:29:59.624Z"
   },
   {
    "duration": 1181,
    "start_time": "2022-04-20T17:29:59.635Z"
   },
   {
    "duration": 0,
    "start_time": "2022-04-20T17:30:00.818Z"
   },
   {
    "duration": 0,
    "start_time": "2022-04-20T17:30:00.819Z"
   },
   {
    "duration": 5,
    "start_time": "2022-04-20T17:30:10.620Z"
   },
   {
    "duration": 18,
    "start_time": "2022-04-20T17:30:11.799Z"
   },
   {
    "duration": 14,
    "start_time": "2022-04-20T17:30:33.008Z"
   },
   {
    "duration": 21,
    "start_time": "2022-04-20T17:30:49.304Z"
   },
   {
    "duration": 432,
    "start_time": "2022-04-20T17:30:55.151Z"
   },
   {
    "duration": 26,
    "start_time": "2022-04-20T17:30:55.585Z"
   },
   {
    "duration": 6,
    "start_time": "2022-04-20T17:30:55.613Z"
   },
   {
    "duration": 6,
    "start_time": "2022-04-20T17:30:55.621Z"
   },
   {
    "duration": 8,
    "start_time": "2022-04-20T17:30:55.628Z"
   },
   {
    "duration": 7,
    "start_time": "2022-04-20T17:30:55.637Z"
   },
   {
    "duration": 13,
    "start_time": "2022-04-20T17:30:55.646Z"
   },
   {
    "duration": 2,
    "start_time": "2022-04-20T17:30:55.661Z"
   },
   {
    "duration": 6,
    "start_time": "2022-04-20T17:30:55.665Z"
   },
   {
    "duration": 46,
    "start_time": "2022-04-20T17:30:55.673Z"
   },
   {
    "duration": 4,
    "start_time": "2022-04-20T17:30:55.721Z"
   },
   {
    "duration": 17,
    "start_time": "2022-04-20T17:30:55.726Z"
   },
   {
    "duration": 6,
    "start_time": "2022-04-20T17:31:47.907Z"
   },
   {
    "duration": 14,
    "start_time": "2022-04-20T17:31:49.161Z"
   },
   {
    "duration": 7,
    "start_time": "2022-04-20T17:33:28.995Z"
   },
   {
    "duration": 523,
    "start_time": "2022-04-22T06:44:12.508Z"
   },
   {
    "duration": 19,
    "start_time": "2022-04-22T06:44:13.035Z"
   },
   {
    "duration": 5,
    "start_time": "2022-04-22T06:44:13.056Z"
   },
   {
    "duration": 6,
    "start_time": "2022-04-22T06:44:13.063Z"
   },
   {
    "duration": 8,
    "start_time": "2022-04-22T06:44:13.071Z"
   },
   {
    "duration": 8,
    "start_time": "2022-04-22T06:44:13.081Z"
   },
   {
    "duration": 46,
    "start_time": "2022-04-22T06:44:13.090Z"
   },
   {
    "duration": 4,
    "start_time": "2022-04-22T06:44:13.137Z"
   },
   {
    "duration": 8,
    "start_time": "2022-04-22T06:44:13.143Z"
   },
   {
    "duration": 9,
    "start_time": "2022-04-22T06:44:13.153Z"
   },
   {
    "duration": 4,
    "start_time": "2022-04-22T06:44:13.163Z"
   },
   {
    "duration": 17,
    "start_time": "2022-04-22T06:44:13.169Z"
   },
   {
    "duration": 640,
    "start_time": "2022-04-22T12:18:20.730Z"
   },
   {
    "duration": 31,
    "start_time": "2022-04-22T12:18:21.372Z"
   },
   {
    "duration": 24,
    "start_time": "2022-04-22T12:18:21.405Z"
   },
   {
    "duration": 8,
    "start_time": "2022-04-22T12:18:21.432Z"
   },
   {
    "duration": 14,
    "start_time": "2022-04-22T12:18:21.442Z"
   },
   {
    "duration": 66,
    "start_time": "2022-04-22T12:18:21.458Z"
   },
   {
    "duration": 23,
    "start_time": "2022-04-22T12:18:21.526Z"
   },
   {
    "duration": 5,
    "start_time": "2022-04-22T12:18:21.552Z"
   },
   {
    "duration": 18,
    "start_time": "2022-04-22T12:18:21.559Z"
   },
   {
    "duration": 11,
    "start_time": "2022-04-22T12:18:21.626Z"
   },
   {
    "duration": 6,
    "start_time": "2022-04-22T12:18:21.639Z"
   },
   {
    "duration": 28,
    "start_time": "2022-04-22T12:18:21.647Z"
   },
   {
    "duration": 778,
    "start_time": "2022-04-22T12:19:50.121Z"
   },
   {
    "duration": 50,
    "start_time": "2022-04-22T12:19:50.902Z"
   },
   {
    "duration": 11,
    "start_time": "2022-04-22T12:19:50.955Z"
   },
   {
    "duration": 9,
    "start_time": "2022-04-22T12:19:50.970Z"
   },
   {
    "duration": 56,
    "start_time": "2022-04-22T12:19:50.982Z"
   },
   {
    "duration": 25,
    "start_time": "2022-04-22T12:19:51.040Z"
   },
   {
    "duration": 24,
    "start_time": "2022-04-22T12:19:51.068Z"
   },
   {
    "duration": 33,
    "start_time": "2022-04-22T12:19:51.094Z"
   },
   {
    "duration": 16,
    "start_time": "2022-04-22T12:19:51.129Z"
   },
   {
    "duration": 12,
    "start_time": "2022-04-22T12:19:51.149Z"
   },
   {
    "duration": 7,
    "start_time": "2022-04-22T12:19:51.163Z"
   },
   {
    "duration": 66,
    "start_time": "2022-04-22T12:19:51.172Z"
   },
   {
    "duration": 11,
    "start_time": "2022-04-22T12:32:40.918Z"
   },
   {
    "duration": 7,
    "start_time": "2022-04-22T12:34:02.844Z"
   },
   {
    "duration": 8,
    "start_time": "2022-04-22T12:35:21.998Z"
   },
   {
    "duration": 8,
    "start_time": "2022-04-22T12:35:34.332Z"
   },
   {
    "duration": 6,
    "start_time": "2022-04-22T12:35:48.512Z"
   },
   {
    "duration": 8,
    "start_time": "2022-04-22T12:35:59.311Z"
   },
   {
    "duration": 30,
    "start_time": "2022-04-22T12:42:45.549Z"
   },
   {
    "duration": 99,
    "start_time": "2022-04-22T12:44:45.933Z"
   },
   {
    "duration": 71,
    "start_time": "2022-04-22T12:44:54.568Z"
   },
   {
    "duration": 30,
    "start_time": "2022-04-22T12:45:07.097Z"
   },
   {
    "duration": 26,
    "start_time": "2022-04-22T12:45:44.540Z"
   },
   {
    "duration": 41,
    "start_time": "2022-04-22T15:11:27.439Z"
   },
   {
    "duration": 427,
    "start_time": "2022-04-22T15:11:33.055Z"
   },
   {
    "duration": 17,
    "start_time": "2022-04-22T15:11:33.484Z"
   },
   {
    "duration": 109,
    "start_time": "2022-04-22T15:11:33.503Z"
   },
   {
    "duration": 9,
    "start_time": "2022-04-22T15:11:33.614Z"
   },
   {
    "duration": 9,
    "start_time": "2022-04-22T15:11:33.625Z"
   },
   {
    "duration": 8,
    "start_time": "2022-04-22T15:11:33.636Z"
   },
   {
    "duration": 18,
    "start_time": "2022-04-22T15:11:33.646Z"
   },
   {
    "duration": 3,
    "start_time": "2022-04-22T15:11:33.666Z"
   },
   {
    "duration": 10,
    "start_time": "2022-04-22T15:11:33.671Z"
   },
   {
    "duration": 10,
    "start_time": "2022-04-22T15:11:33.683Z"
   },
   {
    "duration": 31,
    "start_time": "2022-04-22T15:11:33.695Z"
   },
   {
    "duration": 19,
    "start_time": "2022-04-22T15:11:33.728Z"
   },
   {
    "duration": 46,
    "start_time": "2022-04-22T15:11:33.749Z"
   },
   {
    "duration": 2599,
    "start_time": "2022-04-22T15:14:30.595Z"
   },
   {
    "duration": 2471,
    "start_time": "2022-04-22T15:14:33.776Z"
   },
   {
    "duration": 2257,
    "start_time": "2022-04-22T15:14:38.712Z"
   },
   {
    "duration": 19,
    "start_time": "2022-04-22T15:14:52.093Z"
   },
   {
    "duration": 21,
    "start_time": "2022-04-22T15:14:58.271Z"
   },
   {
    "duration": 17,
    "start_time": "2022-04-22T15:15:30.847Z"
   },
   {
    "duration": 18,
    "start_time": "2022-04-22T15:16:06.081Z"
   },
   {
    "duration": 30,
    "start_time": "2022-04-22T15:17:13.552Z"
   },
   {
    "duration": 646,
    "start_time": "2022-04-25T17:51:50.357Z"
   },
   {
    "duration": 33,
    "start_time": "2022-04-25T17:51:51.007Z"
   },
   {
    "duration": 10,
    "start_time": "2022-04-25T17:51:51.043Z"
   },
   {
    "duration": 39,
    "start_time": "2022-04-25T17:51:51.056Z"
   },
   {
    "duration": 15,
    "start_time": "2022-04-25T17:51:51.097Z"
   },
   {
    "duration": 18,
    "start_time": "2022-04-25T17:51:51.114Z"
   },
   {
    "duration": 62,
    "start_time": "2022-04-25T17:51:51.134Z"
   },
   {
    "duration": 6,
    "start_time": "2022-04-25T17:51:51.198Z"
   },
   {
    "duration": 12,
    "start_time": "2022-04-25T17:51:51.207Z"
   },
   {
    "duration": 12,
    "start_time": "2022-04-25T17:51:51.223Z"
   },
   {
    "duration": 8,
    "start_time": "2022-04-25T17:51:51.238Z"
   },
   {
    "duration": 72,
    "start_time": "2022-04-25T17:51:51.248Z"
   },
   {
    "duration": 36,
    "start_time": "2022-04-25T17:51:51.323Z"
   },
   {
    "duration": 98,
    "start_time": "2022-04-25T17:51:51.361Z"
   },
   {
    "duration": 28,
    "start_time": "2022-04-25T17:53:35.614Z"
   },
   {
    "duration": 54,
    "start_time": "2022-04-25T17:53:55.591Z"
   },
   {
    "duration": 50,
    "start_time": "2022-04-25T17:56:26.613Z"
   },
   {
    "duration": 18,
    "start_time": "2022-04-25T17:58:36.367Z"
   },
   {
    "duration": 16,
    "start_time": "2022-04-25T18:01:50.655Z"
   },
   {
    "duration": 38,
    "start_time": "2022-04-25T18:15:19.161Z"
   },
   {
    "duration": 55,
    "start_time": "2022-04-25T18:16:43.421Z"
   },
   {
    "duration": 23,
    "start_time": "2022-04-25T18:17:17.114Z"
   },
   {
    "duration": 31,
    "start_time": "2022-04-25T18:19:23.890Z"
   },
   {
    "duration": 32,
    "start_time": "2022-04-25T18:20:02.584Z"
   },
   {
    "duration": 6,
    "start_time": "2022-04-25T18:20:42.076Z"
   },
   {
    "duration": 6,
    "start_time": "2022-04-25T18:20:53.290Z"
   },
   {
    "duration": 56,
    "start_time": "2022-04-26T18:18:54.801Z"
   },
   {
    "duration": 471,
    "start_time": "2022-04-26T18:19:01.544Z"
   },
   {
    "duration": 24,
    "start_time": "2022-04-26T18:19:02.018Z"
   },
   {
    "duration": 23,
    "start_time": "2022-04-26T18:19:02.044Z"
   },
   {
    "duration": 41,
    "start_time": "2022-04-26T18:19:02.069Z"
   },
   {
    "duration": 24,
    "start_time": "2022-04-26T18:19:02.112Z"
   },
   {
    "duration": 14,
    "start_time": "2022-04-26T18:19:02.138Z"
   },
   {
    "duration": 27,
    "start_time": "2022-04-26T18:19:02.153Z"
   },
   {
    "duration": 6,
    "start_time": "2022-04-26T18:19:02.181Z"
   },
   {
    "duration": 50,
    "start_time": "2022-04-26T18:19:02.188Z"
   },
   {
    "duration": 23,
    "start_time": "2022-04-26T18:19:02.241Z"
   },
   {
    "duration": 10,
    "start_time": "2022-04-26T18:19:02.265Z"
   },
   {
    "duration": 34,
    "start_time": "2022-04-26T18:19:02.277Z"
   },
   {
    "duration": 28,
    "start_time": "2022-04-26T18:19:02.313Z"
   },
   {
    "duration": 31,
    "start_time": "2022-04-26T18:19:02.342Z"
   },
   {
    "duration": 47,
    "start_time": "2022-04-26T18:19:02.375Z"
   },
   {
    "duration": 11,
    "start_time": "2022-04-26T18:19:02.424Z"
   },
   {
    "duration": 65,
    "start_time": "2022-04-26T18:19:02.437Z"
   },
   {
    "duration": 21,
    "start_time": "2022-04-26T18:19:02.504Z"
   },
   {
    "duration": 1502,
    "start_time": "2022-04-26T18:19:02.526Z"
   },
   {
    "duration": 147,
    "start_time": "2022-04-26T18:25:19.807Z"
   },
   {
    "duration": 15,
    "start_time": "2022-04-26T18:25:48.132Z"
   },
   {
    "duration": 11,
    "start_time": "2022-04-26T18:26:03.764Z"
   },
   {
    "duration": 14,
    "start_time": "2022-04-26T18:26:09.745Z"
   },
   {
    "duration": 14,
    "start_time": "2022-04-26T18:26:24.357Z"
   },
   {
    "duration": 18,
    "start_time": "2022-04-26T18:26:32.591Z"
   },
   {
    "duration": 478,
    "start_time": "2022-04-26T18:26:40.737Z"
   },
   {
    "duration": 21,
    "start_time": "2022-04-26T18:26:41.217Z"
   },
   {
    "duration": 7,
    "start_time": "2022-04-26T18:26:41.240Z"
   },
   {
    "duration": 6,
    "start_time": "2022-04-26T18:26:41.250Z"
   },
   {
    "duration": 9,
    "start_time": "2022-04-26T18:26:41.257Z"
   },
   {
    "duration": 8,
    "start_time": "2022-04-26T18:26:41.292Z"
   },
   {
    "duration": 21,
    "start_time": "2022-04-26T18:26:41.302Z"
   },
   {
    "duration": 3,
    "start_time": "2022-04-26T18:26:41.325Z"
   },
   {
    "duration": 7,
    "start_time": "2022-04-26T18:26:41.329Z"
   },
   {
    "duration": 9,
    "start_time": "2022-04-26T18:26:41.338Z"
   },
   {
    "duration": 4,
    "start_time": "2022-04-26T18:26:41.349Z"
   },
   {
    "duration": 51,
    "start_time": "2022-04-26T18:26:41.354Z"
   },
   {
    "duration": 18,
    "start_time": "2022-04-26T18:26:41.406Z"
   },
   {
    "duration": 34,
    "start_time": "2022-04-26T18:26:41.426Z"
   },
   {
    "duration": 59,
    "start_time": "2022-04-26T18:26:41.462Z"
   },
   {
    "duration": 12,
    "start_time": "2022-04-26T18:26:41.522Z"
   },
   {
    "duration": 65,
    "start_time": "2022-04-26T18:26:41.536Z"
   },
   {
    "duration": 5,
    "start_time": "2022-04-26T18:26:41.603Z"
   },
   {
    "duration": 16,
    "start_time": "2022-04-26T18:26:41.610Z"
   },
   {
    "duration": 15,
    "start_time": "2022-04-26T18:27:08.480Z"
   },
   {
    "duration": 15,
    "start_time": "2022-04-26T18:33:49.166Z"
   },
   {
    "duration": 5,
    "start_time": "2022-04-26T18:37:02.177Z"
   },
   {
    "duration": 14,
    "start_time": "2022-04-26T18:37:31.063Z"
   },
   {
    "duration": 84,
    "start_time": "2022-04-26T18:38:38.723Z"
   },
   {
    "duration": 458,
    "start_time": "2022-04-26T18:38:50.045Z"
   },
   {
    "duration": 19,
    "start_time": "2022-04-26T18:38:50.505Z"
   },
   {
    "duration": 6,
    "start_time": "2022-04-26T18:38:50.526Z"
   },
   {
    "duration": 15,
    "start_time": "2022-04-26T18:38:50.534Z"
   },
   {
    "duration": 22,
    "start_time": "2022-04-26T18:38:50.551Z"
   },
   {
    "duration": 18,
    "start_time": "2022-04-26T18:38:50.575Z"
   },
   {
    "duration": 37,
    "start_time": "2022-04-26T18:38:50.595Z"
   },
   {
    "duration": 3,
    "start_time": "2022-04-26T18:38:50.634Z"
   },
   {
    "duration": 13,
    "start_time": "2022-04-26T18:38:50.639Z"
   },
   {
    "duration": 15,
    "start_time": "2022-04-26T18:38:50.654Z"
   },
   {
    "duration": 12,
    "start_time": "2022-04-26T18:38:50.671Z"
   },
   {
    "duration": 28,
    "start_time": "2022-04-26T18:38:50.684Z"
   },
   {
    "duration": 17,
    "start_time": "2022-04-26T18:38:50.714Z"
   },
   {
    "duration": 34,
    "start_time": "2022-04-26T18:38:50.733Z"
   },
   {
    "duration": 47,
    "start_time": "2022-04-26T18:38:50.768Z"
   },
   {
    "duration": 11,
    "start_time": "2022-04-26T18:38:50.817Z"
   },
   {
    "duration": 63,
    "start_time": "2022-04-26T18:38:50.830Z"
   },
   {
    "duration": 4,
    "start_time": "2022-04-26T18:38:50.895Z"
   },
   {
    "duration": 88,
    "start_time": "2022-04-26T18:38:50.900Z"
   },
   {
    "duration": 0,
    "start_time": "2022-04-26T18:38:50.991Z"
   },
   {
    "duration": 0,
    "start_time": "2022-04-26T18:38:50.992Z"
   },
   {
    "duration": 21,
    "start_time": "2022-04-26T18:39:16.912Z"
   },
   {
    "duration": 445,
    "start_time": "2022-04-26T18:39:27.941Z"
   },
   {
    "duration": 24,
    "start_time": "2022-04-26T18:39:28.388Z"
   },
   {
    "duration": 6,
    "start_time": "2022-04-26T18:39:28.414Z"
   },
   {
    "duration": 6,
    "start_time": "2022-04-26T18:39:28.423Z"
   },
   {
    "duration": 10,
    "start_time": "2022-04-26T18:39:28.431Z"
   },
   {
    "duration": 11,
    "start_time": "2022-04-26T18:39:28.442Z"
   },
   {
    "duration": 52,
    "start_time": "2022-04-26T18:39:28.455Z"
   },
   {
    "duration": 3,
    "start_time": "2022-04-26T18:39:28.509Z"
   },
   {
    "duration": 9,
    "start_time": "2022-04-26T18:39:28.514Z"
   },
   {
    "duration": 8,
    "start_time": "2022-04-26T18:39:28.526Z"
   },
   {
    "duration": 5,
    "start_time": "2022-04-26T18:39:28.535Z"
   },
   {
    "duration": 51,
    "start_time": "2022-04-26T18:39:28.542Z"
   },
   {
    "duration": 19,
    "start_time": "2022-04-26T18:39:28.594Z"
   },
   {
    "duration": 34,
    "start_time": "2022-04-26T18:39:28.615Z"
   },
   {
    "duration": 61,
    "start_time": "2022-04-26T18:39:28.650Z"
   },
   {
    "duration": 12,
    "start_time": "2022-04-26T18:39:28.713Z"
   },
   {
    "duration": 43,
    "start_time": "2022-04-26T18:39:28.727Z"
   },
   {
    "duration": 22,
    "start_time": "2022-04-26T18:39:28.772Z"
   },
   {
    "duration": 80,
    "start_time": "2022-04-26T18:39:28.796Z"
   },
   {
    "duration": 0,
    "start_time": "2022-04-26T18:39:28.878Z"
   },
   {
    "duration": 0,
    "start_time": "2022-04-26T18:39:28.892Z"
   },
   {
    "duration": 20,
    "start_time": "2022-04-26T18:45:33.485Z"
   },
   {
    "duration": 18,
    "start_time": "2022-04-26T18:45:36.503Z"
   },
   {
    "duration": 16,
    "start_time": "2022-04-26T18:46:27.929Z"
   },
   {
    "duration": 9,
    "start_time": "2022-04-26T18:46:38.601Z"
   },
   {
    "duration": 9,
    "start_time": "2022-04-26T18:46:49.062Z"
   },
   {
    "duration": 9,
    "start_time": "2022-04-26T18:47:16.837Z"
   },
   {
    "duration": 9,
    "start_time": "2022-04-26T18:47:43.766Z"
   },
   {
    "duration": 9,
    "start_time": "2022-04-26T18:47:51.100Z"
   },
   {
    "duration": 458,
    "start_time": "2022-04-26T18:48:04.702Z"
   },
   {
    "duration": 17,
    "start_time": "2022-04-26T18:48:05.162Z"
   },
   {
    "duration": 14,
    "start_time": "2022-04-26T18:48:05.181Z"
   },
   {
    "duration": 6,
    "start_time": "2022-04-26T18:48:05.197Z"
   },
   {
    "duration": 8,
    "start_time": "2022-04-26T18:48:05.206Z"
   },
   {
    "duration": 9,
    "start_time": "2022-04-26T18:48:05.215Z"
   },
   {
    "duration": 19,
    "start_time": "2022-04-26T18:48:05.226Z"
   },
   {
    "duration": 3,
    "start_time": "2022-04-26T18:48:05.247Z"
   },
   {
    "duration": 8,
    "start_time": "2022-04-26T18:48:05.251Z"
   },
   {
    "duration": 9,
    "start_time": "2022-04-26T18:48:05.292Z"
   },
   {
    "duration": 4,
    "start_time": "2022-04-26T18:48:05.302Z"
   },
   {
    "duration": 18,
    "start_time": "2022-04-26T18:48:05.308Z"
   },
   {
    "duration": 16,
    "start_time": "2022-04-26T18:48:05.327Z"
   },
   {
    "duration": 51,
    "start_time": "2022-04-26T18:48:05.345Z"
   },
   {
    "duration": 32,
    "start_time": "2022-04-26T18:48:05.398Z"
   },
   {
    "duration": 11,
    "start_time": "2022-04-26T18:48:05.431Z"
   },
   {
    "duration": 66,
    "start_time": "2022-04-26T18:48:05.444Z"
   },
   {
    "duration": 4,
    "start_time": "2022-04-26T18:48:05.512Z"
   },
   {
    "duration": 85,
    "start_time": "2022-04-26T18:48:05.518Z"
   },
   {
    "duration": 0,
    "start_time": "2022-04-26T18:48:05.605Z"
   },
   {
    "duration": 0,
    "start_time": "2022-04-26T18:48:05.606Z"
   },
   {
    "duration": 29,
    "start_time": "2022-04-26T18:49:19.088Z"
   },
   {
    "duration": 20,
    "start_time": "2022-04-26T18:49:56.639Z"
   },
   {
    "duration": 20,
    "start_time": "2022-04-26T18:50:03.848Z"
   },
   {
    "duration": 20,
    "start_time": "2022-04-26T18:51:16.186Z"
   },
   {
    "duration": 20,
    "start_time": "2022-04-26T18:51:27.044Z"
   },
   {
    "duration": 16,
    "start_time": "2022-04-26T18:52:30.620Z"
   },
   {
    "duration": 17,
    "start_time": "2022-04-26T18:53:13.058Z"
   },
   {
    "duration": 14,
    "start_time": "2022-04-26T19:04:43.643Z"
   },
   {
    "duration": 464,
    "start_time": "2022-04-26T19:05:14.901Z"
   },
   {
    "duration": 19,
    "start_time": "2022-04-26T19:05:15.367Z"
   },
   {
    "duration": 13,
    "start_time": "2022-04-26T19:05:15.392Z"
   },
   {
    "duration": 26,
    "start_time": "2022-04-26T19:05:15.407Z"
   },
   {
    "duration": 26,
    "start_time": "2022-04-26T19:05:15.435Z"
   },
   {
    "duration": 24,
    "start_time": "2022-04-26T19:05:15.463Z"
   },
   {
    "duration": 47,
    "start_time": "2022-04-26T19:05:15.489Z"
   },
   {
    "duration": 10,
    "start_time": "2022-04-26T19:05:15.537Z"
   },
   {
    "duration": 27,
    "start_time": "2022-04-26T19:05:15.549Z"
   },
   {
    "duration": 24,
    "start_time": "2022-04-26T19:05:15.578Z"
   },
   {
    "duration": 26,
    "start_time": "2022-04-26T19:05:15.604Z"
   },
   {
    "duration": 24,
    "start_time": "2022-04-26T19:05:15.632Z"
   },
   {
    "duration": 16,
    "start_time": "2022-04-26T19:05:15.658Z"
   },
   {
    "duration": 38,
    "start_time": "2022-04-26T19:05:15.676Z"
   },
   {
    "duration": 32,
    "start_time": "2022-04-26T19:05:15.715Z"
   },
   {
    "duration": 12,
    "start_time": "2022-04-26T19:05:15.749Z"
   },
   {
    "duration": 47,
    "start_time": "2022-04-26T19:05:15.762Z"
   },
   {
    "duration": 28,
    "start_time": "2022-04-26T19:05:15.810Z"
   },
   {
    "duration": 99,
    "start_time": "2022-04-26T19:05:15.839Z"
   },
   {
    "duration": 0,
    "start_time": "2022-04-26T19:05:15.940Z"
   },
   {
    "duration": 0,
    "start_time": "2022-04-26T19:05:15.941Z"
   },
   {
    "duration": 26,
    "start_time": "2022-04-26T19:05:39.376Z"
   },
   {
    "duration": 434,
    "start_time": "2022-04-26T19:05:46.246Z"
   },
   {
    "duration": 18,
    "start_time": "2022-04-26T19:05:46.682Z"
   },
   {
    "duration": 5,
    "start_time": "2022-04-26T19:05:46.702Z"
   },
   {
    "duration": 5,
    "start_time": "2022-04-26T19:05:46.709Z"
   },
   {
    "duration": 10,
    "start_time": "2022-04-26T19:05:46.715Z"
   },
   {
    "duration": 12,
    "start_time": "2022-04-26T19:05:46.726Z"
   },
   {
    "duration": 53,
    "start_time": "2022-04-26T19:05:46.740Z"
   },
   {
    "duration": 4,
    "start_time": "2022-04-26T19:05:46.795Z"
   },
   {
    "duration": 9,
    "start_time": "2022-04-26T19:05:46.800Z"
   },
   {
    "duration": 8,
    "start_time": "2022-04-26T19:05:46.811Z"
   },
   {
    "duration": 7,
    "start_time": "2022-04-26T19:05:46.820Z"
   },
   {
    "duration": 22,
    "start_time": "2022-04-26T19:05:46.828Z"
   },
   {
    "duration": 17,
    "start_time": "2022-04-26T19:05:46.851Z"
   },
   {
    "duration": 31,
    "start_time": "2022-04-26T19:05:46.892Z"
   },
   {
    "duration": 31,
    "start_time": "2022-04-26T19:05:46.925Z"
   },
   {
    "duration": 12,
    "start_time": "2022-04-26T19:05:46.957Z"
   },
   {
    "duration": 51,
    "start_time": "2022-04-26T19:05:46.970Z"
   },
   {
    "duration": 6,
    "start_time": "2022-04-26T19:05:47.023Z"
   },
   {
    "duration": 100,
    "start_time": "2022-04-26T19:05:47.031Z"
   },
   {
    "duration": 0,
    "start_time": "2022-04-26T19:05:47.133Z"
   },
   {
    "duration": 0,
    "start_time": "2022-04-26T19:05:47.135Z"
   },
   {
    "duration": 30,
    "start_time": "2022-04-26T19:05:52.730Z"
   },
   {
    "duration": 30,
    "start_time": "2022-04-26T19:05:58.811Z"
   },
   {
    "duration": 35,
    "start_time": "2022-04-26T19:06:02.034Z"
   },
   {
    "duration": 34,
    "start_time": "2022-04-26T19:06:04.764Z"
   },
   {
    "duration": 39,
    "start_time": "2022-04-26T19:06:07.206Z"
   },
   {
    "duration": 29,
    "start_time": "2022-04-26T19:06:40.134Z"
   },
   {
    "duration": 46,
    "start_time": "2022-04-26T19:06:54.802Z"
   },
   {
    "duration": 62,
    "start_time": "2022-04-26T19:07:35.607Z"
   },
   {
    "duration": 42,
    "start_time": "2022-04-26T19:07:46.912Z"
   },
   {
    "duration": 26,
    "start_time": "2022-04-26T19:07:54.537Z"
   },
   {
    "duration": 434,
    "start_time": "2022-04-26T19:07:59.127Z"
   },
   {
    "duration": 19,
    "start_time": "2022-04-26T19:07:59.563Z"
   },
   {
    "duration": 10,
    "start_time": "2022-04-26T19:07:59.583Z"
   },
   {
    "duration": 7,
    "start_time": "2022-04-26T19:07:59.595Z"
   },
   {
    "duration": 8,
    "start_time": "2022-04-26T19:07:59.603Z"
   },
   {
    "duration": 7,
    "start_time": "2022-04-26T19:07:59.612Z"
   },
   {
    "duration": 14,
    "start_time": "2022-04-26T19:07:59.621Z"
   },
   {
    "duration": 4,
    "start_time": "2022-04-26T19:07:59.636Z"
   },
   {
    "duration": 11,
    "start_time": "2022-04-26T19:07:59.641Z"
   },
   {
    "duration": 43,
    "start_time": "2022-04-26T19:07:59.654Z"
   },
   {
    "duration": 6,
    "start_time": "2022-04-26T19:07:59.699Z"
   },
   {
    "duration": 16,
    "start_time": "2022-04-26T19:07:59.706Z"
   },
   {
    "duration": 17,
    "start_time": "2022-04-26T19:07:59.724Z"
   },
   {
    "duration": 53,
    "start_time": "2022-04-26T19:07:59.742Z"
   },
   {
    "duration": 32,
    "start_time": "2022-04-26T19:07:59.796Z"
   },
   {
    "duration": 12,
    "start_time": "2022-04-26T19:07:59.830Z"
   },
   {
    "duration": 63,
    "start_time": "2022-04-26T19:07:59.844Z"
   },
   {
    "duration": 6,
    "start_time": "2022-04-26T19:07:59.909Z"
   },
   {
    "duration": 90,
    "start_time": "2022-04-26T19:07:59.917Z"
   },
   {
    "duration": 0,
    "start_time": "2022-04-26T19:08:00.010Z"
   },
   {
    "duration": 0,
    "start_time": "2022-04-26T19:08:00.011Z"
   },
   {
    "duration": 19,
    "start_time": "2022-04-26T19:08:19.602Z"
   },
   {
    "duration": 18,
    "start_time": "2022-04-26T19:08:28.183Z"
   },
   {
    "duration": 39,
    "start_time": "2022-04-26T19:10:20.006Z"
   },
   {
    "duration": 39,
    "start_time": "2022-04-26T19:10:23.249Z"
   },
   {
    "duration": 6,
    "start_time": "2022-04-26T19:10:33.114Z"
   },
   {
    "duration": 26,
    "start_time": "2022-04-26T19:11:30.251Z"
   },
   {
    "duration": 8,
    "start_time": "2022-04-26T19:11:33.295Z"
   },
   {
    "duration": 499,
    "start_time": "2022-04-26T19:11:38.307Z"
   },
   {
    "duration": 19,
    "start_time": "2022-04-26T19:11:38.807Z"
   },
   {
    "duration": 5,
    "start_time": "2022-04-26T19:11:38.828Z"
   },
   {
    "duration": 7,
    "start_time": "2022-04-26T19:11:38.835Z"
   },
   {
    "duration": 10,
    "start_time": "2022-04-26T19:11:38.844Z"
   },
   {
    "duration": 37,
    "start_time": "2022-04-26T19:11:38.856Z"
   },
   {
    "duration": 26,
    "start_time": "2022-04-26T19:11:38.895Z"
   },
   {
    "duration": 4,
    "start_time": "2022-04-26T19:11:38.923Z"
   },
   {
    "duration": 9,
    "start_time": "2022-04-26T19:11:38.929Z"
   },
   {
    "duration": 8,
    "start_time": "2022-04-26T19:11:38.941Z"
   },
   {
    "duration": 10,
    "start_time": "2022-04-26T19:11:38.951Z"
   },
   {
    "duration": 41,
    "start_time": "2022-04-26T19:11:38.963Z"
   },
   {
    "duration": 36,
    "start_time": "2022-04-26T19:11:39.006Z"
   },
   {
    "duration": 34,
    "start_time": "2022-04-26T19:11:39.043Z"
   },
   {
    "duration": 44,
    "start_time": "2022-04-26T19:11:39.078Z"
   },
   {
    "duration": 12,
    "start_time": "2022-04-26T19:11:39.124Z"
   },
   {
    "duration": 27,
    "start_time": "2022-04-26T19:11:39.138Z"
   },
   {
    "duration": 37,
    "start_time": "2022-04-26T19:11:39.166Z"
   },
   {
    "duration": 86,
    "start_time": "2022-04-26T19:11:39.205Z"
   },
   {
    "duration": 0,
    "start_time": "2022-04-26T19:11:39.293Z"
   },
   {
    "duration": 0,
    "start_time": "2022-04-26T19:11:39.294Z"
   },
   {
    "duration": 23,
    "start_time": "2022-04-26T19:12:15.409Z"
   },
   {
    "duration": 14,
    "start_time": "2022-04-26T19:12:41.542Z"
   },
   {
    "duration": 16,
    "start_time": "2022-04-26T19:12:47.354Z"
   },
   {
    "duration": 127,
    "start_time": "2022-04-26T19:13:21.561Z"
   },
   {
    "duration": 14,
    "start_time": "2022-04-26T19:13:42.459Z"
   },
   {
    "duration": 26,
    "start_time": "2022-04-26T19:13:57.250Z"
   },
   {
    "duration": 21,
    "start_time": "2022-04-26T19:14:16.215Z"
   },
   {
    "duration": 175,
    "start_time": "2022-04-26T19:14:33.669Z"
   },
   {
    "duration": 19,
    "start_time": "2022-04-26T19:14:58.110Z"
   },
   {
    "duration": 24,
    "start_time": "2022-04-26T19:16:09.674Z"
   },
   {
    "duration": 24,
    "start_time": "2022-04-26T19:18:21.084Z"
   },
   {
    "duration": 17,
    "start_time": "2022-04-26T19:18:43.740Z"
   },
   {
    "duration": 577,
    "start_time": "2022-05-01T13:19:10.698Z"
   },
   {
    "duration": 25,
    "start_time": "2022-05-01T13:19:11.278Z"
   },
   {
    "duration": 7,
    "start_time": "2022-05-01T13:19:11.305Z"
   },
   {
    "duration": 10,
    "start_time": "2022-05-01T13:19:11.314Z"
   },
   {
    "duration": 8,
    "start_time": "2022-05-01T13:19:11.326Z"
   },
   {
    "duration": 12,
    "start_time": "2022-05-01T13:19:11.336Z"
   },
   {
    "duration": 50,
    "start_time": "2022-05-01T13:19:11.350Z"
   },
   {
    "duration": 4,
    "start_time": "2022-05-01T13:19:11.402Z"
   },
   {
    "duration": 15,
    "start_time": "2022-05-01T13:19:11.408Z"
   },
   {
    "duration": 18,
    "start_time": "2022-05-01T13:19:11.427Z"
   },
   {
    "duration": 22,
    "start_time": "2022-05-01T13:19:11.447Z"
   },
   {
    "duration": 23,
    "start_time": "2022-05-01T13:19:11.471Z"
   },
   {
    "duration": 22,
    "start_time": "2022-05-01T13:19:11.496Z"
   },
   {
    "duration": 31,
    "start_time": "2022-05-01T13:19:11.520Z"
   },
   {
    "duration": 62,
    "start_time": "2022-05-01T13:19:11.552Z"
   },
   {
    "duration": 13,
    "start_time": "2022-05-01T13:19:11.616Z"
   },
   {
    "duration": 25,
    "start_time": "2022-05-01T13:19:11.631Z"
   },
   {
    "duration": 7,
    "start_time": "2022-05-01T13:19:11.658Z"
   },
   {
    "duration": 86,
    "start_time": "2022-05-01T13:19:11.692Z"
   },
   {
    "duration": 0,
    "start_time": "2022-05-01T13:19:11.780Z"
   },
   {
    "duration": 0,
    "start_time": "2022-05-01T13:19:11.793Z"
   },
   {
    "duration": 24,
    "start_time": "2022-05-01T13:19:20.750Z"
   },
   {
    "duration": 619,
    "start_time": "2022-05-01T13:26:09.322Z"
   },
   {
    "duration": 155,
    "start_time": "2022-05-01T13:30:24.164Z"
   },
   {
    "duration": 22,
    "start_time": "2022-05-01T13:30:30.824Z"
   },
   {
    "duration": 20,
    "start_time": "2022-05-01T13:30:48.520Z"
   },
   {
    "duration": 20,
    "start_time": "2022-05-01T13:31:13.652Z"
   },
   {
    "duration": 19,
    "start_time": "2022-05-01T13:31:34.456Z"
   },
   {
    "duration": 7,
    "start_time": "2022-05-01T13:32:01.511Z"
   },
   {
    "duration": 20,
    "start_time": "2022-05-01T14:09:46.612Z"
   },
   {
    "duration": 18,
    "start_time": "2022-05-01T14:09:52.797Z"
   },
   {
    "duration": 17,
    "start_time": "2022-05-01T14:14:11.658Z"
   },
   {
    "duration": 22,
    "start_time": "2022-05-01T14:14:17.535Z"
   },
   {
    "duration": 19,
    "start_time": "2022-05-01T14:14:58.237Z"
   },
   {
    "duration": 142,
    "start_time": "2022-05-01T14:22:49.517Z"
   },
   {
    "duration": 32,
    "start_time": "2022-05-01T14:23:05.967Z"
   },
   {
    "duration": 22,
    "start_time": "2022-05-01T14:23:56.287Z"
   },
   {
    "duration": 22,
    "start_time": "2022-05-01T14:28:27.806Z"
   },
   {
    "duration": 21,
    "start_time": "2022-05-01T14:28:43.818Z"
   },
   {
    "duration": 21,
    "start_time": "2022-05-01T14:29:14.175Z"
   },
   {
    "duration": 2181,
    "start_time": "2022-05-01T14:29:27.145Z"
   },
   {
    "duration": 21,
    "start_time": "2022-05-01T14:29:37.210Z"
   },
   {
    "duration": 41,
    "start_time": "2022-05-01T14:29:45.917Z"
   },
   {
    "duration": 23,
    "start_time": "2022-05-01T14:30:02.840Z"
   },
   {
    "duration": 21,
    "start_time": "2022-05-01T14:30:08.318Z"
   },
   {
    "duration": 23,
    "start_time": "2022-05-01T14:30:13.066Z"
   },
   {
    "duration": 21,
    "start_time": "2022-05-01T14:30:39.548Z"
   },
   {
    "duration": 22,
    "start_time": "2022-05-01T14:30:53.410Z"
   },
   {
    "duration": 534,
    "start_time": "2022-05-01T14:31:01.482Z"
   },
   {
    "duration": 20,
    "start_time": "2022-05-01T14:31:02.018Z"
   },
   {
    "duration": 5,
    "start_time": "2022-05-01T14:31:02.040Z"
   },
   {
    "duration": 15,
    "start_time": "2022-05-01T14:31:02.047Z"
   },
   {
    "duration": 32,
    "start_time": "2022-05-01T14:31:02.064Z"
   },
   {
    "duration": 14,
    "start_time": "2022-05-01T14:31:02.098Z"
   },
   {
    "duration": 31,
    "start_time": "2022-05-01T14:31:02.114Z"
   },
   {
    "duration": 6,
    "start_time": "2022-05-01T14:31:02.146Z"
   },
   {
    "duration": 9,
    "start_time": "2022-05-01T14:31:02.154Z"
   },
   {
    "duration": 37,
    "start_time": "2022-05-01T14:31:02.166Z"
   },
   {
    "duration": 8,
    "start_time": "2022-05-01T14:31:02.204Z"
   },
   {
    "duration": 23,
    "start_time": "2022-05-01T14:31:02.214Z"
   },
   {
    "duration": 22,
    "start_time": "2022-05-01T14:31:02.239Z"
   },
   {
    "duration": 64,
    "start_time": "2022-05-01T14:31:02.262Z"
   },
   {
    "duration": 35,
    "start_time": "2022-05-01T14:31:02.327Z"
   },
   {
    "duration": 29,
    "start_time": "2022-05-01T14:31:02.364Z"
   },
   {
    "duration": 36,
    "start_time": "2022-05-01T14:31:02.395Z"
   },
   {
    "duration": 23,
    "start_time": "2022-05-01T14:31:02.434Z"
   },
   {
    "duration": 137,
    "start_time": "2022-05-01T14:31:02.459Z"
   },
   {
    "duration": 0,
    "start_time": "2022-05-01T14:31:02.597Z"
   },
   {
    "duration": 0,
    "start_time": "2022-05-01T14:31:02.599Z"
   },
   {
    "duration": 0,
    "start_time": "2022-05-01T14:31:02.600Z"
   },
   {
    "duration": 0,
    "start_time": "2022-05-01T14:31:02.602Z"
   },
   {
    "duration": 0,
    "start_time": "2022-05-01T14:31:02.603Z"
   },
   {
    "duration": 0,
    "start_time": "2022-05-01T14:31:02.605Z"
   },
   {
    "duration": 0,
    "start_time": "2022-05-01T14:31:02.607Z"
   },
   {
    "duration": 82,
    "start_time": "2022-05-01T14:31:06.044Z"
   },
   {
    "duration": 22,
    "start_time": "2022-05-01T14:31:18.699Z"
   },
   {
    "duration": 21,
    "start_time": "2022-05-01T14:31:25.670Z"
   },
   {
    "duration": 22,
    "start_time": "2022-05-01T14:31:34.015Z"
   },
   {
    "duration": 21,
    "start_time": "2022-05-01T14:31:43.855Z"
   },
   {
    "duration": 22,
    "start_time": "2022-05-01T14:32:01.295Z"
   },
   {
    "duration": 49,
    "start_time": "2022-05-01T14:32:20.650Z"
   },
   {
    "duration": 33,
    "start_time": "2022-05-01T14:32:54.293Z"
   },
   {
    "duration": 32,
    "start_time": "2022-05-01T14:33:55.602Z"
   },
   {
    "duration": 15,
    "start_time": "2022-05-01T14:34:27.444Z"
   },
   {
    "duration": 14,
    "start_time": "2022-05-01T14:34:39.110Z"
   },
   {
    "duration": 580,
    "start_time": "2022-05-01T14:35:00.354Z"
   },
   {
    "duration": 31,
    "start_time": "2022-05-01T14:35:00.937Z"
   },
   {
    "duration": 25,
    "start_time": "2022-05-01T14:35:00.970Z"
   },
   {
    "duration": 13,
    "start_time": "2022-05-01T14:35:00.998Z"
   },
   {
    "duration": 25,
    "start_time": "2022-05-01T14:35:01.013Z"
   },
   {
    "duration": 28,
    "start_time": "2022-05-01T14:35:01.040Z"
   },
   {
    "duration": 41,
    "start_time": "2022-05-01T14:35:01.071Z"
   },
   {
    "duration": 5,
    "start_time": "2022-05-01T14:35:01.114Z"
   },
   {
    "duration": 30,
    "start_time": "2022-05-01T14:35:01.121Z"
   },
   {
    "duration": 42,
    "start_time": "2022-05-01T14:35:01.154Z"
   },
   {
    "duration": 17,
    "start_time": "2022-05-01T14:35:01.199Z"
   },
   {
    "duration": 20,
    "start_time": "2022-05-01T14:35:01.218Z"
   },
   {
    "duration": 28,
    "start_time": "2022-05-01T14:35:01.240Z"
   },
   {
    "duration": 60,
    "start_time": "2022-05-01T14:35:01.270Z"
   },
   {
    "duration": 74,
    "start_time": "2022-05-01T14:35:01.333Z"
   },
   {
    "duration": 21,
    "start_time": "2022-05-01T14:35:01.409Z"
   },
   {
    "duration": 44,
    "start_time": "2022-05-01T14:35:01.432Z"
   },
   {
    "duration": 20,
    "start_time": "2022-05-01T14:35:01.478Z"
   },
   {
    "duration": 212,
    "start_time": "2022-05-01T14:35:01.500Z"
   },
   {
    "duration": 0,
    "start_time": "2022-05-01T14:35:01.714Z"
   },
   {
    "duration": 0,
    "start_time": "2022-05-01T14:35:01.715Z"
   },
   {
    "duration": 0,
    "start_time": "2022-05-01T14:35:01.717Z"
   },
   {
    "duration": 0,
    "start_time": "2022-05-01T14:35:01.719Z"
   },
   {
    "duration": 0,
    "start_time": "2022-05-01T14:35:01.721Z"
   },
   {
    "duration": 0,
    "start_time": "2022-05-01T14:35:01.723Z"
   },
   {
    "duration": 0,
    "start_time": "2022-05-01T14:35:01.725Z"
   },
   {
    "duration": 80,
    "start_time": "2022-05-01T14:35:08.603Z"
   },
   {
    "duration": 26,
    "start_time": "2022-05-01T14:35:21.112Z"
   },
   {
    "duration": 32,
    "start_time": "2022-05-01T14:35:34.050Z"
   },
   {
    "duration": 22,
    "start_time": "2022-05-01T14:36:09.349Z"
   },
   {
    "duration": 21,
    "start_time": "2022-05-01T14:36:14.144Z"
   },
   {
    "duration": 14,
    "start_time": "2022-05-01T14:36:24.506Z"
   },
   {
    "duration": 13,
    "start_time": "2022-05-01T14:36:32.405Z"
   },
   {
    "duration": 32,
    "start_time": "2022-05-01T14:37:07.617Z"
   },
   {
    "duration": 31,
    "start_time": "2022-05-01T14:37:13.170Z"
   },
   {
    "duration": 63,
    "start_time": "2022-05-01T14:37:19.414Z"
   },
   {
    "duration": 14,
    "start_time": "2022-05-01T14:37:23.175Z"
   },
   {
    "duration": 6,
    "start_time": "2022-05-01T14:37:24.399Z"
   },
   {
    "duration": 6,
    "start_time": "2022-05-01T14:37:24.950Z"
   },
   {
    "duration": 9,
    "start_time": "2022-05-01T14:37:27.664Z"
   },
   {
    "duration": 12,
    "start_time": "2022-05-01T14:37:30.409Z"
   },
   {
    "duration": 15,
    "start_time": "2022-05-01T14:37:31.523Z"
   },
   {
    "duration": 4,
    "start_time": "2022-05-01T14:37:32.626Z"
   },
   {
    "duration": 7,
    "start_time": "2022-05-01T14:37:33.679Z"
   },
   {
    "duration": 8,
    "start_time": "2022-05-01T14:37:34.749Z"
   },
   {
    "duration": 5,
    "start_time": "2022-05-01T14:37:36.976Z"
   },
   {
    "duration": 21,
    "start_time": "2022-05-01T14:37:38.108Z"
   },
   {
    "duration": 26,
    "start_time": "2022-05-01T14:37:39.679Z"
   },
   {
    "duration": 35,
    "start_time": "2022-05-01T14:37:40.232Z"
   },
   {
    "duration": 47,
    "start_time": "2022-05-01T14:37:47.528Z"
   },
   {
    "duration": 12,
    "start_time": "2022-05-01T14:37:48.573Z"
   },
   {
    "duration": 31,
    "start_time": "2022-05-01T14:37:49.916Z"
   },
   {
    "duration": 8,
    "start_time": "2022-05-01T14:37:51.094Z"
   },
   {
    "duration": 139,
    "start_time": "2022-05-01T14:37:55.550Z"
   },
   {
    "duration": 22,
    "start_time": "2022-05-01T14:37:58.256Z"
   },
   {
    "duration": 30,
    "start_time": "2022-05-01T14:38:02.871Z"
   },
   {
    "duration": 8,
    "start_time": "2022-05-01T14:38:06.218Z"
   },
   {
    "duration": 30,
    "start_time": "2022-05-01T14:38:06.813Z"
   },
   {
    "duration": 18,
    "start_time": "2022-05-01T14:38:11.293Z"
   },
   {
    "duration": 21,
    "start_time": "2022-05-01T14:38:14.324Z"
   },
   {
    "duration": 21,
    "start_time": "2022-05-01T14:38:17.193Z"
   },
   {
    "duration": 21,
    "start_time": "2022-05-01T14:38:20.585Z"
   },
   {
    "duration": 23,
    "start_time": "2022-05-01T14:38:22.177Z"
   },
   {
    "duration": 20,
    "start_time": "2022-05-01T14:38:24.147Z"
   },
   {
    "duration": 27,
    "start_time": "2022-05-01T14:38:25.740Z"
   },
   {
    "duration": 142,
    "start_time": "2022-05-01T14:41:23.014Z"
   },
   {
    "duration": 138,
    "start_time": "2022-05-01T14:41:24.625Z"
   },
   {
    "duration": 147,
    "start_time": "2022-05-01T14:41:29.030Z"
   },
   {
    "duration": 15,
    "start_time": "2022-05-01T14:41:57.793Z"
   },
   {
    "duration": 15,
    "start_time": "2022-05-01T14:45:11.565Z"
   },
   {
    "duration": 12,
    "start_time": "2022-05-01T14:45:50.923Z"
   },
   {
    "duration": 200,
    "start_time": "2022-05-01T14:46:01.482Z"
   },
   {
    "duration": 133,
    "start_time": "2022-05-01T14:46:05.044Z"
   },
   {
    "duration": 11,
    "start_time": "2022-05-01T14:46:09.870Z"
   },
   {
    "duration": 189,
    "start_time": "2022-05-01T14:46:16.493Z"
   },
   {
    "duration": 157,
    "start_time": "2022-05-01T14:46:45.314Z"
   },
   {
    "duration": 198,
    "start_time": "2022-05-01T14:48:35.784Z"
   },
   {
    "duration": 23,
    "start_time": "2022-05-01T14:51:01.302Z"
   },
   {
    "duration": 11,
    "start_time": "2022-05-01T14:51:33.743Z"
   },
   {
    "duration": 13,
    "start_time": "2022-05-01T14:51:42.128Z"
   },
   {
    "duration": 12,
    "start_time": "2022-05-01T14:52:23.023Z"
   },
   {
    "duration": 10,
    "start_time": "2022-05-01T14:53:37.536Z"
   },
   {
    "duration": 2369,
    "start_time": "2022-05-01T14:55:43.767Z"
   },
   {
    "duration": 2339,
    "start_time": "2022-05-01T14:56:08.077Z"
   },
   {
    "duration": 2272,
    "start_time": "2022-05-01T14:57:22.664Z"
   },
   {
    "duration": 54,
    "start_time": "2022-05-01T14:57:40.680Z"
   },
   {
    "duration": 553,
    "start_time": "2022-05-01T14:57:45.694Z"
   },
   {
    "duration": 24,
    "start_time": "2022-05-01T14:57:46.250Z"
   },
   {
    "duration": 22,
    "start_time": "2022-05-01T14:57:46.276Z"
   },
   {
    "duration": 13,
    "start_time": "2022-05-01T14:57:46.301Z"
   },
   {
    "duration": 16,
    "start_time": "2022-05-01T14:57:46.317Z"
   },
   {
    "duration": 21,
    "start_time": "2022-05-01T14:57:46.335Z"
   },
   {
    "duration": 38,
    "start_time": "2022-05-01T14:57:46.358Z"
   },
   {
    "duration": 4,
    "start_time": "2022-05-01T14:57:46.398Z"
   },
   {
    "duration": 11,
    "start_time": "2022-05-01T14:57:46.404Z"
   },
   {
    "duration": 15,
    "start_time": "2022-05-01T14:57:46.419Z"
   },
   {
    "duration": 16,
    "start_time": "2022-05-01T14:57:46.436Z"
   },
   {
    "duration": 39,
    "start_time": "2022-05-01T14:57:46.454Z"
   },
   {
    "duration": 20,
    "start_time": "2022-05-01T14:57:46.495Z"
   },
   {
    "duration": 37,
    "start_time": "2022-05-01T14:57:46.517Z"
   },
   {
    "duration": 59,
    "start_time": "2022-05-01T14:57:46.556Z"
   },
   {
    "duration": 14,
    "start_time": "2022-05-01T14:57:46.617Z"
   },
   {
    "duration": 25,
    "start_time": "2022-05-01T14:57:46.634Z"
   },
   {
    "duration": 36,
    "start_time": "2022-05-01T14:57:46.661Z"
   },
   {
    "duration": 38,
    "start_time": "2022-05-01T14:57:46.700Z"
   },
   {
    "duration": 34,
    "start_time": "2022-05-01T14:57:46.741Z"
   },
   {
    "duration": 7,
    "start_time": "2022-05-01T14:57:46.793Z"
   },
   {
    "duration": 32,
    "start_time": "2022-05-01T14:57:46.803Z"
   },
   {
    "duration": 30,
    "start_time": "2022-05-01T14:57:46.837Z"
   },
   {
    "duration": 95,
    "start_time": "2022-05-01T14:57:46.870Z"
   },
   {
    "duration": 0,
    "start_time": "2022-05-01T14:57:46.967Z"
   },
   {
    "duration": 0,
    "start_time": "2022-05-01T14:57:46.968Z"
   },
   {
    "duration": 19,
    "start_time": "2022-05-01T14:57:55.677Z"
   },
   {
    "duration": 25,
    "start_time": "2022-05-01T14:58:09.522Z"
   },
   {
    "duration": 19,
    "start_time": "2022-05-01T14:58:19.254Z"
   },
   {
    "duration": 26,
    "start_time": "2022-05-01T14:59:57.343Z"
   },
   {
    "duration": 27,
    "start_time": "2022-05-01T15:01:33.564Z"
   },
   {
    "duration": 14,
    "start_time": "2022-05-01T15:01:39.712Z"
   },
   {
    "duration": 14,
    "start_time": "2022-05-01T15:01:47.913Z"
   },
   {
    "duration": 509,
    "start_time": "2022-05-01T15:02:07.255Z"
   },
   {
    "duration": 20,
    "start_time": "2022-05-01T15:02:07.767Z"
   },
   {
    "duration": 6,
    "start_time": "2022-05-01T15:02:07.793Z"
   },
   {
    "duration": 7,
    "start_time": "2022-05-01T15:02:07.802Z"
   },
   {
    "duration": 8,
    "start_time": "2022-05-01T15:02:07.810Z"
   },
   {
    "duration": 7,
    "start_time": "2022-05-01T15:02:07.820Z"
   },
   {
    "duration": 18,
    "start_time": "2022-05-01T15:02:07.830Z"
   },
   {
    "duration": 3,
    "start_time": "2022-05-01T15:02:07.850Z"
   },
   {
    "duration": 41,
    "start_time": "2022-05-01T15:02:07.855Z"
   },
   {
    "duration": 10,
    "start_time": "2022-05-01T15:02:07.900Z"
   },
   {
    "duration": 4,
    "start_time": "2022-05-01T15:02:07.912Z"
   },
   {
    "duration": 20,
    "start_time": "2022-05-01T15:02:07.918Z"
   },
   {
    "duration": 24,
    "start_time": "2022-05-01T15:02:07.939Z"
   },
   {
    "duration": 50,
    "start_time": "2022-05-01T15:02:07.993Z"
   },
   {
    "duration": 33,
    "start_time": "2022-05-01T15:02:08.045Z"
   },
   {
    "duration": 11,
    "start_time": "2022-05-01T15:02:08.093Z"
   },
   {
    "duration": 21,
    "start_time": "2022-05-01T15:02:08.106Z"
   },
   {
    "duration": 8,
    "start_time": "2022-05-01T15:02:08.129Z"
   },
   {
    "duration": 15,
    "start_time": "2022-05-01T15:02:08.138Z"
   },
   {
    "duration": 53,
    "start_time": "2022-05-01T15:02:08.154Z"
   },
   {
    "duration": 8,
    "start_time": "2022-05-01T15:02:08.209Z"
   },
   {
    "duration": 19,
    "start_time": "2022-05-01T15:02:08.219Z"
   },
   {
    "duration": 20,
    "start_time": "2022-05-01T15:02:08.240Z"
   },
   {
    "duration": 38,
    "start_time": "2022-05-01T15:02:08.261Z"
   },
   {
    "duration": 17,
    "start_time": "2022-05-01T15:02:08.301Z"
   },
   {
    "duration": 20,
    "start_time": "2022-05-01T15:02:08.319Z"
   },
   {
    "duration": 14,
    "start_time": "2022-05-01T15:02:16.101Z"
   },
   {
    "duration": 17,
    "start_time": "2022-05-01T15:02:29.976Z"
   },
   {
    "duration": 23,
    "start_time": "2022-05-01T15:02:43.744Z"
   },
   {
    "duration": 26,
    "start_time": "2022-05-01T15:02:48.281Z"
   },
   {
    "duration": 18,
    "start_time": "2022-05-01T15:03:06.542Z"
   },
   {
    "duration": 27,
    "start_time": "2022-05-01T15:03:09.333Z"
   },
   {
    "duration": 27,
    "start_time": "2022-05-01T15:03:27.189Z"
   },
   {
    "duration": 18,
    "start_time": "2022-05-01T15:03:30.417Z"
   },
   {
    "duration": 25,
    "start_time": "2022-05-01T15:05:47.401Z"
   },
   {
    "duration": 32,
    "start_time": "2022-05-01T15:06:13.488Z"
   },
   {
    "duration": 25,
    "start_time": "2022-05-01T15:06:26.404Z"
   },
   {
    "duration": 31,
    "start_time": "2022-05-01T15:07:05.079Z"
   },
   {
    "duration": 30,
    "start_time": "2022-05-01T15:07:19.024Z"
   },
   {
    "duration": 37,
    "start_time": "2022-05-01T15:08:23.812Z"
   },
   {
    "duration": 25,
    "start_time": "2022-05-01T15:08:35.200Z"
   },
   {
    "duration": 22,
    "start_time": "2022-05-01T15:08:41.368Z"
   },
   {
    "duration": 24,
    "start_time": "2022-05-01T15:12:25.299Z"
   },
   {
    "duration": 486,
    "start_time": "2022-05-05T09:01:46.448Z"
   },
   {
    "duration": 20,
    "start_time": "2022-05-05T09:01:46.936Z"
   },
   {
    "duration": 6,
    "start_time": "2022-05-05T09:01:46.958Z"
   },
   {
    "duration": 8,
    "start_time": "2022-05-05T09:01:46.965Z"
   },
   {
    "duration": 9,
    "start_time": "2022-05-05T09:01:46.976Z"
   },
   {
    "duration": 38,
    "start_time": "2022-05-05T09:01:46.987Z"
   },
   {
    "duration": 26,
    "start_time": "2022-05-05T09:01:47.027Z"
   },
   {
    "duration": 4,
    "start_time": "2022-05-05T09:01:47.055Z"
   },
   {
    "duration": 10,
    "start_time": "2022-05-05T09:01:47.061Z"
   },
   {
    "duration": 10,
    "start_time": "2022-05-05T09:01:47.073Z"
   },
   {
    "duration": 5,
    "start_time": "2022-05-05T09:01:47.085Z"
   },
   {
    "duration": 17,
    "start_time": "2022-05-05T09:01:47.123Z"
   },
   {
    "duration": 18,
    "start_time": "2022-05-05T09:01:47.142Z"
   },
   {
    "duration": 60,
    "start_time": "2022-05-05T09:01:47.163Z"
   },
   {
    "duration": 34,
    "start_time": "2022-05-05T09:01:47.224Z"
   },
   {
    "duration": 12,
    "start_time": "2022-05-05T09:01:47.260Z"
   },
   {
    "duration": 51,
    "start_time": "2022-05-05T09:01:47.273Z"
   },
   {
    "duration": 9,
    "start_time": "2022-05-05T09:01:47.326Z"
   },
   {
    "duration": 24,
    "start_time": "2022-05-05T09:01:47.337Z"
   },
   {
    "duration": 21,
    "start_time": "2022-05-05T09:01:47.362Z"
   },
   {
    "duration": 39,
    "start_time": "2022-05-05T09:01:47.385Z"
   },
   {
    "duration": 20,
    "start_time": "2022-05-05T09:01:47.426Z"
   },
   {
    "duration": 22,
    "start_time": "2022-05-05T09:01:47.447Z"
   },
   {
    "duration": 21,
    "start_time": "2022-05-05T09:01:47.471Z"
   },
   {
    "duration": 23,
    "start_time": "2022-05-05T09:01:47.523Z"
   },
   {
    "duration": 28,
    "start_time": "2022-05-05T09:01:47.548Z"
   },
   {
    "duration": 30,
    "start_time": "2022-05-05T09:07:02.344Z"
   },
   {
    "duration": 16,
    "start_time": "2022-05-05T09:07:44.206Z"
   },
   {
    "duration": 457,
    "start_time": "2022-05-06T09:10:53.305Z"
   },
   {
    "duration": 19,
    "start_time": "2022-05-06T09:10:53.764Z"
   },
   {
    "duration": 10,
    "start_time": "2022-05-06T09:10:53.785Z"
   },
   {
    "duration": 4,
    "start_time": "2022-05-06T09:10:53.798Z"
   },
   {
    "duration": 20,
    "start_time": "2022-05-06T09:10:53.804Z"
   },
   {
    "duration": 7,
    "start_time": "2022-05-06T09:10:53.825Z"
   },
   {
    "duration": 15,
    "start_time": "2022-05-06T09:10:53.833Z"
   },
   {
    "duration": 3,
    "start_time": "2022-05-06T09:10:53.849Z"
   },
   {
    "duration": 7,
    "start_time": "2022-05-06T09:10:53.853Z"
   },
   {
    "duration": 35,
    "start_time": "2022-05-06T09:10:53.862Z"
   },
   {
    "duration": 4,
    "start_time": "2022-05-06T09:10:53.898Z"
   },
   {
    "duration": 20,
    "start_time": "2022-05-06T09:10:53.903Z"
   },
   {
    "duration": 16,
    "start_time": "2022-05-06T09:10:53.924Z"
   },
   {
    "duration": 51,
    "start_time": "2022-05-06T09:10:53.941Z"
   },
   {
    "duration": 31,
    "start_time": "2022-05-06T09:10:53.994Z"
   },
   {
    "duration": 11,
    "start_time": "2022-05-06T09:10:54.026Z"
   },
   {
    "duration": 20,
    "start_time": "2022-05-06T09:10:54.039Z"
   },
   {
    "duration": 37,
    "start_time": "2022-05-06T09:10:54.061Z"
   },
   {
    "duration": 24,
    "start_time": "2022-05-06T09:10:54.101Z"
   },
   {
    "duration": 20,
    "start_time": "2022-05-06T09:10:54.127Z"
   },
   {
    "duration": 7,
    "start_time": "2022-05-06T09:10:54.150Z"
   },
   {
    "duration": 47,
    "start_time": "2022-05-06T09:10:54.159Z"
   },
   {
    "duration": 24,
    "start_time": "2022-05-06T09:10:54.208Z"
   },
   {
    "duration": 21,
    "start_time": "2022-05-06T09:10:54.235Z"
   },
   {
    "duration": 37,
    "start_time": "2022-05-06T09:10:54.258Z"
   },
   {
    "duration": 17,
    "start_time": "2022-05-06T09:10:54.297Z"
   },
   {
    "duration": 5,
    "start_time": "2022-05-06T09:16:22.021Z"
   },
   {
    "duration": 3534,
    "start_time": "2022-05-06T09:21:19.840Z"
   },
   {
    "duration": 3403,
    "start_time": "2022-05-06T09:23:06.526Z"
   },
   {
    "duration": 14,
    "start_time": "2022-05-06T09:23:23.583Z"
   },
   {
    "duration": 13,
    "start_time": "2022-05-06T09:23:35.487Z"
   },
   {
    "duration": 12,
    "start_time": "2022-05-06T09:24:03.453Z"
   },
   {
    "duration": 8,
    "start_time": "2022-05-06T09:24:21.576Z"
   },
   {
    "duration": 1213,
    "start_time": "2022-05-06T09:24:31.376Z"
   },
   {
    "duration": 8,
    "start_time": "2022-05-06T09:24:35.149Z"
   },
   {
    "duration": 9,
    "start_time": "2022-05-06T09:29:20.310Z"
   },
   {
    "duration": 7,
    "start_time": "2022-05-06T09:29:29.893Z"
   },
   {
    "duration": 22,
    "start_time": "2022-05-06T09:38:47.041Z"
   },
   {
    "duration": 17,
    "start_time": "2022-05-06T09:39:03.738Z"
   },
   {
    "duration": 16,
    "start_time": "2022-05-06T09:39:54.828Z"
   },
   {
    "duration": 496,
    "start_time": "2022-05-06T09:40:12.258Z"
   },
   {
    "duration": 19,
    "start_time": "2022-05-06T09:40:12.756Z"
   },
   {
    "duration": 16,
    "start_time": "2022-05-06T09:40:12.777Z"
   },
   {
    "duration": 6,
    "start_time": "2022-05-06T09:40:12.795Z"
   },
   {
    "duration": 25,
    "start_time": "2022-05-06T09:40:12.802Z"
   },
   {
    "duration": 7,
    "start_time": "2022-05-06T09:40:12.828Z"
   },
   {
    "duration": 16,
    "start_time": "2022-05-06T09:40:12.837Z"
   },
   {
    "duration": 3,
    "start_time": "2022-05-06T09:40:12.854Z"
   },
   {
    "duration": 7,
    "start_time": "2022-05-06T09:40:12.858Z"
   },
   {
    "duration": 27,
    "start_time": "2022-05-06T09:40:12.868Z"
   },
   {
    "duration": 4,
    "start_time": "2022-05-06T09:40:12.897Z"
   },
   {
    "duration": 14,
    "start_time": "2022-05-06T09:40:12.902Z"
   },
   {
    "duration": 11,
    "start_time": "2022-05-06T09:40:12.918Z"
   },
   {
    "duration": 8,
    "start_time": "2022-05-06T09:40:12.931Z"
   },
   {
    "duration": 96,
    "start_time": "2022-05-06T09:40:12.940Z"
   },
   {
    "duration": 0,
    "start_time": "2022-05-06T09:40:13.038Z"
   },
   {
    "duration": 0,
    "start_time": "2022-05-06T09:40:13.040Z"
   },
   {
    "duration": 0,
    "start_time": "2022-05-06T09:40:13.041Z"
   },
   {
    "duration": 0,
    "start_time": "2022-05-06T09:40:13.042Z"
   },
   {
    "duration": 0,
    "start_time": "2022-05-06T09:40:13.043Z"
   },
   {
    "duration": 0,
    "start_time": "2022-05-06T09:40:13.044Z"
   },
   {
    "duration": 0,
    "start_time": "2022-05-06T09:40:13.045Z"
   },
   {
    "duration": 0,
    "start_time": "2022-05-06T09:40:13.046Z"
   },
   {
    "duration": 0,
    "start_time": "2022-05-06T09:40:13.047Z"
   },
   {
    "duration": 0,
    "start_time": "2022-05-06T09:40:13.048Z"
   },
   {
    "duration": 0,
    "start_time": "2022-05-06T09:40:13.049Z"
   },
   {
    "duration": 0,
    "start_time": "2022-05-06T09:40:13.051Z"
   },
   {
    "duration": 0,
    "start_time": "2022-05-06T09:40:13.052Z"
   },
   {
    "duration": 0,
    "start_time": "2022-05-06T09:40:13.052Z"
   },
   {
    "duration": 0,
    "start_time": "2022-05-06T09:40:13.053Z"
   },
   {
    "duration": 12,
    "start_time": "2022-05-06T09:40:18.542Z"
   },
   {
    "duration": 15,
    "start_time": "2022-05-06T09:40:38.430Z"
   },
   {
    "duration": 8,
    "start_time": "2022-05-06T09:41:06.095Z"
   },
   {
    "duration": 14,
    "start_time": "2022-05-06T09:41:09.808Z"
   },
   {
    "duration": 14,
    "start_time": "2022-05-06T09:41:12.920Z"
   },
   {
    "duration": 423,
    "start_time": "2022-05-06T09:41:20.739Z"
   },
   {
    "duration": 20,
    "start_time": "2022-05-06T09:41:21.164Z"
   },
   {
    "duration": 6,
    "start_time": "2022-05-06T09:41:21.192Z"
   },
   {
    "duration": 6,
    "start_time": "2022-05-06T09:41:21.200Z"
   },
   {
    "duration": 8,
    "start_time": "2022-05-06T09:41:21.207Z"
   },
   {
    "duration": 7,
    "start_time": "2022-05-06T09:41:21.217Z"
   },
   {
    "duration": 15,
    "start_time": "2022-05-06T09:41:21.225Z"
   },
   {
    "duration": 3,
    "start_time": "2022-05-06T09:41:21.242Z"
   },
   {
    "duration": 7,
    "start_time": "2022-05-06T09:41:21.246Z"
   },
   {
    "duration": 40,
    "start_time": "2022-05-06T09:41:21.257Z"
   },
   {
    "duration": 4,
    "start_time": "2022-05-06T09:41:21.298Z"
   },
   {
    "duration": 8,
    "start_time": "2022-05-06T09:41:21.304Z"
   },
   {
    "duration": 6,
    "start_time": "2022-05-06T09:41:21.313Z"
   },
   {
    "duration": 8,
    "start_time": "2022-05-06T09:41:21.321Z"
   },
   {
    "duration": 23,
    "start_time": "2022-05-06T09:41:21.331Z"
   },
   {
    "duration": 85,
    "start_time": "2022-05-06T09:41:21.356Z"
   },
   {
    "duration": 0,
    "start_time": "2022-05-06T09:41:21.443Z"
   },
   {
    "duration": 0,
    "start_time": "2022-05-06T09:41:21.444Z"
   },
   {
    "duration": 0,
    "start_time": "2022-05-06T09:41:21.445Z"
   },
   {
    "duration": 0,
    "start_time": "2022-05-06T09:41:21.446Z"
   },
   {
    "duration": 0,
    "start_time": "2022-05-06T09:41:21.447Z"
   },
   {
    "duration": 0,
    "start_time": "2022-05-06T09:41:21.448Z"
   },
   {
    "duration": 0,
    "start_time": "2022-05-06T09:41:21.449Z"
   },
   {
    "duration": 0,
    "start_time": "2022-05-06T09:41:21.450Z"
   },
   {
    "duration": 0,
    "start_time": "2022-05-06T09:41:21.451Z"
   },
   {
    "duration": 0,
    "start_time": "2022-05-06T09:41:21.452Z"
   },
   {
    "duration": 0,
    "start_time": "2022-05-06T09:41:21.453Z"
   },
   {
    "duration": 0,
    "start_time": "2022-05-06T09:41:21.454Z"
   },
   {
    "duration": 0,
    "start_time": "2022-05-06T09:41:21.455Z"
   },
   {
    "duration": 0,
    "start_time": "2022-05-06T09:41:21.456Z"
   },
   {
    "duration": 0,
    "start_time": "2022-05-06T09:41:21.457Z"
   },
   {
    "duration": 17,
    "start_time": "2022-05-06T09:41:36.847Z"
   },
   {
    "duration": 11,
    "start_time": "2022-05-06T09:41:38.752Z"
   },
   {
    "duration": 16,
    "start_time": "2022-05-06T09:41:42.027Z"
   },
   {
    "duration": 16,
    "start_time": "2022-05-06T09:41:45.650Z"
   },
   {
    "duration": 15,
    "start_time": "2022-05-06T09:41:55.947Z"
   },
   {
    "duration": 7,
    "start_time": "2022-05-06T09:41:58.221Z"
   },
   {
    "duration": 14,
    "start_time": "2022-05-06T09:42:02.113Z"
   },
   {
    "duration": 450,
    "start_time": "2022-05-06T09:42:06.419Z"
   },
   {
    "duration": 21,
    "start_time": "2022-05-06T09:42:06.872Z"
   },
   {
    "duration": 5,
    "start_time": "2022-05-06T09:42:06.895Z"
   },
   {
    "duration": 22,
    "start_time": "2022-05-06T09:42:06.902Z"
   },
   {
    "duration": 19,
    "start_time": "2022-05-06T09:42:06.926Z"
   },
   {
    "duration": 35,
    "start_time": "2022-05-06T09:42:06.947Z"
   },
   {
    "duration": 17,
    "start_time": "2022-05-06T09:42:06.983Z"
   },
   {
    "duration": 6,
    "start_time": "2022-05-06T09:42:07.001Z"
   },
   {
    "duration": 22,
    "start_time": "2022-05-06T09:42:07.008Z"
   },
   {
    "duration": 11,
    "start_time": "2022-05-06T09:42:07.035Z"
   },
   {
    "duration": 9,
    "start_time": "2022-05-06T09:42:07.048Z"
   },
   {
    "duration": 16,
    "start_time": "2022-05-06T09:42:07.059Z"
   },
   {
    "duration": 26,
    "start_time": "2022-05-06T09:42:07.077Z"
   },
   {
    "duration": 12,
    "start_time": "2022-05-06T09:42:07.104Z"
   },
   {
    "duration": 27,
    "start_time": "2022-05-06T09:42:07.117Z"
   },
   {
    "duration": 703,
    "start_time": "2022-05-06T09:42:07.146Z"
   },
   {
    "duration": 0,
    "start_time": "2022-05-06T09:42:07.851Z"
   },
   {
    "duration": 0,
    "start_time": "2022-05-06T09:42:07.852Z"
   },
   {
    "duration": 0,
    "start_time": "2022-05-06T09:42:07.853Z"
   },
   {
    "duration": 0,
    "start_time": "2022-05-06T09:42:07.854Z"
   },
   {
    "duration": 0,
    "start_time": "2022-05-06T09:42:07.855Z"
   },
   {
    "duration": 0,
    "start_time": "2022-05-06T09:42:07.856Z"
   },
   {
    "duration": 0,
    "start_time": "2022-05-06T09:42:07.857Z"
   },
   {
    "duration": 0,
    "start_time": "2022-05-06T09:42:07.858Z"
   },
   {
    "duration": 0,
    "start_time": "2022-05-06T09:42:07.859Z"
   },
   {
    "duration": 0,
    "start_time": "2022-05-06T09:42:07.860Z"
   },
   {
    "duration": 0,
    "start_time": "2022-05-06T09:42:07.861Z"
   },
   {
    "duration": 0,
    "start_time": "2022-05-06T09:42:07.861Z"
   },
   {
    "duration": 1,
    "start_time": "2022-05-06T09:42:07.862Z"
   },
   {
    "duration": 0,
    "start_time": "2022-05-06T09:42:07.863Z"
   },
   {
    "duration": 0,
    "start_time": "2022-05-06T09:42:07.864Z"
   },
   {
    "duration": 16,
    "start_time": "2022-05-06T09:42:33.372Z"
   },
   {
    "duration": 7,
    "start_time": "2022-05-06T09:46:16.124Z"
   },
   {
    "duration": 7,
    "start_time": "2022-05-06T09:46:17.158Z"
   },
   {
    "duration": 14,
    "start_time": "2022-05-06T09:46:20.895Z"
   },
   {
    "duration": 569,
    "start_time": "2022-05-06T09:46:26.347Z"
   },
   {
    "duration": 7,
    "start_time": "2022-05-06T09:46:38.635Z"
   },
   {
    "duration": 451,
    "start_time": "2022-05-06T09:46:45.430Z"
   },
   {
    "duration": 19,
    "start_time": "2022-05-06T09:46:45.883Z"
   },
   {
    "duration": 5,
    "start_time": "2022-05-06T09:46:45.903Z"
   },
   {
    "duration": 4,
    "start_time": "2022-05-06T09:46:45.911Z"
   },
   {
    "duration": 10,
    "start_time": "2022-05-06T09:46:45.918Z"
   },
   {
    "duration": 12,
    "start_time": "2022-05-06T09:46:45.930Z"
   },
   {
    "duration": 17,
    "start_time": "2022-05-06T09:46:45.943Z"
   },
   {
    "duration": 3,
    "start_time": "2022-05-06T09:46:45.961Z"
   },
   {
    "duration": 6,
    "start_time": "2022-05-06T09:46:45.992Z"
   },
   {
    "duration": 12,
    "start_time": "2022-05-06T09:46:46.000Z"
   },
   {
    "duration": 6,
    "start_time": "2022-05-06T09:46:46.014Z"
   },
   {
    "duration": 14,
    "start_time": "2022-05-06T09:46:46.022Z"
   },
   {
    "duration": 10,
    "start_time": "2022-05-06T09:46:46.038Z"
   },
   {
    "duration": 8,
    "start_time": "2022-05-06T09:46:46.051Z"
   },
   {
    "duration": 43,
    "start_time": "2022-05-06T09:46:46.060Z"
   },
   {
    "duration": 6,
    "start_time": "2022-05-06T09:46:46.105Z"
   },
   {
    "duration": 14,
    "start_time": "2022-05-06T09:46:46.113Z"
   },
   {
    "duration": 17,
    "start_time": "2022-05-06T09:46:46.129Z"
   },
   {
    "duration": 64,
    "start_time": "2022-05-06T09:46:46.147Z"
   },
   {
    "duration": 35,
    "start_time": "2022-05-06T09:46:46.212Z"
   },
   {
    "duration": 14,
    "start_time": "2022-05-06T09:46:46.248Z"
   },
   {
    "duration": 43,
    "start_time": "2022-05-06T09:46:46.263Z"
   },
   {
    "duration": 8,
    "start_time": "2022-05-06T09:46:46.308Z"
   },
   {
    "duration": 21,
    "start_time": "2022-05-06T09:46:46.318Z"
   },
   {
    "duration": 20,
    "start_time": "2022-05-06T09:46:46.340Z"
   },
   {
    "duration": 6,
    "start_time": "2022-05-06T09:46:46.393Z"
   },
   {
    "duration": 25,
    "start_time": "2022-05-06T09:46:46.400Z"
   },
   {
    "duration": 19,
    "start_time": "2022-05-06T09:46:46.427Z"
   },
   {
    "duration": 45,
    "start_time": "2022-05-06T09:46:46.448Z"
   },
   {
    "duration": 18,
    "start_time": "2022-05-06T09:46:46.495Z"
   },
   {
    "duration": 18,
    "start_time": "2022-05-06T09:46:46.515Z"
   },
   {
    "duration": 6,
    "start_time": "2022-05-06T09:47:17.254Z"
   },
   {
    "duration": 15,
    "start_time": "2022-05-06T09:47:17.910Z"
   },
   {
    "duration": 16,
    "start_time": "2022-05-06T09:47:22.736Z"
   },
   {
    "duration": 5,
    "start_time": "2022-05-06T09:47:25.695Z"
   },
   {
    "duration": 17,
    "start_time": "2022-05-06T09:47:29.988Z"
   },
   {
    "duration": 6,
    "start_time": "2022-05-06T09:47:55.224Z"
   },
   {
    "duration": 18,
    "start_time": "2022-05-06T09:48:12.056Z"
   },
   {
    "duration": 19,
    "start_time": "2022-05-06T09:48:20.330Z"
   },
   {
    "duration": 14,
    "start_time": "2022-05-06T09:48:43.552Z"
   },
   {
    "duration": 61,
    "start_time": "2022-05-06T09:49:22.805Z"
   },
   {
    "duration": 134,
    "start_time": "2022-05-06T09:49:41.439Z"
   },
   {
    "duration": 6,
    "start_time": "2022-05-06T09:51:25.292Z"
   },
   {
    "duration": 5,
    "start_time": "2022-05-06T09:51:41.257Z"
   },
   {
    "duration": 18,
    "start_time": "2022-05-06T09:53:28.695Z"
   },
   {
    "duration": 363,
    "start_time": "2022-05-06T09:53:35.439Z"
   },
   {
    "duration": 68,
    "start_time": "2022-05-06T09:53:35.804Z"
   },
   {
    "duration": 28,
    "start_time": "2022-05-06T09:53:35.874Z"
   },
   {
    "duration": 6,
    "start_time": "2022-05-06T09:53:35.904Z"
   },
   {
    "duration": 16,
    "start_time": "2022-05-06T09:53:35.911Z"
   },
   {
    "duration": 31,
    "start_time": "2022-05-06T09:53:35.929Z"
   },
   {
    "duration": 13,
    "start_time": "2022-05-06T09:53:35.961Z"
   },
   {
    "duration": 20,
    "start_time": "2022-05-06T09:53:35.975Z"
   },
   {
    "duration": 3,
    "start_time": "2022-05-06T09:53:35.997Z"
   },
   {
    "duration": 16,
    "start_time": "2022-05-06T09:53:36.004Z"
   },
   {
    "duration": 14,
    "start_time": "2022-05-06T09:53:36.021Z"
   },
   {
    "duration": 11,
    "start_time": "2022-05-06T09:53:36.037Z"
   },
   {
    "duration": 15,
    "start_time": "2022-05-06T09:53:36.050Z"
   },
   {
    "duration": 9,
    "start_time": "2022-05-06T09:53:36.066Z"
   },
   {
    "duration": 16,
    "start_time": "2022-05-06T09:53:36.077Z"
   },
   {
    "duration": 24,
    "start_time": "2022-05-06T09:53:36.094Z"
   },
   {
    "duration": 19,
    "start_time": "2022-05-06T09:53:36.120Z"
   },
   {
    "duration": 16,
    "start_time": "2022-05-06T09:53:36.140Z"
   },
   {
    "duration": 32,
    "start_time": "2022-05-06T09:53:36.157Z"
   },
   {
    "duration": 31,
    "start_time": "2022-05-06T09:53:36.191Z"
   },
   {
    "duration": 11,
    "start_time": "2022-05-06T09:53:36.224Z"
   },
   {
    "duration": 20,
    "start_time": "2022-05-06T09:53:36.236Z"
   },
   {
    "duration": 9,
    "start_time": "2022-05-06T09:53:36.257Z"
   },
   {
    "duration": 22,
    "start_time": "2022-05-06T09:53:36.293Z"
   },
   {
    "duration": 21,
    "start_time": "2022-05-06T09:53:36.317Z"
   },
   {
    "duration": 9,
    "start_time": "2022-05-06T09:53:36.339Z"
   },
   {
    "duration": 43,
    "start_time": "2022-05-06T09:53:36.350Z"
   },
   {
    "duration": 29,
    "start_time": "2022-05-06T09:53:36.396Z"
   },
   {
    "duration": 19,
    "start_time": "2022-05-06T09:53:36.426Z"
   },
   {
    "duration": 15,
    "start_time": "2022-05-06T09:53:36.447Z"
   },
   {
    "duration": 30,
    "start_time": "2022-05-06T09:53:36.464Z"
   },
   {
    "duration": 430,
    "start_time": "2022-05-07T12:39:40.828Z"
   },
   {
    "duration": 86,
    "start_time": "2022-05-07T12:39:41.260Z"
   },
   {
    "duration": 21,
    "start_time": "2022-05-07T12:39:41.348Z"
   },
   {
    "duration": 6,
    "start_time": "2022-05-07T12:39:41.371Z"
   },
   {
    "duration": 7,
    "start_time": "2022-05-07T12:39:41.378Z"
   },
   {
    "duration": 10,
    "start_time": "2022-05-07T12:39:41.387Z"
   },
   {
    "duration": 38,
    "start_time": "2022-05-07T12:39:41.399Z"
   },
   {
    "duration": 18,
    "start_time": "2022-05-07T12:39:41.439Z"
   },
   {
    "duration": 5,
    "start_time": "2022-05-07T12:39:41.458Z"
   },
   {
    "duration": 11,
    "start_time": "2022-05-07T12:39:41.466Z"
   },
   {
    "duration": 13,
    "start_time": "2022-05-07T12:39:41.478Z"
   },
   {
    "duration": 4,
    "start_time": "2022-05-07T12:39:41.493Z"
   },
   {
    "duration": 9,
    "start_time": "2022-05-07T12:39:41.499Z"
   },
   {
    "duration": 5,
    "start_time": "2022-05-07T12:39:41.534Z"
   },
   {
    "duration": 10,
    "start_time": "2022-05-07T12:39:41.541Z"
   },
   {
    "duration": 6,
    "start_time": "2022-05-07T12:39:41.553Z"
   },
   {
    "duration": 17,
    "start_time": "2022-05-07T12:39:41.560Z"
   },
   {
    "duration": 18,
    "start_time": "2022-05-07T12:39:41.578Z"
   },
   {
    "duration": 64,
    "start_time": "2022-05-07T12:39:41.597Z"
   },
   {
    "duration": 33,
    "start_time": "2022-05-07T12:39:41.663Z"
   },
   {
    "duration": 12,
    "start_time": "2022-05-07T12:39:41.698Z"
   },
   {
    "duration": 44,
    "start_time": "2022-05-07T12:39:41.712Z"
   },
   {
    "duration": 13,
    "start_time": "2022-05-07T12:39:41.757Z"
   },
   {
    "duration": 25,
    "start_time": "2022-05-07T12:39:41.771Z"
   },
   {
    "duration": 45,
    "start_time": "2022-05-07T12:39:41.797Z"
   },
   {
    "duration": 12,
    "start_time": "2022-05-07T12:39:41.844Z"
   },
   {
    "duration": 22,
    "start_time": "2022-05-07T12:39:41.857Z"
   },
   {
    "duration": 22,
    "start_time": "2022-05-07T12:39:41.882Z"
   },
   {
    "duration": 43,
    "start_time": "2022-05-07T12:39:41.906Z"
   },
   {
    "duration": 18,
    "start_time": "2022-05-07T12:39:41.950Z"
   },
   {
    "duration": 19,
    "start_time": "2022-05-07T12:39:41.970Z"
   },
   {
    "duration": 23,
    "start_time": "2022-05-07T12:40:29.330Z"
   },
   {
    "duration": 23,
    "start_time": "2022-05-07T12:40:46.580Z"
   },
   {
    "duration": 22,
    "start_time": "2022-05-07T12:41:00.369Z"
   },
   {
    "duration": 411,
    "start_time": "2022-05-07T12:50:15.752Z"
   },
   {
    "duration": 79,
    "start_time": "2022-05-07T12:50:16.165Z"
   },
   {
    "duration": 21,
    "start_time": "2022-05-07T12:50:16.246Z"
   },
   {
    "duration": 6,
    "start_time": "2022-05-07T12:50:16.269Z"
   },
   {
    "duration": 5,
    "start_time": "2022-05-07T12:50:16.277Z"
   },
   {
    "duration": 10,
    "start_time": "2022-05-07T12:50:16.284Z"
   },
   {
    "duration": 10,
    "start_time": "2022-05-07T12:50:16.295Z"
   },
   {
    "duration": 15,
    "start_time": "2022-05-07T12:50:16.334Z"
   },
   {
    "duration": 21,
    "start_time": "2022-05-07T12:50:16.351Z"
   },
   {
    "duration": 12,
    "start_time": "2022-05-07T12:50:16.376Z"
   },
   {
    "duration": 16,
    "start_time": "2022-05-07T12:50:16.389Z"
   },
   {
    "duration": 8,
    "start_time": "2022-05-07T12:50:16.407Z"
   },
   {
    "duration": 18,
    "start_time": "2022-05-07T12:50:16.417Z"
   },
   {
    "duration": 9,
    "start_time": "2022-05-07T12:50:16.436Z"
   },
   {
    "duration": 14,
    "start_time": "2022-05-07T12:50:16.447Z"
   },
   {
    "duration": 10,
    "start_time": "2022-05-07T12:50:16.463Z"
   },
   {
    "duration": 20,
    "start_time": "2022-05-07T12:50:16.475Z"
   },
   {
    "duration": 19,
    "start_time": "2022-05-07T12:50:16.496Z"
   },
   {
    "duration": 35,
    "start_time": "2022-05-07T12:50:16.533Z"
   },
   {
    "duration": 34,
    "start_time": "2022-05-07T12:50:16.569Z"
   },
   {
    "duration": 33,
    "start_time": "2022-05-07T12:50:16.605Z"
   },
   {
    "duration": 23,
    "start_time": "2022-05-07T12:50:16.640Z"
   },
   {
    "duration": 9,
    "start_time": "2022-05-07T12:50:16.664Z"
   },
   {
    "duration": 25,
    "start_time": "2022-05-07T12:50:16.675Z"
   },
   {
    "duration": 50,
    "start_time": "2022-05-07T12:50:16.702Z"
   },
   {
    "duration": 5,
    "start_time": "2022-05-07T12:50:16.754Z"
   },
   {
    "duration": 21,
    "start_time": "2022-05-07T12:50:16.761Z"
   },
   {
    "duration": 55,
    "start_time": "2022-05-07T12:50:16.785Z"
   },
   {
    "duration": 24,
    "start_time": "2022-05-07T12:50:16.842Z"
   },
   {
    "duration": 20,
    "start_time": "2022-05-07T12:50:16.867Z"
   },
   {
    "duration": 45,
    "start_time": "2022-05-07T12:50:16.889Z"
   },
   {
    "duration": 573,
    "start_time": "2022-05-08T07:29:39.754Z"
   },
   {
    "duration": 90,
    "start_time": "2022-05-08T07:29:40.329Z"
   },
   {
    "duration": 31,
    "start_time": "2022-05-08T07:29:40.422Z"
   },
   {
    "duration": 8,
    "start_time": "2022-05-08T07:29:40.455Z"
   },
   {
    "duration": 13,
    "start_time": "2022-05-08T07:29:40.465Z"
   },
   {
    "duration": 53,
    "start_time": "2022-05-08T07:29:40.479Z"
   },
   {
    "duration": 11,
    "start_time": "2022-05-08T07:29:40.536Z"
   },
   {
    "duration": 12,
    "start_time": "2022-05-08T07:29:40.549Z"
   },
   {
    "duration": 25,
    "start_time": "2022-05-08T07:29:40.563Z"
   },
   {
    "duration": 37,
    "start_time": "2022-05-08T07:29:40.590Z"
   },
   {
    "duration": 20,
    "start_time": "2022-05-08T07:29:40.630Z"
   },
   {
    "duration": 18,
    "start_time": "2022-05-08T07:29:40.652Z"
   },
   {
    "duration": 7,
    "start_time": "2022-05-08T07:29:40.673Z"
   },
   {
    "duration": 15,
    "start_time": "2022-05-08T07:29:40.682Z"
   },
   {
    "duration": 11,
    "start_time": "2022-05-08T07:29:40.725Z"
   },
   {
    "duration": 9,
    "start_time": "2022-05-08T07:29:40.738Z"
   },
   {
    "duration": 10,
    "start_time": "2022-05-08T07:29:40.749Z"
   },
   {
    "duration": 24,
    "start_time": "2022-05-08T07:29:40.761Z"
   },
   {
    "duration": 59,
    "start_time": "2022-05-08T07:29:40.787Z"
   },
   {
    "duration": 53,
    "start_time": "2022-05-08T07:29:40.849Z"
   },
   {
    "duration": 57,
    "start_time": "2022-05-08T07:29:40.923Z"
   },
   {
    "duration": 56,
    "start_time": "2022-05-08T07:29:40.983Z"
   },
   {
    "duration": 35,
    "start_time": "2022-05-08T07:29:41.042Z"
   },
   {
    "duration": 14,
    "start_time": "2022-05-08T07:29:41.084Z"
   },
   {
    "duration": 38,
    "start_time": "2022-05-08T07:29:41.125Z"
   },
   {
    "duration": 30,
    "start_time": "2022-05-08T07:29:41.165Z"
   },
   {
    "duration": 8,
    "start_time": "2022-05-08T07:29:41.225Z"
   },
   {
    "duration": 29,
    "start_time": "2022-05-08T07:29:41.236Z"
   },
   {
    "duration": 61,
    "start_time": "2022-05-08T07:29:41.267Z"
   },
   {
    "duration": 35,
    "start_time": "2022-05-08T07:29:41.330Z"
   },
   {
    "duration": 28,
    "start_time": "2022-05-08T07:29:41.367Z"
   },
   {
    "duration": 29,
    "start_time": "2022-05-08T07:29:41.425Z"
   },
   {
    "duration": 18,
    "start_time": "2022-05-08T07:29:57.270Z"
   },
   {
    "duration": 44,
    "start_time": "2022-05-08T07:30:34.376Z"
   }
  ],
  "kernelspec": {
   "display_name": "Python 3 (ipykernel)",
   "language": "python",
   "name": "python3"
  },
  "language_info": {
   "codemirror_mode": {
    "name": "ipython",
    "version": 3
   },
   "file_extension": ".py",
   "mimetype": "text/x-python",
   "name": "python",
   "nbconvert_exporter": "python",
   "pygments_lexer": "ipython3",
   "version": "3.9.7"
  },
  "toc": {
   "base_numbering": 1,
   "nav_menu": {},
   "number_sections": false,
   "sideBar": true,
   "skip_h1_title": true,
   "title_cell": "Table of Contents",
   "title_sidebar": "Contents",
   "toc_cell": false,
   "toc_position": {},
   "toc_section_display": true,
   "toc_window_display": true
  }
 },
 "nbformat": 4,
 "nbformat_minor": 5
}
